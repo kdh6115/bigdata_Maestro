{
 "cells": [
  {
   "cell_type": "code",
   "execution_count": 6,
   "metadata": {},
   "outputs": [],
   "source": [
    "import numpy as np\n",
    "import pandas as pd\n",
    "import matplotlib.pyplot as plt\n",
    "%matplotlib inline"
   ]
  },
  {
   "cell_type": "code",
   "execution_count": 15,
   "metadata": {
    "scrolled": true
   },
   "outputs": [
    {
     "data": {
      "text/html": [
       "<div>\n",
       "<style scoped>\n",
       "    .dataframe tbody tr th:only-of-type {\n",
       "        vertical-align: middle;\n",
       "    }\n",
       "\n",
       "    .dataframe tbody tr th {\n",
       "        vertical-align: top;\n",
       "    }\n",
       "\n",
       "    .dataframe thead th {\n",
       "        text-align: right;\n",
       "    }\n",
       "</style>\n",
       "<table border=\"1\" class=\"dataframe\">\n",
       "  <thead>\n",
       "    <tr style=\"text-align: right;\">\n",
       "      <th></th>\n",
       "      <th>연도</th>\n",
       "      <th>배출량</th>\n",
       "      <th>인구수</th>\n",
       "      <th>GRDP(단위 : 백만원)</th>\n",
       "      <th>1인당 GRDP(단위 : 천원)</th>\n",
       "      <th>관광객수</th>\n",
       "    </tr>\n",
       "  </thead>\n",
       "  <tbody>\n",
       "    <tr>\n",
       "      <td>0</td>\n",
       "      <td>2014</td>\n",
       "      <td>976.2</td>\n",
       "      <td>621550</td>\n",
       "      <td>15147843</td>\n",
       "      <td>25968</td>\n",
       "      <td>12273917</td>\n",
       "    </tr>\n",
       "    <tr>\n",
       "      <td>1</td>\n",
       "      <td>2015</td>\n",
       "      <td>1162.3</td>\n",
       "      <td>641335</td>\n",
       "      <td>16946709</td>\n",
       "      <td>28280</td>\n",
       "      <td>13664395</td>\n",
       "    </tr>\n",
       "    <tr>\n",
       "      <td>2</td>\n",
       "      <td>2016</td>\n",
       "      <td>1305.3</td>\n",
       "      <td>661190</td>\n",
       "      <td>18719373</td>\n",
       "      <td>30284</td>\n",
       "      <td>15852980</td>\n",
       "    </tr>\n",
       "    <tr>\n",
       "      <td>3</td>\n",
       "      <td>2017</td>\n",
       "      <td>1312.1</td>\n",
       "      <td>678772</td>\n",
       "      <td>19981072</td>\n",
       "      <td>31470</td>\n",
       "      <td>14753236</td>\n",
       "    </tr>\n",
       "    <tr>\n",
       "      <td>4</td>\n",
       "      <td>2018</td>\n",
       "      <td>1311.5</td>\n",
       "      <td>692032</td>\n",
       "      <td>19910936</td>\n",
       "      <td>30506</td>\n",
       "      <td>14313961</td>\n",
       "    </tr>\n",
       "  </tbody>\n",
       "</table>\n",
       "</div>"
      ],
      "text/plain": [
       "     연도     배출량     인구수  GRDP(단위 : 백만원)  1인당 GRDP(단위 : 천원)      관광객수\n",
       "0  2014   976.2  621550        15147843              25968  12273917\n",
       "1  2015  1162.3  641335        16946709              28280  13664395\n",
       "2  2016  1305.3  661190        18719373              30284  15852980\n",
       "3  2017  1312.1  678772        19981072              31470  14753236\n",
       "4  2018  1311.5  692032        19910936              30506  14313961"
      ]
     },
     "execution_count": 15,
     "metadata": {},
     "output_type": "execute_result"
    }
   ],
   "source": [
    "df = pd.read_csv(\"tot.csv\")\n",
    "df.head()"
   ]
  },
  {
   "cell_type": "code",
   "execution_count": 16,
   "metadata": {},
   "outputs": [
    {
     "name": "stdout",
     "output_type": "stream",
     "text": [
      "<class 'pandas.core.frame.DataFrame'>\n",
      "RangeIndex: 5 entries, 0 to 4\n",
      "Data columns (total 6 columns):\n",
      "연도                   5 non-null int64\n",
      "배출량                  5 non-null float64\n",
      "인구수                  5 non-null int64\n",
      "GRDP(단위 : 백만원)       5 non-null int64\n",
      "1인당 GRDP(단위 : 천원)    5 non-null int64\n",
      "관광객수                 5 non-null int64\n",
      "dtypes: float64(1), int64(5)\n",
      "memory usage: 368.0 bytes\n"
     ]
    }
   ],
   "source": [
    "df.info()"
   ]
  },
  {
   "cell_type": "code",
   "execution_count": 17,
   "metadata": {
    "scrolled": false
   },
   "outputs": [
    {
     "data": {
      "text/html": [
       "<div>\n",
       "<style scoped>\n",
       "    .dataframe tbody tr th:only-of-type {\n",
       "        vertical-align: middle;\n",
       "    }\n",
       "\n",
       "    .dataframe tbody tr th {\n",
       "        vertical-align: top;\n",
       "    }\n",
       "\n",
       "    .dataframe thead th {\n",
       "        text-align: right;\n",
       "    }\n",
       "</style>\n",
       "<table border=\"1\" class=\"dataframe\">\n",
       "  <thead>\n",
       "    <tr style=\"text-align: right;\">\n",
       "      <th></th>\n",
       "      <th>배출량</th>\n",
       "      <th>인구수</th>\n",
       "      <th>GRDP(단위 : 백만원)</th>\n",
       "      <th>1인당 GRDP(단위 : 천원)</th>\n",
       "      <th>관광객수</th>\n",
       "    </tr>\n",
       "    <tr>\n",
       "      <th>연도</th>\n",
       "      <th></th>\n",
       "      <th></th>\n",
       "      <th></th>\n",
       "      <th></th>\n",
       "      <th></th>\n",
       "    </tr>\n",
       "  </thead>\n",
       "  <tbody>\n",
       "    <tr>\n",
       "      <td>2014</td>\n",
       "      <td>976.2</td>\n",
       "      <td>621550</td>\n",
       "      <td>15147843</td>\n",
       "      <td>25968</td>\n",
       "      <td>12273917</td>\n",
       "    </tr>\n",
       "    <tr>\n",
       "      <td>2015</td>\n",
       "      <td>1162.3</td>\n",
       "      <td>641335</td>\n",
       "      <td>16946709</td>\n",
       "      <td>28280</td>\n",
       "      <td>13664395</td>\n",
       "    </tr>\n",
       "    <tr>\n",
       "      <td>2016</td>\n",
       "      <td>1305.3</td>\n",
       "      <td>661190</td>\n",
       "      <td>18719373</td>\n",
       "      <td>30284</td>\n",
       "      <td>15852980</td>\n",
       "    </tr>\n",
       "    <tr>\n",
       "      <td>2017</td>\n",
       "      <td>1312.1</td>\n",
       "      <td>678772</td>\n",
       "      <td>19981072</td>\n",
       "      <td>31470</td>\n",
       "      <td>14753236</td>\n",
       "    </tr>\n",
       "    <tr>\n",
       "      <td>2018</td>\n",
       "      <td>1311.5</td>\n",
       "      <td>692032</td>\n",
       "      <td>19910936</td>\n",
       "      <td>30506</td>\n",
       "      <td>14313961</td>\n",
       "    </tr>\n",
       "  </tbody>\n",
       "</table>\n",
       "</div>"
      ],
      "text/plain": [
       "         배출량     인구수  GRDP(단위 : 백만원)  1인당 GRDP(단위 : 천원)      관광객수\n",
       "연도                                                               \n",
       "2014   976.2  621550        15147843              25968  12273917\n",
       "2015  1162.3  641335        16946709              28280  13664395\n",
       "2016  1305.3  661190        18719373              30284  15852980\n",
       "2017  1312.1  678772        19981072              31470  14753236\n",
       "2018  1311.5  692032        19910936              30506  14313961"
      ]
     },
     "execution_count": 17,
     "metadata": {},
     "output_type": "execute_result"
    }
   ],
   "source": [
    "df.set_index('연도', inplace = False)"
   ]
  },
  {
   "cell_type": "code",
   "execution_count": 19,
   "metadata": {},
   "outputs": [],
   "source": [
    "from matplotlib import font_manager, rc\n",
    "font_name = font_manager.FontProperties(\n",
    "    fname = 'c:/Windows/Fonts/malgun.ttf').get_name()\n",
    "rc('font', family=font_name)"
   ]
  },
  {
   "cell_type": "code",
   "execution_count": 30,
   "metadata": {
    "scrolled": false
   },
   "outputs": [
    {
     "data": {
      "text/plain": [
       "<matplotlib.axes._subplots.AxesSubplot at 0x11fb8d48408>"
      ]
     },
     "execution_count": 30,
     "metadata": {},
     "output_type": "execute_result"
    },
    {
     "data": {
      "image/png": "[encoded data removed]",
      "text/plain": [
       "<Figure size 432x288 with 1 Axes>"
      ]
     },
     "metadata": {
      "needs_background": "light"
     },
     "output_type": "display_data"
    }
   ],
   "source": [
    "df['배출량'].plot(, kind = 'bar')\n"
   ]
  },
  {
   "cell_type": "code",
   "execution_count": 39,
   "metadata": {},
   "outputs": [
    {
     "data": {
      "image/png": "[encoded data removed]",
      "text/plain": [
       "<Figure size 432x288 with 1 Axes>"
      ]
     },
     "metadata": {
      "needs_background": "light"
     },
     "output_type": "display_data"
    }
   ],
   "source": [
    "plt.bar([\"2014\", \"2015\", \"2016\", \"2017\", \"2018\"], df[\"배출량\"], width = 0.5)\n",
    "\n",
    "plt.xlabel('배출량')\n",
    "plt.ylabel('단위 : 톤/일')\n",
    "plt.show()"
   ]
  },
  {
   "cell_type": "code",
   "execution_count": null,
   "metadata": {},
   "outputs": [],
   "source": [
    "\n"
   ]
  }
 ],
 "metadata": {
  "kernelspec": {
   "display_name": "Python 3",
   "language": "python",
   "name": "python3"
  },
  "language_info": {
   "codemirror_mode": {
    "name": "ipython",
    "version": 3
   },
   "file_extension": ".py",
   "mimetype": "text/x-python",
   "name": "python",
   "nbconvert_exporter": "python",
   "pygments_lexer": "ipython3",
   "version": "3.7.4"
  }
 },
 "nbformat": 4,
 "nbformat_minor": 2
}
