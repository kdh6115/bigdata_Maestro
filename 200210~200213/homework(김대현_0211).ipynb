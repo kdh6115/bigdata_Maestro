{
 "cells": [
  {
   "cell_type": "markdown",
   "metadata": {},
   "source": [
    "# 1. x_train[1] 문장으로 변환해 보시요"
   ]
  },
  {
   "cell_type": "code",
   "execution_count": 2,
   "metadata": {},
   "outputs": [
    {
     "name": "stdout",
     "output_type": "stream",
     "text": [
      "[ 125   68    2    2   15  349  165    2   98    5    4  228    9   43\n",
      "    2 1157   15  299  120    5  120  174   11  220  175  136   50    9\n",
      "    2  228    2    5    2  656  245    2    5    4    2  131  152  491\n",
      "   18    2   32    2 1212   14    9    6  371   78   22  625   64 1382\n",
      "    9    8  168  145   23    4 1690   15   16    4 1355    5   28    6\n",
      "   52  154  462   33   89   78  285   16  145   95]\n"
     ]
    }
   ],
   "source": [
    "from keras.preprocessing import sequence\n",
    "from keras.models import Sequential\n",
    "from keras.layers import Dense, Embedding\n",
    "from keras.layers import LSTM\n",
    "from keras.datasets import imdb\n",
    "import numpy as np\n",
    "\n",
    "(x_train, y_train), (x_test, y_test) = imdb.load_data(num_words=2000)\n",
    "x_train = sequence.pad_sequences(x_train, maxlen = 80)\n",
    "x_test = sequence.pad_sequences(x_test, maxlen = 80)\n",
    "print(x_train[1])"
   ]
  },
  {
   "cell_type": "code",
   "execution_count": 3,
   "metadata": {},
   "outputs": [
    {
     "name": "stdout",
     "output_type": "stream",
     "text": [
      "WARNING:tensorflow:From C:\\Users\\ICT01_05\\Anaconda3\\envs\\tf_test\\lib\\site-packages\\tensorflow\\python\\ops\\nn_impl.py:180: add_dispatch_support.<locals>.wrapper (from tensorflow.python.ops.array_ops) is deprecated and will be removed in a future version.\n",
      "Instructions for updating:\n",
      "Use tf.where in 2.0, which has the same broadcast rule as np.where\n"
     ]
    }
   ],
   "source": [
    "model = Sequential()\n",
    "# 단어장의 크기\n",
    "model.add(Embedding(2000, 128))\n",
    "model.add(LSTM(128, dropout = 0.2, recurrent_dropout = 0.2))\n",
    "model.add(Dense(1, activation = 'sigmoid'))\n",
    "model.compile(loss = 'binary_crossentropy', optimizer = 'adam', metrics = ['accuracy'])\n"
   ]
  },
  {
   "cell_type": "code",
   "execution_count": 4,
   "metadata": {
    "scrolled": true
   },
   "outputs": [
    {
     "name": "stdout",
     "output_type": "stream",
     "text": [
      "WARNING:tensorflow:From C:\\Users\\ICT01_05\\Anaconda3\\envs\\tf_test\\lib\\site-packages\\keras\\backend\\tensorflow_backend.py:422: The name tf.global_variables is deprecated. Please use tf.compat.v1.global_variables instead.\n",
      "\n",
      "Train on 25000 samples, validate on 25000 samples\n",
      "Epoch 1/15\n",
      "25000/25000 [==============================] - 38s 2ms/step - loss: 0.4870 - accuracy: 0.7644 - val_loss: 0.4146 - val_accuracy: 0.8119\n",
      "Epoch 2/15\n",
      "25000/25000 [==============================] - 37s 1ms/step - loss: 0.3920 - accuracy: 0.8271 - val_loss: 0.4038 - val_accuracy: 0.8152\n",
      "Epoch 3/15\n",
      "25000/25000 [==============================] - 37s 1ms/step - loss: 0.3554 - accuracy: 0.8451 - val_loss: 0.3856 - val_accuracy: 0.8331\n",
      "Epoch 4/15\n",
      "25000/25000 [==============================] - 37s 1ms/step - loss: 0.3253 - accuracy: 0.8601 - val_loss: 0.3699 - val_accuracy: 0.8342\n",
      "Epoch 5/15\n",
      "25000/25000 [==============================] - 38s 2ms/step - loss: 0.2958 - accuracy: 0.8739 - val_loss: 0.3818 - val_accuracy: 0.8294\n",
      "Epoch 6/15\n",
      "25000/25000 [==============================] - 38s 2ms/step - loss: 0.2740 - accuracy: 0.8861 - val_loss: 0.3938 - val_accuracy: 0.8402\n",
      "Epoch 7/15\n",
      "25000/25000 [==============================] - 37s 1ms/step - loss: 0.2552 - accuracy: 0.8952 - val_loss: 0.3889 - val_accuracy: 0.8338\n",
      "Epoch 8/15\n",
      "25000/25000 [==============================] - 36s 1ms/step - loss: 0.2348 - accuracy: 0.9049 - val_loss: 0.4023 - val_accuracy: 0.8308\n",
      "Epoch 9/15\n",
      "25000/25000 [==============================] - 38s 2ms/step - loss: 0.2201 - accuracy: 0.9102 - val_loss: 0.4300 - val_accuracy: 0.8348\n",
      "Epoch 10/15\n",
      "25000/25000 [==============================] - 37s 1ms/step - loss: 0.2022 - accuracy: 0.9177 - val_loss: 0.4487 - val_accuracy: 0.8262\n",
      "Epoch 11/15\n",
      "25000/25000 [==============================] - 38s 2ms/step - loss: 0.1846 - accuracy: 0.9256 - val_loss: 0.4559 - val_accuracy: 0.8306\n",
      "Epoch 12/15\n",
      "25000/25000 [==============================] - 37s 1ms/step - loss: 0.1658 - accuracy: 0.9349 - val_loss: 0.5027 - val_accuracy: 0.8296\n",
      "Epoch 13/15\n",
      "25000/25000 [==============================] - 38s 2ms/step - loss: 0.1501 - accuracy: 0.9440 - val_loss: 0.5378 - val_accuracy: 0.8291\n",
      "Epoch 14/15\n",
      "25000/25000 [==============================] - 37s 1ms/step - loss: 0.1400 - accuracy: 0.9475 - val_loss: 0.5255 - val_accuracy: 0.8264\n",
      "Epoch 15/15\n",
      "25000/25000 [==============================] - 37s 1ms/step - loss: 0.1212 - accuracy: 0.9543 - val_loss: 0.5874 - val_accuracy: 0.8191\n"
     ]
    },
    {
     "data": {
      "text/plain": [
       "<keras.callbacks.callbacks.History at 0x27d00715948>"
      ]
     },
     "execution_count": 4,
     "metadata": {},
     "output_type": "execute_result"
    }
   ],
   "source": [
    "model.fit(x_train, y_train, batch_size = 32, epochs = 15, validation_data = (x_test, y_test))"
   ]
  },
  {
   "cell_type": "code",
   "execution_count": 5,
   "metadata": {},
   "outputs": [
    {
     "data": {
      "text/plain": [
       "'tsukino'"
      ]
     },
     "execution_count": 5,
     "metadata": {},
     "output_type": "execute_result"
    }
   ],
   "source": [
    "dictionary = imdb.get_word_index(path='imdb_word_index.json')\n",
    "imdb_key = dictionary.keys()\n",
    "list(imdb_key)[1]"
   ]
  },
  {
   "cell_type": "code",
   "execution_count": 6,
   "metadata": {
    "scrolled": true
   },
   "outputs": [
    {
     "name": "stdout",
     "output_type": "stream",
     "text": [
      "hj\n",
      "'pleasure\n",
      "nunnery\n",
      "nunnery\n",
      "harpo's\n",
      "norliss\n",
      "assimilates\n",
      "nunnery\n",
      "stern\n",
      "woods\n",
      "vani\n",
      "golem\n",
      "trawling\n",
      "thrace\n",
      "nunnery\n",
      "photon\n",
      "harpo's\n",
      "feeling\n",
      "beswick\n",
      "woods\n",
      "beswick\n",
      "kuei\n",
      "comically\n",
      "approporiately\n",
      "welcomed\n",
      "post's\n",
      "273\n",
      "trawling\n",
      "nunnery\n",
      "golem\n",
      "nunnery\n",
      "woods\n",
      "nunnery\n",
      "humbled\n",
      "ugghhh\n",
      "nunnery\n",
      "woods\n",
      "vani\n",
      "nunnery\n",
      "gershon\n",
      "chapters'\n",
      "conditioned\n",
      "acurately\n",
      "nunnery\n",
      "bravora\n",
      "nunnery\n",
      "being\n",
      "'royale\n",
      "trawling\n",
      "spiders\n",
      "sturgess\n",
      "babaganoosh\n",
      "rumbustious\n",
      "teenager's\n",
      "videodrome\n",
      "hetfield's\n",
      "trawling\n",
      "woody\n",
      "dongen\n",
      "pinto\n",
      "familiarness\n",
      "vani\n",
      "walberg\n",
      "harpo's\n",
      "canet\n",
      "vani\n",
      "unwelcomed\n",
      "woods\n",
      "hangin'\n",
      "spiders\n",
      "275\n",
      "uselessness\n",
      "tonino\n",
      "grueling\n",
      "cobblers\n",
      "babaganoosh\n",
      "mutilated\n",
      "canet\n",
      "pinto\n",
      "gateshead\n"
     ]
    }
   ],
   "source": [
    "for i in range(len(x_train[1])):\n",
    "    dict = list(imdb_key)[x_train[1][i]]\n",
    "    print(dict)"
   ]
  },
  {
   "cell_type": "markdown",
   "metadata": {},
   "source": [
    "# 2. model.summary를 해보고 가중치 사이즈를 계산해보시요"
   ]
  },
  {
   "cell_type": "code",
   "execution_count": 7,
   "metadata": {},
   "outputs": [
    {
     "name": "stdout",
     "output_type": "stream",
     "text": [
      "Model: \"sequential_1\"\n",
      "_________________________________________________________________\n",
      "Layer (type)                 Output Shape              Param #   \n",
      "=================================================================\n",
      "embedding_1 (Embedding)      (None, None, 128)         256000    \n",
      "_________________________________________________________________\n",
      "lstm_1 (LSTM)                (None, 128)               131584    \n",
      "_________________________________________________________________\n",
      "dense_1 (Dense)              (None, 1)                 129       \n",
      "=================================================================\n",
      "Total params: 387,713\n",
      "Trainable params: 387,713\n",
      "Non-trainable params: 0\n",
      "_________________________________________________________________\n"
     ]
    }
   ],
   "source": [
    "model.summary() \n",
    "# LSTM 가중치 : 128x128\n",
    "# dense 가중치 : 128x1"
   ]
  }
 ],
 "metadata": {
  "kernelspec": {
   "display_name": "Python 3",
   "language": "python",
   "name": "python3"
  },
  "language_info": {
   "codemirror_mode": {
    "name": "ipython",
    "version": 3
   },
   "file_extension": ".py",
   "mimetype": "text/x-python",
   "name": "python",
   "nbconvert_exporter": "python",
   "pygments_lexer": "ipython3",
   "version": "3.7.6"
  }
 },
 "nbformat": 4,
 "nbformat_minor": 4
}
