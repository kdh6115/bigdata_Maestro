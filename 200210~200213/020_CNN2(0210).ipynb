{
 "cells": [
  {
   "cell_type": "code",
   "execution_count": 2,
   "metadata": {},
   "outputs": [],
   "source": [
    "%matplotlib  inline\n",
    "import matplotlib.pyplot as plt\n",
    "import keras\n",
    "from keras.datasets import mnist\n",
    "from keras.models import Sequential\n",
    "from keras.layers import Dense, Dropout, Flatten # Flatten : CNN결과를 1차원으로\n",
    "from keras.layers import Conv2D, MaxPooling2D\n",
    "from keras import backend as K\n",
    "batch_size = 128\n",
    "num_classes = 10 # multi category, loss : categorical_crossentropy\n",
    "epochs = 12\n",
    "img_rows, img_cols = 28, 28\n",
    "(x_train, y_train), (x_test, y_test) = mnist.load_data()\n",
    "# channel_first, channel_last\n",
    "# https://tykimos.github.io/2017/01/27/CNN_Layer_Talk/"
   ]
  },
  {
   "cell_type": "code",
   "execution_count": 25,
   "metadata": {
    "scrolled": true
   },
   "outputs": [
    {
     "data": {
      "image/png": "[encoded data removed]",
      "text/plain": [
       "<Figure size 432x288 with 1 Axes>"
      ]
     },
     "metadata": {
      "needs_background": "light"
     },
     "output_type": "display_data"
    }
   ],
   "source": [
    "first_image = x_train[0, :, :]\n",
    "plt.imshow(first_image, cmap=plt.cm.Greys)\n",
    "plt.show()"
   ]
  },
  {
   "cell_type": "code",
   "execution_count": 26,
   "metadata": {},
   "outputs": [
    {
     "name": "stdout",
     "output_type": "stream",
     "text": [
      "x_train shape : (60000, 28, 28, 1)\n",
      "x_test shape : (10000, 28, 28, 1)\n",
      "60000 traing samples\n",
      "10000 test samples\n"
     ]
    }
   ],
   "source": [
    "# channel_first, channel_last\n",
    "# x_train = x_train.reshape(x_train.shape[0], 1, 28, 28) # channel_first (60000, 1, 28, 28)\n",
    "# x_test = x_test.reshape(x_test.shape[0], 1, 28, 28)    #               (10000, 1, 28, 28)\n",
    "x_train = x_train.reshape(x_train.shape[0], 28, 28, 1)   # channel_last  (60000, 28, 28, 1)\n",
    "x_test = x_test.reshape(x_test.shape[0], 28, 28, 1)      #               (10000, 28, 28, 1)\n",
    "\n",
    "x_train = x_train.astype('float32')       # 타입변경 => 255로 나누기 위해서\n",
    "x_test = x_test.astype('float32')\n",
    "x_train /= 255\n",
    "x_test /= 255\n",
    "print('x_train shape :', x_train.shape)\n",
    "print('x_test shape :', x_test.shape)\n",
    "print(x_train.shape[0], 'traing samples')\n",
    "print(x_test.shape[0], 'test samples')"
   ]
  },
  {
   "cell_type": "code",
   "execution_count": 27,
   "metadata": {},
   "outputs": [],
   "source": [
    "y_train = keras.utils.to_categorical(y_train, num_classes) # num_classes 때문에 target을  categorical한다.\n",
    "y_test = keras.utils.to_categorical(y_test, num_classes)"
   ]
  },
  {
   "cell_type": "code",
   "execution_count": 28,
   "metadata": {},
   "outputs": [
    {
     "name": "stderr",
     "output_type": "stream",
     "text": [
      "C:\\Users\\ICT01_05\\Anaconda3\\envs\\tf_test\\lib\\site-packages\\ipykernel_launcher.py:5: UserWarning: Update your `Conv2D` call to the Keras 2 API: `Conv2D(32, (3, 3), activation=\"relu\", input_shape=(28, 28, 1...)`\n",
      "  \"\"\"\n",
      "C:\\Users\\ICT01_05\\Anaconda3\\envs\\tf_test\\lib\\site-packages\\ipykernel_launcher.py:6: UserWarning: Update your `Conv2D` call to the Keras 2 API: `Conv2D(64, (3, 3), activation=\"relu\")`\n",
      "  \n"
     ]
    }
   ],
   "source": [
    "model = Sequential()\n",
    "# 32 : output_filter, 3x3 : 필터 사이즈\n",
    "# 28x28 => (128(batch_size),26(28-3+1),26,32) \n",
    "# padding : valid(모서리특징 버린다, 별로 중요하지 않다.), same(28,28)(모서리특징 산다.)\n",
    "model.add(Conv2D(32, 3, 3, activation = 'relu', input_shape=(28, 28, 1))) # input_shape도  channel에 맞게 한다. relu로 음수제거\n",
    "model.add(Conv2D(64, 3, 3, activation = 'relu')) # 128(장수), 24, 24, 64\n",
    "model.add(MaxPooling2D(pool_size=(2,2))) # ?(128), 12(24/2), 12, 64\n",
    "model.add(Dropout(0.25))\n",
    "model.add(Flatten()) # 12x12x64 => 1차원 9216\n",
    "# FFNN, FC(Fully-Connected)\n",
    "model.add(Dense(128, activation='relu')) # 가중치 : 9216x128 => 128x128\n",
    "model.add(Dropout(0.5)) # 계산회로만 생략\n",
    "model.add(Dense(10, activation = 'softmax')) # 가중치 : 128x10\n",
    "# 1출력 : 28x10"
   ]
  },
  {
   "cell_type": "code",
   "execution_count": 29,
   "metadata": {
    "scrolled": true
   },
   "outputs": [
    {
     "name": "stdout",
     "output_type": "stream",
     "text": [
      "Train on 60000 samples, validate on 10000 samples\n",
      "Epoch 1/12\n",
      "60000/60000 [==============================] - 10s 174us/step - loss: 0.2545 - accuracy: 0.9221 - val_loss: 0.0569 - val_accuracy: 0.9822\n",
      "Epoch 2/12\n",
      "60000/60000 [==============================] - 10s 165us/step - loss: 0.0865 - accuracy: 0.9747 - val_loss: 0.0411 - val_accuracy: 0.9866\n",
      "Epoch 3/12\n",
      "60000/60000 [==============================] - 10s 163us/step - loss: 0.0650 - accuracy: 0.9810 - val_loss: 0.0360 - val_accuracy: 0.9867\n",
      "Epoch 4/12\n",
      "60000/60000 [==============================] - 10s 162us/step - loss: 0.0536 - accuracy: 0.9842 - val_loss: 0.0306 - val_accuracy: 0.9890\n",
      "Epoch 5/12\n",
      "60000/60000 [==============================] - 10s 167us/step - loss: 0.0478 - accuracy: 0.9856 - val_loss: 0.0286 - val_accuracy: 0.9900\n",
      "Epoch 6/12\n",
      "60000/60000 [==============================] - 10s 160us/step - loss: 0.0415 - accuracy: 0.9870 - val_loss: 0.0287 - val_accuracy: 0.9903\n",
      "Epoch 7/12\n",
      "60000/60000 [==============================] - 10s 162us/step - loss: 0.0349 - accuracy: 0.9893 - val_loss: 0.0309 - val_accuracy: 0.9901\n",
      "Epoch 8/12\n",
      "60000/60000 [==============================] - 9s 155us/step - loss: 0.0339 - accuracy: 0.9899 - val_loss: 0.0257 - val_accuracy: 0.9915\n",
      "Epoch 9/12\n",
      "60000/60000 [==============================] - 10s 161us/step - loss: 0.0303 - accuracy: 0.9905 - val_loss: 0.0295 - val_accuracy: 0.9897\n",
      "Epoch 10/12\n",
      "60000/60000 [==============================] - 10s 162us/step - loss: 0.0302 - accuracy: 0.9909 - val_loss: 0.0312 - val_accuracy: 0.9905\n",
      "Epoch 11/12\n",
      "60000/60000 [==============================] - 10s 159us/step - loss: 0.0260 - accuracy: 0.9923 - val_loss: 0.0253 - val_accuracy: 0.9921\n",
      "Epoch 12/12\n",
      "60000/60000 [==============================] - 9s 158us/step - loss: 0.0251 - accuracy: 0.9920 - val_loss: 0.0261 - val_accuracy: 0.9923\n"
     ]
    },
    {
     "data": {
      "text/plain": [
       "<keras.callbacks.callbacks.History at 0x2afdcd97708>"
      ]
     },
     "execution_count": 29,
     "metadata": {},
     "output_type": "execute_result"
    }
   ],
   "source": [
    "model.compile(loss=keras.losses.categorical_crossentropy, optimizer=keras.optimizers.Adadelta(), metrics=['accuracy'])\n",
    "# train, test 과적합 될 수 있어서 validation추가\n",
    "# train, validation, test\n",
    "class AccuracyHistory(keras.callbacks.Callback) : # epoch마다 accuracy를 저장\n",
    "    # 오버라이딩(재정의)\n",
    "    def on_train_begin(self, logs={}) : # 훈련시작시 이벤트 시작\n",
    "        self.acc = []\n",
    "    \n",
    "    def on_epoch_end(self, batch, logs = {}) :\n",
    "        self.acc.append(logs.get('accuracy'))\n",
    "        \n",
    "history = AccuracyHistory()\n",
    "model.fit(x_train, y_train, batch_size = batch_size, epochs = epochs, verbose = 1, validation_data = (x_test, y_test),\n",
    "         callbacks=[history])\n"
   ]
  },
  {
   "cell_type": "code",
   "execution_count": 30,
   "metadata": {},
   "outputs": [
    {
     "data": {
      "text/plain": [
       "[0.026123963086028563, 0.9922999739646912]"
      ]
     },
     "execution_count": 30,
     "metadata": {},
     "output_type": "execute_result"
    }
   ],
   "source": [
    "score = model.evaluate(x_test, y_test, verbose =0)\n",
    "score # [loss, accuracy]"
   ]
  },
  {
   "cell_type": "code",
   "execution_count": 31,
   "metadata": {},
   "outputs": [
    {
     "name": "stdout",
     "output_type": "stream",
     "text": [
      "loss :  0.026123963086028563\n",
      "accuracy :  0.9922999739646912\n"
     ]
    }
   ],
   "source": [
    "print(\"loss : \", score[0])\n",
    "print(\"accuracy : \", score[1])"
   ]
  },
  {
   "cell_type": "code",
   "execution_count": 32,
   "metadata": {},
   "outputs": [
    {
     "data": {
      "image/png": "[encoded data removed]",
      "text/plain": [
       "<Figure size 432x288 with 1 Axes>"
      ]
     },
     "metadata": {
      "needs_background": "light"
     },
     "output_type": "display_data"
    }
   ],
   "source": [
    "plt.plot(range(1,13), history.acc)\n",
    "plt.xlabel('Epochs')\n",
    "plt.ylabel('Accuracy')\n",
    "plt.show()"
   ]
  },
  {
   "cell_type": "code",
   "execution_count": 33,
   "metadata": {
    "collapsed": true
   },
   "outputs": [
    {
     "ename": "ValueError",
     "evalue": "Unknown data_format: channel_first",
     "output_type": "error",
     "traceback": [
      "\u001b[1;31m---------------------------------------------------------------------------\u001b[0m",
      "\u001b[1;31mValueError\u001b[0m                                Traceback (most recent call last)",
      "\u001b[1;32m<ipython-input-33-6580b0a56237>\u001b[0m in \u001b[0;36m<module>\u001b[1;34m\u001b[0m\n\u001b[1;32m----> 1\u001b[1;33m \u001b[0mK\u001b[0m\u001b[1;33m.\u001b[0m\u001b[0mset_image_data_format\u001b[0m\u001b[1;33m(\u001b[0m\u001b[1;34m'channel_first'\u001b[0m\u001b[1;33m)\u001b[0m \u001b[1;31m# or channel_last\u001b[0m\u001b[1;33m\u001b[0m\u001b[1;33m\u001b[0m\u001b[0m\n\u001b[0m",
      "\u001b[1;32m~\\Anaconda3\\envs\\tf_test\\lib\\site-packages\\keras\\backend\\tensorflow_backend.py\u001b[0m in \u001b[0;36mset_image_data_format\u001b[1;34m(data_format)\u001b[0m\n\u001b[0;32m    283\u001b[0m     \u001b[0;31m`\u001b[0m\u001b[0;31m`\u001b[0m\u001b[0;31m`\u001b[0m\u001b[1;33m\u001b[0m\u001b[1;33m\u001b[0m\u001b[0m\n\u001b[0;32m    284\u001b[0m     \"\"\"\n\u001b[1;32m--> 285\u001b[1;33m     \u001b[0mtf_keras_backend\u001b[0m\u001b[1;33m.\u001b[0m\u001b[0mset_image_data_format\u001b[0m\u001b[1;33m(\u001b[0m\u001b[0mdata_format\u001b[0m\u001b[1;33m)\u001b[0m\u001b[1;33m\u001b[0m\u001b[1;33m\u001b[0m\u001b[0m\n\u001b[0m\u001b[0;32m    286\u001b[0m \u001b[1;33m\u001b[0m\u001b[0m\n\u001b[0;32m    287\u001b[0m \u001b[1;33m\u001b[0m\u001b[0m\n",
      "\u001b[1;32m~\\Anaconda3\\envs\\tf_test\\lib\\site-packages\\tensorflow\\python\\keras\\backend_config.py\u001b[0m in \u001b[0;36mset_image_data_format\u001b[1;34m(data_format)\u001b[0m\n\u001b[0;32m    123\u001b[0m   \u001b[1;32mglobal\u001b[0m \u001b[0m_IMAGE_DATA_FORMAT\u001b[0m\u001b[1;33m\u001b[0m\u001b[1;33m\u001b[0m\u001b[0m\n\u001b[0;32m    124\u001b[0m   \u001b[1;32mif\u001b[0m \u001b[0mdata_format\u001b[0m \u001b[1;32mnot\u001b[0m \u001b[1;32min\u001b[0m \u001b[1;33m{\u001b[0m\u001b[1;34m'channels_last'\u001b[0m\u001b[1;33m,\u001b[0m \u001b[1;34m'channels_first'\u001b[0m\u001b[1;33m}\u001b[0m\u001b[1;33m:\u001b[0m\u001b[1;33m\u001b[0m\u001b[1;33m\u001b[0m\u001b[0m\n\u001b[1;32m--> 125\u001b[1;33m     \u001b[1;32mraise\u001b[0m \u001b[0mValueError\u001b[0m\u001b[1;33m(\u001b[0m\u001b[1;34m'Unknown data_format: '\u001b[0m \u001b[1;33m+\u001b[0m \u001b[0mstr\u001b[0m\u001b[1;33m(\u001b[0m\u001b[0mdata_format\u001b[0m\u001b[1;33m)\u001b[0m\u001b[1;33m)\u001b[0m\u001b[1;33m\u001b[0m\u001b[1;33m\u001b[0m\u001b[0m\n\u001b[0m\u001b[0;32m    126\u001b[0m   \u001b[0m_IMAGE_DATA_FORMAT\u001b[0m \u001b[1;33m=\u001b[0m \u001b[0mstr\u001b[0m\u001b[1;33m(\u001b[0m\u001b[0mdata_format\u001b[0m\u001b[1;33m)\u001b[0m\u001b[1;33m\u001b[0m\u001b[1;33m\u001b[0m\u001b[0m\n",
      "\u001b[1;31mValueError\u001b[0m: Unknown data_format: channel_first"
     ]
    }
   ],
   "source": [
    "K.set_image_data_format('channel_first') # or channel_last"
   ]
  },
  {
   "cell_type": "markdown",
   "metadata": {},
   "source": [
    "# 모델 저장 / 로딩"
   ]
  },
  {
   "cell_type": "code",
   "execution_count": 34,
   "metadata": {},
   "outputs": [
    {
     "name": "stdout",
     "output_type": "stream",
     "text": [
      "모델이 저장되었습니다.\n",
      "모델이 로딩되었습니다.\n",
      "Model: \"sequential_3\"\n",
      "_________________________________________________________________\n",
      "Layer (type)                 Output Shape              Param #   \n",
      "=================================================================\n",
      "conv2d_7 (Conv2D)            (None, 26, 26, 32)        320       \n",
      "_________________________________________________________________\n",
      "conv2d_8 (Conv2D)            (None, 24, 24, 64)        18496     \n",
      "_________________________________________________________________\n",
      "max_pooling2d_4 (MaxPooling2 (None, 12, 12, 64)        0         \n",
      "_________________________________________________________________\n",
      "dropout_6 (Dropout)          (None, 12, 12, 64)        0         \n",
      "_________________________________________________________________\n",
      "flatten_3 (Flatten)          (None, 9216)              0         \n",
      "_________________________________________________________________\n",
      "dense_5 (Dense)              (None, 128)               1179776   \n",
      "_________________________________________________________________\n",
      "dropout_7 (Dropout)          (None, 128)               0         \n",
      "_________________________________________________________________\n",
      "dense_6 (Dense)              (None, 10)                1290      \n",
      "=================================================================\n",
      "Total params: 1,199,882\n",
      "Trainable params: 1,199,882\n",
      "Non-trainable params: 0\n",
      "_________________________________________________________________\n"
     ]
    }
   ],
   "source": [
    "model.save(\"model_mnist.h5\") # HDFS(Hadoop file system) : model 구조 전체 저장\n",
    "                             # 가중치, 구조, optimization stage 등이 저장\n",
    "                             # json으로도 저장(단, 구조와 가중치는 별도로 저장) => web에서도 tensorflow 지원\n",
    "                             # import tensorflow.js\n",
    "print(\"모델이 저장되었습니다.\")\n",
    "\n",
    "from keras.models import load_model\n",
    "model = load_model(\"model_mnist.h5\")\n",
    "print(\"모델이 로딩되었습니다.\")\n",
    "\n",
    "model.summary()"
   ]
  },
  {
   "cell_type": "code",
   "execution_count": 35,
   "metadata": {},
   "outputs": [
    {
     "name": "stdout",
     "output_type": "stream",
     "text": [
      "conv2d_7\n",
      "(None, 28, 28, 1)\n",
      "<function relu at 0x000002AFD75A8E58>\n",
      "(None, 26, 26, 32)\n"
     ]
    }
   ],
   "source": [
    "# 레이어 정보 확인\n",
    "l1 = model.layers[0]\n",
    "l2 = model.layers[1]\n",
    "print(l1.name)\n",
    "print(l1.input_shape)\n",
    "print(l1.activation)\n",
    "print(l1.output_shape)"
   ]
  },
  {
   "cell_type": "markdown",
   "metadata": {},
   "source": [
    "# imageDataGenerator"
   ]
  },
  {
   "cell_type": "code",
   "execution_count": 36,
   "metadata": {},
   "outputs": [
    {
     "name": "stderr",
     "output_type": "stream",
     "text": [
      "C:\\Users\\ICT01_05\\Anaconda3\\envs\\tf_test\\lib\\site-packages\\keras_preprocessing\\image\\image_data_generator.py:336: UserWarning: This ImageDataGenerator specifies `zca_whitening`, which overrides setting of `featurewise_center`.\n",
      "  warnings.warn('This ImageDataGenerator specifies '\n"
     ]
    },
    {
     "data": {
      "image/png": "[encoded data removed]",
      "text/plain": [
       "<Figure size 432x288 with 9 Axes>"
      ]
     },
     "metadata": {
      "needs_background": "light"
     },
     "output_type": "display_data"
    }
   ],
   "source": [
    "from keras.datasets import mnist\n",
    "from keras.preprocessing.image import ImageDataGenerator\n",
    "from matplotlib import pyplot\n",
    "from keras import backend as K\n",
    "(X_train, y_train), (X_test, y_test) = mnist.load_data()\n",
    "X_train = X_train.reshape(X_train.shape[0], 28, 28, 1)\n",
    "X_test = X_test.reshape(X_test.shape[0], 28, 28, 1)\n",
    "X_train = X_train.astype('float32')\n",
    "X_test = X_test.astype('float32')\n",
    "datagen = ImageDataGenerator(horizontal_flip=True, vertical_flip = True)\n",
    "datagen = ImageDataGenerator(width_shift_range = 0.2, height_shift_range = 0.2)\n",
    "# 이미지 백색화 => noise 제거(변수간 상관도를 없앰 : PCA)\n",
    "datagen = ImageDataGenerator(rotation_range = 90)\n",
    "datagen = ImageDataGenerator(zca_whitening = True)\n",
    "datagen.fit(X_train)\n",
    "for X_batch, y_batch in datagen.flow(X_train, y_train, batch_size = 9, # flow : 내보낸다.\n",
    "                                     save_to_dir = 'images', save_prefix = 'aug', save_format='png'):    # augment\n",
    "    for i in range(0, 9) :\n",
    "        pyplot.subplot(330 + 1 + i)\n",
    "        pyplot.imshow(X_batch[i].reshape(28, 28),\n",
    "                     cmap = pyplot.get_cmap('gray'))\n",
    "    pyplot.show()\n",
    "    break"
   ]
  },
  {
   "cell_type": "code",
   "execution_count": 37,
   "metadata": {},
   "outputs": [
    {
     "name": "stdout",
     "output_type": "stream",
     "text": [
      "X_train shape :  (50000, 32, 32, 3)\n",
      "50000 train samples\n",
      "10000 test samples\n"
     ]
    }
   ],
   "source": [
    "from keras.datasets import cifar10\n",
    "from keras.optimizers import SGD, Adam, RMSprop\n",
    "from keras.utils import np_utils\n",
    "# airplane, automobile, bird, cat, deer, dog, frog, horse, ship, truck 분류문제\n",
    "(X_train, Y_train), (X_test, Y_test) = cifar10.load_data()\n",
    "print(\"X_train shape : \", X_train.shape)\n",
    "print(X_train.shape[0], 'train samples')\n",
    "print(X_test.shape[0], 'test samples')\n",
    "NB_CLASSES = 10\n",
    "Y_train = np_utils.to_categorical(Y_train, NB_CLASSES)\n",
    "Y_test = np_utils.to_categorical(Y_test, NB_CLASSES)\n",
    "\n",
    "X_train = X_train.astype(\"float32\")\n",
    "X_test = X_test.astype(\"float32\")\n",
    "X_test /= 255\n",
    "X_test /= 255"
   ]
  },
  {
   "cell_type": "code",
   "execution_count": 39,
   "metadata": {},
   "outputs": [
    {
     "data": {
      "image/png": "[encoded data removed]",
      "text/plain": [
       "<Figure size 432x288 with 1 Axes>"
      ]
     },
     "metadata": {
      "needs_background": "light"
     },
     "output_type": "display_data"
    },
    {
     "data": {
      "image/png": "[encoded data removed]",
      "text/plain": [
       "<Figure size 432x288 with 1 Axes>"
      ]
     },
     "metadata": {
      "needs_background": "light"
     },
     "output_type": "display_data"
    }
   ],
   "source": [
    "plt.imshow(X_train[5])\n",
    "plt.grid(False)\n",
    "plt.show()\n",
    "plt.imshow(X_train[6])\n",
    "plt.grid(False)\n",
    "plt.show()"
   ]
  },
  {
   "cell_type": "code",
   "execution_count": 40,
   "metadata": {},
   "outputs": [],
   "source": [
    "IMG_CHANNELS = 3\n",
    "IMG_ROWS = 32\n",
    "IMG_COLS = 32\n",
    "BATCH_SIZE = 128\n",
    "NB_EPOCH = 40\n",
    "NB_CLASSES = 10\n",
    "VERBOSE = 1\n",
    "VALIDATION_SPLIT = 0.2\n",
    "OPTIM = RMSprop()"
   ]
  },
  {
   "cell_type": "code",
   "execution_count": 41,
   "metadata": {},
   "outputs": [],
   "source": [
    "from keras.layers import Activation\n",
    "model = Sequential()\n",
    "# residual망의 영향\n",
    "# 32x32x3=> 가중치 : 32x32x32(padding이 same이므로)\n",
    "model.add(Conv2D(32, kernel_size = 3, padding = 'same', input_shape = (IMG_ROWS, IMG_COLS, IMG_CHANNELS)))\n",
    "model.add(Activation('relu'))\n",
    "model.add(Conv2D(32, kernel_size = 3, padding = 'same'))\n",
    "model.add(Activation('relu'))\n",
    "model.add(MaxPooling2D(pool_size=(2,2)))\n",
    "model.add(Dropout(0.25))"
   ]
  },
  {
   "cell_type": "code",
   "execution_count": 42,
   "metadata": {},
   "outputs": [
    {
     "name": "stderr",
     "output_type": "stream",
     "text": [
      "C:\\Users\\ICT01_05\\Anaconda3\\envs\\tf_test\\lib\\site-packages\\ipykernel_launcher.py:3: UserWarning: Update your `Conv2D` call to the Keras 2 API: `Conv2D(64, (3, 3))`\n",
      "  This is separate from the ipykernel package so we can avoid doing imports until\n"
     ]
    }
   ],
   "source": [
    "model.add(Conv2D(64, kernel_size=3, padding='same'))\n",
    "model.add(Activation('relu'))\n",
    "model.add(Conv2D(64, 3, 3))\n",
    "model.add(Activation('relu'))\n",
    "model.add(MaxPooling2D(pool_size=(2,2)))\n",
    "model.add(Dropout(0.25))"
   ]
  },
  {
   "cell_type": "code",
   "execution_count": 43,
   "metadata": {
    "scrolled": true
   },
   "outputs": [
    {
     "name": "stdout",
     "output_type": "stream",
     "text": [
      "Model: \"sequential_4\"\n",
      "_________________________________________________________________\n",
      "Layer (type)                 Output Shape              Param #   \n",
      "=================================================================\n",
      "conv2d_9 (Conv2D)            (None, 32, 32, 32)        896       \n",
      "_________________________________________________________________\n",
      "activation_7 (Activation)    (None, 32, 32, 32)        0         \n",
      "_________________________________________________________________\n",
      "conv2d_10 (Conv2D)           (None, 32, 32, 32)        9248      \n",
      "_________________________________________________________________\n",
      "activation_8 (Activation)    (None, 32, 32, 32)        0         \n",
      "_________________________________________________________________\n",
      "max_pooling2d_5 (MaxPooling2 (None, 16, 16, 32)        0         \n",
      "_________________________________________________________________\n",
      "dropout_8 (Dropout)          (None, 16, 16, 32)        0         \n",
      "_________________________________________________________________\n",
      "conv2d_11 (Conv2D)           (None, 16, 16, 64)        18496     \n",
      "_________________________________________________________________\n",
      "activation_9 (Activation)    (None, 16, 16, 64)        0         \n",
      "_________________________________________________________________\n",
      "conv2d_12 (Conv2D)           (None, 14, 14, 64)        36928     \n",
      "_________________________________________________________________\n",
      "activation_10 (Activation)   (None, 14, 14, 64)        0         \n",
      "_________________________________________________________________\n",
      "max_pooling2d_6 (MaxPooling2 (None, 7, 7, 64)          0         \n",
      "_________________________________________________________________\n",
      "dropout_9 (Dropout)          (None, 7, 7, 64)          0         \n",
      "_________________________________________________________________\n",
      "flatten_4 (Flatten)          (None, 3136)              0         \n",
      "_________________________________________________________________\n",
      "dense_7 (Dense)              (None, 512)               1606144   \n",
      "_________________________________________________________________\n",
      "activation_11 (Activation)   (None, 512)               0         \n",
      "_________________________________________________________________\n",
      "dropout_10 (Dropout)         (None, 512)               0         \n",
      "_________________________________________________________________\n",
      "dense_8 (Dense)              (None, 10)                5130      \n",
      "_________________________________________________________________\n",
      "activation_12 (Activation)   (None, 10)                0         \n",
      "=================================================================\n",
      "Total params: 1,676,842\n",
      "Trainable params: 1,676,842\n",
      "Non-trainable params: 0\n",
      "_________________________________________________________________\n"
     ]
    }
   ],
   "source": [
    "model.add(Flatten())\n",
    "model.add(Dense(512))\n",
    "model.add(Activation('relu'))\n",
    "model.add(Dropout(0.5))\n",
    "model.add(Dense(NB_CLASSES))\n",
    "model.add(Activation('softmax'))\n",
    "model.summary()\n",
    "model.compile(loss=\"categorical_crossentropy\", optimizer=OPTIM, metrics=['accuracy'])"
   ]
  },
  {
   "cell_type": "code",
   "execution_count": 44,
   "metadata": {
    "scrolled": true
   },
   "outputs": [
    {
     "name": "stdout",
     "output_type": "stream",
     "text": [
      "Train on 40000 samples, validate on 10000 samples\n",
      "Epoch 1/40\n",
      "40000/40000 [==============================] - 10s 249us/step - loss: 1.7648 - accuracy: 0.3652 - val_loss: 1.4983 - val_accuracy: 0.4584\n",
      "Epoch 2/40\n",
      "40000/40000 [==============================] - 10s 247us/step - loss: 1.3269 - accuracy: 0.5297 - val_loss: 1.1003 - val_accuracy: 0.6149\n",
      "Epoch 3/40\n",
      "40000/40000 [==============================] - 10s 243us/step - loss: 1.1207 - accuracy: 0.6082 - val_loss: 1.0754 - val_accuracy: 0.6211\n",
      "Epoch 4/40\n",
      "40000/40000 [==============================] - 10s 250us/step - loss: 0.9926 - accuracy: 0.6521 - val_loss: 0.9711 - val_accuracy: 0.6557\n",
      "Epoch 5/40\n",
      "40000/40000 [==============================] - 10s 246us/step - loss: 0.8938 - accuracy: 0.6884 - val_loss: 0.8806 - val_accuracy: 0.6980\n",
      "Epoch 6/40\n",
      "40000/40000 [==============================] - 10s 245us/step - loss: 0.8226 - accuracy: 0.7138 - val_loss: 0.8767 - val_accuracy: 0.6887\n",
      "Epoch 7/40\n",
      "40000/40000 [==============================] - 10s 245us/step - loss: 0.7611 - accuracy: 0.7351 - val_loss: 0.7785 - val_accuracy: 0.7333\n",
      "Epoch 8/40\n",
      "40000/40000 [==============================] - 10s 238us/step - loss: 0.7142 - accuracy: 0.7533 - val_loss: 0.7773 - val_accuracy: 0.7352\n",
      "Epoch 9/40\n",
      "40000/40000 [==============================] - 10s 242us/step - loss: 0.6746 - accuracy: 0.7645 - val_loss: 0.7173 - val_accuracy: 0.7544\n",
      "Epoch 10/40\n",
      "40000/40000 [==============================] - 9s 237us/step - loss: 0.6371 - accuracy: 0.7807 - val_loss: 0.7973 - val_accuracy: 0.7467\n",
      "Epoch 11/40\n",
      "40000/40000 [==============================] - 9s 237us/step - loss: 0.6127 - accuracy: 0.7895 - val_loss: 0.7133 - val_accuracy: 0.7562\n",
      "Epoch 12/40\n",
      "40000/40000 [==============================] - 10s 239us/step - loss: 0.5894 - accuracy: 0.7974 - val_loss: 0.9027 - val_accuracy: 0.7343\n",
      "Epoch 13/40\n",
      "40000/40000 [==============================] - 10s 244us/step - loss: 0.5745 - accuracy: 0.8018 - val_loss: 0.7350 - val_accuracy: 0.7640\n",
      "Epoch 14/40\n",
      "40000/40000 [==============================] - 10s 242us/step - loss: 0.5660 - accuracy: 0.8057 - val_loss: 0.8670 - val_accuracy: 0.7516\n",
      "Epoch 15/40\n",
      "40000/40000 [==============================] - 10s 240us/step - loss: 0.5537 - accuracy: 0.8128 - val_loss: 0.7014 - val_accuracy: 0.7699\n",
      "Epoch 16/40\n",
      "40000/40000 [==============================] - 9s 236us/step - loss: 0.5463 - accuracy: 0.8141 - val_loss: 0.7976 - val_accuracy: 0.7358\n",
      "Epoch 17/40\n",
      "40000/40000 [==============================] - 9s 237us/step - loss: 0.5498 - accuracy: 0.8159 - val_loss: 0.6850 - val_accuracy: 0.7757\n",
      "Epoch 18/40\n",
      "40000/40000 [==============================] - 10s 239us/step - loss: 0.5385 - accuracy: 0.8195 - val_loss: 0.6727 - val_accuracy: 0.7769\n",
      "Epoch 19/40\n",
      "40000/40000 [==============================] - 10s 238us/step - loss: 0.5415 - accuracy: 0.8188 - val_loss: 0.7299 - val_accuracy: 0.7763\n",
      "Epoch 20/40\n",
      "40000/40000 [==============================] - 10s 244us/step - loss: 0.5452 - accuracy: 0.8204 - val_loss: 0.8435 - val_accuracy: 0.7625\n",
      "Epoch 21/40\n",
      "40000/40000 [==============================] - 10s 248us/step - loss: 0.5402 - accuracy: 0.8212 - val_loss: 0.9731 - val_accuracy: 0.7566\n",
      "Epoch 22/40\n",
      "40000/40000 [==============================] - 10s 241us/step - loss: 0.5488 - accuracy: 0.8204 - val_loss: 0.8468 - val_accuracy: 0.7723\n",
      "Epoch 23/40\n",
      "40000/40000 [==============================] - 10s 238us/step - loss: 0.5409 - accuracy: 0.8236 - val_loss: 0.7882 - val_accuracy: 0.7859\n",
      "Epoch 24/40\n",
      "40000/40000 [==============================] - 10s 247us/step - loss: 0.5408 - accuracy: 0.8235 - val_loss: 0.7667 - val_accuracy: 0.7857\n",
      "Epoch 25/40\n",
      "40000/40000 [==============================] - 10s 239us/step - loss: 0.5461 - accuracy: 0.8239 - val_loss: 0.7180 - val_accuracy: 0.7794\n",
      "Epoch 26/40\n",
      "40000/40000 [==============================] - 10s 242us/step - loss: 0.5452 - accuracy: 0.8246 - val_loss: 0.9609 - val_accuracy: 0.7722\n",
      "Epoch 27/40\n",
      "40000/40000 [==============================] - 10s 247us/step - loss: 0.5462 - accuracy: 0.8213 - val_loss: 0.6737 - val_accuracy: 0.7861\n",
      "Epoch 28/40\n",
      "40000/40000 [==============================] - 10s 243us/step - loss: 0.5492 - accuracy: 0.8245 - val_loss: 0.7509 - val_accuracy: 0.7809\n",
      "Epoch 29/40\n",
      "40000/40000 [==============================] - 10s 241us/step - loss: 0.5512 - accuracy: 0.8223 - val_loss: 0.7820 - val_accuracy: 0.7880\n",
      "Epoch 30/40\n",
      "40000/40000 [==============================] - 10s 244us/step - loss: 0.5580 - accuracy: 0.8195 - val_loss: 0.7892 - val_accuracy: 0.7864\n",
      "Epoch 31/40\n",
      "40000/40000 [==============================] - 9s 237us/step - loss: 0.5532 - accuracy: 0.8198 - val_loss: 0.7774 - val_accuracy: 0.7620\n",
      "Epoch 32/40\n",
      "40000/40000 [==============================] - 10s 242us/step - loss: 0.5491 - accuracy: 0.8228 - val_loss: 0.7348 - val_accuracy: 0.7772\n",
      "Epoch 33/40\n",
      "40000/40000 [==============================] - 9s 237us/step - loss: 0.5658 - accuracy: 0.8180 - val_loss: 0.7369 - val_accuracy: 0.7850\n",
      "Epoch 34/40\n",
      "40000/40000 [==============================] - 9s 234us/step - loss: 0.5634 - accuracy: 0.8190 - val_loss: 0.7548 - val_accuracy: 0.7750\n",
      "Epoch 35/40\n",
      "40000/40000 [==============================] - 10s 244us/step - loss: 0.5652 - accuracy: 0.8191 - val_loss: 1.0422 - val_accuracy: 0.7080\n",
      "Epoch 36/40\n",
      "40000/40000 [==============================] - 10s 241us/step - loss: 0.5626 - accuracy: 0.8203 - val_loss: 0.7292 - val_accuracy: 0.7707\n",
      "Epoch 37/40\n",
      "40000/40000 [==============================] - 10s 242us/step - loss: 0.5663 - accuracy: 0.8195 - val_loss: 0.8422 - val_accuracy: 0.7551\n",
      "Epoch 38/40\n",
      "40000/40000 [==============================] - 10s 239us/step - loss: 0.5711 - accuracy: 0.8181 - val_loss: 0.7690 - val_accuracy: 0.7716\n",
      "Epoch 39/40\n",
      "40000/40000 [==============================] - 10s 240us/step - loss: 0.5719 - accuracy: 0.8178 - val_loss: 0.7865 - val_accuracy: 0.7498\n",
      "Epoch 40/40\n",
      "40000/40000 [==============================] - 10s 242us/step - loss: 0.5669 - accuracy: 0.8191 - val_loss: 0.7401 - val_accuracy: 0.7585\n"
     ]
    }
   ],
   "source": [
    "history = model.fit(X_train, Y_train, batch_size = BATCH_SIZE, epochs = NB_EPOCH, \n",
    "                   validation_split = VALIDATION_SPLIT, verbose = VERBOSE)"
   ]
  },
  {
   "cell_type": "code",
   "execution_count": 45,
   "metadata": {},
   "outputs": [],
   "source": [
    "datagen = ImageDataGenerator(# 똑같은 데이터 : Random 순서\n",
    "                             featurewise_center = False, \n",
    "                             samplewise_center = False, \n",
    "                             featurewise_std_normalization=False,\n",
    "                            samplewise_std_normalization=False, \n",
    "                             zca_whitening=False,  # 이미지 PCA 노이즈제거\n",
    "                             rotation_range=0, \n",
    "                             width_shift_range=0.1,\n",
    "                            height_shift_range = 0.1, \n",
    "                             horizontal_flip = True, \n",
    "                             vertical_flip = False)\n",
    "datagen.fit(X_train)"
   ]
  },
  {
   "cell_type": "code",
   "execution_count": 17,
   "metadata": {
    "scrolled": true
   },
   "outputs": [
    {
     "name": "stderr",
     "output_type": "stream",
     "text": [
      "C:\\Users\\ICT01_05\\Anaconda3\\envs\\tf_test\\lib\\site-packages\\ipykernel_launcher.py:3: UserWarning: The semantics of the Keras 2 argument `steps_per_epoch` is not the same as the Keras 1 argument `samples_per_epoch`. `steps_per_epoch` is the number of batches to draw from the generator at each epoch. Basically steps_per_epoch = samples_per_epoch/batch_size. Similarly `nb_val_samples`->`validation_steps` and `val_samples`->`steps` arguments have changed. Update your method calls accordingly.\n",
      "  This is separate from the ipykernel package so we can avoid doing imports until\n",
      "C:\\Users\\ICT01_05\\Anaconda3\\envs\\tf_test\\lib\\site-packages\\ipykernel_launcher.py:3: UserWarning: Update your `fit_generator` call to the Keras 2 API: `fit_generator(<keras.pre..., verbose=1, steps_per_epoch=390, epochs=40)`\n",
      "  This is separate from the ipykernel package so we can avoid doing imports until\n"
     ]
    },
    {
     "name": "stdout",
     "output_type": "stream",
     "text": [
      "WARNING:tensorflow:From C:\\Users\\ICT01_05\\Anaconda3\\envs\\tf_test\\lib\\site-packages\\keras\\backend\\tensorflow_backend.py:422: The name tf.global_variables is deprecated. Please use tf.compat.v1.global_variables instead.\n",
      "\n",
      "Epoch 1/40\n",
      "390/390 [==============================] - 16s 42ms/step - loss: 1.8268 - accuracy: 0.3386\n",
      "Epoch 2/40\n",
      "390/390 [==============================] - 16s 41ms/step - loss: 1.3929 - accuracy: 0.5009\n",
      "Epoch 3/40\n",
      "390/390 [==============================] - 16s 41ms/step - loss: 1.2066 - accuracy: 0.5718\n",
      "Epoch 4/40\n",
      "390/390 [==============================] - 16s 41ms/step - loss: 1.1022 - accuracy: 0.6131\n",
      "Epoch 5/40\n",
      "390/390 [==============================] - 16s 40ms/step - loss: 1.0250 - accuracy: 0.6368\n",
      "Epoch 6/40\n",
      "390/390 [==============================] - 16s 40ms/step - loss: 0.9742 - accuracy: 0.6590\n",
      "Epoch 7/40\n",
      "390/390 [==============================] - 16s 41ms/step - loss: 0.9218 - accuracy: 0.6766\n",
      "Epoch 8/40\n",
      "390/390 [==============================] - 16s 40ms/step - loss: 0.8905 - accuracy: 0.6905\n",
      "Epoch 9/40\n",
      "390/390 [==============================] - 16s 40ms/step - loss: 0.8650 - accuracy: 0.6968\n",
      "Epoch 10/40\n",
      "390/390 [==============================] - 16s 41ms/step - loss: 0.8533 - accuracy: 0.7047\n",
      "Epoch 11/40\n",
      "390/390 [==============================] - 16s 41ms/step - loss: 0.8338 - accuracy: 0.7136\n",
      "Epoch 12/40\n",
      "390/390 [==============================] - 16s 41ms/step - loss: 0.8185 - accuracy: 0.7187\n",
      "Epoch 13/40\n",
      "390/390 [==============================] - 16s 42ms/step - loss: 0.8081 - accuracy: 0.7240\n",
      "Epoch 14/40\n",
      "390/390 [==============================] - 16s 42ms/step - loss: 0.7985 - accuracy: 0.7268\n",
      "Epoch 15/40\n",
      "390/390 [==============================] - 17s 43ms/step - loss: 0.7999 - accuracy: 0.72900s - loss: 0.7\n",
      "Epoch 16/40\n",
      "390/390 [==============================] - 17s 43ms/step - loss: 0.7972 - accuracy: 0.7310\n",
      "Epoch 17/40\n",
      "390/390 [==============================] - 17s 43ms/step - loss: 0.7863 - accuracy: 0.7346\n",
      "Epoch 18/40\n",
      "390/390 [==============================] - 17s 43ms/step - loss: 0.7929 - accuracy: 0.7335\n",
      "Epoch 19/40\n",
      "390/390 [==============================] - 17s 44ms/step - loss: 0.7877 - accuracy: 0.7353\n",
      "Epoch 20/40\n",
      "390/390 [==============================] - 16s 40ms/step - loss: 0.7850 - accuracy: 0.7358\n",
      "Epoch 21/40\n",
      "390/390 [==============================] - 16s 41ms/step - loss: 0.7810 - accuracy: 0.7401\n",
      "Epoch 22/40\n",
      "390/390 [==============================] - 15s 40ms/step - loss: 0.7852 - accuracy: 0.7369\n",
      "Epoch 23/40\n",
      "390/390 [==============================] - 16s 41ms/step - loss: 0.7854 - accuracy: 0.7368\n",
      "Epoch 24/40\n",
      "390/390 [==============================] - 16s 40ms/step - loss: 0.7828 - accuracy: 0.7378\n",
      "Epoch 25/40\n",
      "390/390 [==============================] - 16s 40ms/step - loss: 0.7920 - accuracy: 0.7342\n",
      "Epoch 26/40\n",
      "390/390 [==============================] - 16s 40ms/step - loss: 0.7854 - accuracy: 0.7389\n",
      "Epoch 27/40\n",
      "390/390 [==============================] - 16s 41ms/step - loss: 0.7875 - accuracy: 0.7396\n",
      "Epoch 28/40\n",
      "390/390 [==============================] - 16s 41ms/step - loss: 0.8000 - accuracy: 0.7341\n",
      "Epoch 29/40\n",
      "390/390 [==============================] - 16s 41ms/step - loss: 0.7975 - accuracy: 0.7348\n",
      "Epoch 30/40\n",
      "390/390 [==============================] - 16s 40ms/step - loss: 0.8020 - accuracy: 0.7318\n",
      "Epoch 31/40\n",
      "390/390 [==============================] - 15s 40ms/step - loss: 0.8037 - accuracy: 0.7346\n",
      "Epoch 32/40\n",
      "390/390 [==============================] - 16s 40ms/step - loss: 0.7991 - accuracy: 0.7361\n",
      "Epoch 33/40\n",
      "390/390 [==============================] - 15s 39ms/step - loss: 0.8119 - accuracy: 0.7315\n",
      "Epoch 34/40\n",
      "390/390 [==============================] - 15s 40ms/step - loss: 0.8180 - accuracy: 0.7306\n",
      "Epoch 35/40\n",
      "390/390 [==============================] - 16s 40ms/step - loss: 0.8154 - accuracy: 0.7335\n",
      "Epoch 36/40\n",
      "390/390 [==============================] - 16s 41ms/step - loss: 0.8284 - accuracy: 0.7284\n",
      "Epoch 37/40\n",
      "390/390 [==============================] - 16s 40ms/step - loss: 0.8207 - accuracy: 0.7292\n",
      "Epoch 38/40\n",
      "390/390 [==============================] - 16s 40ms/step - loss: 0.8330 - accuracy: 0.7276\n",
      "Epoch 39/40\n",
      "390/390 [==============================] - 16s 40ms/step - loss: 0.8292 - accuracy: 0.7287\n",
      "Epoch 40/40\n",
      "390/390 [==============================] - 16s 41ms/step - loss: 0.8377 - accuracy: 0.7254\n"
     ]
    },
    {
     "data": {
      "text/plain": [
       "<keras.callbacks.callbacks.History at 0x2afad3eb8c8>"
      ]
     },
     "execution_count": 17,
     "metadata": {},
     "output_type": "execute_result"
    }
   ],
   "source": [
    "model.fit_generator(datagen.flow(X_train, Y_train, batch_size = BATCH_SIZE),\n",
    "                    samples_per_epoch = X_train.shape[0], nb_epoch = NB_EPOCH,\n",
    "                    verbose = VERBOSE)"
   ]
  },
  {
   "cell_type": "code",
   "execution_count": 46,
   "metadata": {},
   "outputs": [
    {
     "name": "stdout",
     "output_type": "stream",
     "text": [
      "10000/10000 [==============================] - 1s 93us/step\n",
      "\n",
      "Test score :  0.7671592515945435\n",
      "\n",
      "Test accuracy :  0.757099986076355\n"
     ]
    }
   ],
   "source": [
    "score = model.evaluate(X_test, Y_test, batch_size = BATCH_SIZE, verbose = VERBOSE)\n",
    "print(\"\\nTest score : \", score[0])\n",
    "print(\"\\nTest accuracy : \", score[1])"
   ]
  },
  {
   "cell_type": "code",
   "execution_count": 19,
   "metadata": {},
   "outputs": [
    {
     "data": {
      "text/plain": [
       "'/device:GPU:0'"
      ]
     },
     "execution_count": 19,
     "metadata": {},
     "output_type": "execute_result"
    }
   ],
   "source": [
    "import tensorflow as tf\n",
    "tf.test.gpu_device_name()"
   ]
  },
  {
   "cell_type": "markdown",
   "metadata": {},
   "source": [
    "# json"
   ]
  },
  {
   "cell_type": "code",
   "execution_count": 51,
   "metadata": {},
   "outputs": [],
   "source": [
    "model_json = model.to_json()\n",
    "open('cifar10_architecture.json', 'w').write(model_json)\n",
    "model.save_weights('cifar10_weights.h5' ,overwrite=True)"
   ]
  },
  {
   "cell_type": "code",
   "execution_count": 53,
   "metadata": {},
   "outputs": [
    {
     "name": "stdout",
     "output_type": "stream",
     "text": [
      "Loaded model from disk\n"
     ]
    }
   ],
   "source": [
    "from keras.models import model_from_json\n",
    "json_file = open('cifar10_architecture.json', 'r')\n",
    "loaded_model_json = json_file.read()\n",
    "json_file.close()\n",
    "loaded_model = model_from_json(loaded_model_json)\n",
    "loaded_model.load_weights('cifar10_weights.h5')\n",
    "print(\"Loaded model from disk\")"
   ]
  },
  {
   "cell_type": "markdown",
   "metadata": {},
   "source": [
    "# accuracy graph를 출력"
   ]
  },
  {
   "cell_type": "code",
   "execution_count": 53,
   "metadata": {},
   "outputs": [],
   "source": [
    "model.compile(loss=keras.losses.categorical_crossentropy, optimizer=keras.optimizers.Adadelta(), metrics=['accuracy'])\n",
    "\n",
    "class AccuracyHistory2(keras.callbacks.Callback) : # epoch마다 accuracy를 저장\n",
    "    # 오버라이딩(재정의)\n",
    "    def on_train_begin(self, logs={}) : # 훈련시작시 이벤트 시작\n",
    "        self.acc = []\n",
    "    \n",
    "    def on_epoch_end(self, batch, logs = {}) :\n",
    "        self.acc.append(logs.get('accuracy'))\n",
    "        \n",
    "history = AccuracyHistory2()"
   ]
  },
  {
   "cell_type": "code",
   "execution_count": 48,
   "metadata": {
    "scrolled": true
   },
   "outputs": [
    {
     "name": "stderr",
     "output_type": "stream",
     "text": [
      "C:\\Users\\ICT01_05\\Anaconda3\\envs\\tf_test\\lib\\site-packages\\ipykernel_launcher.py:3: UserWarning: The semantics of the Keras 2 argument `steps_per_epoch` is not the same as the Keras 1 argument `samples_per_epoch`. `steps_per_epoch` is the number of batches to draw from the generator at each epoch. Basically steps_per_epoch = samples_per_epoch/batch_size. Similarly `nb_val_samples`->`validation_steps` and `val_samples`->`steps` arguments have changed. Update your method calls accordingly.\n",
      "  This is separate from the ipykernel package so we can avoid doing imports until\n",
      "C:\\Users\\ICT01_05\\Anaconda3\\envs\\tf_test\\lib\\site-packages\\ipykernel_launcher.py:3: UserWarning: Update your `fit_generator` call to the Keras 2 API: `fit_generator(<keras.pre..., verbose=1, callbacks=[<__main__..., steps_per_epoch=390, epochs=40)`\n",
      "  This is separate from the ipykernel package so we can avoid doing imports until\n"
     ]
    },
    {
     "name": "stdout",
     "output_type": "stream",
     "text": [
      "Epoch 1/40\n",
      "390/390 [==============================] - 15s 39ms/step - loss: 1.0215 - accuracy: 0.6694\n",
      "Epoch 2/40\n",
      "390/390 [==============================] - 15s 39ms/step - loss: 0.9422 - accuracy: 0.6920\n",
      "Epoch 3/40\n",
      "390/390 [==============================] - 15s 40ms/step - loss: 0.9158 - accuracy: 0.7004\n",
      "Epoch 4/40\n",
      "390/390 [==============================] - 15s 39ms/step - loss: 0.8903 - accuracy: 0.7055\n",
      "Epoch 5/40\n",
      "390/390 [==============================] - 15s 39ms/step - loss: 0.8754 - accuracy: 0.7110\n",
      "Epoch 6/40\n",
      "390/390 [==============================] - 15s 39ms/step - loss: 0.8665 - accuracy: 0.7120\n",
      "Epoch 7/40\n",
      "390/390 [==============================] - 15s 39ms/step - loss: 0.8568 - accuracy: 0.7197\n",
      "Epoch 8/40\n",
      "390/390 [==============================] - 16s 40ms/step - loss: 0.8513 - accuracy: 0.7199\n",
      "Epoch 9/40\n",
      "390/390 [==============================] - 15s 39ms/step - loss: 0.8355 - accuracy: 0.7219\n",
      "Epoch 10/40\n",
      "390/390 [==============================] - 16s 40ms/step - loss: 0.8331 - accuracy: 0.7249\n",
      "Epoch 11/40\n",
      "390/390 [==============================] - 16s 40ms/step - loss: 0.8109 - accuracy: 0.7332\n",
      "Epoch 12/40\n",
      "390/390 [==============================] - 16s 40ms/step - loss: 0.8112 - accuracy: 0.7296\n",
      "Epoch 13/40\n",
      "390/390 [==============================] - 16s 40ms/step - loss: 0.8066 - accuracy: 0.73450s - loss: 0.8070 - accu\n",
      "Epoch 14/40\n",
      "390/390 [==============================] - 16s 41ms/step - loss: 0.7973 - accuracy: 0.7356\n",
      "Epoch 15/40\n",
      "390/390 [==============================] - 16s 40ms/step - loss: 0.7938 - accuracy: 0.7368\n",
      "Epoch 16/40\n",
      "390/390 [==============================] - 16s 40ms/step - loss: 0.7797 - accuracy: 0.7415\n",
      "Epoch 17/40\n",
      "390/390 [==============================] - 16s 40ms/step - loss: 0.7815 - accuracy: 0.7406\n",
      "Epoch 18/40\n",
      "390/390 [==============================] - 15s 39ms/step - loss: 0.7711 - accuracy: 0.7415\n",
      "Epoch 19/40\n",
      "390/390 [==============================] - 16s 40ms/step - loss: 0.7654 - accuracy: 0.7450\n",
      "Epoch 20/40\n",
      "390/390 [==============================] - 16s 40ms/step - loss: 0.7596 - accuracy: 0.7481\n",
      "Epoch 21/40\n",
      "390/390 [==============================] - 16s 40ms/step - loss: 0.7587 - accuracy: 0.7485\n",
      "Epoch 22/40\n",
      "390/390 [==============================] - 16s 40ms/step - loss: 0.7627 - accuracy: 0.7463\n",
      "Epoch 23/40\n",
      "390/390 [==============================] - 15s 39ms/step - loss: 0.7575 - accuracy: 0.7471\n",
      "Epoch 24/40\n",
      "390/390 [==============================] - 16s 40ms/step - loss: 0.7442 - accuracy: 0.7514\n",
      "Epoch 25/40\n",
      "390/390 [==============================] - 16s 40ms/step - loss: 0.7373 - accuracy: 0.7551\n",
      "Epoch 26/40\n",
      "390/390 [==============================] - 16s 40ms/step - loss: 0.7364 - accuracy: 0.7554\n",
      "Epoch 27/40\n",
      "390/390 [==============================] - 15s 39ms/step - loss: 0.7299 - accuracy: 0.7549\n",
      "Epoch 28/40\n",
      "390/390 [==============================] - 15s 39ms/step - loss: 0.7289 - accuracy: 0.7569\n",
      "Epoch 29/40\n",
      "390/390 [==============================] - 15s 38ms/step - loss: 0.7313 - accuracy: 0.7565\n",
      "Epoch 30/40\n",
      "390/390 [==============================] - 15s 38ms/step - loss: 0.7228 - accuracy: 0.7591\n",
      "Epoch 31/40\n",
      "390/390 [==============================] - 15s 38ms/step - loss: 0.7262 - accuracy: 0.7576\n",
      "Epoch 32/40\n",
      "390/390 [==============================] - 15s 38ms/step - loss: 0.7227 - accuracy: 0.7592\n",
      "Epoch 33/40\n",
      "390/390 [==============================] - 15s 38ms/step - loss: 0.7182 - accuracy: 0.7612\n",
      "Epoch 34/40\n",
      "390/390 [==============================] - 15s 38ms/step - loss: 0.7162 - accuracy: 0.7620\n",
      "Epoch 35/40\n",
      "390/390 [==============================] - 14s 37ms/step - loss: 0.7125 - accuracy: 0.7626\n",
      "Epoch 36/40\n",
      "390/390 [==============================] - 14s 37ms/step - loss: 0.7088 - accuracy: 0.7626\n",
      "Epoch 37/40\n",
      "390/390 [==============================] - 14s 37ms/step - loss: 0.7021 - accuracy: 0.7658\n",
      "Epoch 38/40\n",
      "390/390 [==============================] - 15s 39ms/step - loss: 0.7045 - accuracy: 0.7636\n",
      "Epoch 39/40\n",
      "390/390 [==============================] - 15s 39ms/step - loss: 0.6933 - accuracy: 0.76691s - l\n",
      "Epoch 40/40\n",
      "390/390 [==============================] - 16s 40ms/step - loss: 0.6987 - accuracy: 0.7683\n"
     ]
    },
    {
     "data": {
      "text/plain": [
       "<keras.callbacks.callbacks.History at 0x2af8d5f7108>"
      ]
     },
     "execution_count": 48,
     "metadata": {},
     "output_type": "execute_result"
    }
   ],
   "source": [
    "history = model.fit_generator(datagen.flow(X_train, Y_train, batch_size = BATCH_SIZE),\n",
    "                    samples_per_epoch = X_train.shape[0], nb_epoch = NB_EPOCH,\n",
    "                    verbose = VERBOSE, callbacks=[history])"
   ]
  },
  {
   "cell_type": "code",
   "execution_count": 49,
   "metadata": {
    "scrolled": true
   },
   "outputs": [
    {
     "data": {
      "image/png": "[encoded data removed]",
      "text/plain": [
       "<Figure size 432x288 with 1 Axes>"
      ]
     },
     "metadata": {
      "needs_background": "light"
     },
     "output_type": "display_data"
    }
   ],
   "source": [
    "plt.plot(range(1,41), history.acc)\n",
    "plt.xlabel('Epochs')\n",
    "plt.ylabel('Accuracy')\n",
    "plt.show()"
   ]
  },
  {
   "cell_type": "code",
   "execution_count": 52,
   "metadata": {},
   "outputs": [
    {
     "ename": "AttributeError",
     "evalue": "'AccuracyHistory' object has no attribute 'history'",
     "output_type": "error",
     "traceback": [
      "\u001b[1;31m---------------------------------------------------------------------------\u001b[0m",
      "\u001b[1;31mAttributeError\u001b[0m                            Traceback (most recent call last)",
      "\u001b[1;32m<ipython-input-52-3064e8782ad5>\u001b[0m in \u001b[0;36m<module>\u001b[1;34m\u001b[0m\n\u001b[1;32m----> 1\u001b[1;33m \u001b[0mplt\u001b[0m\u001b[1;33m.\u001b[0m\u001b[0mplot\u001b[0m\u001b[1;33m(\u001b[0m\u001b[0mhistory\u001b[0m\u001b[1;33m.\u001b[0m\u001b[0mhistory\u001b[0m\u001b[1;33m[\u001b[0m\u001b[1;34m'accuracy'\u001b[0m\u001b[1;33m]\u001b[0m\u001b[1;33m)\u001b[0m\u001b[1;33m\u001b[0m\u001b[1;33m\u001b[0m\u001b[0m\n\u001b[0m\u001b[0;32m      2\u001b[0m \u001b[0mplt\u001b[0m\u001b[1;33m.\u001b[0m\u001b[0mplot\u001b[0m\u001b[1;33m(\u001b[0m\u001b[0mhistory\u001b[0m\u001b[1;33m.\u001b[0m\u001b[0mhistory\u001b[0m\u001b[1;33m[\u001b[0m\u001b[1;34m'val_accuracy'\u001b[0m\u001b[1;33m]\u001b[0m\u001b[1;33m)\u001b[0m\u001b[1;33m\u001b[0m\u001b[1;33m\u001b[0m\u001b[0m\n\u001b[0;32m      3\u001b[0m \u001b[0mplt\u001b[0m\u001b[1;33m.\u001b[0m\u001b[0mtitle\u001b[0m\u001b[1;33m(\u001b[0m\u001b[1;34m'model accuracy'\u001b[0m\u001b[1;33m)\u001b[0m\u001b[1;33m\u001b[0m\u001b[1;33m\u001b[0m\u001b[0m\n\u001b[0;32m      4\u001b[0m \u001b[0mplt\u001b[0m\u001b[1;33m.\u001b[0m\u001b[0mylabel\u001b[0m\u001b[1;33m(\u001b[0m\u001b[1;34m'accuracy'\u001b[0m\u001b[1;33m)\u001b[0m\u001b[1;33m\u001b[0m\u001b[1;33m\u001b[0m\u001b[0m\n\u001b[0;32m      5\u001b[0m \u001b[0mplt\u001b[0m\u001b[1;33m.\u001b[0m\u001b[0mxlabel\u001b[0m\u001b[1;33m(\u001b[0m\u001b[1;34m'epoch'\u001b[0m\u001b[1;33m)\u001b[0m\u001b[1;33m\u001b[0m\u001b[1;33m\u001b[0m\u001b[0m\n",
      "\u001b[1;31mAttributeError\u001b[0m: 'AccuracyHistory' object has no attribute 'history'"
     ]
    }
   ],
   "source": [
    "plt.plot(history.history['accuracy'])\n",
    "plt.plot(history.history['val_accuracy'])\n",
    "plt.title('model accuracy')\n",
    "plt.ylabel('accuracy')\n",
    "plt.xlabel('epoch')\n",
    "plt.legend(['train', 'test'], loc='upper left')\n",
    "plt.show()"
   ]
  },
  {
   "cell_type": "markdown",
   "metadata": {},
   "source": [
    "# 이미지 cat, dog를 다운로드한 다음 위의 모델로 예측해보세요."
   ]
  },
  {
   "cell_type": "code",
   "execution_count": 54,
   "metadata": {},
   "outputs": [
    {
     "name": "stdout",
     "output_type": "stream",
     "text": [
      "[4 4]\n"
     ]
    }
   ],
   "source": [
    "import numpy as np\n",
    "from imageio import imread\n",
    "from skimage.transform import resize\n",
    "from keras.models import model_from_json\n",
    "img_names = ['cat.jpg', 'dog.jpg']\n",
    "imgs = [resize(imread(img_name), (32,32)).astype('float32')\n",
    "       for img_name in img_names]\n",
    "imgs = np.array(imgs)/255\n",
    "predictions = model.predict_classes(imgs)\n",
    "print(predictions)"
   ]
  },
  {
   "cell_type": "markdown",
   "metadata": {},
   "source": [
    "# 전이(transfer learning) 학습 Application\n",
    "- 반지도학습(일부데이터의 라벨이 무) : Knn, Trenductive SVM\n",
    "- 가중치 활용 : 그대로 적용\n",
    "- 가중치 중 일부만 활용\n",
    "- FFNN 부분만 학습해서 사용"
   ]
  },
  {
   "cell_type": "markdown",
   "metadata": {},
   "source": [
    "# pre-trained, fine-tuning(FFNN부분만 Domain knowledge)"
   ]
  },
  {
   "cell_type": "code",
   "execution_count": 58,
   "metadata": {},
   "outputs": [
    {
     "name": "stdout",
     "output_type": "stream",
     "text": [
      "PIL image size (224, 224)\n"
     ]
    },
    {
     "data": {
      "image/png": "[encoded data removed]",
      "text/plain": [
       "<Figure size 432x288 with 1 Axes>"
      ]
     },
     "metadata": {
      "needs_background": "light"
     },
     "output_type": "display_data"
    },
    {
     "name": "stdout",
     "output_type": "stream",
     "text": [
      "numpy array size (224, 224, 3)\n",
      "image batch size (1, 224, 224, 3)\n",
      "[[('n07753592', 'banana', 0.92170644), ('n07716906', 'spaghetti_squash', 0.023380999), ('n07717556', 'butternut_squash', 0.01665978)]]\n"
     ]
    },
    {
     "data": {
      "image/png": "[encoded data removed]",
      "text/plain": [
       "<Figure size 432x288 with 1 Axes>"
      ]
     },
     "metadata": {
      "needs_background": "light"
     },
     "output_type": "display_data"
    }
   ],
   "source": [
    "import PIL\n",
    "from keras.preprocessing.image import load_img\n",
    "from keras.preprocessing.image import img_to_array # 배열로 만듬\n",
    "from keras.applications.imagenet_utils import decode_predictions\n",
    "import numpy as np\n",
    "from keras.applications.resnet50 import ResNet50\n",
    "from keras.applications import resnet50\n",
    "filename = 'banana.jpg'\n",
    "original = load_img(filename, target_size = (224, 224)) # 사이즈 fix\n",
    "print('PIL image size', original.size)\n",
    "plt.imshow(original)\n",
    "plt.show()\n",
    "\n",
    "numpy_image = img_to_array(original)\n",
    "plt.imshow(np.uint8(numpy_image))\n",
    "print('numpy array size', numpy_image.shape)\n",
    "# 차원확대하는 이유 : 여러장 처리(전제조건), 1장이니깐 3차원을 4차원으로 확장(여러장인척)\n",
    "image_batch = np.expand_dims(numpy_image, axis = 0)\n",
    "print('image batch size', image_batch.shape)\n",
    "processed_image = resnet50.preprocess_input(image_batch.copy()) # 왜 copy하는가\n",
    "# dense을 이용해서 모델을 생성\n",
    "# 라벨 => 확률\n",
    "resnet_model = resnet50.ResNet50(weights = 'imagenet') # weights = 'imagenet'없으면 훈련이 안된 가중치로 초기화\n",
    "# softmax 확률 (상위 3개로 예측)\n",
    "predictions = resnet_model.predict(processed_image)\n",
    "label = decode_predictions(predictions, top=3)\n",
    "print(label)\n"
   ]
  },
  {
   "cell_type": "code",
   "execution_count": null,
   "metadata": {},
   "outputs": [],
   "source": [
    "# tf.keras\n",
    "# fine-tunning ; FFNN부분만 학습"
   ]
  },
  {
   "cell_type": "code",
   "execution_count": 1,
   "metadata": {
    "collapsed": true
   },
   "outputs": [
    {
     "name": "stderr",
     "output_type": "stream",
     "text": [
      "C:\\Users\\ICT01_05\\Anaconda3\\envs\\tf_test\\lib\\site-packages\\tensorflow\\python\\framework\\dtypes.py:516: FutureWarning: Passing (type, 1) or '1type' as a synonym of type is deprecated; in a future version of numpy, it will be understood as (type, (1,)) / '(1,)type'.\n",
      "  _np_qint8 = np.dtype([(\"qint8\", np.int8, 1)])\n",
      "C:\\Users\\ICT01_05\\Anaconda3\\envs\\tf_test\\lib\\site-packages\\tensorflow\\python\\framework\\dtypes.py:517: FutureWarning: Passing (type, 1) or '1type' as a synonym of type is deprecated; in a future version of numpy, it will be understood as (type, (1,)) / '(1,)type'.\n",
      "  _np_quint8 = np.dtype([(\"quint8\", np.uint8, 1)])\n",
      "C:\\Users\\ICT01_05\\Anaconda3\\envs\\tf_test\\lib\\site-packages\\tensorflow\\python\\framework\\dtypes.py:518: FutureWarning: Passing (type, 1) or '1type' as a synonym of type is deprecated; in a future version of numpy, it will be understood as (type, (1,)) / '(1,)type'.\n",
      "  _np_qint16 = np.dtype([(\"qint16\", np.int16, 1)])\n",
      "C:\\Users\\ICT01_05\\Anaconda3\\envs\\tf_test\\lib\\site-packages\\tensorflow\\python\\framework\\dtypes.py:519: FutureWarning: Passing (type, 1) or '1type' as a synonym of type is deprecated; in a future version of numpy, it will be understood as (type, (1,)) / '(1,)type'.\n",
      "  _np_quint16 = np.dtype([(\"quint16\", np.uint16, 1)])\n",
      "C:\\Users\\ICT01_05\\Anaconda3\\envs\\tf_test\\lib\\site-packages\\tensorflow\\python\\framework\\dtypes.py:520: FutureWarning: Passing (type, 1) or '1type' as a synonym of type is deprecated; in a future version of numpy, it will be understood as (type, (1,)) / '(1,)type'.\n",
      "  _np_qint32 = np.dtype([(\"qint32\", np.int32, 1)])\n",
      "C:\\Users\\ICT01_05\\Anaconda3\\envs\\tf_test\\lib\\site-packages\\tensorflow\\python\\framework\\dtypes.py:525: FutureWarning: Passing (type, 1) or '1type' as a synonym of type is deprecated; in a future version of numpy, it will be understood as (type, (1,)) / '(1,)type'.\n",
      "  np_resource = np.dtype([(\"resource\", np.ubyte, 1)])\n",
      "C:\\Users\\ICT01_05\\Anaconda3\\envs\\tf_test\\lib\\site-packages\\tensorboard\\compat\\tensorflow_stub\\dtypes.py:541: FutureWarning: Passing (type, 1) or '1type' as a synonym of type is deprecated; in a future version of numpy, it will be understood as (type, (1,)) / '(1,)type'.\n",
      "  _np_qint8 = np.dtype([(\"qint8\", np.int8, 1)])\n",
      "C:\\Users\\ICT01_05\\Anaconda3\\envs\\tf_test\\lib\\site-packages\\tensorboard\\compat\\tensorflow_stub\\dtypes.py:542: FutureWarning: Passing (type, 1) or '1type' as a synonym of type is deprecated; in a future version of numpy, it will be understood as (type, (1,)) / '(1,)type'.\n",
      "  _np_quint8 = np.dtype([(\"quint8\", np.uint8, 1)])\n",
      "C:\\Users\\ICT01_05\\Anaconda3\\envs\\tf_test\\lib\\site-packages\\tensorboard\\compat\\tensorflow_stub\\dtypes.py:543: FutureWarning: Passing (type, 1) or '1type' as a synonym of type is deprecated; in a future version of numpy, it will be understood as (type, (1,)) / '(1,)type'.\n",
      "  _np_qint16 = np.dtype([(\"qint16\", np.int16, 1)])\n",
      "C:\\Users\\ICT01_05\\Anaconda3\\envs\\tf_test\\lib\\site-packages\\tensorboard\\compat\\tensorflow_stub\\dtypes.py:544: FutureWarning: Passing (type, 1) or '1type' as a synonym of type is deprecated; in a future version of numpy, it will be understood as (type, (1,)) / '(1,)type'.\n",
      "  _np_quint16 = np.dtype([(\"quint16\", np.uint16, 1)])\n",
      "C:\\Users\\ICT01_05\\Anaconda3\\envs\\tf_test\\lib\\site-packages\\tensorboard\\compat\\tensorflow_stub\\dtypes.py:545: FutureWarning: Passing (type, 1) or '1type' as a synonym of type is deprecated; in a future version of numpy, it will be understood as (type, (1,)) / '(1,)type'.\n",
      "  _np_qint32 = np.dtype([(\"qint32\", np.int32, 1)])\n",
      "C:\\Users\\ICT01_05\\Anaconda3\\envs\\tf_test\\lib\\site-packages\\tensorboard\\compat\\tensorflow_stub\\dtypes.py:550: FutureWarning: Passing (type, 1) or '1type' as a synonym of type is deprecated; in a future version of numpy, it will be understood as (type, (1,)) / '(1,)type'.\n",
      "  np_resource = np.dtype([(\"resource\", np.ubyte, 1)])\n",
      "Using TensorFlow backend.\n"
     ]
    }
   ],
   "source": [
    "from numpy.random import randn\n",
    "import pathlib\n",
    "import random\n",
    "import matplotlib.pyplot as plt\n",
    "import tensorflow as tf\n",
    "import numpy as np\n",
    "from matplotlib.image import imread\n",
    "from keras.preprocessing import image\n",
    "# tf.enable_eager_execution()\n",
    "AUTOTUNE = tf.data.experimental.AUTOTUNE\n",
    "data_dir = \"C:\\\\Users\\\\ICT01_05\\\\Desktop\\\\전달\\\\flowers\\flower_photos\"\n",
    "data_dir = pathlib.Path(data_dir)\n",
    "label_names={'daisy' : 0, 'dandelion' : 1, 'roses' : 2, 'sunflowers' : 3, 'tulips' : 4}\n",
    "label_key = ['daisy', 'dandelion', 'roses', 'sunflowers', 'tulips']"
   ]
  },
  {
   "cell_type": "code",
   "execution_count": 43,
   "metadata": {},
   "outputs": [],
   "source": [
    "from numpy.random import randn\n",
    "import pathlib\n",
    "import random\n",
    "import matplotlib.pyplot as plt\n",
    "import tensorflow as tf\n",
    "import numpy as np\n",
    "from matplotlib.image import imread\n",
    "from keras.preprocessing import image\n",
    "#tf.enable_eager_execution()\n",
    "AUTOTUNE = tf.data.experimental.AUTOTUNE\n",
    "data_dir = \"C:/Users/ICT01_05/Desktop/전달/flowers/flower_photos\"\n",
    "data_dir = pathlib.Path(data_dir)\n",
    "label_names={'daisy':0,'dandelion':1,'roses':2,'sunflowers':3,'tulips':4}\n",
    "label_key = ['daisy','dandelion','rose','sunflowers','tulips']"
   ]
  },
  {
   "cell_type": "code",
   "execution_count": 44,
   "metadata": {},
   "outputs": [],
   "source": [
    "all_images = list(data_dir.glob('*/*'))\n",
    "all_images = [str(path) for path in all_images]\n",
    "random.shuffle(all_images)\n",
    "all_labels = [label_names[pathlib.Path(path).parent.name] for path in all_images]\n",
    "data_size = len(all_images)\n",
    "train_test_split=(int)(data_size*0.2)\n",
    "x_train = all_images[train_test_split:]\n",
    "x_test = all_images[:train_test_split]\n",
    "y_train = all_labels[train_test_split:]\n",
    "y_test = all_labels[:train_test_split]\n",
    "IMG_SIZE = 160\n",
    "BATCH_SIZE = 32"
   ]
  },
  {
   "cell_type": "code",
   "execution_count": 45,
   "metadata": {},
   "outputs": [],
   "source": [
    "def _parse_data(x,y) :\n",
    "    image = tf.read_file(x) # 파일에는 헤더파일(압축방법)\n",
    "    image = tf.image.decode_jpeg(image, channels = 3) # color\n",
    "    image = tf.cast(image, tf.float32) # 데이터를 나누기 위해서\n",
    "    image = (image/127.5)-1   #  -1 ~ 1사이의 사이즈로 나타내기 위해 2로 나누고 1을 빼준다.\n",
    "    # 이미지 사이즈 통일\n",
    "    image = tf.image.resize(image, (IMG_SIZE, IMG_SIZE))\n",
    "    return image, y\n",
    "def _input_fn(x,y) :\n",
    "    # 기본단위 요소로 분해\n",
    "    ds = tf.data.Dataset.from_tensor_slices((x,y)) # dataset을 생성\n",
    "    ds = ds.map(_parse_data # 데이터마다 함수를 적용\n",
    "    ds = ds.shuffle(buffer_size = data_size) # 충분한 공간확보\n",
    "                # buffer : 거쳐가는 기억공간\n",
    "    ds = ds.repeat() # 데이터가 부족하면 처음부터 다시 시작\n",
    "    ds = ds.batch(BATCH_SIZE) # minibatch사이즈\n",
    "    ds = ds.prefetch(buffer_size = AUTOTUNE)\n",
    "    return ds\n",
    "train_ds = _input_fn(x_train, y_train)\n",
    "validation_ds = _input_fn(x_test, y_test)"
   ]
  },
  {
   "cell_type": "code",
   "execution_count": 46,
   "metadata": {},
   "outputs": [],
   "source": [
    "IMG_SHAPE = (IMG_SIZE, IMG_SIZE, 3)\n",
    "# include_top = False 인 경우 input_shape = IMG_SHAPE을 지정\n",
    "# convoultion에 대한 가중치학습이 無\n",
    "VGG16_MODEL  = tf.keras.applications.VGG16(input_shape = IMG_SHAPE, include_top = False, weights = 'imagenet')"
   ]
  },
  {
   "cell_type": "code",
   "execution_count": 47,
   "metadata": {},
   "outputs": [],
   "source": [
    "VGG16_MODEL.trainable = False\n",
    "# flatten(가중치 필요)이 없다. GlobalAveragePooling2D flatten대신\n",
    "global_average_layer = tf.keras.layers.GlobalAveragePooling2D()\n",
    "# FFNN의 가중치는 학습\n",
    "prediction_layer = tf.keras.layers.Dense(len(label_names), activation='softmax')"
   ]
  },
  {
   "cell_type": "code",
   "execution_count": 48,
   "metadata": {},
   "outputs": [],
   "source": [
    "model = tf.keras.Sequential([ # modle (vgg16 가중치 + FFNN 가중치 학습)\n",
    "    VGG16_MODEL,\n",
    "    global_average_layer,\n",
    "    prediction_layer\n",
    "])"
   ]
  },
  {
   "cell_type": "code",
   "execution_count": 49,
   "metadata": {},
   "outputs": [],
   "source": [
    "model.compile(optimizer=tf.train.AdamOptimizer(),\n",
    "             loss=tf.keras.losses.sparse_categorical_crossentropy,\n",
    "             metrics=[\"accuracy\"])"
   ]
  },
  {
   "cell_type": "code",
   "execution_count": 51,
   "metadata": {},
   "outputs": [
    {
     "name": "stdout",
     "output_type": "stream",
     "text": [
      "Epoch 1/100\n",
      "2/2 [==============================] - 9s 4s/step - loss: 1.6554 - acc: 0.1719\n",
      "Epoch 2/100\n",
      "2/2 [==============================] - 0s 184ms/step - loss: 1.6974 - acc: 0.2031\n",
      "Epoch 3/100\n",
      "2/2 [==============================] - 0s 183ms/step - loss: 1.6327 - acc: 0.2344\n",
      "Epoch 4/100\n",
      "2/2 [==============================] - 0s 184ms/step - loss: 1.5708 - acc: 0.3438\n",
      "Epoch 5/100\n",
      "2/2 [==============================] - 0s 183ms/step - loss: 1.5806 - acc: 0.3281\n",
      "Epoch 6/100\n",
      "2/2 [==============================] - 0s 184ms/step - loss: 1.4767 - acc: 0.4062\n",
      "Epoch 7/100\n",
      "2/2 [==============================] - 0s 183ms/step - loss: 1.5611 - acc: 0.2969\n",
      "Epoch 8/100\n",
      "2/2 [==============================] - 0s 182ms/step - loss: 1.4721 - acc: 0.4062\n",
      "Epoch 9/100\n",
      "2/2 [==============================] - 0s 184ms/step - loss: 1.5012 - acc: 0.3750\n",
      "Epoch 10/100\n",
      "2/2 [==============================] - 0s 183ms/step - loss: 1.4392 - acc: 0.4531\n",
      "Epoch 11/100\n",
      "2/2 [==============================] - 0s 179ms/step - loss: 1.4483 - acc: 0.5000\n",
      "Epoch 12/100\n",
      "2/2 [==============================] - 0s 184ms/step - loss: 1.4889 - acc: 0.4375\n",
      "Epoch 13/100\n",
      "2/2 [==============================] - 0s 182ms/step - loss: 1.4408 - acc: 0.4531\n",
      "Epoch 14/100\n",
      "2/2 [==============================] - 0s 184ms/step - loss: 1.4222 - acc: 0.4375\n",
      "Epoch 15/100\n",
      "2/2 [==============================] - 0s 190ms/step - loss: 1.4405 - acc: 0.4688\n",
      "Epoch 16/100\n",
      "2/2 [==============================] - 0s 183ms/step - loss: 1.3898 - acc: 0.5469\n",
      "Epoch 17/100\n",
      "2/2 [==============================] - 0s 183ms/step - loss: 1.3741 - acc: 0.6406\n",
      "Epoch 18/100\n",
      "2/2 [==============================] - 0s 183ms/step - loss: 1.4009 - acc: 0.5625\n",
      "Epoch 19/100\n",
      "2/2 [==============================] - 0s 184ms/step - loss: 1.3625 - acc: 0.5625\n",
      "Epoch 20/100\n",
      "2/2 [==============================] - 0s 184ms/step - loss: 1.4557 - acc: 0.4531\n",
      "Epoch 21/100\n",
      "2/2 [==============================] - 0s 184ms/step - loss: 1.3601 - acc: 0.4219\n",
      "Epoch 22/100\n",
      "2/2 [==============================] - 0s 176ms/step - loss: 1.3330 - acc: 0.5781\n",
      "Epoch 23/100\n",
      "2/2 [==============================] - 0s 184ms/step - loss: 1.3318 - acc: 0.5938\n",
      "Epoch 24/100\n",
      "2/2 [==============================] - 0s 183ms/step - loss: 1.3861 - acc: 0.5625\n",
      "Epoch 25/100\n",
      "2/2 [==============================] - 0s 183ms/step - loss: 1.3330 - acc: 0.5938\n",
      "Epoch 26/100\n",
      "2/2 [==============================] - 0s 183ms/step - loss: 1.2692 - acc: 0.6406\n",
      "Epoch 27/100\n",
      "2/2 [==============================] - 0s 184ms/step - loss: 1.3751 - acc: 0.5469\n",
      "Epoch 28/100\n",
      "2/2 [==============================] - 0s 184ms/step - loss: 1.2960 - acc: 0.6719\n",
      "Epoch 29/100\n",
      "2/2 [==============================] - 0s 176ms/step - loss: 1.2721 - acc: 0.6094\n",
      "Epoch 30/100\n",
      "2/2 [==============================] - 0s 176ms/step - loss: 1.2796 - acc: 0.6094\n",
      "Epoch 31/100\n",
      "2/2 [==============================] - 0s 183ms/step - loss: 1.2409 - acc: 0.6719\n",
      "Epoch 32/100\n",
      "2/2 [==============================] - 0s 182ms/step - loss: 1.2627 - acc: 0.5781\n",
      "Epoch 33/100\n",
      "2/2 [==============================] - 0s 183ms/step - loss: 1.2849 - acc: 0.5781\n",
      "Epoch 34/100\n",
      "2/2 [==============================] - 0s 180ms/step - loss: 1.1880 - acc: 0.7500\n",
      "Epoch 35/100\n",
      "2/2 [==============================] - 0s 183ms/step - loss: 1.2318 - acc: 0.7188\n",
      "Epoch 36/100\n",
      "2/2 [==============================] - 0s 184ms/step - loss: 1.1616 - acc: 0.7188\n",
      "Epoch 37/100\n",
      "2/2 [==============================] - 0s 184ms/step - loss: 1.1932 - acc: 0.7031\n",
      "Epoch 38/100\n",
      "2/2 [==============================] - 0s 183ms/step - loss: 1.1208 - acc: 0.7656\n",
      "Epoch 39/100\n",
      "2/2 [==============================] - 0s 183ms/step - loss: 1.1564 - acc: 0.7031\n",
      "Epoch 40/100\n",
      "2/2 [==============================] - 0s 184ms/step - loss: 1.2931 - acc: 0.5312\n",
      "Epoch 41/100\n",
      "2/2 [==============================] - 0s 183ms/step - loss: 1.1799 - acc: 0.6406\n",
      "Epoch 42/100\n",
      "2/2 [==============================] - 0s 184ms/step - loss: 1.2293 - acc: 0.6250\n",
      "Epoch 43/100\n",
      "2/2 [==============================] - 0s 183ms/step - loss: 1.1187 - acc: 0.6562\n",
      "Epoch 44/100\n",
      "2/2 [==============================] - 0s 184ms/step - loss: 1.2018 - acc: 0.5938\n",
      "Epoch 45/100\n",
      "2/2 [==============================] - 0s 177ms/step - loss: 1.1394 - acc: 0.6875\n",
      "Epoch 46/100\n",
      "2/2 [==============================] - 0s 176ms/step - loss: 1.1059 - acc: 0.7188\n",
      "Epoch 47/100\n",
      "2/2 [==============================] - 0s 183ms/step - loss: 1.1148 - acc: 0.6875\n",
      "Epoch 48/100\n",
      "2/2 [==============================] - 0s 183ms/step - loss: 1.0853 - acc: 0.7031\n",
      "Epoch 49/100\n",
      "2/2 [==============================] - 0s 184ms/step - loss: 1.1002 - acc: 0.7188\n",
      "Epoch 50/100\n",
      "2/2 [==============================] - 0s 184ms/step - loss: 1.1228 - acc: 0.6562\n",
      "Epoch 51/100\n",
      "2/2 [==============================] - 0s 190ms/step - loss: 1.0903 - acc: 0.6875\n",
      "Epoch 52/100\n",
      "2/2 [==============================] - 0s 184ms/step - loss: 1.1938 - acc: 0.6094\n",
      "Epoch 53/100\n",
      "2/2 [==============================] - 0s 183ms/step - loss: 1.0891 - acc: 0.6562\n",
      "Epoch 54/100\n",
      "2/2 [==============================] - 0s 183ms/step - loss: 1.0439 - acc: 0.6875\n",
      "Epoch 55/100\n",
      "2/2 [==============================] - 0s 184ms/step - loss: 1.1701 - acc: 0.6094\n",
      "Epoch 56/100\n",
      "2/2 [==============================] - 0s 191ms/step - loss: 1.1173 - acc: 0.6562\n",
      "Epoch 57/100\n",
      "2/2 [==============================] - 0s 184ms/step - loss: 1.0193 - acc: 0.7500\n",
      "Epoch 58/100\n",
      "2/2 [==============================] - 0s 183ms/step - loss: 1.0721 - acc: 0.6875\n",
      "Epoch 59/100\n",
      "2/2 [==============================] - 0s 182ms/step - loss: 0.9777 - acc: 0.8125\n",
      "Epoch 60/100\n",
      "2/2 [==============================] - 0s 178ms/step - loss: 1.0569 - acc: 0.7031\n",
      "Epoch 61/100\n",
      "2/2 [==============================] - 0s 191ms/step - loss: 1.0243 - acc: 0.6875\n",
      "Epoch 62/100\n",
      "2/2 [==============================] - 0s 183ms/step - loss: 1.1312 - acc: 0.6562\n",
      "Epoch 63/100\n",
      "2/2 [==============================] - 0s 183ms/step - loss: 1.0003 - acc: 0.7500\n",
      "Epoch 64/100\n",
      "2/2 [==============================] - 0s 183ms/step - loss: 1.0465 - acc: 0.6875\n",
      "Epoch 65/100\n",
      "2/2 [==============================] - 0s 184ms/step - loss: 1.1106 - acc: 0.6094\n",
      "Epoch 66/100\n",
      "2/2 [==============================] - 0s 191ms/step - loss: 1.0045 - acc: 0.8125\n",
      "Epoch 67/100\n",
      "2/2 [==============================] - 0s 184ms/step - loss: 1.1027 - acc: 0.6562\n",
      "Epoch 68/100\n",
      "2/2 [==============================] - 0s 183ms/step - loss: 0.9689 - acc: 0.7969\n",
      "Epoch 69/100\n",
      "2/2 [==============================] - 0s 184ms/step - loss: 1.0367 - acc: 0.7500\n",
      "Epoch 70/100\n",
      "2/2 [==============================] - 0s 191ms/step - loss: 1.0824 - acc: 0.6250\n",
      "Epoch 71/100\n",
      "2/2 [==============================] - 0s 184ms/step - loss: 1.0968 - acc: 0.6406\n",
      "Epoch 72/100\n",
      "2/2 [==============================] - 0s 183ms/step - loss: 0.9991 - acc: 0.7812\n",
      "Epoch 73/100\n",
      "2/2 [==============================] - 0s 184ms/step - loss: 1.0843 - acc: 0.6875\n",
      "Epoch 74/100\n",
      "2/2 [==============================] - 0s 176ms/step - loss: 1.1605 - acc: 0.5312\n",
      "Epoch 75/100\n",
      "2/2 [==============================] - 0s 183ms/step - loss: 0.9136 - acc: 0.7344\n",
      "Epoch 76/100\n",
      "2/2 [==============================] - 0s 184ms/step - loss: 0.9374 - acc: 0.7812\n",
      "Epoch 77/100\n",
      "2/2 [==============================] - 0s 184ms/step - loss: 0.9065 - acc: 0.7188\n",
      "Epoch 78/100\n",
      "2/2 [==============================] - 0s 183ms/step - loss: 0.9658 - acc: 0.7344\n",
      "Epoch 79/100\n",
      "2/2 [==============================] - 0s 183ms/step - loss: 0.9737 - acc: 0.6719\n",
      "Epoch 80/100\n",
      "2/2 [==============================] - 0s 183ms/step - loss: 1.0672 - acc: 0.6406\n",
      "Epoch 81/100\n",
      "2/2 [==============================] - 0s 183ms/step - loss: 0.9782 - acc: 0.6875\n",
      "Epoch 82/100\n",
      "2/2 [==============================] - 0s 182ms/step - loss: 0.9489 - acc: 0.7188\n",
      "Epoch 83/100\n",
      "2/2 [==============================] - 0s 184ms/step - loss: 0.9198 - acc: 0.6719\n",
      "Epoch 84/100\n",
      "2/2 [==============================] - 0s 183ms/step - loss: 1.0757 - acc: 0.7188\n",
      "Epoch 85/100\n",
      "2/2 [==============================] - 0s 183ms/step - loss: 1.0008 - acc: 0.6875\n",
      "Epoch 86/100\n",
      "2/2 [==============================] - 0s 183ms/step - loss: 0.9980 - acc: 0.7344\n",
      "Epoch 87/100\n",
      "2/2 [==============================] - 0s 184ms/step - loss: 0.9454 - acc: 0.7031\n",
      "Epoch 88/100\n",
      "2/2 [==============================] - 0s 190ms/step - loss: 0.9597 - acc: 0.7500\n",
      "Epoch 89/100\n",
      "2/2 [==============================] - 0s 184ms/step - loss: 0.9182 - acc: 0.7188\n",
      "Epoch 90/100\n",
      "2/2 [==============================] - 0s 183ms/step - loss: 0.9287 - acc: 0.6719\n",
      "Epoch 91/100\n",
      "2/2 [==============================] - 0s 179ms/step - loss: 1.0726 - acc: 0.6875\n",
      "Epoch 92/100\n",
      "2/2 [==============================] - 0s 184ms/step - loss: 1.0175 - acc: 0.6562\n",
      "Epoch 93/100\n",
      "2/2 [==============================] - 0s 191ms/step - loss: 0.9219 - acc: 0.7344\n",
      "Epoch 94/100\n",
      "2/2 [==============================] - 0s 183ms/step - loss: 0.8110 - acc: 0.7812\n",
      "Epoch 95/100\n",
      "2/2 [==============================] - 0s 183ms/step - loss: 0.9952 - acc: 0.6562\n",
      "Epoch 96/100\n",
      "2/2 [==============================] - 0s 184ms/step - loss: 0.9263 - acc: 0.7188\n",
      "Epoch 97/100\n",
      "2/2 [==============================] - 0s 184ms/step - loss: 0.8823 - acc: 0.7500\n",
      "Epoch 98/100\n",
      "2/2 [==============================] - 0s 183ms/step - loss: 0.9548 - acc: 0.7656\n",
      "Epoch 99/100\n",
      "2/2 [==============================] - 0s 184ms/step - loss: 0.8898 - acc: 0.7188\n",
      "Epoch 100/100\n",
      "2/2 [==============================] - 0s 183ms/step - loss: 0.9543 - acc: 0.7656\n"
     ]
    }
   ],
   "source": [
    "history = model.fit(train_ds, epochs = 100, steps_per_epoch = 2, validation_steps=2)"
   ]
  },
  {
   "cell_type": "code",
   "execution_count": 57,
   "metadata": {},
   "outputs": [
    {
     "data": {
      "image/png": "[encoded data removed]",
      "text/plain": [
       "<Figure size 432x288 with 1 Axes>"
      ]
     },
     "metadata": {
      "needs_background": "light"
     },
     "output_type": "display_data"
    }
   ],
   "source": [
    "plt.plot(history.history['acc'])\n",
    "# plt.plot(history.history['val_acc'])\n",
    "plt.title('model accuracy')\n",
    "plt.ylabel('accuracy')\n",
    "plt.xlabel('epoch')\n",
    "plt.legend(['train', 'test'], loc='upper left')\n",
    "plt.show()"
   ]
  }
 ],
 "metadata": {
  "kernelspec": {
   "display_name": "Python 3",
   "language": "python",
   "name": "python3"
  },
  "language_info": {
   "codemirror_mode": {
    "name": "ipython",
    "version": 3
   },
   "file_extension": ".py",
   "mimetype": "text/x-python",
   "name": "python",
   "nbconvert_exporter": "python",
   "pygments_lexer": "ipython3",
   "version": "3.7.6"
  }
 },
 "nbformat": 4,
 "nbformat_minor": 4
}
