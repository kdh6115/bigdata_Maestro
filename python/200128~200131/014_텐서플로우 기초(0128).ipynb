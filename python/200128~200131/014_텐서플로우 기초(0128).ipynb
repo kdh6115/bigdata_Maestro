{
 "cells": [
  {
   "cell_type": "code",
   "execution_count": 115,
   "metadata": {},
   "outputs": [
    {
     "name": "stdout",
     "output_type": "stream",
     "text": [
      "1.14.0\n"
     ]
    }
   ],
   "source": [
    "import tensorflow as tf\n",
    "print(tf.__version__)"
   ]
  },
  {
   "cell_type": "markdown",
   "metadata": {},
   "source": [
    "# 데이터타입"
   ]
  },
  {
   "cell_type": "code",
   "execution_count": 3,
   "metadata": {},
   "outputs": [
    {
     "name": "stdout",
     "output_type": "stream",
     "text": [
      "Tensor(\"Const_1:0\", shape=(), dtype=string)\n",
      "b'Hello, TensorFlow!'\n"
     ]
    }
   ],
   "source": [
    "hello = tf.constant('Hello, TensorFlow!')\n",
    "# tensorflow - constant, variables, placeholder\n",
    "sess = tf.Session()\n",
    "print(hello) # tesorflow의 데이터는 직접확인 불가\n",
    "print(sess.run(hello)) # numpy 데이터로 변경"
   ]
  },
  {
   "cell_type": "code",
   "execution_count": 7,
   "metadata": {},
   "outputs": [
    {
     "name": "stdout",
     "output_type": "stream",
     "text": [
      "<tf.Variable 'y_2:0' shape=() dtype=int32_ref>\n"
     ]
    }
   ],
   "source": [
    "x = tf.constant(35, name = 'x') # 상수선언\n",
    "# 변수에 이름을 한번더 주는 이유\n",
    "# 모델의 그래프 구조 확인\n",
    "# 모델을 그대로 저장(가중치)할 때 메모리 위치를 확인하기 위해서\n",
    "# 모델에 저장한 걸 로딩할때 메모리 위치가 저장했던 위치가 다를 수 있다. 그래서 name = 'x'에 저장된 걸로 확인\n",
    "\n",
    "y = tf.Variable(x+5, name = 'y') # 변수(Variable)가 있는 경우 - 반드시 초기화 필요\n",
    "\n",
    "print(y)"
   ]
  },
  {
   "cell_type": "code",
   "execution_count": 5,
   "metadata": {},
   "outputs": [
    {
     "name": "stdout",
     "output_type": "stream",
     "text": [
      "40\n"
     ]
    }
   ],
   "source": [
    "model = tf.global_variables_initializer() # 변수초기화\n",
    "# 여기까지 모델 만듬\n",
    "# 그 다음은 학습 시키는 과정\n",
    "with tf.Session() as session :  # with안에서 초기화하면 with 끝나면 자동으로 사라짐(session은 끝나면 사라짐)\n",
    "    session.run(model)\n",
    "    print(session.run(y))"
   ]
  },
  {
   "cell_type": "markdown",
   "metadata": {},
   "source": [
    "pandas에서 데이터 초기화(list, dict)\n",
    "tesorflow 도 list에서 초기화"
   ]
  },
  {
   "cell_type": "markdown",
   "metadata": {},
   "source": [
    "# 요소끼리 계산(배열 연산)"
   ]
  },
  {
   "cell_type": "code",
   "execution_count": 9,
   "metadata": {},
   "outputs": [
    {
     "name": "stdout",
     "output_type": "stream",
     "text": [
      "[5 7 9]\n"
     ]
    }
   ],
   "source": [
    "a = tf.constant([1,2,3], name = 'a') # GPU공간\n",
    "b = tf.constant([4,5,6], name = 'b')\n",
    "add_op = a+b\n",
    "\n",
    "with tf.Session() as session:\n",
    "    print(session.run(add_op))"
   ]
  },
  {
   "cell_type": "markdown",
   "metadata": {},
   "source": [
    "# 데이터 주입"
   ]
  },
  {
   "cell_type": "code",
   "execution_count": 19,
   "metadata": {},
   "outputs": [],
   "source": [
    "# 자료구조 : Graph로 구성 - 골격(구조) 형성\n",
    "a = tf.placeholder(tf.int16) # 데이터 없이 공간만 확보\n",
    "b = tf.placeholder(tf.int16)\n",
    "add = tf.add(a,b)\n",
    "mul = tf.multiply(a,b)\n",
    "total = tf.multiply(add, mul)"
   ]
  },
  {
   "cell_type": "code",
   "execution_count": 20,
   "metadata": {},
   "outputs": [
    {
     "name": "stdout",
     "output_type": "stream",
     "text": [
      "feed 변수곱 : 30\n"
     ]
    }
   ],
   "source": [
    "with tf.Session() as sess:\n",
    "#     print(\"feed 변수합 : %i\" %sess.run(add, feed_dict={a:2, b:3})) # 데이터 주입 호출\n",
    "#     print(\"feed 변수곱 : %i\" %sess.run(mul, feed_dict={a:2, b:3}))\n",
    "    print(\"feed 변수곱 : %i\" %sess.run(total, feed_dict={a:2, b:3})) # add, mul을 없애도 출력, 위에서 골격을 만들었기 때문"
   ]
  },
  {
   "cell_type": "markdown",
   "metadata": {},
   "source": [
    "# 행렬의 곱"
   ]
  },
  {
   "cell_type": "code",
   "execution_count": 21,
   "metadata": {},
   "outputs": [
    {
     "name": "stdout",
     "output_type": "stream",
     "text": [
      "[[12.]]\n"
     ]
    }
   ],
   "source": [
    "matrix1 = tf.constant([[3., 3.]]) # constant하면 값을 바꿀수 없다. 1x2\n",
    "matrix2 = tf.constant([[2.], [2.]]) # 2x1\n",
    "product = tf.matmul(matrix1, matrix2) # matrix multiply 1x1\n",
    "# 여기까지는 결과가 안 들어있음\n",
    "with tf.Session() as sess: # 실행부\n",
    "    result = sess.run(product)\n",
    "    print(result)"
   ]
  },
  {
   "cell_type": "markdown",
   "metadata": {},
   "source": [
    "# 분포 초기화"
   ]
  },
  {
   "cell_type": "code",
   "execution_count": 38,
   "metadata": {},
   "outputs": [],
   "source": [
    "zeros = tf.zeros([2,2])\n",
    "ones = tf.ones([6])\n",
    "uniform = tf.random_uniform([3,3,3], minval = 0.0, maxval = 10) # 균등분포\n",
    "normal = tf.random_normal([3,3,3], mean = 0.0, stddev = 2.0)    # 정규분포\n",
    "trunc = tf.truncated_normal([2,2], mean = 5.0, stddev=1.0)      # 표준편차 2배수 내의 것으로 초기화\n",
    "random_var = tf.Variable(tf.truncated_normal([2,2]))"
   ]
  },
  {
   "cell_type": "code",
   "execution_count": 39,
   "metadata": {},
   "outputs": [
    {
     "name": "stdout",
     "output_type": "stream",
     "text": [
      "[[4.2191577 5.721522 ]\n",
      " [5.625405  6.3582935]]\n",
      "변수초기화 [[ 0.9130345   0.84750086]\n",
      " [ 0.09099925 -0.17798285]]\n"
     ]
    }
   ],
   "source": [
    "init = tf.global_variables_initializer()\n",
    "sess = tf.Session()\n",
    "sess.run(init)\n",
    "\n",
    "print(sess.run(trunc))\n",
    "print(\"변수초기화\", sess.run(random_var))"
   ]
  },
  {
   "cell_type": "code",
   "execution_count": 42,
   "metadata": {},
   "outputs": [
    {
     "name": "stdout",
     "output_type": "stream",
     "text": [
      "<class 'tensorflow.python.framework.tensor_shape.TensorShape'>\n",
      "(6, 2)\n",
      "(2, 6)\n"
     ]
    }
   ],
   "source": [
    "import tensorflow as tf\n",
    "my_tensor = tf.constant(0, shape = [6,2]) # 6x2행렬 => 값을 바꿀수 없는 상수화\n",
    "my_static_shape = my_tensor.get_shape()\n",
    "print(type(my_static_shape)) # class\n",
    "print(my_static_shape)       # 내용은 확인 불가, run으로 확인\n",
    "\n",
    "my_tensor_transposed = tf.transpose(my_tensor)\n",
    "print(my_tensor_transposed.get_shape())"
   ]
  },
  {
   "cell_type": "markdown",
   "metadata": {},
   "source": [
    "# 대화형 세션"
   ]
  },
  {
   "cell_type": "code",
   "execution_count": 43,
   "metadata": {},
   "outputs": [
    {
     "name": "stdout",
     "output_type": "stream",
     "text": [
      "[0. 0.]\n"
     ]
    }
   ],
   "source": [
    "import tensorflow as tf\n",
    "tf.InteractiveSession() # 대화형 세션\n",
    "tf.zeros(2)\n",
    "a = tf.zeros(2)\n",
    "print(a.eval())         # run"
   ]
  },
  {
   "cell_type": "code",
   "execution_count": 44,
   "metadata": {},
   "outputs": [],
   "source": [
    "def showvalue(t):\n",
    "    sess = tf.InteractiveSession()\n",
    "    tf.global_variables_initializer().run() # chaining\n",
    "    print(t.eval())\n",
    "    sess.close()"
   ]
  },
  {
   "cell_type": "code",
   "execution_count": 46,
   "metadata": {},
   "outputs": [
    {
     "name": "stdout",
     "output_type": "stream",
     "text": [
      "[ 3.5 10.1]\n",
      "[-8  5 17]\n"
     ]
    }
   ],
   "source": [
    "c2, c3 = tf.constant([1.2, 5.6]), tf.constant([-4, -1, 7])\n",
    "v2, v3 = tf.constant([2.3, 4.5]), tf.Variable([-2, 3, 5])\n",
    "showvalue(tf.add_n([c2, v2]))\n",
    "showvalue(tf.add_n([c3, v3, v3])) # 여러개를 더할 수 있도록 add_n"
   ]
  },
  {
   "cell_type": "markdown",
   "metadata": {},
   "source": [
    "# 방정식 구하기\n",
    "# 2x + y + z = 1\n",
    "# 4x + 3y + 4z = 2\n",
    "# -4x + 2y + 2z = -6\n",
    "# A dot x = [1, 2, -6]  (행렬 나누기 => 역행렬)\n",
    "####### y\n",
    "####### z\n"
   ]
  },
  {
   "cell_type": "code",
   "execution_count": 55,
   "metadata": {},
   "outputs": [
    {
     "name": "stdout",
     "output_type": "stream",
     "text": [
      "[[ 2.  1.  1.]\n",
      " [ 4.  3.  4.]\n",
      " [-4.  2.  2.]]\n",
      "[[ 1.]\n",
      " [ 2.]\n",
      " [-6.]]\n"
     ]
    }
   ],
   "source": [
    "sess = tf.Session()\n",
    "x = tf.constant([2.0, 1.0, 1.0, 4, 3, 4, -4, 2, 2], shape = [3,3])\n",
    "print(sess.run(x))\n",
    "\n",
    "y = tf.constant([1.0,2,-6], shape = [3,1])\n",
    "print(sess.run(y))"
   ]
  },
  {
   "cell_type": "code",
   "execution_count": 56,
   "metadata": {},
   "outputs": [
    {
     "name": "stdout",
     "output_type": "stream",
     "text": [
      "계수: [[ 1.0000001]\n",
      " [-2.0000002]\n",
      " [ 1.0000001]]\n",
      "[[ 1.0000001]\n",
      " [-2.0000002]\n",
      " [ 1.0000001]]\n"
     ]
    }
   ],
   "source": [
    "z = tf.matrix_solve(x, y) # 앞에 행렬의 역행렬 구하고 뒤에 있는 행렬과 곱함\n",
    "result=sess.run(z)\n",
    "print(\"계수:\", result)\n",
    "print(sess.run(z))\n",
    "\n",
    "# 2*1 + (-2)  + 1"
   ]
  },
  {
   "cell_type": "code",
   "execution_count": 57,
   "metadata": {},
   "outputs": [
    {
     "name": "stdout",
     "output_type": "stream",
     "text": [
      "[1.0000001]\n",
      "[[ 1.0000001]\n",
      " [ 2.       ]\n",
      " [-6.000001 ]]\n"
     ]
    }
   ],
   "source": [
    "print(2.0 * result[0] + 1.0*result[1] + 1.0*result[2])\n",
    "print(sess.run(tf.matmul(x,z)))"
   ]
  },
  {
   "cell_type": "code",
   "execution_count": 58,
   "metadata": {},
   "outputs": [
    {
     "name": "stdout",
     "output_type": "stream",
     "text": [
      "해:  [[ 1.0000002]\n",
      " [-2.0000005]\n",
      " [ 1.0000002]]\n"
     ]
    }
   ],
   "source": [
    "x_1 = tf.matrix_inverse(x)\n",
    "z = tf.matmul(x_1, y)\n",
    "print(\"해: \", sess.run(z))"
   ]
  },
  {
   "cell_type": "code",
   "execution_count": null,
   "metadata": {},
   "outputs": [],
   "source": [
    "# 특이행렬분해(Singular Value Decomposition) (행열이 다를 때)"
   ]
  },
  {
   "cell_type": "code",
   "execution_count": 63,
   "metadata": {},
   "outputs": [
    {
     "name": "stdout",
     "output_type": "stream",
     "text": [
      "1: [9.508034   0.77286935]\n",
      "2 : [[-0.38631773 -0.92236584]\n",
      " [-0.92236584  0.38631773]]\n",
      "3 :  [[-0.42866713  0.8059641 ]\n",
      " [-0.56630695  0.1123824 ]\n",
      " [-0.70394677 -0.58119917]]\n"
     ]
    }
   ],
   "source": [
    "# PCA 할 때 - 고유값 분해 eigenvalue + eigenvector (정방행렬일때만 가능)\n",
    "a = tf.constant([1,2,3,4,5,6], shape=[2,3])\n",
    "a = tf.to_float(a)\n",
    "# 행과 열의 특징을 별도로 뽑음\n",
    "# 정방행렬\n",
    "# truncate \n",
    "s, u, v = tf.svd(a) # singular value, left singular value, right singular value    u(mxm)  s(1x2)  v(nxn)\n",
    "print(\"1:\",sess.run(s))\n",
    "print(\"2 :\", sess.run(u))\n",
    "print(\"3 : \",sess.run(v))\n"
   ]
  },
  {
   "cell_type": "markdown",
   "metadata": {},
   "source": [
    "# 대각행렬"
   ]
  },
  {
   "cell_type": "code",
   "execution_count": 64,
   "metadata": {
    "scrolled": false
   },
   "outputs": [
    {
     "name": "stdout",
     "output_type": "stream",
     "text": [
      "[[1 0 0 0]\n",
      " [0 2 0 0]\n",
      " [0 0 3 0]\n",
      " [0 0 0 4]]\n"
     ]
    }
   ],
   "source": [
    "diagonal = [1,2,3,4]\n",
    "dia = tf.diag(diagonal) # 대각행렬 - one-hot encoding\n",
    "print(sess.run(dia))"
   ]
  },
  {
   "cell_type": "code",
   "execution_count": 65,
   "metadata": {},
   "outputs": [
    {
     "name": "stdout",
     "output_type": "stream",
     "text": [
      "[1 2 3 4]\n",
      "10\n"
     ]
    }
   ],
   "source": [
    "print(sess.run(tf.diag_part(dia)))\n",
    "print(sess.run(tf.trace(dia))) # 대각선의 합계"
   ]
  },
  {
   "cell_type": "code",
   "execution_count": 67,
   "metadata": {},
   "outputs": [
    {
     "data": {
      "text/plain": [
       "array([[ 58,  64],\n",
       "       [139, 154]])"
      ]
     },
     "execution_count": 67,
     "metadata": {},
     "output_type": "execute_result"
    }
   ],
   "source": [
    "import numpy as np\n",
    "a = tf.constant([1, 2, 3, 4, 5, 6], shape=[2,3])\n",
    "b = tf.constant([7, 8, 9, 10, 11, 12], shape=[3,2])\n",
    "c = tf.matmul(a, b)\n",
    "sess.run(c)"
   ]
  },
  {
   "cell_type": "code",
   "execution_count": null,
   "metadata": {},
   "outputs": [],
   "source": [
    "1 2 3    7  8  \n",
    "4 5 6    9  10\n",
    "         11 12\n",
    "\n"
   ]
  },
  {
   "cell_type": "code",
   "execution_count": 68,
   "metadata": {},
   "outputs": [
    {
     "name": "stdout",
     "output_type": "stream",
     "text": [
      "[[[ 1  2  3]\n",
      "  [ 4  5  6]]\n",
      "\n",
      " [[ 7  8  9]\n",
      "  [10 11 12]]]\n",
      "[[[13 14]\n",
      "  [15 16]\n",
      "  [17 18]]\n",
      "\n",
      " [[19 20]\n",
      "  [21 22]\n",
      "  [23 24]]]\n"
     ]
    },
    {
     "data": {
      "text/plain": [
       "array([[[ 94, 100],\n",
       "        [229, 244]],\n",
       "\n",
       "       [[508, 532],\n",
       "        [697, 730]]])"
      ]
     },
     "execution_count": 68,
     "metadata": {},
     "output_type": "execute_result"
    }
   ],
   "source": [
    "# 행열 : 행과 열을 확인, 앞의 것은 개수 [2,3,3,4] => 3x4가 6개 \n",
    "a = tf.constant(np.arange(1, 13, dtype = np.int32),\n",
    "               shape=[2,2,3])  # shape의 첫 숫자 빼고 나머지로 행렬 곱 판단 (2x3 2개)# 행열을 중심하고 데이터 표현\n",
    "print(sess.run(a))\n",
    "b = tf.constant(np.arange(13, 25, dtype = np.int32),\n",
    "               shape = [2,3,2])  # 3x2 2개\n",
    "print(sess.run(b))\n",
    "c = tf.matmul(a,b)\n",
    "sess.run(c)"
   ]
  },
  {
   "cell_type": "code",
   "execution_count": 77,
   "metadata": {},
   "outputs": [
    {
     "name": "stdout",
     "output_type": "stream",
     "text": [
      "a :  [[[[ 1  2  3]\n",
      "   [ 4  5  6]]\n",
      "\n",
      "  [[ 7  8  9]\n",
      "   [10 11 12]]]\n",
      "\n",
      "\n",
      " [[[13 14 15]\n",
      "   [16 17 18]]\n",
      "\n",
      "  [[19 20 21]\n",
      "   [22 23 24]]]]\n",
      "b: [[[[25 26]\n",
      "   [27 28]\n",
      "   [29 30]]\n",
      "\n",
      "  [[31 32]\n",
      "   [33 34]\n",
      "   [35 36]]]\n",
      "\n",
      "\n",
      " [[[37 38]\n",
      "   [39 40]\n",
      "   [41 42]]\n",
      "\n",
      "  [[43 44]\n",
      "   [45 46]\n",
      "   [47 48]]]]\n"
     ]
    },
    {
     "data": {
      "text/plain": [
       "array([[[[ 166,  172],\n",
       "         [ 409,  424]],\n",
       "\n",
       "        [[ 796,  820],\n",
       "         [1093, 1126]]],\n",
       "\n",
       "\n",
       "       [[[1642, 1684],\n",
       "         [1993, 2044]],\n",
       "\n",
       "        [[2704, 2764],\n",
       "         [3109, 3178]]]])"
      ]
     },
     "execution_count": 77,
     "metadata": {},
     "output_type": "execute_result"
    }
   ],
   "source": [
    "a = tf.constant(np.arange(1, 25, dtype = np.int32),\n",
    "               shape=[2,2,2,3])  \n",
    "print(\"a : \",sess.run(a))\n",
    "b = tf.constant(np.arange(25, 49, dtype = np.int32),\n",
    "               shape = [2,2 ,3,2])  \n",
    "print(\"b:\",sess.run(b))\n",
    "c = tf.matmul(a,b)\n",
    "sess.run(c)  # 2x2가 4개"
   ]
  },
  {
   "cell_type": "markdown",
   "metadata": {},
   "source": [
    "# a를 제곱한다면 전치"
   ]
  },
  {
   "cell_type": "code",
   "execution_count": 83,
   "metadata": {},
   "outputs": [
    {
     "name": "stdout",
     "output_type": "stream",
     "text": [
      "d :  [[[[  14   32]\n",
      "   [  32   77]]\n",
      "\n",
      "  [[ 194  266]\n",
      "   [ 266  365]]]\n",
      "\n",
      "\n",
      " [[[ 590  716]\n",
      "   [ 716  869]]\n",
      "\n",
      "  [[1202 1382]\n",
      "   [1382 1589]]]]\n",
      "s : [[[[  14   32]\n",
      "   [  32   77]]\n",
      "\n",
      "  [[ 194  266]\n",
      "   [ 266  365]]]\n",
      "\n",
      "\n",
      " [[[ 590  716]\n",
      "   [ 716  869]]\n",
      "\n",
      "  [[1202 1382]\n",
      "   [1382 1589]]]]\n"
     ]
    }
   ],
   "source": [
    "d = tf.matmul(a,tf.transpose(a, perm=[0,1,3,2])) # [2,2,2,3] -> 0, 1, 2, 3\n",
    "print(\"d : \",sess.run(d))\n",
    "print(\"s :\",sess.run(tf.matmul(a,a, transpose_b=True))) # 전치해서 자기제곱"
   ]
  },
  {
   "cell_type": "markdown",
   "metadata": {},
   "source": [
    "# 차원"
   ]
  },
  {
   "cell_type": "code",
   "execution_count": 84,
   "metadata": {},
   "outputs": [
    {
     "name": "stdout",
     "output_type": "stream",
     "text": [
      "[2 2 3]\n"
     ]
    },
    {
     "data": {
      "text/plain": [
       "array([[[ 1,  7],\n",
       "        [ 4, 10]],\n",
       "\n",
       "       [[ 2,  8],\n",
       "        [ 5, 11]],\n",
       "\n",
       "       [[ 3,  9],\n",
       "        [ 6, 12]]])"
      ]
     },
     "execution_count": 84,
     "metadata": {},
     "output_type": "execute_result"
    }
   ],
   "source": [
    "x = tf.constant([[[1, 2, 3],\n",
    "                 [4, 5, 6]],\n",
    "                [[7, 8, 9],     # 0 1 2\n",
    "                [10, 11, 12]]]) # 2x2x3\n",
    "print(sess.run(tf.shape(x)))\n",
    "sess.run(tf.transpose(x)) # 3x2x2 : 디폴트 2 1 0"
   ]
  },
  {
   "cell_type": "code",
   "execution_count": 85,
   "metadata": {},
   "outputs": [
    {
     "name": "stdout",
     "output_type": "stream",
     "text": [
      "[[[ 1  4]\n",
      "  [ 2  5]\n",
      "  [ 3  6]]\n",
      "\n",
      " [[ 7 10]\n",
      "  [ 8 11]\n",
      "  [ 9 12]]]\n"
     ]
    }
   ],
   "source": [
    "y = tf.transpose(x, perm=[0, 2, 1]) # 2x3x2\n",
    "print(sess.run(y))"
   ]
  },
  {
   "cell_type": "code",
   "execution_count": 86,
   "metadata": {},
   "outputs": [
    {
     "data": {
      "text/plain": [
       "array([[[ 14,  32],\n",
       "        [ 32,  77]],\n",
       "\n",
       "       [[194, 266],\n",
       "        [266, 365]]])"
      ]
     },
     "execution_count": 86,
     "metadata": {},
     "output_type": "execute_result"
    }
   ],
   "source": [
    "sess.run(tf.matmul(x, tf.transpose(x, perm=[0, 2, 1])))"
   ]
  },
  {
   "cell_type": "code",
   "execution_count": 90,
   "metadata": {},
   "outputs": [
    {
     "data": {
      "text/plain": [
       "array([[[[[[1]],\n",
       "\n",
       "          [[2]],\n",
       "\n",
       "          [[3]]]],\n",
       "\n",
       "\n",
       "\n",
       "        [[[[4]],\n",
       "\n",
       "          [[5]],\n",
       "\n",
       "          [[6]]]]]])"
      ]
     },
     "execution_count": 90,
     "metadata": {},
     "output_type": "execute_result"
    }
   ],
   "source": [
    "t=[1,2,3,4,5,6]\n",
    "t=tf.reshape(t, [1,2,1,3,1,1])\n",
    "sess.run(t)"
   ]
  },
  {
   "cell_type": "code",
   "execution_count": 91,
   "metadata": {},
   "outputs": [
    {
     "name": "stdout",
     "output_type": "stream",
     "text": [
      "t의 차원은 [1 2 1 3 1 1]\n"
     ]
    }
   ],
   "source": [
    "print('t의 차원은', sess.run(tf.shape(t)))"
   ]
  },
  {
   "cell_type": "code",
   "execution_count": 99,
   "metadata": {},
   "outputs": [
    {
     "name": "stdout",
     "output_type": "stream",
     "text": [
      "차원의 수를 축소할 때 Tensor(\"Shape_3:0\", shape=(2,), dtype=int32)\n"
     ]
    }
   ],
   "source": [
    "print(\"차원의 수를 축소할 때\", tf.shape(tf.squeeze(t))) # squeeze가 1짜리 날림"
   ]
  },
  {
   "cell_type": "code",
   "execution_count": 100,
   "metadata": {},
   "outputs": [
    {
     "name": "stdout",
     "output_type": "stream",
     "text": [
      "차원 확대 Tensor(\"ExpandDims_3:0\", shape=(1, 1, 2, 1, 3, 1, 1), dtype=int32)\n"
     ]
    }
   ],
   "source": [
    "# t : 1, 1, 2, 1, 3, 1, 1\n",
    "print(\"차원 확대\", tf.expand_dims(t,0)) # 차원확대"
   ]
  },
  {
   "cell_type": "code",
   "execution_count": 94,
   "metadata": {},
   "outputs": [
    {
     "name": "stdout",
     "output_type": "stream",
     "text": [
      "[[ 1  2  3  4  5  6]\n",
      " [ 7  8  9 10 11 12]]\n",
      "Tensor(\"Reshape_8:0\", shape=(2, 6), dtype=int32)\n",
      "[[[ 1  2  3]\n",
      "  [ 4  5  6]]\n",
      "\n",
      " [[ 7  8  9]\n",
      "  [10 11 12]]]\n"
     ]
    }
   ],
   "source": [
    "tensor = [1, 2, 3, 4, 5, 6, 7, 8, 9, 10, 11, 12]\n",
    "print(sess.run(tf.reshape(tensor, [2, -1]))) # -1 계산으로 채워라 12/2 => [2,6]\n",
    "\n",
    "print(tf.reshape(tensor, [-1, 6])) # 12/6 => [2,6]\n",
    "print(sess.run(tf.reshape(tensor, [2, -1, 3]))) #12/(2*3) => [2,2,3]"
   ]
  },
  {
   "cell_type": "markdown",
   "metadata": {},
   "source": [
    "# 수를 채우는 방법"
   ]
  },
  {
   "cell_type": "code",
   "execution_count": 103,
   "metadata": {},
   "outputs": [
    {
     "name": "stdout",
     "output_type": "stream",
     "text": [
      "[[0 0 0 0 0 0 0]\n",
      " [0 0 1 2 3 0 0]\n",
      " [0 0 4 5 6 0 0]\n",
      " [0 0 0 0 0 0 0]]\n"
     ]
    }
   ],
   "source": [
    "t = [[1, 2, 3], [4, 5, 6]] # 2x3\n",
    "paddings = [[1, 1,],[2,2]] # padding : 충전재, 행을 위로 하나 아래로 하나, 열을 왼쪽으로 2개 오른쪽으로 2개 => 4x7\n",
    "print(sess.run(tf.pad(t, paddings, \"CONSTANT\"))) # constant 0으로 채우기"
   ]
  },
  {
   "cell_type": "code",
   "execution_count": 104,
   "metadata": {},
   "outputs": [
    {
     "name": "stdout",
     "output_type": "stream",
     "text": [
      "[[5 4 5 6 5]\n",
      " [2 1 2 3 2]\n",
      " [5 4 5 6 5]\n",
      " [2 1 2 3 2]]\n"
     ]
    }
   ],
   "source": [
    "paddings = [[1,1,], [1,1]]\n",
    "print(sess.run(tf.pad(t, paddings, \"REFLECT\"))) # 중심꺼를 복사"
   ]
  },
  {
   "cell_type": "code",
   "execution_count": 105,
   "metadata": {},
   "outputs": [
    {
     "name": "stdout",
     "output_type": "stream",
     "text": [
      "[[1 1 2 3 3]\n",
      " [1 1 2 3 3]\n",
      " [4 4 5 6 6]\n",
      " [4 4 5 6 6]]\n"
     ]
    }
   ],
   "source": [
    "print(sess.run(tf.pad(t, paddings, \"SYMMETRIC\"))) # 확장"
   ]
  },
  {
   "cell_type": "markdown",
   "metadata": {},
   "source": [
    "# 다차 방정식의 해\n",
    "- 무작위 대입법\n",
    "- 역행렬을 구함\n",
    "- 입출력 데이터만 있음 : 계수결정(가중치 학습을 통해서 학습)"
   ]
  },
  {
   "cell_type": "code",
   "execution_count": 106,
   "metadata": {},
   "outputs": [
    {
     "data": {
      "text/plain": [
       "100"
      ]
     },
     "execution_count": 106,
     "metadata": {},
     "output_type": "execute_result"
    }
   ],
   "source": [
    "# # 데이터로부터 규칙을 발견 -> 왜? 분류와 예측을 하기 위해서\n",
    "import numpy as np\n",
    "import tensorflow as tf\n",
    "# 데이터 생성 => minibatch => feeding\n",
    "x_data = np.random.rand(100).astype(np.float32)\n",
    "y_data = x_data * 0.1 + 0.3 # 선형방정식, 실제값\n",
    "len(y_data)"
   ]
  },
  {
   "cell_type": "code",
   "execution_count": 112,
   "metadata": {},
   "outputs": [],
   "source": [
    "# 설명력\n",
    "# bias는 activation 활성화\n",
    "# 가중치에는 꼭 바이어스가 하나씩 붙는다.\n",
    "W = tf.Variable(tf.random_uniform([1], -1.0, 1.0)) # 가중치 ,균등분포\n",
    "b = tf.Variable(tf.zeros([1])) # 바이어스\n",
    "sess = tf.Session()\n",
    "y = W * x_data + b # 예측치"
   ]
  },
  {
   "cell_type": "code",
   "execution_count": 108,
   "metadata": {},
   "outputs": [],
   "source": [
    "# loss function : mse, 2차원인 경우 포물선을 이루고 최적점은 한 개\n",
    "loss = tf.reduce_mean(tf.square(y - y_data)) # square 제곱, reduce 전부 합쳐라\n",
    "optimizer = tf.train.GradientDescentOptimizer(0.5) # 경사하강법하면서 최적점 찾기, 학습률\n",
    "                                                   # 기울기 : 미분을 이용해서 , (-)이면 가중치에 차를 더해주고\n",
    "                                                   #                            (+)이면 가중치에 감하는 연산\n",
    "train = optimizer.minimize(loss) # lose함수를 최적화 해라"
   ]
  },
  {
   "cell_type": "code",
   "execution_count": 109,
   "metadata": {},
   "outputs": [],
   "source": [
    "init = tf.global_variables_initializer() # 세션을 실행하기 전\n",
    "sess.run(init)"
   ]
  },
  {
   "cell_type": "code",
   "execution_count": 110,
   "metadata": {},
   "outputs": [
    {
     "name": "stdout",
     "output_type": "stream",
     "text": [
      "0 [0.29934138] [0.2605688]\n",
      "20 [0.13915165] [0.2799745]\n",
      "40 [0.10880996] [0.29549384]\n",
      "60 [0.10198244] [0.29898602]\n",
      "80 [0.10044611] [0.29977185]\n",
      "100 [0.10010038] [0.29994866]\n",
      "120 [0.10002259] [0.29998845]\n",
      "140 [0.1000051] [0.2999974]\n",
      "160 [0.10000116] [0.29999942]\n",
      "180 [0.10000027] [0.2999999]\n",
      "200 [0.1000001] [0.29999995]\n"
     ]
    }
   ],
   "source": [
    "for step in range(201) :\n",
    "    sess.run(train)\n",
    "    if step % 20 ==0 : # 20번 마다\n",
    "        print(step, sess.run(W), sess.run(b)) # 마지막 200번때가 최적화 0.1+0.3"
   ]
  },
  {
   "cell_type": "markdown",
   "metadata": {},
   "source": [
    "# 데이터를 외부에서 주입"
   ]
  },
  {
   "cell_type": "code",
   "execution_count": 163,
   "metadata": {},
   "outputs": [],
   "source": [
    "x = tf.placeholder(tf.float32, name = 'x')\n",
    "y = tf.placeholder(tf.float32)\n",
    "\n",
    "W = tf.Variable(tf.random_uniform([1], -1.0, 1.0)) \n",
    "b = tf.Variable(tf.zeros([1]))\n",
    "sess = tf.Session()\n",
    "y_model = W*x + b"
   ]
  },
  {
   "cell_type": "code",
   "execution_count": 167,
   "metadata": {},
   "outputs": [],
   "source": [
    "loss = tf.reduce_mean(tf.square(y_model-y))\n",
    "optimizer = tf.train.GradientDescentOptimizer(0.5)\n",
    "train = optimizer.minimize(loss)"
   ]
  },
  {
   "cell_type": "code",
   "execution_count": 168,
   "metadata": {},
   "outputs": [],
   "source": [
    "init = tf.global_variables_initializer()\n",
    "sess.run(init)"
   ]
  },
  {
   "cell_type": "code",
   "execution_count": 169,
   "metadata": {},
   "outputs": [
    {
     "name": "stdout",
     "output_type": "stream",
     "text": [
      "0 [0.57425755] [0.07013123]\n",
      "20 [0.20555884] [0.24600816]\n",
      "40 [0.123753] [0.2878507]\n",
      "60 [0.10534494] [0.29726616]\n",
      "80 [0.10120272] [0.29938483]\n",
      "100 [0.10027063] [0.29986158]\n",
      "120 [0.1000609] [0.29996887]\n",
      "140 [0.1000137] [0.299993]\n",
      "160 [0.10000309] [0.29999843]\n",
      "180 [0.1000007] [0.29999965]\n",
      "200 [0.10000016] [0.29999992]\n"
     ]
    }
   ],
   "source": [
    "for step in range(201) :\n",
    "    sess.run(train, {x:x_data, y:y_data})\n",
    "    if step % 20 ==0 :\n",
    "        print(step, sess.run(W), sess.run(b))"
   ]
  },
  {
   "cell_type": "code",
   "execution_count": 136,
   "metadata": {},
   "outputs": [],
   "source": [
    "predicted = sess.run(y_model, {x:[i for i in range(100)]})"
   ]
  },
  {
   "cell_type": "code",
   "execution_count": 137,
   "metadata": {},
   "outputs": [
    {
     "data": {
      "image/png": "[encoded data removed]",
      "text/plain": [
       "<Figure size 432x288 with 1 Axes>"
      ]
     },
     "metadata": {
      "needs_background": "light"
     },
     "output_type": "display_data"
    }
   ],
   "source": [
    "%matplotlib inline\n",
    "import matplotlib.pyplot as plt\n",
    "plt.plot(x_data, y_data, 'o', markersize = 2)\n",
    "plt.plot(predicted, 'r')\n",
    "plt.show()"
   ]
  },
  {
   "cell_type": "markdown",
   "metadata": {},
   "source": [
    "# Graph"
   ]
  },
  {
   "cell_type": "code",
   "execution_count": 178,
   "metadata": {},
   "outputs": [],
   "source": [
    "from tensorflow.python.framework import ops\n",
    "import os\n",
    "ops.reset_default_graph()"
   ]
  },
  {
   "cell_type": "code",
   "execution_count": 179,
   "metadata": {},
   "outputs": [
    {
     "name": "stdout",
     "output_type": "stream",
     "text": [
      "[1. 3. 5. 7. 9.]\n",
      "[ 3.  9. 15. 21. 27.]\n",
      "[ 5. 15. 25. 35. 45.]\n",
      "[ 7. 21. 35. 49. 63.]\n",
      "[ 9. 27. 45. 63. 81.]\n"
     ]
    }
   ],
   "source": [
    "sess = tf.Session()\n",
    "x_vals = np.array([1., 3., 5., 7., 9.])\n",
    "y_vals = np.array([1., 3., 5., 7., 9.])\n",
    "x_data = tf.placeholder(tf.float32)\n",
    "y_data = tf.placeholder(tf.float32)\n",
    "m = tf.constant(3.)\n",
    "prod = tf.multiply(x_data, y_data)\n",
    "for x_val in x_vals:\n",
    "    print(sess.run(prod, feed_dict={x_data:x_val, y_data:y_vals}))"
   ]
  },
  {
   "cell_type": "code",
   "execution_count": 180,
   "metadata": {},
   "outputs": [],
   "source": [
    "merged = tf.summary.merge_all()\n",
    "if not os.path.exists('c://tmp/tensorboard_logs/'):\n",
    "    os.makedirs('c://tmp/tensorboard_logs/')\n",
    "    \n",
    "my_writer = tf.summary.FileWriter('c://tmp/tensorboard_logs/', sess.graph)"
   ]
  },
  {
   "cell_type": "markdown",
   "metadata": {},
   "source": [
    "- tensorboard --logdir=/tmp\n",
    "- http://localhost:6006/"
   ]
  },
  {
   "cell_type": "code",
   "execution_count": 183,
   "metadata": {},
   "outputs": [],
   "source": [
    "rng = np.random\n",
    "# 상수화할 때 좋은점 : 수정할 일이 줄어듬\n",
    "learning_rate = 0.01\n",
    "training_epochs = 4000\n",
    "display_step = 50\n",
    "train_X = np.asarray([3.3,4.4,5.5,6.71,6.93,4.168,9.779,6.182,7.59,2.167,7.042,10.791,5.313,7.997,5.654,9.27,3.1])\n",
    "train_Y = np.asarray([1.7,2.76,2.09,3.19,1.694,1.573,3.366,2.596,2.53,1.221,2.827,3.465,1.65,2.904,2.42,2.94,1.3]) "
   ]
  },
  {
   "cell_type": "code",
   "execution_count": 185,
   "metadata": {},
   "outputs": [
    {
     "name": "stdout",
     "output_type": "stream",
     "text": [
      "WARNING:tensorflow:From C:\\Users\\ICT01_13\\Anaconda3\\envs\\tf_test\\lib\\site-packages\\tensorflow\\python\\util\\tf_should_use.py:193: initialize_all_variables (from tensorflow.python.ops.variables) is deprecated and will be removed after 2017-03-02.\n",
      "Instructions for updating:\n",
      "Use `tf.global_variables_initializer` instead.\n"
     ]
    }
   ],
   "source": [
    "# data point : 관측치\n",
    "n_samples = train_X.shape[0] # 차수 : 행(인덱스)   / 열 : 변수개수\n",
    "X = tf.placeholder('float')\n",
    "Y = tf.placeholder('float')\n",
    "W = tf.Variable(rng.randn(), name = 'weight') # 설명\n",
    "b = tf.Variable(rng.randn(), name = 'bias')   # activation 활성화   /(노드)\n",
    "activation = tf.add(tf.multiply(X, W), b)     # y = ax+b , 예측치\n",
    "cost = tf.reduce_sum(tf.pow(activation-Y, 2))/(2*n_samples) # pow(,2) 제곱, 2*n_samples : 미니배치 사이즈 고려\n",
    "# 역전파 : optimizer도 하이퍼파라미터\n",
    "optimizer = tf.train.GradientDescentOptimizer(learning_rate).minimize(cost) # 하이퍼파라미터, momentum : 가는 방향을 고려\n",
    "init = tf.initialize_all_variables() "
   ]
  },
  {
   "cell_type": "code",
   "execution_count": 186,
   "metadata": {},
   "outputs": [
    {
     "name": "stdout",
     "output_type": "stream",
     "text": [
      "Epoch :  0001 cost =  0.099206813 W= 0.27521482 b= 0.448187\n",
      "Epoch :  0051 cost =  0.083636113 W= 0.29535174 b= 0.47228536\n",
      "Epoch :  0101 cost =  0.082865357 W= 0.2926304 b= 0.49186295\n",
      "Epoch :  0151 cost =  0.082183771 W= 0.29007083 b= 0.5102762\n",
      "Epoch :  0201 cost =  0.081581056 W= 0.28766325 b= 0.5275952\n",
      "Epoch :  0251 cost =  0.081048094 W= 0.28539923 b= 0.5438837\n",
      "Epoch :  0301 cost =  0.080576830 W= 0.28326967 b= 0.5592032\n",
      "Epoch :  0351 cost =  0.080160119 W= 0.2812667 b= 0.5736125\n",
      "Epoch :  0401 cost =  0.079791658 W= 0.27938265 b= 0.5871657\n",
      "Epoch :  0451 cost =  0.079465888 W= 0.2776107 b= 0.5999129\n",
      "Epoch :  0501 cost =  0.079177849 W= 0.27594432 b= 0.6119014\n",
      "Epoch :  0551 cost =  0.078923255 W= 0.27437714 b= 0.6231751\n",
      "Epoch :  0601 cost =  0.078698158 W= 0.27290338 b= 0.63377786\n",
      "Epoch :  0651 cost =  0.078499198 W= 0.27151707 b= 0.64375013\n",
      "Epoch :  0701 cost =  0.078323297 W= 0.27021334 b= 0.6531295\n",
      "Epoch :  0751 cost =  0.078167789 W= 0.2689871 b= 0.661951\n",
      "Epoch :  0801 cost =  0.078030348 W= 0.2678337 b= 0.67024803\n",
      "Epoch :  0851 cost =  0.077908844 W= 0.266749 b= 0.6780517\n",
      "Epoch :  0901 cost =  0.077801459 W= 0.2657287 b= 0.6853915\n",
      "Epoch :  0951 cost =  0.077706553 W= 0.26476914 b= 0.6922947\n",
      "Epoch :  1001 cost =  0.077622682 W= 0.26386654 b= 0.6987878\n",
      "Epoch :  1051 cost =  0.077548571 W= 0.26301777 b= 0.70489424\n",
      "Epoch :  1101 cost =  0.077483051 W= 0.2622193 b= 0.710638\n",
      "Epoch :  1151 cost =  0.077425189 W= 0.26146835 b= 0.7160401\n",
      "Epoch :  1201 cost =  0.077374041 W= 0.2607621 b= 0.72112113\n",
      "Epoch :  1251 cost =  0.077328868 W= 0.26009777 b= 0.72590035\n",
      "Epoch :  1301 cost =  0.077288955 W= 0.25947297 b= 0.7303951\n",
      "Epoch :  1351 cost =  0.077253737 W= 0.2588852 b= 0.7346227\n",
      "Epoch :  1401 cost =  0.077222601 W= 0.2583326 b= 0.7385989\n",
      "Epoch :  1451 cost =  0.077195115 W= 0.25781283 b= 0.742338\n",
      "Epoch :  1501 cost =  0.077170819 W= 0.2573238 b= 0.74585605\n",
      "Epoch :  1551 cost =  0.077149414 W= 0.25686398 b= 0.7491638\n",
      "Epoch :  1601 cost =  0.077130459 W= 0.25643134 b= 0.7522765\n",
      "Epoch :  1651 cost =  0.077113785 W= 0.25602463 b= 0.7552023\n",
      "Epoch :  1701 cost =  0.077099048 W= 0.25564194 b= 0.7579552\n",
      "Epoch :  1751 cost =  0.077086024 W= 0.255282 b= 0.76054424\n",
      "Epoch :  1801 cost =  0.077074558 W= 0.25494355 b= 0.76297945\n",
      "Epoch :  1851 cost =  0.077064447 W= 0.25462514 b= 0.76527035\n",
      "Epoch :  1901 cost =  0.077055521 W= 0.25432572 b= 0.7674238\n",
      "Epoch :  1951 cost =  0.077047646 W= 0.25404406 b= 0.76944953\n",
      "Epoch :  2001 cost =  0.077040687 W= 0.2537791 b= 0.7713562\n",
      "Epoch :  2051 cost =  0.077034578 W= 0.25353 b= 0.773148\n",
      "Epoch :  2101 cost =  0.077029198 W= 0.2532958 b= 0.7748329\n",
      "Epoch :  2151 cost =  0.077024430 W= 0.25307545 b= 0.7764185\n",
      "Epoch :  2201 cost =  0.077020243 W= 0.25286806 b= 0.77791035\n",
      "Epoch :  2251 cost =  0.077016577 W= 0.2526731 b= 0.7793127\n",
      "Epoch :  2301 cost =  0.077013336 W= 0.2524898 b= 0.78063107\n",
      "Epoch :  2351 cost =  0.077010490 W= 0.2523173 b= 0.78187215\n",
      "Epoch :  2401 cost =  0.077007979 W= 0.25215513 b= 0.78303874\n",
      "Epoch :  2451 cost =  0.077005774 W= 0.2520024 b= 0.7841378\n",
      "Epoch :  2501 cost =  0.077003829 W= 0.25185895 b= 0.78517\n",
      "Epoch :  2551 cost =  0.077002145 W= 0.25172424 b= 0.7861389\n",
      "Epoch :  2601 cost =  0.077000670 W= 0.25159782 b= 0.7870483\n",
      "Epoch :  2651 cost =  0.076999344 W= 0.25147888 b= 0.7879044\n",
      "Epoch :  2701 cost =  0.076998204 W= 0.25136688 b= 0.7887095\n",
      "Epoch :  2751 cost =  0.076997198 W= 0.25126162 b= 0.7894669\n",
      "Epoch :  2801 cost =  0.076996304 W= 0.25116244 b= 0.7901805\n",
      "Epoch :  2851 cost =  0.076995559 W= 0.25106934 b= 0.7908502\n",
      "Epoch :  2901 cost =  0.076994881 W= 0.25098145 b= 0.79148185\n",
      "Epoch :  2951 cost =  0.076994292 W= 0.25089917 b= 0.7920742\n",
      "Epoch :  3001 cost =  0.076993771 W= 0.25082177 b= 0.79263085\n",
      "Epoch :  3051 cost =  0.076993324 W= 0.25074914 b= 0.7931528\n",
      "Epoch :  3101 cost =  0.076992936 W= 0.2506807 b= 0.7936455\n",
      "Epoch :  3151 cost =  0.076992586 W= 0.25061607 b= 0.79411095\n",
      "Epoch :  3201 cost =  0.076992303 W= 0.25055555 b= 0.794546\n",
      "Epoch :  3251 cost =  0.076992050 W= 0.2504985 b= 0.79495627\n",
      "Epoch :  3301 cost =  0.076991834 W= 0.25044495 b= 0.79534155\n",
      "Epoch :  3351 cost =  0.076991640 W= 0.2503942 b= 0.79570633\n",
      "Epoch :  3401 cost =  0.076991461 W= 0.25034696 b= 0.7960471\n",
      "Epoch :  3451 cost =  0.076991327 W= 0.25030208 b= 0.7963699\n",
      "Epoch :  3501 cost =  0.076991186 W= 0.2502598 b= 0.7966744\n",
      "Epoch :  3551 cost =  0.076991089 W= 0.2502205 b= 0.796957\n",
      "Epoch :  3601 cost =  0.076991022 W= 0.2501833 b= 0.7972237\n",
      "Epoch :  3651 cost =  0.076990910 W= 0.2501483 b= 0.79747564\n",
      "Epoch :  3701 cost =  0.076990843 W= 0.25011557 b= 0.7977119\n",
      "Epoch :  3751 cost =  0.076990791 W= 0.2500842 b= 0.7979372\n",
      "Epoch :  3801 cost =  0.076990768 W= 0.25005472 b= 0.798149\n",
      "Epoch :  3851 cost =  0.076990731 W= 0.2500274 b= 0.79834604\n",
      "Epoch :  3901 cost =  0.076990694 W= 0.25000194 b= 0.7985289\n",
      "Epoch :  3951 cost =  0.076990664 W= 0.249978 b= 0.79870105\n",
      "최적화 종료\n",
      "cost= 0.07699065 W= 0.24995612 b= 0.7988589\n"
     ]
    },
    {
     "data": {
      "image/png": "[encoded data removed]",
      "text/plain": [
       "<Figure size 432x288 with 1 Axes>"
      ]
     },
     "metadata": {
      "needs_background": "light"
     },
     "output_type": "display_data"
    }
   ],
   "source": [
    "# 세션 연결 전까지 그래프 정의 : node(연산) + edge(데이터 전달 : tensor(배열+행렬))\n",
    "# 전제조건 : GPU가 존재 => 네트워크로 연결(CPU-GPU)\n",
    "with tf.Session() as sess :\n",
    "    sess.run(init)\n",
    "    for epoch in range(training_epochs) :  # 세대\n",
    "        for(x, y) in zip(train_X, train_Y) :\n",
    "            sess.run(optimizer, feed_dict={X:x, Y:y})\n",
    "            # accuracy 증가해야함\n",
    "        if epoch %display_step == 0:  # 50번, 비용함수는 감소해야함(우하향)\n",
    "            print('Epoch : ', '%04d' %(epoch+1), \"cost = \", \"{:.9f}\".format(sess.run(cost, feed_dict={X:train_X, Y:train_Y})),\n",
    "                 \"W=\", sess.run(W), \"b=\", sess.run(b))\n",
    "    print(\"최적화 종료\")\n",
    "    print(\"cost=\", sess.run(cost, feed_dict={X:train_X, Y: train_Y}),\"W=\", sess.run(W), \"b=\", sess.run(b) )\n",
    "    plt.plot(train_X, train_Y, 'ro', label = 'Original data')\n",
    "    # predict한 결과값 출력\n",
    "    plt.plot(train_X, sess.run(W)*train_X +sess.run(b), label = 'Fitted line')\n",
    "    plt.legend()\n",
    "    plt.show()"
   ]
  },
  {
   "cell_type": "code",
   "execution_count": 187,
   "metadata": {},
   "outputs": [],
   "source": [
    "# tensor -> 직접 시각화하는 것이 불가능 => numpy포맷으로 변경\n",
    "def run_variable(variable) :\n",
    "    tf.global_variables_initializer()\n",
    "    with tf.Session() as sess:\n",
    "        return sess.run(variable)"
   ]
  },
  {
   "cell_type": "code",
   "execution_count": 190,
   "metadata": {},
   "outputs": [],
   "source": [
    "my_distribution = tf.random_uniform((600, 400), seed = 42) # 24개 너무 적어서 600 400 해서 균등 맞춤\n",
    "uniform = run_variable(my_distribution)"
   ]
  },
  {
   "cell_type": "code",
   "execution_count": 191,
   "metadata": {},
   "outputs": [
    {
     "data": {
      "image/png": "[encoded data removed]",
      "text/plain": [
       "<Figure size 432x288 with 1 Axes>"
      ]
     },
     "metadata": {
      "needs_background": "light"
     },
     "output_type": "display_data"
    }
   ],
   "source": [
    "from matplotlib import pyplot as plt\n",
    "plt.hist(uniform.flatten()) # 데이터 메모리 저장 : 1차원\n",
    "plt.show()"
   ]
  },
  {
   "cell_type": "markdown",
   "metadata": {},
   "source": [
    "# activation 함수 : 회귀냐 분류인가 결정\n",
    "- 비선형 매핑 (선형대수 -> 비선형문제로 변경)\n",
    "- 가중치를 깊게하고 활성화함수 매핑으로 XOR 문제를 해결"
   ]
  },
  {
   "cell_type": "markdown",
   "metadata": {},
   "source": [
    "# 신경망은 한번 정의된 함수는 다시 못씀, 그래서 계속 리셋해줘야함"
   ]
  },
  {
   "cell_type": "code",
   "execution_count": 192,
   "metadata": {},
   "outputs": [
    {
     "name": "stdout",
     "output_type": "stream",
     "text": [
      "[-10.          -9.7979798   -9.5959596   -9.39393939  -9.19191919\n",
      "  -8.98989899  -8.78787879  -8.58585859  -8.38383838  -8.18181818\n",
      "  -7.97979798  -7.77777778  -7.57575758  -7.37373737  -7.17171717\n",
      "  -6.96969697  -6.76767677  -6.56565657  -6.36363636  -6.16161616\n",
      "  -5.95959596  -5.75757576  -5.55555556  -5.35353535  -5.15151515\n",
      "  -4.94949495  -4.74747475  -4.54545455  -4.34343434  -4.14141414\n",
      "  -3.93939394  -3.73737374  -3.53535354  -3.33333333  -3.13131313\n",
      "  -2.92929293  -2.72727273  -2.52525253  -2.32323232  -2.12121212\n",
      "  -1.91919192  -1.71717172  -1.51515152  -1.31313131  -1.11111111\n",
      "  -0.90909091  -0.70707071  -0.50505051  -0.3030303   -0.1010101\n",
      "   0.1010101    0.3030303    0.50505051   0.70707071   0.90909091\n",
      "   1.11111111   1.31313131   1.51515152   1.71717172   1.91919192\n",
      "   2.12121212   2.32323232   2.52525253   2.72727273   2.92929293\n",
      "   3.13131313   3.33333333   3.53535354   3.73737374   3.93939394\n",
      "   4.14141414   4.34343434   4.54545455   4.74747475   4.94949495\n",
      "   5.15151515   5.35353535   5.55555556   5.75757576   5.95959596\n",
      "   6.16161616   6.36363636   6.56565657   6.76767677   6.96969697\n",
      "   7.17171717   7.37373737   7.57575758   7.77777778   7.97979798\n",
      "   8.18181818   8.38383838   8.58585859   8.78787879   8.98989899\n",
      "   9.19191919   9.39393939   9.5959596    9.7979798   10.        ]\n"
     ]
    }
   ],
   "source": [
    "import tensorflow as tf\n",
    "import numpy as np\n",
    "import matplotlib.pyplot as plt\n",
    "from tensorflow.python.framework import ops\n",
    "ops.reset_default_graph() # 그래프 초기화\n",
    "sess = tf.Session()\n",
    "\n",
    "x_vals = np.linspace(start = -10., stop = 10, num = 100)\n",
    "print(x_vals)"
   ]
  },
  {
   "cell_type": "code",
   "execution_count": 196,
   "metadata": {},
   "outputs": [
    {
     "name": "stdout",
     "output_type": "stream",
     "text": [
      "[ 0.  3. 10.]\n",
      "[0.26894143 0.5        0.7310586 ]\n",
      "[-0.7615942  0.         0.7615942]\n",
      "[-0.63212055  0.          1.        ]\n",
      "[0.31326166 0.6931472  1.3132616 ]\n",
      "[4.53988992e-05 5.55621925e-05 6.80006294e-05 8.32234827e-05\n",
      " 1.01854002e-04 1.24654915e-04 1.52559623e-04 1.86710374e-04\n",
      " 2.28504961e-04 2.79653838e-04 3.42249995e-04 4.18854392e-04\n",
      " 5.12600439e-04 6.27321712e-04 7.67708042e-04 9.39496227e-04\n",
      " 1.14970295e-03 1.40690911e-03 1.72160671e-03 2.10662180e-03\n",
      " 2.57762963e-03 3.15378152e-03 3.85846667e-03 4.72023638e-03\n",
      " 5.77392318e-03 7.06199264e-03 8.63617122e-03 1.05593993e-02\n",
      " 1.29081631e-02 1.57752639e-02 1.92730804e-02 2.35373794e-02\n",
      " 2.87317129e-02 3.50524161e-02 4.27341757e-02 5.20560700e-02\n",
      " 6.33478781e-02 7.69963170e-02 9.34506760e-02 1.13227094e-01\n",
      " 1.36910472e-01 1.65152775e-01 1.98666320e-01 2.38210660e-01\n",
      " 2.84571982e-01 3.38534624e-01 4.00845440e-01 4.72173209e-01\n",
      " 5.53066799e-01 6.43916968e-01 7.44927069e-01 8.56097102e-01\n",
      " 9.77223714e-01 1.10791615e+00 1.24762553e+00 1.39568309e+00\n",
      " 1.55134197e+00 1.71381783e+00 1.88232449e+00 2.05610239e+00\n",
      " 2.23443922e+00 2.41668300e+00 2.60224884e+00 2.79062061e+00\n",
      " 2.98134900e+00 3.17404731e+00 3.36838575e+00 3.56408525e+00\n",
      " 3.76091112e+00 3.95866702e+00 4.15718941e+00 4.35634251e+00\n",
      " 4.55601394e+00 4.75611092e+00 4.95655694e+00 5.15728907e+00\n",
      " 5.35825559e+00 5.55941402e+00 5.76072954e+00 5.96217359e+00\n",
      " 6.16372278e+00 6.36535797e+00 6.56706347e+00 6.76882647e+00\n",
      " 6.97063647e+00 7.17248488e+00 7.37436470e+00 7.57627018e+00\n",
      " 7.77819663e+00 7.98014023e+00 8.18209784e+00 8.38406689e+00\n",
      " 8.58604530e+00 8.78803135e+00 8.99002364e+00 9.19202105e+00\n",
      " 9.39402262e+00 9.59602760e+00 9.79803536e+00 1.00000454e+01]\n",
      "[-0.9999546  -0.99994444 -0.999932   -0.99991677 -0.99989814 -0.99987534\n",
      " -0.99984743 -0.99981327 -0.99977147 -0.99972031 -0.99965769 -0.99958106\n",
      " -0.99948727 -0.99937248 -0.999232   -0.99906006 -0.99884964 -0.9985921\n",
      " -0.99827691 -0.99789116 -0.99741905 -0.99684124 -0.99613408 -0.99526861\n",
      " -0.99420938 -0.99291301 -0.99132643 -0.98938465 -0.98700817 -0.98409965\n",
      " -0.98053999 -0.97618343 -0.97085155 -0.96432601 -0.95633957 -0.94656519\n",
      " -0.9346026  -0.9199619  -0.90204355 -0.88011378 -0.85327452 -0.82042669\n",
      " -0.78022512 -0.73102351 -0.67080701 -0.59710968 -0.50691352 -0.3965249\n",
      " -0.26142329 -0.0960761   0.1010101   0.3030303   0.50505051  0.70707071\n",
      "  0.90909091  1.11111111  1.31313131  1.51515152  1.71717172  1.91919192\n",
      "  2.12121212  2.32323232  2.52525253  2.72727273  2.92929293  3.13131313\n",
      "  3.33333333  3.53535354  3.73737374  3.93939394  4.14141414  4.34343434\n",
      "  4.54545455  4.74747475  4.94949495  5.15151515  5.35353535  5.55555556\n",
      "  5.75757576  5.95959596  6.16161616  6.36363636  6.56565657  6.76767677\n",
      "  6.96969697  7.17171717  7.37373737  7.57575758  7.77777778  7.97979798\n",
      "  8.18181818  8.38383838  8.58585859  8.78787879  8.98989899  9.19191919\n",
      "  9.39393939  9.5959596   9.7979798  10.        ]\n"
     ]
    },
    {
     "data": {
      "image/png": "[encoded data removed]",
      "text/plain": [
       "<Figure size 432x288 with 1 Axes>"
      ]
     },
     "metadata": {
      "needs_background": "light"
     },
     "output_type": "display_data"
    },
    {
     "data": {
      "image/png": "[encoded data removed]",
      "text/plain": [
       "<Figure size 432x288 with 1 Axes>"
      ]
     },
     "metadata": {
      "needs_background": "light"
     },
     "output_type": "display_data"
    }
   ],
   "source": [
    "print(sess.run(tf.nn.relu([-3., 3.,10. ])))  # 0~ 무한대\n",
    "y_relu = sess.run(tf.nn.relu(x_vals))\n",
    "print(sess.run(tf.nn.sigmoid([-1., 0., 1.]))) # 0~1\n",
    "y_sigmoid = sess.run(tf.nn.sigmoid(x_vals))\n",
    "print(sess.run(tf.nn.tanh([-1., 0., 1.])))   # -1~1\n",
    "y_tanh = sess.run(tf.nn.tanh(x_vals))\n",
    "print(sess.run(tf.nn.elu([-1., 0., 1.])))   # -1~무한대 (수정본)\n",
    "y_elu = sess.run(tf.nn.elu(x_vals))\n",
    "print(sess.run(tf.nn.softplus([-1., 0., 1.]))) # 각진 단점 보안\n",
    "y_softplus = sess.run(tf.nn.softplus(x_vals))\n",
    "print(y_softplus)\n",
    "print(y_elu)\n",
    "plt.plot(x_vals, y_relu, 'b:', label = 'ReLU', linewidth = 2)\n",
    "plt.plot(x_vals, y_elu, 'k-', label = 'ExpLU', linewidth = 0.5)\n",
    "plt.ylim([-1.5, 7])\n",
    "plt.legend(loc = 'upper left')\n",
    "plt.show()\n",
    "plt.plot(x_vals, y_sigmoid, 'r--', label = 'Sigmoid', linewidth =2)\n",
    "plt.ylim([-2,2])\n",
    "plt.legend(loc = 'upper left')\n",
    "plt.show()"
   ]
  },
  {
   "cell_type": "code",
   "execution_count": 197,
   "metadata": {},
   "outputs": [],
   "source": [
    "ops.reset_default_graph() # 그래프 초기화\n",
    "sess = tf.Session()\n",
    "tf.set_random_seed(5) # 시드의 초기값\n",
    "np.random.seed(42)\n",
    "batch_size = 50\n",
    "a1 = tf.Variable(tf.random_normal(shape=[1,1])) # 가중치\n",
    "b1 = tf.Variable(tf.random_uniform(shape=[1,1])) # bias\n",
    "a2 = tf.Variable(tf.random_normal(shape=[1,1]))\n",
    "b2 = tf.Variable(tf.random_uniform(shape=[1,1]))\n",
    "\n",
    "x = np.random.normal(2, 0.1, 500)\n",
    "# 사이즈 fix하지 않고 입력데이터로부터 계산\n",
    "x_data=tf.placeholder(shape=[None, 1], dtype=tf.float32) # shape=[None, 1] 행데이터로 생성해라"
   ]
  },
  {
   "cell_type": "code",
   "execution_count": 198,
   "metadata": {},
   "outputs": [
    {
     "name": "stdout",
     "output_type": "stream",
     "text": [
      "\n",
      " Sigmoid AND Relu 함수의 최적화 0.75\n"
     ]
    }
   ],
   "source": [
    "# y = ax + b, 0~1사이값으로 매핑\n",
    "sigmoid_activation = tf.sigmoid(tf.add(tf.matmul(x_data, a1), b1))\n",
    "# 0 ~ ∞\n",
    "relu_activation = tf.nn.relu(tf.add(tf.matmul(x_data, a2), b2))\n",
    "# 0.75로 수렴과정\n",
    "# MSE\n",
    "loss1 = tf.reduce_mean(tf.square(tf.subtract(sigmoid_activation, 0.75)))\n",
    "loss2 = tf.reduce_mean(tf.square(tf.subtract(relu_activation, 0.75)))\n",
    "init = tf.global_variables_initializer()\n",
    "sess.run(init)\n",
    "my_opt = tf.train.GradientDescentOptimizer(0.01)\n",
    "train_step_sigmoid = my_opt.minimize(loss1)\n",
    "train_step_relu = my_opt.minimize(loss2)\n",
    "print('\\n Sigmoid AND Relu 함수의 최적화 0.75')"
   ]
  },
  {
   "cell_type": "code",
   "execution_count": 199,
   "metadata": {},
   "outputs": [],
   "source": [
    "loss_vec_sigmoid = [] # 로스값을 저장\n",
    "loss_vec_relu = []"
   ]
  },
  {
   "cell_type": "code",
   "execution_count": 203,
   "metadata": {},
   "outputs": [
    {
     "name": "stdout",
     "output_type": "stream",
     "text": [
      "sigmoid =0.74903303\trelu = 0.7492768\n",
      "sigmoid =0.74972016\trelu = 0.74646974\n",
      "sigmoid =0.7499535\trelu = 0.74655896\n",
      "sigmoid =0.74864596\trelu = 0.75382453\n",
      "sigmoid =0.7491845\trelu = 0.75044996\n",
      "sigmoid =0.74786156\trelu = 0.757092\n",
      "sigmoid =0.7492991\trelu = 0.7519531\n",
      "sigmoid =0.74979097\trelu = 0.7482766\n",
      "sigmoid =0.7496743\trelu = 0.74895364\n",
      "sigmoid =0.74910986\trelu = 0.75318223\n"
     ]
    }
   ],
   "source": [
    "for i in range(500) :\n",
    "    # 500 -> 50\n",
    "    rand_indices = np.random.choice(len(x), size = batch_size)\n",
    "    x_vals = np.transpose([x[rand_indices]])\n",
    "    sess.run(train_step_sigmoid, feed_dict = {x_data:x_vals})\n",
    "    sess.run(train_step_relu, feed_dict = {x_data:x_vals})\n",
    "    loss_vec_sigmoid.append(sess.run(loss1,feed_dict = {x_data:x_vals} ))\n",
    "    loss_vec_relu.append(sess.run(loss2,feed_dict = {x_data:x_vals} ))\n",
    "    sigmoid_output = np.mean(sess.run(sigmoid_activation, feed_dict={x_data:x_vals}))\n",
    "    relu_output = np.mean(sess.run(relu_activation, feed_dict={x_data:x_vals}))\n",
    "    if i%50 == 0 :\n",
    "        print('sigmoid =' + str(np.mean(sigmoid_output)) + '\\trelu = ' + str(np.mean(relu_output)))\n",
    "# 0.75 수렴하는 과정"
   ]
  },
  {
   "cell_type": "code",
   "execution_count": 204,
   "metadata": {},
   "outputs": [
    {
     "data": {
      "image/png": "[encoded data removed]",
      "text/plain": [
       "<Figure size 432x288 with 1 Axes>"
      ]
     },
     "metadata": {
      "needs_background": "light"
     },
     "output_type": "display_data"
    }
   ],
   "source": [
    "plt.plot(loss_vec_sigmoid, 'k-', label='Sigmoid Activation')\n",
    "plt.plot(loss_vec_relu, 'r--', label='Relu Activation')\n",
    "plt.ylim([0, 1.0])\n",
    "plt.title(' loss per Generation')\n",
    "plt.xlabel('Generation')\n",
    "plt.ylabel('Loss')\n",
    "plt.legend(loc='upper right')\n",
    "plt.show() "
   ]
  }
 ],
 "metadata": {
  "kernelspec": {
   "display_name": "Python 3",
   "language": "python",
   "name": "python3"
  },
  "language_info": {
   "codemirror_mode": {
    "name": "ipython",
    "version": 3
   },
   "file_extension": ".py",
   "mimetype": "text/x-python",
   "name": "python",
   "nbconvert_exporter": "python",
   "pygments_lexer": "ipython3",
   "version": "3.7.6"
  }
 },
 "nbformat": 4,
 "nbformat_minor": 4
}
