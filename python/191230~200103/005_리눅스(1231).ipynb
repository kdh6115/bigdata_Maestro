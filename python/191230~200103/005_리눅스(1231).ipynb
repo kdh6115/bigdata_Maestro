{
 "cells": [
  {
   "cell_type": "code",
   "execution_count": null,
   "metadata": {},
   "outputs": [],
   "source": [
    "리눅스 : mariadb\n",
    "- 서비스 제공을 제어 : systemcctl\n",
    "    systemctl get-default : graphic mod(GUI : Graphic User Interface)\n",
    "        : text mode()- 서버가 서비스를 제공\n",
    "- 보안 : firewall-cmd\n",
    "- ip, port 포트번호는 막혀있음\n",
    "firewall-cmd --permanent --zone = public --add-port=3306/tcp\n",
    "HeidSQL : 원격으로 mariadb접속 작업\n",
    "    \n",
    "vi 편집기\n",
    "- 명령모드 (esc키) 커서가 있는 곳에서 dd, yy복사, p 붙여넣기\n",
    "- 입력모드 i(insert), a(append), o\n",
    "- 마지막행 모드 :w 저장, :q! 저장하지 않고 종료\n",
    "\n",
    "virtual box : 윈도우에서 가상머신 설치\n",
    "extension pack : 화면제어\n",
    "centos : 서버용 리눅스\n",
    "HeidiSQL : 리눅스에서 설치되어지는 마리아디비를 원격으로 제어하기위해서\n",
    "프티 ; 원격으로 리눅스를 제어하기위해서"
   ]
  }
 ],
 "metadata": {
  "kernelspec": {
   "display_name": "Python 3",
   "language": "python",
   "name": "python3"
  },
  "language_info": {
   "codemirror_mode": {
    "name": "ipython",
    "version": 3
   },
   "file_extension": ".py",
   "mimetype": "text/x-python",
   "name": "python",
   "nbconvert_exporter": "python",
   "pygments_lexer": "ipython3",
   "version": "3.7.4"
  }
 },
 "nbformat": 4,
 "nbformat_minor": 2
}
