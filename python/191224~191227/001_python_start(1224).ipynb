{
 "cells": [
  {
   "cell_type": "code",
   "execution_count": null,
   "metadata": {},
   "outputs": [],
   "source": [
    "# 편집모드와 명령형 모드 (커서 -> esc -> m(편집)-> y (프로그래밍) \n",
    "# dd 삭제, alt+enter(실행 및 생성), ctrl + enter(제자리에서만 실행), a는 위에 b는 밑에 빈 셀 생성\n",
    "# 파이썬은 대소문자를 구분한다."
   ]
  },
  {
   "cell_type": "code",
   "execution_count": 7,
   "metadata": {},
   "outputs": [
    {
     "name": "stdout",
     "output_type": "stream",
     "text": [
      "10\n",
      "10\n"
     ]
    }
   ],
   "source": [
    "a = 10 # 주소 -> 값저장(맵핑)\n",
    "b = a # 10이 대입되는 것이 아니고 a가 가리키는 주소가 대입\n",
    "print(a)\n",
    "print(b)"
   ]
  },
  {
   "cell_type": "code",
   "execution_count": 10,
   "metadata": {},
   "outputs": [
    {
     "name": "stdout",
     "output_type": "stream",
     "text": [
      "주소값 대입 140713370362544\n",
      "140713370362544\n"
     ]
    },
    {
     "data": {
      "text/plain": [
       "(None, None)"
      ]
     },
     "execution_count": 10,
     "metadata": {},
     "output_type": "execute_result"
    }
   ],
   "source": [
    "print(\"주소값 대입\", id(a)), print(id(b)) # id(a)는 a가 가리키는 주소를 나타내줌, a와 b는 주소값이 일치한다."
   ]
  },
  {
   "cell_type": "code",
   "execution_count": 12,
   "metadata": {},
   "outputs": [
    {
     "name": "stdout",
     "output_type": "stream",
     "text": [
      "20\n",
      "10\n",
      "주소값대입 140713370362864\n",
      "140713370362544\n"
     ]
    },
    {
     "data": {
      "text/plain": [
       "(None, None)"
      ]
     },
     "execution_count": 12,
     "metadata": {},
     "output_type": "execute_result"
    }
   ],
   "source": [
    "a = 20\n",
    "print(a); print(b)\n",
    "print(\"주소값대입\", id(a)), print(id(b))"
   ]
  },
  {
   "cell_type": "code",
   "execution_count": 13,
   "metadata": {},
   "outputs": [
    {
     "data": {
      "text/plain": [
       "int"
      ]
     },
     "execution_count": 13,
     "metadata": {},
     "output_type": "execute_result"
    }
   ],
   "source": [
    "type(a)"
   ]
  },
  {
   "cell_type": "code",
   "execution_count": 15,
   "metadata": {},
   "outputs": [
    {
     "name": "stdout",
     "output_type": "stream",
     "text": [
      "10\n"
     ]
    }
   ],
   "source": [
    "a = 10\n",
    "A = 20\n",
    "print(a)"
   ]
  },
  {
   "cell_type": "code",
   "execution_count": 22,
   "metadata": {},
   "outputs": [
    {
     "name": "stdout",
     "output_type": "stream",
     "text": [
      "수식을 입력하세요140 * 2\n",
      "140 * 2\n",
      "280\n"
     ]
    }
   ],
   "source": [
    "# 데이터 입력 : 프롬프트 텍스트\n",
    "problem = input(\"수식을 입력하세요\") # 데이터 입출력은 문자열로 입출력됨, \n",
    "# 연산을 위해 데이터 타입을 숫자로 변경\n",
    "print(problem)\n",
    "# print(int(problem)) # 데이터 casting : 데이터 형변환 / + 때문에 오류가 나타남\n",
    "print(eval(problem)) # 평가, 10 + 20을 수식으로 하여 계산"
   ]
  },
  {
   "cell_type": "code",
   "execution_count": 23,
   "metadata": {},
   "outputs": [
    {
     "name": "stdout",
     "output_type": "stream",
     "text": [
      "0.00424\n",
      "127\n"
     ]
    }
   ],
   "source": [
    "a3 = 4.24e-3 # exponent 지수형\n",
    "a4 = 0o177 # octal : 8진수 -> 10진수로 177을 바꾸는것, 0x는 16진수\n",
    "print(a3); print(a4)"
   ]
  },
  {
   "cell_type": "code",
   "execution_count": 35,
   "metadata": {},
   "outputs": [
    {
     "name": "stdout",
     "output_type": "stream",
     "text": [
      "이름을 입력하세요 : 김 대현\n",
      "김\n",
      " \n",
      "대\n",
      "1\n",
      "이름 :  대현\n",
      "성 :  김\n"
     ]
    }
   ],
   "source": [
    "# fullName 문자열 : 기본이 1차원 배열,  숫자 int : 4바이트 float : 4바이트\n",
    "fullName = input(\"이름을 입력하세요 : \")\n",
    "n = fullName.rfind(\" \") # revsere find 뒤에서 부터 찾아라\n",
    "\n",
    "print(fullName[0]) # 배열과 리스트의 인덱싱은 동일하다.\n",
    "print(fullName[1])\n",
    "print(fullName[2])\n",
    "print(n)\n",
    "print(\"이름 : \", fullName[n+1:]) #  2:10 은 2~9까지 출력 마지막은 표현 안됨\n",
    "print(\"성 : \", fullName[:n])"
   ]
  },
  {
   "cell_type": "code",
   "execution_count": 113,
   "metadata": {},
   "outputs": [
    {
     "name": "stdout",
     "output_type": "stream",
     "text": [
      "koreakorea\n",
      "koreakoreakorea\n",
      "korea\n",
      "a\n",
      "a\n",
      "or\n",
      "e\n",
      "ea\n",
      "e\n",
      "5\n"
     ]
    },
    {
     "data": {
      "text/plain": [
       "['ko', 'ea']"
      ]
     },
     "execution_count": 113,
     "metadata": {},
     "output_type": "execute_result"
    }
   ],
   "source": [
    "# 문자열은 '' \"single quatation\" ,\"korea\" : double quotation\n",
    "# \"\"\" \"\"\" : 3개인 경우는 입력하는 대로 저장함\n",
    "s = 'korea'\n",
    "\n",
    "print(s+s)\n",
    "print(s*3)\n",
    "print(s[0:])\n",
    "print(s[4])\n",
    "print(s[-1])\n",
    "print(s[1:3])\n",
    "print(s[-2])\n",
    "print(s[-2:5])\n",
    "print(s[3:-1])\n",
    "print(len(s))\n",
    "s.split('r')"
   ]
  },
  {
   "cell_type": "code",
   "execution_count": 49,
   "metadata": {},
   "outputs": [
    {
     "name": "stdout",
     "output_type": "stream",
     "text": [
      "['Seoul, Incheon, won']\n"
     ]
    }
   ],
   "source": [
    "# csv 데이터 : comma로 분리된 데이터\n",
    "t = 'Seoul, Incheon, won'. split(',') # ' ~' 객체\n",
    "print(t) # 리스트로 분할"
   ]
  },
  {
   "cell_type": "code",
   "execution_count": 51,
   "metadata": {},
   "outputs": [
    {
     "data": {
      "text/plain": [
       "'Seoul, Incheon, won'"
      ]
     },
     "execution_count": 51,
     "metadata": {},
     "output_type": "execute_result"
    }
   ],
   "source": [
    "','.join(t)"
   ]
  },
  {
   "cell_type": "code",
   "execution_count": 52,
   "metadata": {},
   "outputs": [
    {
     "name": "stdout",
     "output_type": "stream",
     "text": [
      "Korea\n",
      "2\n",
      "1\n",
      "True\n",
      "False\n",
      "True\n",
      "koRea\n",
      "False\n",
      "True\n"
     ]
    }
   ],
   "source": [
    "# 파이썬은 객체 지향 프로그래밍으로 설계된 언어임 : 모든 것이 객체임, 함수도 객체임\n",
    "# c, java는 객체지향을 별도로 학습\n",
    "# python은 자체가 객체지향언어임\n",
    "s = 'korea'\n",
    "print(s.capitalize()) # 첫 문자를 대문자로\n",
    "print(s.find('r')) \n",
    "print(s.count('re'))\n",
    "print(s.isalpha()) # 문자열이냐\n",
    "print(s.isdigit()) # 숫자냐\n",
    "print('0123'.isdigit()) # 0123은 숫자냐\n",
    "print(s.replace('r', 'R'))\n",
    "print(s.startswith('K')) # K로 시작하느냐\n",
    "print(s.endswith('a'))"
   ]
  },
  {
   "cell_type": "code",
   "execution_count": 53,
   "metadata": {},
   "outputs": [
    {
     "name": "stdout",
     "output_type": "stream",
     "text": [
      "7 -1 12 0.75\n",
      "0.75\n",
      "3\n",
      "1\n",
      "0\n",
      "1\n",
      "0\n",
      "1.75\n",
      "1\n"
     ]
    }
   ],
   "source": [
    "# 산술연산\n",
    "a = 3\n",
    "b = 4\n",
    "\n",
    "print(a + b, a - b, a * b, a/b)\n",
    "print(a / b)\n",
    "print(a % b) # 나머지 연산자 : 경우의 수를 생성할 때 -> 변수가 가질 수 있는 경우의 수를 확인\n",
    "print(1 % 2)\n",
    "print(2 % 2)\n",
    "print(3 % 2)\n",
    "print(4 % 2)\n",
    "\n",
    "print(7 / 4)\n",
    "print(7 // 4) # 몫연산자"
   ]
  },
  {
   "cell_type": "code",
   "execution_count": 62,
   "metadata": {},
   "outputs": [
    {
     "name": "stdout",
     "output_type": "stream",
     "text": [
      "sum[1,2,3] :  6\n",
      "min[1,2,3] :  1\n",
      "abs(-11) :  11\n",
      "pow(2, 10) :  1024\n",
      "round(3.141595) :  3\n",
      "round(3.141595) :  3.14\n"
     ]
    }
   ],
   "source": [
    "# 내장함수 : \n",
    "print(\"sum[1,2,3] : \", sum([1,2,3]))\n",
    "print(\"min[1,2,3] : \", min([1,2,3]))\n",
    "print(\"abs(-11) : \", abs(-11))\n",
    "print(\"pow(2, 10) : \", pow(2,10))\n",
    "print(\"round(3.141595) : \", round(3.141595)) # round(3.141595,0) ,0이 생략되어 있음\n",
    "print(\"round(3.141595) : \", round(3.141595, 2))\n",
    "# 함수의 형태가 다르면 : 오버로딩\n",
    "# 파이썬에선 오버로딩이 없음 -> 디폴트 매개변수"
   ]
  },
  {
   "cell_type": "code",
   "execution_count": 61,
   "metadata": {},
   "outputs": [
    {
     "name": "stdout",
     "output_type": "stream",
     "text": [
      "sum(n) :  19\n"
     ]
    }
   ],
   "source": [
    "# 문제 : 숫자 4, 7, 8을 리스트로 초기화 하고 합계를 출력하시오\n",
    "n = [4, 7, 8]\n",
    "print(\"sum(n) : \", sum(n))"
   ]
  },
  {
   "cell_type": "code",
   "execution_count": 73,
   "metadata": {},
   "outputs": [
    {
     "name": "stdout",
     "output_type": "stream",
     "text": [
      "입력하세요 10\n",
      "입력하세요 20\n",
      "몫 :  0 나머지 :  10\n"
     ]
    }
   ],
   "source": [
    "# 문제 : 두 수를 입력받아 몫과 나머지를 출력하시오\n",
    "a = int(input(\"입력하세요 \"))\n",
    "b = int(input(\"입력하세요 \"))\n",
    "print(\"몫 : \", a//b, \"나머지 : \", a%b)"
   ]
  },
  {
   "cell_type": "code",
   "execution_count": 71,
   "metadata": {},
   "outputs": [
    {
     "name": "stdout",
     "output_type": "stream",
     "text": [
      "정수를 입력하시오 :10\n",
      "정수를 입력하시오 :20\n",
      "입력된 수를 2로 나눈 결과 몫 =  15 나머지 =  0\n",
      "짝수입니다.\n"
     ]
    }
   ],
   "source": [
    "num1 = input(\"정수를 입력하시오 :\")\n",
    "num2 = input(\"정수를 입력하시오 :\")\n",
    "hab = int(num1) + int(num2)\n",
    "quotient = hab // 2\n",
    "remainder = hab % 2\n",
    "print(\"입력된 수를 2로 나눈 결과 몫 = \", quotient, \"나머지 = \", remainder)\n",
    "# 파이썬의 블록은 들여쓰기임\n",
    "# : 조건문, 반복문, 함수\n",
    "if remainder == 0 :\n",
    "    print(\"짝수입니다.\")\n",
    "else :\n",
    "    print(\"홀수입니다.\")\n"
   ]
  },
  {
   "cell_type": "markdown",
   "metadata": {},
   "source": [
    "# scope"
   ]
  },
  {
   "cell_type": "code",
   "execution_count": 75,
   "metadata": {},
   "outputs": [
    {
     "name": "stdout",
     "output_type": "stream",
     "text": [
      "200\n",
      "300\n"
     ]
    }
   ],
   "source": [
    "x = 300        # 전역변수\n",
    "def myfunc() : # 함수도 리턴타입을 지정하지 않음\n",
    "    x = 200    # 지역변수 : 함수와 생사를 같이함\n",
    "    print(x)\n",
    "myfunc()\n",
    "print(x)"
   ]
  },
  {
   "cell_type": "code",
   "execution_count": 88,
   "metadata": {},
   "outputs": [
    {
     "name": "stdout",
     "output_type": "stream",
     "text": [
      "정수를 입력하시오 : 10\n",
      "정수를 입력하시오 : 6\n"
     ]
    }
   ],
   "source": [
    "# 어떤 수가 들어 오더라도 나머지가 (0 : 가위, 1 : 바위, 2 : 보)로 출력하시오\n",
    "a = int(input(\"정수를 입력하시오 : \"))\n",
    "b = int(input(\"정수를 입력하시오 : \"))\n",
    "re = a%b\n",
    "if re == 0 :\n",
    "    print(\"가위\")\n",
    "elif re == 1 :\n",
    "    print(\"바위\")\n",
    "elif re == 2 : \n",
    "    print(\"보\")"
   ]
  },
  {
   "cell_type": "code",
   "execution_count": 89,
   "metadata": {},
   "outputs": [
    {
     "name": "stdout",
     "output_type": "stream",
     "text": [
      "정수를 입력하시오 : 20\n",
      "보\n"
     ]
    }
   ],
   "source": [
    "select = int(input(\"정수를 입력하시오 : \"))%3\n",
    "if select == 0 :\n",
    "    print('가위')\n",
    "elif select == 1:\n",
    "    print('바위')\n",
    "elif select == 2 :\n",
    "    print('보')"
   ]
  },
  {
   "cell_type": "code",
   "execution_count": 103,
   "metadata": {},
   "outputs": [
    {
     "name": "stdout",
     "output_type": "stream",
     "text": [
      "4\n",
      "earths\n",
      "['fire', 'air']\n",
      "['air', 1, 'water', 'fire', 'earths']\n"
     ]
    }
   ],
   "source": [
    "# random : 프로그램에서 난수는 의사난수임\n",
    "import random\n",
    "random.seed(1000) # 랜덤이지만 항상 같은값나오게 함\n",
    "print(random.randint(1,5)) # 1~5사이에 랜덤으로 정수형 \n",
    "elements = ['earth', 1, 'air', 'fire', 'water'] # 이질적인 데이터도 리스트를 가질수 있음\n",
    "elements[0] = 'earths'\n",
    "print(random.choice(elements))\n",
    "print(random.sample(elements,2))\n",
    "random.shuffle(elements)\n",
    "print(elements)"
   ]
  },
  {
   "cell_type": "code",
   "execution_count": 105,
   "metadata": {},
   "outputs": [
    {
     "name": "stdout",
     "output_type": "stream",
     "text": [
      "True\n",
      "True\n"
     ]
    }
   ],
   "source": [
    "# 비교연산자와 논리연산자\n",
    "a = 20\n",
    "b = 10\n",
    "c = a>10 and b <50\n",
    "print(c)\n",
    "\n",
    "c = 10<a<50\n",
    "print(c)"
   ]
  },
  {
   "cell_type": "code",
   "execution_count": 106,
   "metadata": {},
   "outputs": [
    {
     "name": "stdout",
     "output_type": "stream",
     "text": [
      "6 5\n"
     ]
    }
   ],
   "source": [
    "# swap\n",
    "x = 5\n",
    "y = 6\n",
    "x, y = y,x # 리턴값이 2개 이상도 가능\n",
    "print(x,y)"
   ]
  },
  {
   "cell_type": "code",
   "execution_count": 117,
   "metadata": {},
   "outputs": [
    {
     "name": "stdout",
     "output_type": "stream",
     "text": [
      "[3, ['a', 'b', 'c'], 4]\n",
      "['a', 'b']\n",
      "1\n",
      "Life\n"
     ]
    }
   ],
   "source": [
    "# list 안의 list\n",
    "# a에 저장된 것 : list주소, 리스트는 주소를 담아논 항아리\n",
    "a = [1, 2, 3, ['a', 'b', 'c'], 4, 5]\n",
    "# 2차원 리스트\n",
    "# a = [[\"a\", 100, 50], [\"a1\", 90, 88], [\"a2\", 100, 100]]\n",
    "print(a[2:5])\n",
    "print(a[3][:2])\n",
    "# 3차원 리스트\n",
    "a = [1, 2, ['a', 'b', ['Life', 'is']]]\n",
    "print(a[0])\n",
    "print(a[2][2][0])"
   ]
  },
  {
   "cell_type": "code",
   "execution_count": 120,
   "metadata": {},
   "outputs": [
    {
     "name": "stdout",
     "output_type": "stream",
     "text": [
      "60\n",
      "60\n",
      "80\n",
      "[10, 20, 30, 40, 50, 70]\n"
     ]
    }
   ],
   "source": [
    "# 리스트를 이용한 스택 LIFO : 복귀주소저장(함수의 운용)\n",
    "a = [10, 20, 30, 40, 50]\n",
    "a.append(60) # 데이터 추가시 append 함수 사용\n",
    "print(a.pop()) # 뒤에서 데이터를 가지고 오면서 삭제\n",
    "a.append(60)\n",
    "print(a.pop())\n",
    "a.append(70)\n",
    "a.append(80)\n",
    "print(a.pop())\n",
    "print(a)"
   ]
  },
  {
   "cell_type": "code",
   "execution_count": 121,
   "metadata": {},
   "outputs": [
    {
     "name": "stdout",
     "output_type": "stream",
     "text": [
      "7 12\n",
      "7\n"
     ]
    },
    {
     "data": {
      "text/plain": [
       "(9, 20)"
      ]
     },
     "execution_count": 121,
     "metadata": {},
     "output_type": "execute_result"
    }
   ],
   "source": [
    "# 파이썬 함수 - 리턴값의 지정은 없음 \n",
    "def calc(a,b): # 함수의 역할 : 작업, 매개변수(작업을 할 때 필요한 데이터)\n",
    "    return a+b, a*b\n",
    "x,y = calc(3,4)\n",
    "print(x,y)\n",
    "print(x)\n",
    "x,y\n",
    "args=(4,5) # tuple : 데이터가 묶여있음\n",
    "calc(*args) # 포인터 : 데이터가 튜블로 묶여있기때문에 포인터로 지정해서 따로 들어갈 수 있게 도와줌"
   ]
  },
  {
   "cell_type": "code",
   "execution_count": 122,
   "metadata": {
    "scrolled": true
   },
   "outputs": [
    {
     "data": {
      "text/plain": [
       "dict_items([('one', 1), ('two', 2)])"
      ]
     },
     "execution_count": 122,
     "metadata": {},
     "output_type": "execute_result"
    }
   ],
   "source": [
    "# dictionary\n",
    "d = {'one':1, 'two':2} # 키이 -> 저장될 주소값으로 계산됨 - 검색에서 가장 속도가 빠른 것\n",
    "d.items() # items : 묶어서 리스트 형태로 만들어준다\n",
    "# mongodb -> NOSQL"
   ]
  },
  {
   "cell_type": "code",
   "execution_count": 194,
   "metadata": {},
   "outputs": [
    {
     "name": "stdout",
     "output_type": "stream",
     "text": [
      "2\n",
      "True\n",
      "1\n"
     ]
    },
    {
     "data": {
      "text/plain": [
       "['suwon', 'seoul', 'incheon']"
      ]
     },
     "execution_count": 194,
     "metadata": {},
     "output_type": "execute_result"
    }
   ],
   "source": [
    "#\n",
    "cities = ['seoul', 'incheon', 'suwon']\n",
    "print(cities.index('suwon'))\n",
    "print('incheon' in cities) # 포함연산자\n",
    "print(cities.count('seoul'))\n",
    "sorted(cities)\n",
    "sorted(cities, reverse = True)"
   ]
  },
  {
   "cell_type": "code",
   "execution_count": 195,
   "metadata": {},
   "outputs": [
    {
     "name": "stdout",
     "output_type": "stream",
     "text": [
      "['seoul', 'incheon', 'suwon']\n",
      "['seoul', 'incheon', 'suwon', 'busan']\n",
      "['daegu', 'seoul', 'incheon', 'suwon', 'busan']\n",
      "결합 ['daegu', 'seoul', 'incheon', 'suwon', 'busan', 'jeju', 'kwangju']\n",
      "['daegu', 'seoul', 'incheon', 'suwon', 'busan', ['daejun', 'ulsan']]\n",
      "['daegu', 'seoul', 'incheon', 'suwon', 'busan', ['daejun', 'ulsan'], 'jeju', 'kwangju']\n"
     ]
    }
   ],
   "source": [
    "# 리스트는 데이터 삽입 삭제가 용이\n",
    "print(cities)\n",
    "cities.append('busan')\n",
    "print(cities)\n",
    "cities.insert(0, 'daegu') # 데이터 삽입\n",
    "print(cities)\n",
    "other_cities = ['jeju', 'kwangju'] \n",
    "print('결합', cities + other_cities) # 리스트 + 연산자\n",
    "cities.append(['daejun', 'ulsan']) # 모양이 유지가 됨\n",
    "print(cities)\n",
    "cities.extend(['jeju', 'kwangju'])\n",
    "print(cities)\n"
   ]
  },
  {
   "cell_type": "code",
   "execution_count": 196,
   "metadata": {},
   "outputs": [
    {
     "name": "stdout",
     "output_type": "stream",
     "text": [
      "ulsan\n",
      "['daegu', 'seoul', 'incheon', 'suwon', 'busan', ['daejun', 'jeju'], 'jeju', 'kwangju']\n",
      "['daegu', 'seoul', 'incheon', 'suwon', 'busan', ['daejun'], 'jeju', 'kwangju']\n"
     ]
    }
   ],
   "source": [
    "print(cities[5][1])\n",
    "cities[5][1] = 'jeju'\n",
    "print(cities)\n",
    "del cities[5][1]\n",
    "# cities[5].remove(cities[5][1])\n",
    "print(cities)"
   ]
  },
  {
   "cell_type": "code",
   "execution_count": null,
   "metadata": {},
   "outputs": [],
   "source": [
    "# 자료구조를 데이터 타입화 (python core에서 사용하는 자료구조)\n",
    "\n",
    "# list : 데이터의 앞뒤에 다음이나 이전 데이터의 주소가 저장\n",
    "#        메모리를 효율적으로 사용하고 삽입삭제를 용이하게하기 위해서 사용하는 자료구조\n",
    "#       검색에서는 속도가 느림\n",
    "\n",
    "# dict : 키이값이 데이터가 저장되어지는 주소값으로 계산되는 해쉬함수를 이용해 데이터를 저장, 검색속도가 빠름\n",
    "#    데이터 주소값으로 변환되어지는 키이 : 데이터 형식으로 저장됨\n",
    "\n",
    "# set : 키이만 저장 (중복불허) - 범주형 데이터의 종류를 확인할 때 사용\n",
    "\n",
    "# tuple : list와 동일한데 변경이 불가능함 (함수가 작음), 함수의 매개변수로 값을 전달하거나 여러개의 값을 리턴하고 싶을 때 사용\n",
    "#        속도가 빠름"
   ]
  },
  {
   "cell_type": "code",
   "execution_count": 197,
   "metadata": {},
   "outputs": [
    {
     "name": "stdout",
     "output_type": "stream",
     "text": [
      "점수입력 :  85\n",
      "B\n"
     ]
    }
   ],
   "source": [
    "print('점수입력 : ', end = ' ')\n",
    "jumsu = int(input())\n",
    "if jumsu >= 90 : print('A')\n",
    "elif jumsu>= 80 : print('B')\n",
    "elif jumsu>= 70 : print('C')\n",
    "elif jumsu>= 60 : print('D')\n",
    "else : print('F')    "
   ]
  },
  {
   "cell_type": "code",
   "execution_count": 207,
   "metadata": {},
   "outputs": [
    {
     "name": "stdout",
     "output_type": "stream",
     "text": [
      "Color(BLUE or RED) :  BLUE\n",
      "Mode(STEADY or FLASHING) :  RED\n"
     ]
    }
   ],
   "source": [
    "# 다음 표(color와 mode에 따른 날씨)를 if문을 이용하여 출력하시요\n",
    "#        (반응에 따른 날씨 예측 프로그램)\n",
    "#                         BLUE              RED\n",
    "#      STEADY             화창           비오는날\n",
    "#      FLASHING           구름           눈오는날\n",
    "\n",
    "print('Color(BLUE or RED) : ', end = ' ') # \\n은 new line , end : return하지 말고 옆으로 써라\n",
    "col = input()\n",
    "\n",
    "print('Mode(STEADY or FLASHING) : ', end = ' ')\n",
    "mod = input()\n",
    "\n",
    "if col == 'BLUE' :\n",
    "    if mod == 'STEADY' :\n",
    "        print(\"날씨 : 화창\")\n",
    "    if mod == 'FLASHING' :\n",
    "        print(\"날씨 : 구름\")\n",
    "\n",
    "elif col == 'RED' :\n",
    "    if mod == 'STEADY' :\n",
    "        print(\"날씨 : 비오는 날\")\n",
    "    if mod == 'FLASHING' :\n",
    "        print(\"날씨 : 눈오는 날\")"
   ]
  },
  {
   "cell_type": "code",
   "execution_count": 214,
   "metadata": {},
   "outputs": [
    {
     "name": "stdout",
     "output_type": "stream",
     "text": [
      "색입력(BLUE or RED) : red\n",
      "mode 입력(STEADY or FLASHING) : steady\n",
      "예측된 날씨는 눈오는 날\n"
     ]
    }
   ],
   "source": [
    "color = input(\"색입력(BLUE or RED) : \")\n",
    "mode = input(\"mode 입력(STEADY or FLASHING) : \")\n",
    "color = color.upper()\n",
    "molde = mode.upper() # upper는 대문자인지 소문자인지 모르기 때문에\n",
    "result = \"\"\n",
    "if color == 'BLUE' : \n",
    "    if mode == 'STEADY' :\n",
    "        result = '화창한 날'\n",
    "    else :\n",
    "        result = '구름낀 날'\n",
    "else :\n",
    "    if mode == \"STEADY\" :\n",
    "        result = \"비오는 날\"\n",
    "    else :\n",
    "        result = \"눈오는 날\"\n",
    "print(\"예측된 날씨는\", result)"
   ]
  },
  {
   "cell_type": "code",
   "execution_count": 216,
   "metadata": {},
   "outputs": [
    {
     "name": "stdout",
     "output_type": "stream",
     "text": [
      "수입을 입력하시요 : 100.5252\n",
      "지출을 입력하시요 : 100.4521\n",
      "순수익 :  0.07\n"
     ]
    }
   ],
   "source": [
    "# 수입(revenue)과 지출(costs)을 입력받아 순수입을 출력하는 프로그램을 작성하시요\n",
    "#     - 제약조건 : 소수점 이하 2자리까지 출력\n",
    "#                  수입과 지출이 동일한 경우를 고려하시요.(손익분기점)\n",
    "#                  결과 출력시 경우에 따라 순수익, 순손실도 같이 출력하도록 하시요\n",
    "revenue = float(input(\"수입을 입력하시요 : \"))\n",
    "costs = float(input(\"지출을 입력하시요 : \"))\n",
    "if revenue > costs :\n",
    "    result = round(revenue - costs, 2)\n",
    "    print(\"순수익 : \",result)\n",
    "elif revenue == costs :\n",
    "    print(\"손익분기점 달성\")\n",
    "else :\n",
    "    result = abs(round(revenue - costs, 2))\n",
    "    print(\"순손실 : \", result)\n",
    "    "
   ]
  },
  {
   "cell_type": "code",
   "execution_count": null,
   "metadata": {},
   "outputs": [],
   "source": []
  },
  {
   "cell_type": "code",
   "execution_count": null,
   "metadata": {},
   "outputs": [],
   "source": [
    "# 평균, 분산, 표준편차,     표준오차 : 데이터개수의 루트값으로 나누어서 ,     변동계수\n",
    "#     분산 : 관측치 - 평균"
   ]
  }
 ],
 "metadata": {
  "kernelspec": {
   "display_name": "Python 3",
   "language": "python",
   "name": "python3"
  },
  "language_info": {
   "codemirror_mode": {
    "name": "ipython",
    "version": 3
   },
   "file_extension": ".py",
   "mimetype": "text/x-python",
   "name": "python",
   "nbconvert_exporter": "python",
   "pygments_lexer": "ipython3",
   "version": "3.7.4"
  }
 },
 "nbformat": 4,
 "nbformat_minor": 2
}
