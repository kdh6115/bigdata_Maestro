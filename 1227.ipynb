{
 "cells": [
  {
   "cell_type": "markdown",
   "metadata": {},
   "source": [
    "# 함수 (function)\n",
    "- 함수이름은 중복이 되면 안됨 (오버로딩은 default 매개변수로 해결)\n",
    "- Required auguments(매개변수를 순서적으로 입력)\n",
    "- keyword auguments(키이 매개변수의 순서변경이 가능)\n",
    "- Default auguments(오버로딩 해결)\n",
    "- Variable-length auguments(변동매개변수 : * -> list, ** -> dict)"
   ]
  },
  {
   "cell_type": "code",
   "execution_count": 1,
   "metadata": {},
   "outputs": [
    {
     "name": "stdout",
     "output_type": "stream",
     "text": [
      "30\n",
      "70\n",
      "30\n",
      "70\n"
     ]
    }
   ],
   "source": [
    "a = 10\n",
    "b = 20\n",
    "result = a+b\n",
    "print(result)\n",
    "\n",
    "c = 30\n",
    "d = 40\n",
    "result = c+d\n",
    "print(result)\n",
    "# 사용자 정의 함수\n",
    "def addvalue(a,b) :   # a = 10, b = 20 주소값만 전달 call by reference\n",
    "    return a+b\n",
    "print(addvalue(10, 20)) # 호출 시 데이터는 힙에 저장 -> 주소값만 전달\n",
    "print(addvalue(30, 40))"
   ]
  },
  {
   "cell_type": "markdown",
   "metadata": {},
   "source": [
    "# 회귀분석 - y = ax+b (a : 기울기 계수, b : 절편,bias)"
   ]
  },
  {
   "cell_type": "code",
   "execution_count": 2,
   "metadata": {},
   "outputs": [
    {
     "name": "stdout",
     "output_type": "stream",
     "text": [
      "1030\n",
      "1030\n"
     ]
    }
   ],
   "source": [
    "def reg(a,b,x) :\n",
    "    return a*x+b\n",
    "print(reg(10, 30, 100))\n",
    "\n",
    "def reg(x) :\n",
    "    a = 10\n",
    "    b = 30\n",
    "    return a*x+b\n",
    "print(reg(100))"
   ]
  },
  {
   "cell_type": "markdown",
   "metadata": {},
   "source": [
    "# 두 수를 더한 값이 10보다 큰지 확인하시요"
   ]
  },
  {
   "cell_type": "code",
   "execution_count": 3,
   "metadata": {},
   "outputs": [],
   "source": [
    "a = 10\n",
    "b = 20\n",
    "result = a+b\n",
    "if result >= 10 :\n",
    "    result = \"10보다 크다\"\n",
    "else :\n",
    "    result = \"10보다 작다\""
   ]
  },
  {
   "cell_type": "code",
   "execution_count": 4,
   "metadata": {},
   "outputs": [
    {
     "data": {
      "text/plain": [
       "'10보다 크다'"
      ]
     },
     "execution_count": 4,
     "metadata": {},
     "output_type": "execute_result"
    }
   ],
   "source": [
    "def sum_1(a,b) :\n",
    "    result = a+b\n",
    "    if result >=10 :\n",
    "        result = \"10보다 크다\"\n",
    "    else :\n",
    "        result = \"10보다 작다\"\n",
    "    return result\n",
    "sum_1(10, 20)"
   ]
  },
  {
   "cell_type": "code",
   "execution_count": 10,
   "metadata": {},
   "outputs": [
    {
     "data": {
      "text/plain": [
       "(20, 10)"
      ]
     },
     "execution_count": 10,
     "metadata": {},
     "output_type": "execute_result"
    }
   ],
   "source": [
    "a = 10\n",
    "b = 20\n",
    "def switch(a,b) :\n",
    "    tmp = a\n",
    "    a =b\n",
    "    b = tmp\n",
    "    return a,b\n",
    "switch(a,b)"
   ]
  },
  {
   "cell_type": "code",
   "execution_count": 12,
   "metadata": {},
   "outputs": [
    {
     "name": "stdout",
     "output_type": "stream",
     "text": [
      "20 10\n",
      "(10, 20)\n"
     ]
    },
    {
     "data": {
      "text/plain": [
       "tuple"
      ]
     },
     "execution_count": 12,
     "metadata": {},
     "output_type": "execute_result"
    }
   ],
   "source": [
    "a = 10\n",
    "b = 20\n",
    "def swap(x,y) : # 함수는 여러개의 값을 리턴할 수 있음\n",
    "    return y, x\n",
    "a,b = swap(a,b)\n",
    "x = swap(a,b) # 함수가 리턴하는 값은 튜플\n",
    "print(a,b)\n",
    "print(x)\n",
    "type(x)"
   ]
  },
  {
   "cell_type": "markdown",
   "metadata": {},
   "source": [
    "# 두 수를 입력받아 +, -, * 하는 함수 3개를 작성하시요 (add, subtract, multiply)"
   ]
  },
  {
   "cell_type": "code",
   "execution_count": 15,
   "metadata": {},
   "outputs": [
    {
     "name": "stdout",
     "output_type": "stream",
     "text": [
      "첫 번째 숫자를 입력하시요 : 20\n",
      "두 번째 숫자를 입력하시요 : 10\n",
      "합은   30\n",
      "뺀 값은   10\n",
      "곱은   200\n"
     ]
    }
   ],
   "source": [
    "a = int(input(\"첫 번째 숫자를 입력하시요 : \"))\n",
    "b = int(input(\"두 번째 숫자를 입력하시요 : \"))\n",
    "\n",
    "def add (a,b) : \n",
    "    return a+b\n",
    "print(\"합은  \",add(a,b))\n",
    "\n",
    "def sub (a,b) :\n",
    "    return a-b\n",
    "print(\"뺀 값은  \", sub(a,b))\n",
    "\n",
    "def mul (a,b) :\n",
    "    return a*b\n",
    "print(\"곱은  \" ,mul(a,b))"
   ]
  },
  {
   "cell_type": "code",
   "execution_count": 16,
   "metadata": {},
   "outputs": [
    {
     "name": "stdout",
     "output_type": "stream",
     "text": [
      "결과 :  30\n",
      "결과 :  -10\n",
      "결과 :  200\n"
     ]
    }
   ],
   "source": [
    "def add (a,b) : \n",
    "    return a+b\n",
    "\n",
    "def subtract (a,b) :\n",
    "    return a-b\n",
    "\n",
    "def multiply (a,b) :\n",
    "    return a*b\n",
    "# 함수는 일급함수 : 함수가 매개변수로 전달가능, 리턴값으로 가능(javascript)\n",
    "def changefun(g, a, b) :\n",
    "    return g(a,b)\n",
    "print('결과 : ', changefun(add, 10, 20)) # sort(key 함수 전달)\n",
    "print('결과 : ', changefun(subtract, 10, 20))\n",
    "print('결과 : ', changefun(multiply, 10, 20)) "
   ]
  },
  {
   "cell_type": "code",
   "execution_count": 28,
   "metadata": {},
   "outputs": [
    {
     "name": "stdout",
     "output_type": "stream",
     "text": [
      "함수 내부에서 출력 :  [10, 20, 30, [1, 2, 3, 4]]\n",
      "함수 외부에서 출력 :  [10, 20, 30, [1, 2, 3, 4]]\n"
     ]
    }
   ],
   "source": [
    "# ; 문장 종료 (없어도 됨)\n",
    "def changeme(mylist) : # mylist = mylist 주소\n",
    "    mylist.append([1,2,3,4]); # 대입이 벌어지면 call by value\n",
    "    #mylist = [1,2,3,4]\n",
    "    print(\"함수 내부에서 출력 : \", mylist)\n",
    "    return\n",
    "mylist = [10, 20, 30]; # heap에 저장, 이유 : 주소값이 넘어갔기 때문 call by reference\n",
    "changeme(mylist);\n",
    "print(\"함수 외부에서 출력 : \", mylist)"
   ]
  },
  {
   "cell_type": "code",
   "execution_count": 29,
   "metadata": {},
   "outputs": [
    {
     "ename": "AttributeError",
     "evalue": "'set' object has no attribute 'append'",
     "output_type": "error",
     "traceback": [
      "\u001b[1;31m---------------------------------------------------------------------------\u001b[0m",
      "\u001b[1;31mAttributeError\u001b[0m                            Traceback (most recent call last)",
      "\u001b[1;32m<ipython-input-29-a7dc5364c1bb>\u001b[0m in \u001b[0;36m<module>\u001b[1;34m\u001b[0m\n\u001b[0;32m      1\u001b[0m \u001b[0mmylist\u001b[0m \u001b[1;33m=\u001b[0m \u001b[1;33m{\u001b[0m\u001b[1;36m10\u001b[0m\u001b[1;33m,\u001b[0m \u001b[1;36m20\u001b[0m\u001b[1;33m,\u001b[0m \u001b[1;36m30\u001b[0m\u001b[1;33m}\u001b[0m\u001b[1;33m;\u001b[0m\u001b[1;33m\u001b[0m\u001b[1;33m\u001b[0m\u001b[0m\n\u001b[1;32m----> 2\u001b[1;33m \u001b[0mchangeme\u001b[0m\u001b[1;33m(\u001b[0m\u001b[0mmylist\u001b[0m\u001b[1;33m)\u001b[0m\u001b[1;33m;\u001b[0m\u001b[1;33m\u001b[0m\u001b[1;33m\u001b[0m\u001b[0m\n\u001b[0m\u001b[0;32m      3\u001b[0m \u001b[0mprint\u001b[0m\u001b[1;33m(\u001b[0m\u001b[1;34m\"함수 외부에서 출력 : \"\u001b[0m\u001b[1;33m,\u001b[0m \u001b[0mmylist\u001b[0m\u001b[1;33m)\u001b[0m\u001b[1;33m\u001b[0m\u001b[1;33m\u001b[0m\u001b[0m\n",
      "\u001b[1;32m<ipython-input-28-00249b8a6e83>\u001b[0m in \u001b[0;36mchangeme\u001b[1;34m(mylist)\u001b[0m\n\u001b[0;32m      1\u001b[0m \u001b[1;32mdef\u001b[0m \u001b[0mchangeme\u001b[0m\u001b[1;33m(\u001b[0m\u001b[0mmylist\u001b[0m\u001b[1;33m)\u001b[0m \u001b[1;33m:\u001b[0m \u001b[1;31m# mylist = mylist 주소\u001b[0m\u001b[1;33m\u001b[0m\u001b[1;33m\u001b[0m\u001b[0m\n\u001b[1;32m----> 2\u001b[1;33m     \u001b[0mmylist\u001b[0m\u001b[1;33m.\u001b[0m\u001b[0mappend\u001b[0m\u001b[1;33m(\u001b[0m\u001b[1;33m[\u001b[0m\u001b[1;36m1\u001b[0m\u001b[1;33m,\u001b[0m\u001b[1;36m2\u001b[0m\u001b[1;33m,\u001b[0m\u001b[1;36m3\u001b[0m\u001b[1;33m,\u001b[0m\u001b[1;36m4\u001b[0m\u001b[1;33m]\u001b[0m\u001b[1;33m)\u001b[0m\u001b[1;33m;\u001b[0m \u001b[1;31m# 대입이 벌어지면 call by value\u001b[0m\u001b[1;33m\u001b[0m\u001b[1;33m\u001b[0m\u001b[0m\n\u001b[0m\u001b[0;32m      3\u001b[0m     \u001b[1;31m#mylist = [1,2,3,4]\u001b[0m\u001b[1;33m\u001b[0m\u001b[1;33m\u001b[0m\u001b[1;33m\u001b[0m\u001b[0m\n\u001b[0;32m      4\u001b[0m     \u001b[0mprint\u001b[0m\u001b[1;33m(\u001b[0m\u001b[1;34m\"함수 내부에서 출력 : \"\u001b[0m\u001b[1;33m,\u001b[0m \u001b[0mmylist\u001b[0m\u001b[1;33m)\u001b[0m\u001b[1;33m\u001b[0m\u001b[1;33m\u001b[0m\u001b[0m\n\u001b[0;32m      5\u001b[0m     \u001b[1;32mreturn\u001b[0m\u001b[1;33m\u001b[0m\u001b[1;33m\u001b[0m\u001b[0m\n",
      "\u001b[1;31mAttributeError\u001b[0m: 'set' object has no attribute 'append'"
     ]
    }
   ],
   "source": [
    "# 실행이 안되는 이유 : 데이터타입을 구분해야 하는 것은 프로그래머의 책임\n",
    "mylist = {10, 20, 30};\n",
    "changeme(mylist);\n",
    "print(\"함수 외부에서 출력 : \", mylist)"
   ]
  },
  {
   "cell_type": "code",
   "execution_count": 30,
   "metadata": {},
   "outputs": [
    {
     "name": "stdout",
     "output_type": "stream",
     "text": [
      "시작\n",
      "1,2,3,\n",
      "1,2,3,4,5,\n"
     ]
    }
   ],
   "source": [
    "# 변동 매개변수\n",
    "def func1(*args) : # list\n",
    "    for i in args :\n",
    "        print(i, end = ',')\n",
    "    print()\n",
    "print('시작')\n",
    "func1(1,2,3)\n",
    "func1(1,2,3,4,5)"
   ]
  },
  {
   "cell_type": "code",
   "execution_count": 33,
   "metadata": {},
   "outputs": [
    {
     "name": "stdout",
     "output_type": "stream",
     "text": [
      "args is (1, 2)\n",
      "kwargs is {'z': 5.0}\n",
      "Hello Now I'm going to call <function g at 0x000001BE7E3E2558>\n",
      "1\n",
      "2\n",
      "5.0\n"
     ]
    },
    {
     "data": {
      "text/plain": [
       "0.6"
      ]
     },
     "execution_count": 33,
     "metadata": {},
     "output_type": "execute_result"
    }
   ],
   "source": [
    "def say_hello_then_call(f, *args, **kwargs) :\n",
    "    print(\"args is\", args)\n",
    "    print(\"kwargs is\", kwargs)\n",
    "    print(\"Hello Now I'm going to call %s\"%f)# 함수 위치한 주소\n",
    "    return f(*args, **kwargs)\n",
    "def g(x,y,z=1): # 디폴트 매개변수\n",
    "    print(x)\n",
    "    print(y)\n",
    "    print(z)\n",
    "    return(x+y)/z\n",
    "say_hello_then_call(g, 1,2, z=5.)"
   ]
  },
  {
   "cell_type": "code",
   "execution_count": 37,
   "metadata": {},
   "outputs": [
    {
     "name": "stdout",
     "output_type": "stream",
     "text": [
      "1 0\n",
      "1 2\n",
      "1 2\n"
     ]
    }
   ],
   "source": [
    "def func_test2(a, b = 0):\n",
    "    print(a,b)\n",
    "func_test2(1)\n",
    "func_test2(1,2)\n",
    "func_test2(b=2, a=1)"
   ]
  },
  {
   "cell_type": "code",
   "execution_count": 40,
   "metadata": {},
   "outputs": [],
   "source": [
    "def func_test4() : # None 객체\n",
    "    pass # 몸통을 미지정"
   ]
  },
  {
   "cell_type": "code",
   "execution_count": 42,
   "metadata": {},
   "outputs": [
    {
     "data": {
      "text/plain": [
       "True"
      ]
     },
     "execution_count": 42,
     "metadata": {},
     "output_type": "execute_result"
    }
   ],
   "source": [
    "# == 숫자나 문자, 객체를 비교 할 때는 is함수\n",
    "result = func_test4()\n",
    "result is None"
   ]
  },
  {
   "cell_type": "code",
   "execution_count": 44,
   "metadata": {},
   "outputs": [
    {
     "data": {
      "text/plain": [
       "NoneType"
      ]
     },
     "execution_count": 44,
     "metadata": {},
     "output_type": "execute_result"
    }
   ],
   "source": [
    "result.__class__ # 멤버변수, 시스템에서 생성한 변수"
   ]
  },
  {
   "cell_type": "code",
   "execution_count": 45,
   "metadata": {},
   "outputs": [
    {
     "data": {
      "text/plain": [
       "function"
      ]
     },
     "execution_count": 45,
     "metadata": {},
     "output_type": "execute_result"
    }
   ],
   "source": [
    "func_test4.__class__"
   ]
  },
  {
   "cell_type": "code",
   "execution_count": 47,
   "metadata": {},
   "outputs": [
    {
     "name": "stdout",
     "output_type": "stream",
     "text": [
      "15 5 50\n",
      "<class 'function'>\n"
     ]
    }
   ],
   "source": [
    "def func_test3(a,b) :\n",
    "    return a+b, a-b, a*b\n",
    "a,b,c = func_test3(10,5)\n",
    "print(a,b,c)\n",
    "print(type(func_test3)) # 함수도 객체다."
   ]
  },
  {
   "cell_type": "code",
   "execution_count": null,
   "metadata": {},
   "outputs": [],
   "source": [
    "https://www.w3schools.com/python/ref_list_sort.asp"
   ]
  },
  {
   "cell_type": "markdown",
   "metadata": {},
   "source": [
    "# 커링"
   ]
  },
  {
   "cell_type": "code",
   "execution_count": 49,
   "metadata": {},
   "outputs": [
    {
     "name": "stdout",
     "output_type": "stream",
     "text": [
      "15\n"
     ]
    }
   ],
   "source": [
    "def all_number(x,y) :\n",
    "    return x+y\n",
    "add_five = lambda y : all_number(5,y) # 무명함수 -> 유명함수\n",
    "print(add_five(10))"
   ]
  },
  {
   "cell_type": "markdown",
   "metadata": {},
   "source": [
    "# 문제 두 점 사이의 거리값을 구하는 함수를 작성하시요\n",
    "# root -> import math; math.sqrt()"
   ]
  },
  {
   "cell_type": "code",
   "execution_count": 58,
   "metadata": {},
   "outputs": [
    {
     "name": "stdout",
     "output_type": "stream",
     "text": [
      "1.414\n"
     ]
    }
   ],
   "source": [
    "import math\n",
    "def dis(x1,x2, y1, y2) :\n",
    "    dx = x1 - x2\n",
    "    dy = y1 - y2\n",
    "    return round(math.sqrt(dx**2+dy**2),3)\n",
    "print(dis(1, 2, 3, 4))"
   ]
  },
  {
   "cell_type": "markdown",
   "metadata": {},
   "source": [
    "# factorial"
   ]
  },
  {
   "cell_type": "code",
   "execution_count": 68,
   "metadata": {},
   "outputs": [
    {
     "data": {
      "text/plain": [
       "120"
      ]
     },
     "execution_count": 68,
     "metadata": {},
     "output_type": "execute_result"
    }
   ],
   "source": [
    "def factorial(n) :\n",
    "    mul = 1 # 항등원 : 덧셈 0, 곱셈 : 1, 행렬 : 단위행열\n",
    "    for i in range(n, 1, -1) :\n",
    "        mul *= i\n",
    "    return mul\n",
    "factorial(5)"
   ]
  },
  {
   "cell_type": "markdown",
   "metadata": {},
   "source": [
    "# 재귀함수 : 함수가 자기자신 함수를 호출"
   ]
  },
  {
   "cell_type": "code",
   "execution_count": 67,
   "metadata": {},
   "outputs": [
    {
     "data": {
      "text/plain": [
       "120"
      ]
     },
     "execution_count": 67,
     "metadata": {},
     "output_type": "execute_result"
    }
   ],
   "source": [
    "def factorial(n, stop = 1) :\n",
    "    if n <= stop or n <= 0 : # 종료조건, 입력제한\n",
    "        return 1\n",
    "    return n*factorial(n-1, stop)\n",
    "factorial(5)"
   ]
  },
  {
   "cell_type": "markdown",
   "metadata": {},
   "source": [
    "# power 함수를 구현하시요 (2^10) # pow(2^10)"
   ]
  },
  {
   "cell_type": "code",
   "execution_count": 70,
   "metadata": {},
   "outputs": [
    {
     "name": "stdout",
     "output_type": "stream",
     "text": [
      "8\n"
     ]
    }
   ],
   "source": [
    "def power(r, n) :\n",
    "    value = 1\n",
    "    for i in range(1, n+1) :\n",
    "        value = r*value\n",
    "    return value\n",
    "print(power(2,3))"
   ]
  },
  {
   "cell_type": "code",
   "execution_count": 74,
   "metadata": {},
   "outputs": [
    {
     "name": "stdout",
     "output_type": "stream",
     "text": [
      "8\n"
     ]
    }
   ],
   "source": [
    "def power(r, n) :\n",
    "    if  n == 1:\n",
    "        return r\n",
    "    else :\n",
    "        return r*power(r, n-1)\n",
    "print(power(2,3))"
   ]
  },
  {
   "cell_type": "markdown",
   "metadata": {},
   "source": [
    "# 내부함수"
   ]
  },
  {
   "cell_type": "code",
   "execution_count": 76,
   "metadata": {},
   "outputs": [
    {
     "name": "stdout",
     "output_type": "stream",
     "text": [
      "inner\n"
     ]
    }
   ],
   "source": [
    "def outer() :\n",
    "    def inner() :\n",
    "        print('inner')\n",
    "    inner()\n",
    "def inner() :\n",
    "    print('Global inner')\n",
    "outer()"
   ]
  },
  {
   "cell_type": "markdown",
   "metadata": {},
   "source": [
    "# generator\n",
    "\n",
    "# for in  : Collections(list, tuple, dict, set), iterator(ranges), generator, enumerator"
   ]
  },
  {
   "cell_type": "code",
   "execution_count": 82,
   "metadata": {},
   "outputs": [
    {
     "name": "stdout",
     "output_type": "stream",
     "text": [
      "0.5520964903196751\n",
      "0.00895721008283179\n",
      "0.302917244438609\n",
      "0.8479599597467655\n",
      "0.05154600928505837\n"
     ]
    }
   ],
   "source": [
    "import random\n",
    "def gaus_dist(n) :\n",
    "    while n>0 :\n",
    "        yield random.random() # 비동기 호출함수 0~1\n",
    "        n-=1\n",
    "gd = gaus_dist(5)\n",
    "for i in gd:\n",
    "    print(i)"
   ]
  },
  {
   "cell_type": "code",
   "execution_count": null,
   "metadata": {},
   "outputs": [],
   "source": [
    "https://wikidocs.net/79"
   ]
  },
  {
   "cell_type": "markdown",
   "metadata": {},
   "source": [
    "# 함수가 값을 저장할 수 있는가?\n",
    "\n",
    "# clouser(자바스크립트에서 사용하던 방식)"
   ]
  },
  {
   "cell_type": "code",
   "execution_count": 83,
   "metadata": {},
   "outputs": [
    {
     "name": "stdout",
     "output_type": "stream",
     "text": [
      "python's recipe no.1\n",
      "perl's recipe no.2\n"
     ]
    },
    {
     "data": {
      "text/plain": [
       "(1917673631176, 1917673630888)"
      ]
     },
     "execution_count": 83,
     "metadata": {},
     "output_type": "execute_result"
    }
   ],
   "source": [
    "def cookbook(name) :\n",
    "    def recipe(no) :\n",
    "        print(\"%s's recipe no.%d\" %(name, no))\n",
    "    return recipe\n",
    "python_recipe = cookbook('python')\n",
    "perl_recipe = cookbook('perl')\n",
    "python_recipe(1)\n",
    "perl_recipe(2)\n",
    "id(python_recipe), id(perl_recipe)"
   ]
  },
  {
   "cell_type": "code",
   "execution_count": 85,
   "metadata": {},
   "outputs": [
    {
     "name": "stdout",
     "output_type": "stream",
     "text": [
      "        1.7560\n",
      "        2.2220\n",
      "              1\n"
     ]
    }
   ],
   "source": [
    "# clouser 클로저의 응용(장식자 : decorator)\n",
    "def format_and_pad(template, space) :\n",
    "    def formatter(x) :\n",
    "        return(template % x).rjust(space) # rjust 오른쪽으로 15째칸\n",
    "    return formatter\n",
    "\n",
    "fmt = format_and_pad('%.4f', 15)\n",
    "print(fmt(1.756))\n",
    "print(fmt(2.222))\n",
    "fmt2 = format_and_pad('%d', 15)\n",
    "print(fmt2(1.756))"
   ]
  },
  {
   "cell_type": "markdown",
   "metadata": {},
   "source": [
    "# 데이터를 입력받아 삼각형의 넓이, 사각형의 넓이, 원의 넓이를 계산하는 \n",
    "\n",
    "# 함수를 작성해 보시요"
   ]
  },
  {
   "cell_type": "code",
   "execution_count": 87,
   "metadata": {},
   "outputs": [
    {
     "name": "stdout",
     "output_type": "stream",
     "text": [
      "밑변의 길이를 입력하시요 : 10\n",
      "높이를 입력하시요 : 5\n",
      "반지름의 길이를 입력하시요 : 6\n",
      "삼각형의 넓이는  25.0\n",
      "사각형의 넓이는  50\n",
      "원의 넓이는  113.097\n"
     ]
    }
   ],
   "source": [
    "import math\n",
    "def tri(x, y) :\n",
    "    result = x*y/2\n",
    "    return result\n",
    "\n",
    "def rec(x,y) :\n",
    "    result = x*y\n",
    "    return result\n",
    "\n",
    "def cir(x) :\n",
    "    result = round(x**2 *math.pi ,3)\n",
    "    return result\n",
    "\n",
    "bot = int(input(\"밑변의 길이를 입력하시요 : \"))\n",
    "height = int(input(\"높이를 입력하시요 : \"))\n",
    "r = int(input(\"반지름의 길이를 입력하시요 : \"))\n",
    "\n",
    "print(\"삼각형의 넓이는 \", tri(bot, height))\n",
    "print(\"사각형의 넓이는 \", rec(bot, height))\n",
    "print(\"원의 넓이는 \", cir(r))"
   ]
  },
  {
   "cell_type": "code",
   "execution_count": null,
   "metadata": {},
   "outputs": [],
   "source": [
    "# 선생님 풀이\n",
    "b"
   ]
  },
  {
   "cell_type": "code",
   "execution_count": null,
   "metadata": {},
   "outputs": [],
   "source": [
    "문제 :  시간과 시간당 급여를 입력받아 주급을 계산하는 프로그램을 작성하시요\n",
    "- 조건 : 40시간이 넘으면 1.5배하여 지급합니다.\n",
    "     - 매개변수(시간, 시간당 급여)\n"
   ]
  },
  {
   "cell_type": "code",
   "execution_count": 92,
   "metadata": {},
   "outputs": [
    {
     "name": "stdout",
     "output_type": "stream",
     "text": [
      "일한 시간을 입력하세요 : 48\n",
      "시간당 급여를 입력하세요 : 8000\n",
      "주급은  576000 원\n"
     ]
    }
   ],
   "source": [
    "def wage(x,y) :\n",
    "    if x>40 :\n",
    "        result = round(x*(y*1.5))\n",
    "        return result\n",
    "    else : \n",
    "        result = x*y\n",
    "        return result\n",
    "time = int(input(\"일한 시간을 입력하세요 : \"))\n",
    "twage = int(input(\"시간당 급여를 입력하세요 : \"))\n",
    "\n",
    "money = wage(time, twage)\n",
    "print(\"주급은 \", money, \"원\")"
   ]
  },
  {
   "cell_type": "code",
   "execution_count": null,
   "metadata": {},
   "outputs": [],
   "source": [
    "문제 : 이자율이 주어졌을 때 기간거치후의 총액과 이자수익을 출력하시요\n",
    "    복리계산 = (원가1+이율0.04 )**거치년수\n",
    "    INTEREST_RATE = 0.04\n",
    "매개변수 : 원금, 거치기간\n",
    "\n",
    "    조건 ; 입력함수, 계산함수, 출력함수로 분리해서 작성"
   ]
  },
  {
   "cell_type": "code",
   "execution_count": 96,
   "metadata": {},
   "outputs": [
    {
     "name": "stdout",
     "output_type": "stream",
     "text": [
      "원가를 입력하시오 : 1000\n",
      "거치기간을 입력하시요 : 3\n",
      "총액은  1000121004.8000638 원입니다.\n",
      "이자수익은  1000120004.8000638 원입니다.\n"
     ]
    }
   ],
   "source": [
    "money = int(input(\"원가를 입력하시오 : \"))\n",
    "duration = int(input(\"거치기간을 입력하시요 : \"))\n",
    "INTEREST_RATE = 0.04\n",
    "\n",
    "def mon_du(x,y) :\n",
    "    result = (x+INTEREST_RATE)**y\n",
    "    return result\n",
    "\n",
    "all_money = money+mon_du(money, duration)\n",
    "\n",
    "print(\"총액은 \", all_money,\"원입니다.\")\n",
    "print(\"이자수익은 \", mon_du(money, duration),\"원입니다.\")"
   ]
  },
  {
   "cell_type": "code",
   "execution_count": 2,
   "metadata": {},
   "outputs": [
    {
     "name": "stdout",
     "output_type": "stream",
     "text": [
      "원가를 입력하시오 : 1000\n",
      "거치기간을 입력하시요 : 3\n",
      "총액은  1125 원 이자수익은  125 원입니다.\n"
     ]
    }
   ],
   "source": [
    "def inc() :\n",
    "    x = int(input(\"원가를 입력하시오 : \"))\n",
    "    y = int(input(\"거치기간을 입력하시요 : \"))\n",
    "    return x,y\n",
    "money, duration = inc() \n",
    "\n",
    "def mon_du(x,y) :\n",
    "    result = x*(1.04**y)\n",
    "    result2 = result-x\n",
    "    return result, result2\n",
    "all_money, income = mon_du(money, duration)\n",
    "\n",
    "def out_money(x,y) :\n",
    "    print(\"총액은 \", round(x) , \"원\", \"이자수익은 \", round(y),\"원입니다.\")\n",
    "    \n",
    "out_money(all_money, income)"
   ]
  },
  {
   "cell_type": "code",
   "execution_count": 4,
   "metadata": {},
   "outputs": [
    {
     "name": "stdout",
     "output_type": "stream",
     "text": [
      "예금액 : 1000\n",
      "기간 : 3\n",
      "예금 총액 : $1,124.86 이자총액 : $124.86\n"
     ]
    }
   ],
   "source": [
    "INTEREST_RATE = 0.04\n",
    "def getinput() :\n",
    "    money = eval(input(\"예금액 : \"))\n",
    "    years = eval(input(\"기간 : \"))\n",
    "    return (money, years)\n",
    "\n",
    "def interest(prin, numyears) :\n",
    "    bal= prin * ((1+INTEREST_RATE) ** numyears)\n",
    "    earn = bal - prin\n",
    "    return(bal, earn)\n",
    "\n",
    "def output(ball, intearn) :\n",
    "    print(\"예금 총액 : ${0:,.2f} 이자총액 : ${1:,.2f}\".format(ball, intearn))\n",
    "    \n",
    "def main() :\n",
    "    # money, years = getinput()\n",
    "    # bal, intearn = interest(money, years)\n",
    "    # output(bal, intearn)\n",
    "    output(*(interest(*(getinput()))))\n",
    "    \n",
    "main()"
   ]
  },
  {
   "cell_type": "code",
   "execution_count": null,
   "metadata": {},
   "outputs": [],
   "source": [
    "# 함수화 프로그래밍 for + 함수를 적용\n",
    "lambda 함수를 이용한 처리가 많음"
   ]
  },
  {
   "cell_type": "code",
   "execution_count": 5,
   "metadata": {},
   "outputs": [
    {
     "data": {
      "text/plain": [
       "100"
      ]
     },
     "execution_count": 5,
     "metadata": {},
     "output_type": "execute_result"
    }
   ],
   "source": [
    "(lambda x : x*x)(10)"
   ]
  },
  {
   "cell_type": "code",
   "execution_count": 6,
   "metadata": {},
   "outputs": [
    {
     "name": "stdout",
     "output_type": "stream",
     "text": [
      "11\n"
     ]
    },
    {
     "data": {
      "text/plain": [
       "15"
      ]
     },
     "execution_count": 6,
     "metadata": {},
     "output_type": "execute_result"
    }
   ],
   "source": [
    "incr = lambda x, incr = 1: x+incr # 무명함수 -> 유명함수\n",
    "print(incr(10))\n",
    "incr(10,5)"
   ]
  },
  {
   "cell_type": "code",
   "execution_count": 7,
   "metadata": {},
   "outputs": [
    {
     "name": "stdout",
     "output_type": "stream",
     "text": [
      "['aaaa', 'foo', 'abab', 'bar', 'card']\n"
     ]
    }
   ],
   "source": [
    "strings=['foo', 'card', 'bar', 'aaaa', 'abab' ]\n",
    "string.sort()\n",
    "# 정렬기준을 key에 함수로 전달()\n",
    "strings.sort(key = lambda x: len(set(list(x)))) # 중복되지 않는 데이터 개수에 따라\n",
    "print(strings)"
   ]
  },
  {
   "cell_type": "code",
   "execution_count": 8,
   "metadata": {},
   "outputs": [
    {
     "name": "stdout",
     "output_type": "stream",
     "text": [
      "<map object at 0x000001E692B754C8>\n",
      "[9, 16]\n"
     ]
    }
   ],
   "source": [
    "# 디폴트가 없기 때문 (?)\n",
    "m = map(lambda x : x*x, [3, 4]) # 고유한 포맷으로 출력, map은 한번에 출력 불가\n",
    "print(m)\n",
    "print(list(m)) # 리스트로 캐스팅해야 출력"
   ]
  },
  {
   "cell_type": "code",
   "execution_count": 9,
   "metadata": {},
   "outputs": [
    {
     "data": {
      "text/plain": [
       "[0, 1, 4, 9, 16]"
      ]
     },
     "execution_count": 9,
     "metadata": {},
     "output_type": "execute_result"
    }
   ],
   "source": [
    "list(map(lambda x : x*x, range(5)))"
   ]
  },
  {
   "cell_type": "code",
   "execution_count": 10,
   "metadata": {},
   "outputs": [
    {
     "data": {
      "text/plain": [
       "[0, 1, 4, 9, 16]"
      ]
     },
     "execution_count": 10,
     "metadata": {},
     "output_type": "execute_result"
    }
   ],
   "source": [
    "sqr = lambda x : x*x\n",
    "list(map(sqr, range(5)))"
   ]
  },
  {
   "cell_type": "code",
   "execution_count": 11,
   "metadata": {},
   "outputs": [
    {
     "data": {
      "text/plain": [
       "[0, 1, 4, 9, 16]"
      ]
     },
     "execution_count": 11,
     "metadata": {},
     "output_type": "execute_result"
    }
   ],
   "source": [
    "def sqr2(x) :\n",
    "    return x*x\n",
    "list(map(sqr2, range(5)))"
   ]
  },
  {
   "cell_type": "code",
   "execution_count": null,
   "metadata": {},
   "outputs": [],
   "source": [
    "문제 : 다음 출근 시간 데이터에 대하여 기본금 10000원 시간당 7500원의 급여를 계산하고 \n",
    "    lambda함수와 map함수를 이용하여 구하시요"
   ]
  },
  {
   "cell_type": "code",
   "execution_count": 12,
   "metadata": {},
   "outputs": [
    {
     "data": {
      "text/plain": [
       "[1210000, 1135000, 910000, 1360000, 2260000, 3010000]"
      ]
     },
     "execution_count": 12,
     "metadata": {},
     "output_type": "execute_result"
    }
   ],
   "source": [
    "total_time = [160, 150, 120, 180, 300, 400]\n",
    "calc = lambda x : 10000+7500*x\n",
    "list(map(calc, total_time))"
   ]
  },
  {
   "cell_type": "code",
   "execution_count": 13,
   "metadata": {},
   "outputs": [
    {
     "data": {
      "text/plain": [
       "[1, 3, 5, 7, 9]"
      ]
     },
     "execution_count": 13,
     "metadata": {},
     "output_type": "execute_result"
    }
   ],
   "source": [
    "def odd(p) :\n",
    "    return [i for i in p if i%2]\n",
    "odd(range(10))"
   ]
  },
  {
   "cell_type": "code",
   "execution_count": 15,
   "metadata": {},
   "outputs": [
    {
     "data": {
      "text/plain": [
       "[1, 3, 5, 7, 9]"
      ]
     },
     "execution_count": 15,
     "metadata": {},
     "output_type": "execute_result"
    }
   ],
   "source": [
    "# 필터의 함수는 True/False를 리턴하는 함수여야 함\n",
    "def odd(k) :\n",
    "    return k%2\n",
    "list(filter(odd, range(10)))"
   ]
  },
  {
   "cell_type": "code",
   "execution_count": null,
   "metadata": {},
   "outputs": [],
   "source": [
    " 문제 : 1부터 99사이의 데이터를 3으로 나누어 떨어지는 데이터를 filter를 이용해 구하시요"
   ]
  },
  {
   "cell_type": "code",
   "execution_count": 19,
   "metadata": {},
   "outputs": [
    {
     "data": {
      "text/plain": [
       "[3,\n",
       " 6,\n",
       " 9,\n",
       " 12,\n",
       " 15,\n",
       " 18,\n",
       " 21,\n",
       " 24,\n",
       " 27,\n",
       " 30,\n",
       " 33,\n",
       " 36,\n",
       " 39,\n",
       " 42,\n",
       " 45,\n",
       " 48,\n",
       " 51,\n",
       " 54,\n",
       " 57,\n",
       " 60,\n",
       " 63,\n",
       " 66,\n",
       " 69,\n",
       " 72,\n",
       " 75,\n",
       " 78,\n",
       " 81,\n",
       " 84,\n",
       " 87,\n",
       " 90,\n",
       " 93,\n",
       " 96,\n",
       " 99]"
      ]
     },
     "execution_count": 19,
     "metadata": {},
     "output_type": "execute_result"
    }
   ],
   "source": [
    "def thre(a) :\n",
    "    return a%3==0\n",
    "list(filter(thre, range(1,100)))"
   ]
  },
  {
   "cell_type": "code",
   "execution_count": 20,
   "metadata": {},
   "outputs": [
    {
     "data": {
      "text/plain": [
       "55"
      ]
     },
     "execution_count": 20,
     "metadata": {},
     "output_type": "execute_result"
    }
   ],
   "source": [
    "# reduce (분산처리시 값을 계산할 때 사용)\n",
    "from functools import reduce\n",
    "reduce(lambda x, y : x+y, range (11)) # 이전에 계산된 값이 x로"
   ]
  },
  {
   "cell_type": "code",
   "execution_count": 21,
   "metadata": {},
   "outputs": [
    {
     "data": {
      "text/plain": [
       "'edcba'"
      ]
     },
     "execution_count": 21,
     "metadata": {},
     "output_type": "execute_result"
    }
   ],
   "source": [
    "reduce(lambda x,y : y+x, 'abcde')"
   ]
  },
  {
   "cell_type": "code",
   "execution_count": 23,
   "metadata": {},
   "outputs": [
    {
     "name": "stdout",
     "output_type": "stream",
     "text": [
      "100\n",
      "5.0\n"
     ]
    }
   ],
   "source": [
    "# 함수 배열\n",
    "func_choice = [lambda x, y : x**y, lambda x,y : x/y]\n",
    "print(func_choice[0](10,2))\n",
    "print(func_choice[1](10,2))"
   ]
  },
  {
   "cell_type": "code",
   "execution_count": null,
   "metadata": {},
   "outputs": [],
   "source": [
    "문제 : 다음 데이터에서 4보다 큰 수만 출력하도록 filtering해보시오b"
   ]
  },
  {
   "cell_type": "code",
   "execution_count": 24,
   "metadata": {},
   "outputs": [
    {
     "name": "stdout",
     "output_type": "stream",
     "text": [
      "[5, 6, 7, 8]\n"
     ]
    }
   ],
   "source": [
    "data = [1,2,3,4,5,6,7,8,3,4,2,1]\n",
    "\n",
    "fil = list(filter(lambda x:x>4, data))\n",
    "print(fil)"
   ]
  },
  {
   "cell_type": "code",
   "execution_count": null,
   "metadata": {},
   "outputs": [],
   "source": [
    "문제 : 숫자를 입력 받아서 홀수인 경우는 '나는 행복합니다'라고 출력하고\n",
    "    짝수인 경우는 '나는 귀중한 사람이다'라고 출력하는 함수 선택을 구현해 보시요"
   ]
  },
  {
   "cell_type": "code",
   "execution_count": 35,
   "metadata": {},
   "outputs": [
    {
     "name": "stdout",
     "output_type": "stream",
     "text": [
      "숫자를 입력하시요21\n",
      "나는 행복합니다\n"
     ]
    }
   ],
   "source": [
    "num = int(input(\"숫자를 입력하시요\"))\n",
    "choice = [lambda : print(\"나는 귀중한 사람이다\"), lambda : print(\"나는 행복합니다\")]\n",
    "num%=2\n",
    "choice[num]()\n"
   ]
  },
  {
   "cell_type": "code",
   "execution_count": null,
   "metadata": {},
   "outputs": [],
   "source": [
    "성적프로그램을 입력, 처리, 출력 함수를 이용해서 구현하시요\n",
    "이름, 국어, 영어, 수학, 총점, 평균"
   ]
  },
  {
   "cell_type": "code",
   "execution_count": 24,
   "metadata": {},
   "outputs": [
    {
     "name": "stdout",
     "output_type": "stream",
     "text": [
      "이름를 입력하시오 : 김대현\n",
      "국어성적을 입력하시요 : 90\n",
      "영어성적을 입력하시요 : 90\n",
      "수학성적을 입력하시요 : 90\n"
     ]
    },
    {
     "ename": "TypeError",
     "evalue": "cal() missing 1 required positional argument: 'd'",
     "output_type": "error",
     "traceback": [
      "\u001b[1;31m---------------------------------------------------------------------------\u001b[0m",
      "\u001b[1;31mTypeError\u001b[0m                                 Traceback (most recent call last)",
      "\u001b[1;32m<ipython-input-24-91801ec9dbda>\u001b[0m in \u001b[0;36m<module>\u001b[1;34m\u001b[0m\n\u001b[0;32m     12\u001b[0m     \u001b[0mmean\u001b[0m \u001b[1;33m=\u001b[0m \u001b[0mtot\u001b[0m\u001b[1;33m/\u001b[0m\u001b[1;36m3\u001b[0m\u001b[1;33m\u001b[0m\u001b[1;33m\u001b[0m\u001b[0m\n\u001b[0;32m     13\u001b[0m     \u001b[1;32mreturn\u001b[0m \u001b[0mtot\u001b[0m\u001b[1;33m,\u001b[0m \u001b[0mmean\u001b[0m\u001b[1;33m\u001b[0m\u001b[1;33m\u001b[0m\u001b[0m\n\u001b[1;32m---> 14\u001b[1;33m \u001b[0mtot\u001b[0m\u001b[1;33m,\u001b[0m \u001b[0mmean\u001b[0m \u001b[1;33m=\u001b[0m \u001b[0mcal\u001b[0m\u001b[1;33m(\u001b[0m\u001b[0mkor\u001b[0m\u001b[1;33m,\u001b[0m \u001b[0meng\u001b[0m\u001b[1;33m,\u001b[0m \u001b[0mmath\u001b[0m\u001b[1;33m)\u001b[0m\u001b[1;33m\u001b[0m\u001b[1;33m\u001b[0m\u001b[0m\n\u001b[0m\u001b[0;32m     15\u001b[0m \u001b[1;33m\u001b[0m\u001b[0m\n\u001b[0;32m     16\u001b[0m \u001b[0msungjuk\u001b[0m\u001b[1;33m.\u001b[0m\u001b[0mappend\u001b[0m\u001b[1;33m(\u001b[0m\u001b[0mname\u001b[0m\u001b[1;33m)\u001b[0m\u001b[1;33m\u001b[0m\u001b[1;33m\u001b[0m\u001b[0m\n",
      "\u001b[1;31mTypeError\u001b[0m: cal() missing 1 required positional argument: 'd'"
     ]
    }
   ],
   "source": [
    "sungjuk=[]\n",
    "def inc() :\n",
    "    a = input(\"이름를 입력하시오 : \")\n",
    "    b = int(input(\"국어성적을 입력하시요 : \"))\n",
    "    c = int(input(\"영어성적을 입력하시요 : \"))\n",
    "    d = int(input(\"수학성적을 입력하시요 : \"))\n",
    "    return a,b,c,d\n",
    "name, kor, eng, math = inc() \n",
    "\n",
    "def cal(a,b,c,d) :\n",
    "    tot = b+c+d\n",
    "    mean = tot/3\n",
    "    return tot, mean\n",
    "tot, mean = cal(kor, eng, math)\n",
    "\n",
    "sungjuk.append(name)\n",
    "sungjuk.append(kor)\n",
    "sungjuk.append(eng)\n",
    "sungjuk.append(math)\n",
    "sungjuk.append(tot)\n",
    "sungjuk.append(mean)\n",
    "    \n",
    "print(sungjuk)"
   ]
  },
  {
   "cell_type": "code",
   "execution_count": 23,
   "metadata": {},
   "outputs": [
    {
     "name": "stdout",
     "output_type": "stream",
     "text": [
      "이름를 입력하시오 : 김대현\n",
      "국어성적을 입력하시요 : 90\n",
      "영어성적을 입력하시요 : 90\n",
      "수학성적을 입력하시요 : 90\n",
      "성적표 :  ['김대현', 90, 90, 90, 270, 90.0]\n"
     ]
    }
   ],
   "source": [
    "sungjuk=[]\n",
    "\n",
    "def inc() :\n",
    "    name = input(\"이름를 입력하시오 : \")\n",
    "    kor = int(input(\"국어성적을 입력하시요 : \"))\n",
    "    eng = int(input(\"영어성적을 입력하시요 : \"))\n",
    "    math = int(input(\"수학성적을 입력하시요 : \"))\n",
    "    sungjuk.append(name)\n",
    "    sungjuk.append(kor)\n",
    "    sungjuk.append(eng)\n",
    "    sungjuk.append(math)\n",
    "    return name, kor, eng, math\n",
    "\n",
    "def cal(a,b,c,d) :\n",
    "    tot = b+c+d\n",
    "    mean = tot/3\n",
    "    sungjuk.append(tot)\n",
    "    sungjuk.append(mean)\n",
    "    return tot, mean\n",
    "\n",
    "def output(x,y) :\n",
    "    print(\"성적표 : \", sungjuk)\n",
    "    \n",
    "def main () :\n",
    "    output(* (cal(*(inc()))))\n",
    "main()"
   ]
  }
 ],
 "metadata": {
  "kernelspec": {
   "display_name": "Python 3",
   "language": "python",
   "name": "python3"
  },
  "language_info": {
   "codemirror_mode": {
    "name": "ipython",
    "version": 3
   },
   "file_extension": ".py",
   "mimetype": "text/x-python",
   "name": "python",
   "nbconvert_exporter": "python",
   "pygments_lexer": "ipython3",
   "version": "3.7.4"
  }
 },
 "nbformat": 4,
 "nbformat_minor": 2
}
