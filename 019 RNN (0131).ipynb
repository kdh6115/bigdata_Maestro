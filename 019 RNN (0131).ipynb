{
 "cells": [
  {
   "cell_type": "code",
   "execution_count": 11,
   "metadata": {
    "collapsed": true
   },
   "outputs": [
    {
     "name": "stdout",
     "output_type": "stream",
     "text": [
      "WARNING:tensorflow:Entity <bound method BasicRNNCell.call of <tensorflow.python.ops.rnn_cell_impl.BasicRNNCell object at 0x0000015537530348>> could not be transformed and will be executed as-is. Please report this to the AutgoGraph team. When filing the bug, set the verbosity to 10 (on Linux, `export AUTOGRAPH_VERBOSITY=10`) and attach the full output. Cause: converting <bound method BasicRNNCell.call of <tensorflow.python.ops.rnn_cell_impl.BasicRNNCell object at 0x0000015537530348>>: AssertionError: Bad argument number for Name: 3, expecting 4\n",
      "WARNING: Entity <bound method BasicRNNCell.call of <tensorflow.python.ops.rnn_cell_impl.BasicRNNCell object at 0x0000015537530348>> could not be transformed and will be executed as-is. Please report this to the AutgoGraph team. When filing the bug, set the verbosity to 10 (on Linux, `export AUTOGRAPH_VERBOSITY=10`) and attach the full output. Cause: converting <bound method BasicRNNCell.call of <tensorflow.python.ops.rnn_cell_impl.BasicRNNCell object at 0x0000015537530348>>: AssertionError: Bad argument number for Name: 3, expecting 4\n",
      "WARNING:tensorflow:Entity <bound method BasicRNNCell.call of <tensorflow.python.ops.rnn_cell_impl.BasicRNNCell object at 0x0000015537530348>> could not be transformed and will be executed as-is. Please report this to the AutgoGraph team. When filing the bug, set the verbosity to 10 (on Linux, `export AUTOGRAPH_VERBOSITY=10`) and attach the full output. Cause: converting <bound method BasicRNNCell.call of <tensorflow.python.ops.rnn_cell_impl.BasicRNNCell object at 0x0000015537530348>>: AssertionError: Bad argument number for Name: 3, expecting 4\n",
      "WARNING: Entity <bound method BasicRNNCell.call of <tensorflow.python.ops.rnn_cell_impl.BasicRNNCell object at 0x0000015537530348>> could not be transformed and will be executed as-is. Please report this to the AutgoGraph team. When filing the bug, set the verbosity to 10 (on Linux, `export AUTOGRAPH_VERBOSITY=10`) and attach the full output. Cause: converting <bound method BasicRNNCell.call of <tensorflow.python.ops.rnn_cell_impl.BasicRNNCell object at 0x0000015537530348>>: AssertionError: Bad argument number for Name: 3, expecting 4\n"
     ]
    }
   ],
   "source": [
    "import numpy as np\n",
    "import os\n",
    "import tensorflow as tf\n",
    "\n",
    "tf.reset_default_graph() # 그래프 초기화(변수생성)\n",
    "n_inputs = 3 # 입력 데이터\n",
    "n_neurons = 5 # 셀의 가중치 사이즈\n",
    "\n",
    "X0 = tf.placeholder(tf.float32, [None, n_inputs]) # 4x3\n",
    "X1 = tf.placeholder(tf.float32, [None, n_inputs]) # 4x3\n",
    "# [0, 1, 2] 사이즈가 하나의 셀로 입력\n",
    "# FFNN(feed forward neural network)\n",
    "basic_cell = tf.contrib.rnn.BasicRNNCell(num_units=n_neurons) # 셀을 만들면서 가중치 사이즈(특성을 찾아내는 것)\n",
    "# static_rnn : rnn network(4개의 셀이 연결되면서 메모리 확보)\n",
    "output_seqs, states = tf.contrib.rnn.static_rnn(basic_cell, [X0, X1], dtype = tf.float32) # 2(배치사이즈) x 4 (셀수)x 3(뉴런수)\n",
    "# states : 다음으로 연결되어지는 값\n",
    "Y0, Y1 = output_seqs\n",
    "# 출력, 다음 셀로 전달되어지는 값(마지막 states값 -> 수평으로 셀을 연결)\n",
    "init = tf.global_variables_initializer()\n",
    "X0_batch = np.array([[0, 1, 2], [3, 4, 5], [6, 7, 8], [9, 0, 1]]) # 셀 하나씩 먼저 계산하고 옆으로 넘기고 그걸 가지고 또 계산하고 넘기는 구조\n",
    "X1_batch = np.array([[9, 8, 7], [0, 0, 0], [6, 5, 4], [3, 2, 1]])"
   ]
  },
  {
   "cell_type": "code",
   "execution_count": 19,
   "metadata": {
    "scrolled": true
   },
   "outputs": [
    {
     "name": "stdout",
     "output_type": "stream",
     "text": [
      "처음 데이터 특성 : \n",
      " [[ 0.8461064   0.51896864 -0.890019   -0.84969074 -0.7028126 ]\n",
      " [ 0.9999839   0.04929762 -0.99457866 -0.9996834  -0.99962807]\n",
      " [ 1.         -0.44323686 -0.9997461  -0.9999996  -0.9999996 ]\n",
      " [ 0.999983   -0.9910994   0.9990058  -0.8651231  -0.9999922 ]] \n",
      "차수 :  (4, 5)\n",
      "===============================================================================\n",
      "두번째 데이터 특성 :\n",
      "  [[ 1.         -0.95148987 -0.98448163 -0.9999976  -1.        ]\n",
      " [ 0.02512543  0.20363319  0.60816026  0.8447146  -0.9013321 ]\n",
      " [ 0.9999999  -0.9181077  -0.7767207  -0.9992909  -0.99999917]\n",
      " [ 0.99946105 -0.06703981 -0.36780044 -0.96766204 -0.997534  ]] \n",
      "차수 :  (4, 5)\n"
     ]
    }
   ],
   "source": [
    "with  tf.Session() as sess :\n",
    "    init.run()\n",
    "    Y0_val, Y1_val = sess.run([Y0, Y1], feed_dict={X0:X0_batch, X1 : X1_batch})\n",
    "print(\"처음 데이터 특성 : \\n\", Y0_val, \"\\n차수 : \", Y0_val.shape)\n",
    "print(\"===============================================================================\")\n",
    "print(\"두번째 데이터 특성 :\\n \", Y1_val, \"\\n차수 : \", Y1_val.shape)\n",
    "# 4x3 => 4x5"
   ]
  },
  {
   "cell_type": "markdown",
   "metadata": {},
   "source": [
    "# 셀이 가지고 있는 가중치 사이즈는 3*5 (3에서 5로 변하기 때문)"
   ]
  },
  {
   "cell_type": "code",
   "execution_count": 25,
   "metadata": {
    "collapsed": true
   },
   "outputs": [
    {
     "name": "stdout",
     "output_type": "stream",
     "text": [
      "WARNING:tensorflow:Entity <bound method BasicRNNCell.call of <tensorflow.python.ops.rnn_cell_impl.BasicRNNCell object at 0x0000015538C259C8>> could not be transformed and will be executed as-is. Please report this to the AutgoGraph team. When filing the bug, set the verbosity to 10 (on Linux, `export AUTOGRAPH_VERBOSITY=10`) and attach the full output. Cause: converting <bound method BasicRNNCell.call of <tensorflow.python.ops.rnn_cell_impl.BasicRNNCell object at 0x0000015538C259C8>>: AssertionError: Bad argument number for Name: 3, expecting 4\n",
      "WARNING: Entity <bound method BasicRNNCell.call of <tensorflow.python.ops.rnn_cell_impl.BasicRNNCell object at 0x0000015538C259C8>> could not be transformed and will be executed as-is. Please report this to the AutgoGraph team. When filing the bug, set the verbosity to 10 (on Linux, `export AUTOGRAPH_VERBOSITY=10`) and attach the full output. Cause: converting <bound method BasicRNNCell.call of <tensorflow.python.ops.rnn_cell_impl.BasicRNNCell object at 0x0000015538C259C8>>: AssertionError: Bad argument number for Name: 3, expecting 4\n",
      "WARNING:tensorflow:Entity <bound method Dense.call of <tensorflow.python.layers.core.Dense object at 0x000001553438B148>> could not be transformed and will be executed as-is. Please report this to the AutgoGraph team. When filing the bug, set the verbosity to 10 (on Linux, `export AUTOGRAPH_VERBOSITY=10`) and attach the full output. Cause: converting <bound method Dense.call of <tensorflow.python.layers.core.Dense object at 0x000001553438B148>>: AssertionError: Bad argument number for Name: 3, expecting 4\n",
      "WARNING: Entity <bound method Dense.call of <tensorflow.python.layers.core.Dense object at 0x000001553438B148>> could not be transformed and will be executed as-is. Please report this to the AutgoGraph team. When filing the bug, set the verbosity to 10 (on Linux, `export AUTOGRAPH_VERBOSITY=10`) and attach the full output. Cause: converting <bound method Dense.call of <tensorflow.python.layers.core.Dense object at 0x000001553438B148>>: AssertionError: Bad argument number for Name: 3, expecting 4\n"
     ]
    }
   ],
   "source": [
    "# 이미지 784(28x28)\n",
    "n_steps = 28    # 셀수\n",
    "n_inputs = 28   # 셀당 인풋사이즈\n",
    "n_neurons = 150 # 뉴런 출력\n",
    "n_outputs = 10  # 확률 사이즈 \n",
    "learning_rate = 0.001\n",
    "tf.reset_default_graph()\n",
    "\n",
    "X = tf.placeholder(tf.float32, [None, n_steps, n_inputs]) # 3차원으로 [배치사이즈, 셀수, 셀당 입력수]\n",
    "y = tf.placeholder(tf.int32, [None])\n",
    "# 셀 하나가 FFNN\n",
    "basic_cell = tf.contrib.rnn.BasicRNNCell(num_units = n_neurons) # 150\n",
    "# 자동으로 셀 : 28\n",
    "# state 마지막 셀의 수평으로 전달되는 값\n",
    "# state는 마지막 셀의 output과 같다.\n",
    "# 28개의 셀이 있는데 마지막 1개의 output을 사용 -> many to one\n",
    "# 감정분류 => 분류기\n",
    "# state의 차수 : 150x150\n",
    "# output의 차수 : latent time 지연시간을 통해 계산된 셀의 모든 값을 결합해서 출력 150*28*150\n",
    "output, states = tf.nn.dynamic_rnn(basic_cell, X, dtype = tf.float32)\n",
    "# 150개의 특징중 10개만 추출\n",
    "# dense : 입력차수와 출력차수만 지정하면 자동으로 바이어스 생성, 가중치  공간을 확보해서\n",
    "# 150x150 => 150x10\n",
    "# dense의 가중치 사이즈 = 150*10\n",
    "logits = tf.layers.dense(states, n_outputs) \n",
    "\n",
    "xentropy = tf.nn.sparse_softmax_cross_entropy_with_logits(labels = y, logits = logits) # 분류를 위한 미분이 가능한 식\n",
    "loss = tf.reduce_mean(xentropy) # 배치 사이즈평균을 통해서 구함\n",
    "# Adam = momentun + propgrad \n",
    "optimizer = tf.train.AdamOptimizer(learning_rate = learning_rate) # 경사하강법\n",
    "training_op = optimizer.minimize(loss)\n",
    "correct = tf.nn.in_top_k(logits, y, 1) # 가장 큰 값을 취해서 비교\n",
    "accuracy = tf.reduce_mean(tf.cast(correct, tf.float32))\n",
    "init = tf.global_variables_initializer()"
   ]
  },
  {
   "cell_type": "code",
   "execution_count": 26,
   "metadata": {
    "collapsed": true
   },
   "outputs": [
    {
     "name": "stdout",
     "output_type": "stream",
     "text": [
      "WARNING:tensorflow:From <ipython-input-26-9aff0e2313ad>:2: read_data_sets (from tensorflow.contrib.learn.python.learn.datasets.mnist) is deprecated and will be removed in a future version.\n",
      "Instructions for updating:\n",
      "Please use alternatives such as official/mnist/dataset.py from tensorflow/models.\n",
      "WARNING:tensorflow:From C:\\Users\\ICT01_13\\Anaconda3\\envs\\tf_test\\lib\\site-packages\\tensorflow\\contrib\\learn\\python\\learn\\datasets\\mnist.py:260: maybe_download (from tensorflow.contrib.learn.python.learn.datasets.base) is deprecated and will be removed in a future version.\n",
      "Instructions for updating:\n",
      "Please write your own downloading logic.\n",
      "WARNING:tensorflow:From C:\\Users\\ICT01_13\\Anaconda3\\envs\\tf_test\\lib\\site-packages\\tensorflow\\contrib\\learn\\python\\learn\\datasets\\mnist.py:262: extract_images (from tensorflow.contrib.learn.python.learn.datasets.mnist) is deprecated and will be removed in a future version.\n",
      "Instructions for updating:\n",
      "Please use tf.data to implement this functionality.\n",
      "Extracting /tmp/data/train-images-idx3-ubyte.gz\n",
      "WARNING:tensorflow:From C:\\Users\\ICT01_13\\Anaconda3\\envs\\tf_test\\lib\\site-packages\\tensorflow\\contrib\\learn\\python\\learn\\datasets\\mnist.py:267: extract_labels (from tensorflow.contrib.learn.python.learn.datasets.mnist) is deprecated and will be removed in a future version.\n",
      "Instructions for updating:\n",
      "Please use tf.data to implement this functionality.\n",
      "Extracting /tmp/data/train-labels-idx1-ubyte.gz\n",
      "Extracting /tmp/data/t10k-images-idx3-ubyte.gz\n",
      "Extracting /tmp/data/t10k-labels-idx1-ubyte.gz\n",
      "WARNING:tensorflow:From C:\\Users\\ICT01_13\\Anaconda3\\envs\\tf_test\\lib\\site-packages\\tensorflow\\contrib\\learn\\python\\learn\\datasets\\mnist.py:290: DataSet.__init__ (from tensorflow.contrib.learn.python.learn.datasets.mnist) is deprecated and will be removed in a future version.\n",
      "Instructions for updating:\n",
      "Please use alternatives such as official/mnist/dataset.py from tensorflow/models.\n"
     ]
    }
   ],
   "source": [
    "from tensorflow.examples.tutorials.mnist import input_data\n",
    "mnist = input_data.read_data_sets(\"/tmp/data/\")\n",
    "X_test = mnist.test.images.reshape((-1, n_steps, n_inputs)) # 원래 이미지 모양으로 학습\n",
    "y_test = mnist.test.labels"
   ]
  },
  {
   "cell_type": "code",
   "execution_count": 45,
   "metadata": {},
   "outputs": [
    {
     "name": "stdout",
     "output_type": "stream",
     "text": [
      "10000\n",
      "55000\n"
     ]
    }
   ],
   "source": [
    "print(mnist.test.num_examples)\n",
    "print(mnist.train.num_examples)"
   ]
  },
  {
   "cell_type": "code",
   "execution_count": 27,
   "metadata": {
    "scrolled": true
   },
   "outputs": [
    {
     "name": "stdout",
     "output_type": "stream",
     "text": [
      "0 \tTrain acuuracy :  0.8933333 \tTest accuracy :  0.9215\n",
      "1 \tTrain acuuracy :  0.94666666 \tTest accuracy :  0.9337\n",
      "2 \tTrain acuuracy :  0.97333336 \tTest accuracy :  0.9505\n",
      "3 \tTrain acuuracy :  0.96 \tTest accuracy :  0.9583\n",
      "4 \tTrain acuuracy :  0.98 \tTest accuracy :  0.953\n",
      "5 \tTrain acuuracy :  0.94666666 \tTest accuracy :  0.9642\n",
      "6 \tTrain acuuracy :  0.98 \tTest accuracy :  0.9667\n",
      "7 \tTrain acuuracy :  0.98 \tTest accuracy :  0.9684\n",
      "8 \tTrain acuuracy :  0.9866667 \tTest accuracy :  0.9683\n",
      "9 \tTrain acuuracy :  0.97333336 \tTest accuracy :  0.9688\n",
      "10 \tTrain acuuracy :  0.99333334 \tTest accuracy :  0.9756\n",
      "11 \tTrain acuuracy :  0.98 \tTest accuracy :  0.9743\n",
      "12 \tTrain acuuracy :  0.9866667 \tTest accuracy :  0.9689\n",
      "13 \tTrain acuuracy :  0.99333334 \tTest accuracy :  0.9736\n",
      "14 \tTrain acuuracy :  1.0 \tTest accuracy :  0.97\n",
      "15 \tTrain acuuracy :  0.97333336 \tTest accuracy :  0.9611\n",
      "16 \tTrain acuuracy :  0.97333336 \tTest accuracy :  0.9731\n",
      "17 \tTrain acuuracy :  0.97333336 \tTest accuracy :  0.9733\n",
      "18 \tTrain acuuracy :  0.99333334 \tTest accuracy :  0.9743\n",
      "19 \tTrain acuuracy :  0.99333334 \tTest accuracy :  0.9751\n",
      "20 \tTrain acuuracy :  0.9866667 \tTest accuracy :  0.9723\n",
      "21 \tTrain acuuracy :  1.0 \tTest accuracy :  0.9743\n",
      "22 \tTrain acuuracy :  0.99333334 \tTest accuracy :  0.9729\n",
      "23 \tTrain acuuracy :  0.97333336 \tTest accuracy :  0.9749\n",
      "24 \tTrain acuuracy :  0.9866667 \tTest accuracy :  0.9779\n",
      "25 \tTrain acuuracy :  1.0 \tTest accuracy :  0.9747\n",
      "26 \tTrain acuuracy :  0.97333336 \tTest accuracy :  0.9735\n",
      "27 \tTrain acuuracy :  0.9866667 \tTest accuracy :  0.9766\n",
      "28 \tTrain acuuracy :  1.0 \tTest accuracy :  0.9747\n",
      "29 \tTrain acuuracy :  0.99333334 \tTest accuracy :  0.9767\n",
      "30 \tTrain acuuracy :  1.0 \tTest accuracy :  0.9775\n",
      "31 \tTrain acuuracy :  0.98 \tTest accuracy :  0.9761\n",
      "32 \tTrain acuuracy :  0.98 \tTest accuracy :  0.9807\n",
      "33 \tTrain acuuracy :  0.9866667 \tTest accuracy :  0.9779\n",
      "34 \tTrain acuuracy :  1.0 \tTest accuracy :  0.9819\n",
      "35 \tTrain acuuracy :  0.99333334 \tTest accuracy :  0.9767\n",
      "36 \tTrain acuuracy :  0.9866667 \tTest accuracy :  0.9768\n",
      "37 \tTrain acuuracy :  0.99333334 \tTest accuracy :  0.9517\n",
      "38 \tTrain acuuracy :  1.0 \tTest accuracy :  0.9792\n",
      "39 \tTrain acuuracy :  0.99333334 \tTest accuracy :  0.9781\n",
      "40 \tTrain acuuracy :  0.99333334 \tTest accuracy :  0.9774\n",
      "41 \tTrain acuuracy :  0.99333334 \tTest accuracy :  0.9797\n",
      "42 \tTrain acuuracy :  0.9866667 \tTest accuracy :  0.9785\n",
      "43 \tTrain acuuracy :  1.0 \tTest accuracy :  0.9791\n",
      "44 \tTrain acuuracy :  0.99333334 \tTest accuracy :  0.9765\n",
      "45 \tTrain acuuracy :  0.99333334 \tTest accuracy :  0.9785\n",
      "46 \tTrain acuuracy :  0.99333334 \tTest accuracy :  0.9799\n",
      "47 \tTrain acuuracy :  0.99333334 \tTest accuracy :  0.98\n",
      "48 \tTrain acuuracy :  0.99333334 \tTest accuracy :  0.9796\n",
      "49 \tTrain acuuracy :  1.0 \tTest accuracy :  0.977\n",
      "50 \tTrain acuuracy :  0.98 \tTest accuracy :  0.9798\n",
      "51 \tTrain acuuracy :  0.99333334 \tTest accuracy :  0.9827\n",
      "52 \tTrain acuuracy :  0.98 \tTest accuracy :  0.9758\n",
      "53 \tTrain acuuracy :  0.99333334 \tTest accuracy :  0.9793\n",
      "54 \tTrain acuuracy :  0.99333334 \tTest accuracy :  0.9786\n",
      "55 \tTrain acuuracy :  0.99333334 \tTest accuracy :  0.9744\n",
      "56 \tTrain acuuracy :  0.99333334 \tTest accuracy :  0.9811\n",
      "57 \tTrain acuuracy :  1.0 \tTest accuracy :  0.9773\n",
      "58 \tTrain acuuracy :  1.0 \tTest accuracy :  0.9761\n",
      "59 \tTrain acuuracy :  1.0 \tTest accuracy :  0.9786\n",
      "60 \tTrain acuuracy :  1.0 \tTest accuracy :  0.9802\n",
      "61 \tTrain acuuracy :  0.9866667 \tTest accuracy :  0.9762\n",
      "62 \tTrain acuuracy :  0.99333334 \tTest accuracy :  0.9785\n",
      "63 \tTrain acuuracy :  0.99333334 \tTest accuracy :  0.9788\n",
      "64 \tTrain acuuracy :  0.96666664 \tTest accuracy :  0.9785\n",
      "65 \tTrain acuuracy :  0.99333334 \tTest accuracy :  0.9802\n",
      "66 \tTrain acuuracy :  1.0 \tTest accuracy :  0.9717\n",
      "67 \tTrain acuuracy :  0.99333334 \tTest accuracy :  0.9799\n",
      "68 \tTrain acuuracy :  1.0 \tTest accuracy :  0.9798\n",
      "69 \tTrain acuuracy :  0.9866667 \tTest accuracy :  0.9711\n",
      "70 \tTrain acuuracy :  0.99333334 \tTest accuracy :  0.981\n",
      "71 \tTrain acuuracy :  0.9866667 \tTest accuracy :  0.9746\n",
      "72 \tTrain acuuracy :  0.99333334 \tTest accuracy :  0.9775\n",
      "73 \tTrain acuuracy :  1.0 \tTest accuracy :  0.9791\n",
      "74 \tTrain acuuracy :  0.98 \tTest accuracy :  0.9725\n",
      "75 \tTrain acuuracy :  0.99333334 \tTest accuracy :  0.9814\n",
      "76 \tTrain acuuracy :  0.98 \tTest accuracy :  0.9805\n",
      "77 \tTrain acuuracy :  0.99333334 \tTest accuracy :  0.9641\n",
      "78 \tTrain acuuracy :  1.0 \tTest accuracy :  0.9794\n",
      "79 \tTrain acuuracy :  0.99333334 \tTest accuracy :  0.9757\n",
      "80 \tTrain acuuracy :  1.0 \tTest accuracy :  0.9818\n",
      "81 \tTrain acuuracy :  0.99333334 \tTest accuracy :  0.981\n",
      "82 \tTrain acuuracy :  1.0 \tTest accuracy :  0.9788\n",
      "83 \tTrain acuuracy :  1.0 \tTest accuracy :  0.9764\n",
      "84 \tTrain acuuracy :  0.99333334 \tTest accuracy :  0.9779\n",
      "85 \tTrain acuuracy :  0.99333334 \tTest accuracy :  0.9793\n",
      "86 \tTrain acuuracy :  0.9866667 \tTest accuracy :  0.9797\n",
      "87 \tTrain acuuracy :  1.0 \tTest accuracy :  0.9807\n",
      "88 \tTrain acuuracy :  1.0 \tTest accuracy :  0.974\n",
      "89 \tTrain acuuracy :  0.96666664 \tTest accuracy :  0.9627\n",
      "90 \tTrain acuuracy :  1.0 \tTest accuracy :  0.9742\n",
      "91 \tTrain acuuracy :  1.0 \tTest accuracy :  0.9775\n",
      "92 \tTrain acuuracy :  0.97333336 \tTest accuracy :  0.9697\n",
      "93 \tTrain acuuracy :  1.0 \tTest accuracy :  0.9747\n",
      "94 \tTrain acuuracy :  0.99333334 \tTest accuracy :  0.9768\n",
      "95 \tTrain acuuracy :  0.99333334 \tTest accuracy :  0.9811\n",
      "96 \tTrain acuuracy :  1.0 \tTest accuracy :  0.9808\n",
      "97 \tTrain acuuracy :  1.0 \tTest accuracy :  0.9787\n",
      "98 \tTrain acuuracy :  0.9866667 \tTest accuracy :  0.979\n",
      "99 \tTrain acuuracy :  1.0 \tTest accuracy :  0.979\n"
     ]
    }
   ],
   "source": [
    "n_epochs = 100\n",
    "batch_size = 150\n",
    "with tf.Session() as sess:\n",
    "    init.run()\n",
    "    for epoch in range(n_epochs) :\n",
    "        for iteration in range(mnist.train.num_examples // batch_size) : # 60000/150\n",
    "            X_batch, y_batch = mnist.train.next_batch(batch_size)\n",
    "            X_batch = X_batch.reshape((-1, n_steps, n_inputs))\n",
    "            sess.run(training_op, feed_dict={X:X_batch, y:y_batch})\n",
    "        acc_train = accuracy.eval(feed_dict={X:X_batch, y:y_batch})\n",
    "        acc_test = accuracy.eval(feed_dict={X:X_test, y:y_test})\n",
    "        \n",
    "        print(epoch, \"\\tTrain acuuracy : \", acc_train, \"\\tTest accuracy : \", acc_test)\n",
    "        "
   ]
  },
  {
   "cell_type": "markdown",
   "metadata": {},
   "source": [
    "# multi rnn cell"
   ]
  },
  {
   "cell_type": "code",
   "execution_count": 51,
   "metadata": {},
   "outputs": [],
   "source": [
    "# BasicRNNCell : 기본데이터가 입력\n",
    "# MultiRNNCell : 수직으로 레이어 구성 -> 수직으로 셀이 구성\n",
    "# dynamic_rnn : 모델\n",
    "tf.reset_default_graph()\n",
    "n_steps = 28\n",
    "n_inputs = 28\n",
    "n_outputs = 10\n",
    "learning_rate = 0.001\n",
    "X = tf.placeholder(tf.float32, [None, n_steps, n_inputs])\n",
    "y = tf.placeholder(tf.int32, [None])\n",
    "n_layers = 3 # 3개의 멀티 레이어 -> 3개의 셀을 생성\n",
    "layers = [tf.contrib.rnn.BasicRNNCell(num_units = n_neurons, activation=tf.nn.relu)\n",
    "         for layer in range(n_layers)]\n",
    "# 3개의 셀을 조합해서 MultiRNNCell\n",
    "multi_layer_cell = tf.contrib.rnn.MultiRNNCell(layers)"
   ]
  },
  {
   "cell_type": "code",
   "execution_count": 52,
   "metadata": {
    "scrolled": true
   },
   "outputs": [
    {
     "name": "stdout",
     "output_type": "stream",
     "text": [
      "WARNING:tensorflow:Entity <bound method MultiRNNCell.call of <tensorflow.python.ops.rnn_cell_impl.MultiRNNCell object at 0x0000015539BDA4C8>> could not be transformed and will be executed as-is. Please report this to the AutgoGraph team. When filing the bug, set the verbosity to 10 (on Linux, `export AUTOGRAPH_VERBOSITY=10`) and attach the full output. Cause: converting <bound method MultiRNNCell.call of <tensorflow.python.ops.rnn_cell_impl.MultiRNNCell object at 0x0000015539BDA4C8>>: AttributeError: module 'gast' has no attribute 'Num'\n",
      "WARNING: Entity <bound method MultiRNNCell.call of <tensorflow.python.ops.rnn_cell_impl.MultiRNNCell object at 0x0000015539BDA4C8>> could not be transformed and will be executed as-is. Please report this to the AutgoGraph team. When filing the bug, set the verbosity to 10 (on Linux, `export AUTOGRAPH_VERBOSITY=10`) and attach the full output. Cause: converting <bound method MultiRNNCell.call of <tensorflow.python.ops.rnn_cell_impl.MultiRNNCell object at 0x0000015539BDA4C8>>: AttributeError: module 'gast' has no attribute 'Num'\n",
      "WARNING:tensorflow:Entity <bound method BasicRNNCell.call of <tensorflow.python.ops.rnn_cell_impl.BasicRNNCell object at 0x0000015559A53788>> could not be transformed and will be executed as-is. Please report this to the AutgoGraph team. When filing the bug, set the verbosity to 10 (on Linux, `export AUTOGRAPH_VERBOSITY=10`) and attach the full output. Cause: converting <bound method BasicRNNCell.call of <tensorflow.python.ops.rnn_cell_impl.BasicRNNCell object at 0x0000015559A53788>>: AssertionError: Bad argument number for Name: 3, expecting 4\n",
      "WARNING: Entity <bound method BasicRNNCell.call of <tensorflow.python.ops.rnn_cell_impl.BasicRNNCell object at 0x0000015559A53788>> could not be transformed and will be executed as-is. Please report this to the AutgoGraph team. When filing the bug, set the verbosity to 10 (on Linux, `export AUTOGRAPH_VERBOSITY=10`) and attach the full output. Cause: converting <bound method BasicRNNCell.call of <tensorflow.python.ops.rnn_cell_impl.BasicRNNCell object at 0x0000015559A53788>>: AssertionError: Bad argument number for Name: 3, expecting 4\n",
      "WARNING:tensorflow:Entity <bound method BasicRNNCell.call of <tensorflow.python.ops.rnn_cell_impl.BasicRNNCell object at 0x0000015559AD98C8>> could not be transformed and will be executed as-is. Please report this to the AutgoGraph team. When filing the bug, set the verbosity to 10 (on Linux, `export AUTOGRAPH_VERBOSITY=10`) and attach the full output. Cause: converting <bound method BasicRNNCell.call of <tensorflow.python.ops.rnn_cell_impl.BasicRNNCell object at 0x0000015559AD98C8>>: AssertionError: Bad argument number for Name: 3, expecting 4\n",
      "WARNING: Entity <bound method BasicRNNCell.call of <tensorflow.python.ops.rnn_cell_impl.BasicRNNCell object at 0x0000015559AD98C8>> could not be transformed and will be executed as-is. Please report this to the AutgoGraph team. When filing the bug, set the verbosity to 10 (on Linux, `export AUTOGRAPH_VERBOSITY=10`) and attach the full output. Cause: converting <bound method BasicRNNCell.call of <tensorflow.python.ops.rnn_cell_impl.BasicRNNCell object at 0x0000015559AD98C8>>: AssertionError: Bad argument number for Name: 3, expecting 4\n",
      "WARNING:tensorflow:Entity <bound method BasicRNNCell.call of <tensorflow.python.ops.rnn_cell_impl.BasicRNNCell object at 0x000001555994DE48>> could not be transformed and will be executed as-is. Please report this to the AutgoGraph team. When filing the bug, set the verbosity to 10 (on Linux, `export AUTOGRAPH_VERBOSITY=10`) and attach the full output. Cause: converting <bound method BasicRNNCell.call of <tensorflow.python.ops.rnn_cell_impl.BasicRNNCell object at 0x000001555994DE48>>: AssertionError: Bad argument number for Name: 3, expecting 4\n",
      "WARNING: Entity <bound method BasicRNNCell.call of <tensorflow.python.ops.rnn_cell_impl.BasicRNNCell object at 0x000001555994DE48>> could not be transformed and will be executed as-is. Please report this to the AutgoGraph team. When filing the bug, set the verbosity to 10 (on Linux, `export AUTOGRAPH_VERBOSITY=10`) and attach the full output. Cause: converting <bound method BasicRNNCell.call of <tensorflow.python.ops.rnn_cell_impl.BasicRNNCell object at 0x000001555994DE48>>: AssertionError: Bad argument number for Name: 3, expecting 4\n",
      "WARNING:tensorflow:Entity <bound method Dense.call of <tensorflow.python.layers.core.Dense object at 0x0000015559C744C8>> could not be transformed and will be executed as-is. Please report this to the AutgoGraph team. When filing the bug, set the verbosity to 10 (on Linux, `export AUTOGRAPH_VERBOSITY=10`) and attach the full output. Cause: converting <bound method Dense.call of <tensorflow.python.layers.core.Dense object at 0x0000015559C744C8>>: AssertionError: Bad argument number for Name: 3, expecting 4\n",
      "WARNING: Entity <bound method Dense.call of <tensorflow.python.layers.core.Dense object at 0x0000015559C744C8>> could not be transformed and will be executed as-is. Please report this to the AutgoGraph team. When filing the bug, set the verbosity to 10 (on Linux, `export AUTOGRAPH_VERBOSITY=10`) and attach the full output. Cause: converting <bound method Dense.call of <tensorflow.python.layers.core.Dense object at 0x0000015559C744C8>>: AssertionError: Bad argument number for Name: 3, expecting 4\n"
     ]
    }
   ],
   "source": [
    "# dynamic_rnn : 셀로 입력되는 데이터의 개수에 맞추어서 셀을 구성\n",
    "# 나는 학교에 간다. (2자 3자 2자) -> 사이즈가 다르기 때문에 \n",
    "# state_rnn에서는 동일한 사이즈를 만드려고 함 : 큰것 기준, 작은 것은 padding, 작으면 안좋아지기 때문에 dynamic_rnn사용\n",
    "# 입력사이즈 변동 => 가중치 조절 -> 나가는 특징은 일치\n",
    "# 3층 셀이 28개가 조성 : 고정 사이즈\n",
    "outputs, states = tf.nn.dynamic_rnn(multi_layer_cell, X, dtype = tf.float32)\n",
    "# states가 몇개 발생하는가\n",
    "# 3x150x100(neuron)\n",
    "states_concat = tf.concat(axis = 1, values = states) # 150 x 300\n",
    "# 가중치 학습 FFNN 망\n",
    "logits = tf.layers.dense(states_concat, n_outputs)   # 가중치 : 300x10\n",
    "# 150(미니배치)x10(확률값)\n",
    "# 원핫인코딩 * log(예측값)\n",
    "xentropy = tf.nn.sparse_softmax_cross_entropy_with_logits(labels=y, logits = logits) \n",
    "loss = tf.reduce_mean(xentropy)\n",
    "optimizer =  tf.train.AdamOptimizer(learning_rate=learning_rate)\n",
    "training_op = optimizer.minimize(loss)\n",
    "correct = tf.nn.in_top_k(logits, y, 1)\n",
    "accuracy = tf.reduce_mean(tf.cast(correct, tf.float32))\n",
    "init = tf.global_variables_initializer()"
   ]
  },
  {
   "cell_type": "code",
   "execution_count": 53,
   "metadata": {
    "scrolled": true
   },
   "outputs": [
    {
     "name": "stdout",
     "output_type": "stream",
     "text": [
      "0 \tTrain acuuracy :  0.96666664 \tTest accuracy :  0.9544\n",
      "1 \tTrain acuuracy :  0.97333336 \tTest accuracy :  0.9737\n",
      "2 \tTrain acuuracy :  0.97333336 \tTest accuracy :  0.9714\n",
      "3 \tTrain acuuracy :  0.99333334 \tTest accuracy :  0.9754\n",
      "4 \tTrain acuuracy :  0.9866667 \tTest accuracy :  0.9756\n",
      "5 \tTrain acuuracy :  0.98 \tTest accuracy :  0.9779\n",
      "6 \tTrain acuuracy :  1.0 \tTest accuracy :  0.9832\n",
      "7 \tTrain acuuracy :  0.97333336 \tTest accuracy :  0.9799\n",
      "8 \tTrain acuuracy :  1.0 \tTest accuracy :  0.9833\n",
      "9 \tTrain acuuracy :  0.99333334 \tTest accuracy :  0.9851\n",
      "10 \tTrain acuuracy :  0.99333334 \tTest accuracy :  0.9844\n",
      "11 \tTrain acuuracy :  1.0 \tTest accuracy :  0.9836\n",
      "12 \tTrain acuuracy :  0.9866667 \tTest accuracy :  0.9855\n",
      "13 \tTrain acuuracy :  0.99333334 \tTest accuracy :  0.9834\n",
      "14 \tTrain acuuracy :  0.99333334 \tTest accuracy :  0.9805\n",
      "15 \tTrain acuuracy :  0.99333334 \tTest accuracy :  0.9814\n",
      "16 \tTrain acuuracy :  0.99333334 \tTest accuracy :  0.9828\n",
      "17 \tTrain acuuracy :  1.0 \tTest accuracy :  0.9803\n",
      "18 \tTrain acuuracy :  0.96666664 \tTest accuracy :  0.9821\n",
      "19 \tTrain acuuracy :  1.0 \tTest accuracy :  0.9857\n",
      "20 \tTrain acuuracy :  1.0 \tTest accuracy :  0.9847\n",
      "21 \tTrain acuuracy :  1.0 \tTest accuracy :  0.9854\n",
      "22 \tTrain acuuracy :  0.99333334 \tTest accuracy :  0.9873\n",
      "23 \tTrain acuuracy :  1.0 \tTest accuracy :  0.986\n",
      "24 \tTrain acuuracy :  0.99333334 \tTest accuracy :  0.9859\n",
      "25 \tTrain acuuracy :  1.0 \tTest accuracy :  0.9873\n",
      "26 \tTrain acuuracy :  1.0 \tTest accuracy :  0.9844\n",
      "27 \tTrain acuuracy :  0.9866667 \tTest accuracy :  0.9836\n",
      "28 \tTrain acuuracy :  1.0 \tTest accuracy :  0.9867\n",
      "29 \tTrain acuuracy :  1.0 \tTest accuracy :  0.987\n",
      "30 \tTrain acuuracy :  1.0 \tTest accuracy :  0.9886\n",
      "31 \tTrain acuuracy :  0.99333334 \tTest accuracy :  0.9849\n",
      "32 \tTrain acuuracy :  1.0 \tTest accuracy :  0.9844\n",
      "33 \tTrain acuuracy :  0.99333334 \tTest accuracy :  0.9801\n",
      "34 \tTrain acuuracy :  1.0 \tTest accuracy :  0.9879\n",
      "35 \tTrain acuuracy :  1.0 \tTest accuracy :  0.9853\n",
      "36 \tTrain acuuracy :  1.0 \tTest accuracy :  0.9822\n",
      "37 \tTrain acuuracy :  0.99333334 \tTest accuracy :  0.9866\n",
      "38 \tTrain acuuracy :  0.99333334 \tTest accuracy :  0.9885\n",
      "39 \tTrain acuuracy :  0.9866667 \tTest accuracy :  0.9868\n",
      "40 \tTrain acuuracy :  0.99333334 \tTest accuracy :  0.9849\n",
      "41 \tTrain acuuracy :  0.99333334 \tTest accuracy :  0.9869\n",
      "42 \tTrain acuuracy :  0.99333334 \tTest accuracy :  0.9833\n",
      "43 \tTrain acuuracy :  1.0 \tTest accuracy :  0.9875\n",
      "44 \tTrain acuuracy :  0.99333334 \tTest accuracy :  0.9851\n",
      "45 \tTrain acuuracy :  0.99333334 \tTest accuracy :  0.9837\n",
      "46 \tTrain acuuracy :  1.0 \tTest accuracy :  0.9886\n",
      "47 \tTrain acuuracy :  0.99333334 \tTest accuracy :  0.9878\n",
      "48 \tTrain acuuracy :  1.0 \tTest accuracy :  0.9872\n",
      "49 \tTrain acuuracy :  1.0 \tTest accuracy :  0.985\n",
      "50 \tTrain acuuracy :  1.0 \tTest accuracy :  0.9859\n",
      "51 \tTrain acuuracy :  1.0 \tTest accuracy :  0.9875\n",
      "52 \tTrain acuuracy :  1.0 \tTest accuracy :  0.9852\n",
      "53 \tTrain acuuracy :  1.0 \tTest accuracy :  0.9876\n",
      "54 \tTrain acuuracy :  1.0 \tTest accuracy :  0.9866\n",
      "55 \tTrain acuuracy :  1.0 \tTest accuracy :  0.9884\n",
      "56 \tTrain acuuracy :  0.99333334 \tTest accuracy :  0.9868\n",
      "57 \tTrain acuuracy :  1.0 \tTest accuracy :  0.9872\n",
      "58 \tTrain acuuracy :  1.0 \tTest accuracy :  0.9873\n",
      "59 \tTrain acuuracy :  1.0 \tTest accuracy :  0.9851\n",
      "60 \tTrain acuuracy :  1.0 \tTest accuracy :  0.9873\n",
      "61 \tTrain acuuracy :  1.0 \tTest accuracy :  0.9863\n",
      "62 \tTrain acuuracy :  1.0 \tTest accuracy :  0.9866\n",
      "63 \tTrain acuuracy :  1.0 \tTest accuracy :  0.9827\n",
      "64 \tTrain acuuracy :  1.0 \tTest accuracy :  0.984\n",
      "65 \tTrain acuuracy :  0.99333334 \tTest accuracy :  0.9851\n",
      "66 \tTrain acuuracy :  1.0 \tTest accuracy :  0.9841\n",
      "67 \tTrain acuuracy :  1.0 \tTest accuracy :  0.9877\n",
      "68 \tTrain acuuracy :  1.0 \tTest accuracy :  0.9838\n",
      "69 \tTrain acuuracy :  1.0 \tTest accuracy :  0.9881\n",
      "70 \tTrain acuuracy :  0.9866667 \tTest accuracy :  0.9817\n",
      "71 \tTrain acuuracy :  0.99333334 \tTest accuracy :  0.9849\n",
      "72 \tTrain acuuracy :  0.99333334 \tTest accuracy :  0.9901\n",
      "73 \tTrain acuuracy :  0.99333334 \tTest accuracy :  0.9852\n",
      "74 \tTrain acuuracy :  0.99333334 \tTest accuracy :  0.9871\n",
      "75 \tTrain acuuracy :  1.0 \tTest accuracy :  0.9863\n",
      "76 \tTrain acuuracy :  1.0 \tTest accuracy :  0.9875\n",
      "77 \tTrain acuuracy :  1.0 \tTest accuracy :  0.9861\n",
      "78 \tTrain acuuracy :  1.0 \tTest accuracy :  0.9883\n",
      "79 \tTrain acuuracy :  1.0 \tTest accuracy :  0.9878\n",
      "80 \tTrain acuuracy :  1.0 \tTest accuracy :  0.9866\n",
      "81 \tTrain acuuracy :  1.0 \tTest accuracy :  0.9871\n",
      "82 \tTrain acuuracy :  1.0 \tTest accuracy :  0.9886\n",
      "83 \tTrain acuuracy :  1.0 \tTest accuracy :  0.9867\n",
      "84 \tTrain acuuracy :  1.0 \tTest accuracy :  0.9881\n",
      "85 \tTrain acuuracy :  1.0 \tTest accuracy :  0.9883\n",
      "86 \tTrain acuuracy :  1.0 \tTest accuracy :  0.9871\n",
      "87 \tTrain acuuracy :  1.0 \tTest accuracy :  0.9854\n",
      "88 \tTrain acuuracy :  1.0 \tTest accuracy :  0.9864\n",
      "89 \tTrain acuuracy :  1.0 \tTest accuracy :  0.988\n",
      "90 \tTrain acuuracy :  1.0 \tTest accuracy :  0.9867\n",
      "91 \tTrain acuuracy :  1.0 \tTest accuracy :  0.9874\n",
      "92 \tTrain acuuracy :  1.0 \tTest accuracy :  0.9854\n",
      "93 \tTrain acuuracy :  1.0 \tTest accuracy :  0.9838\n",
      "94 \tTrain acuuracy :  1.0 \tTest accuracy :  0.984\n",
      "95 \tTrain acuuracy :  1.0 \tTest accuracy :  0.9865\n",
      "96 \tTrain acuuracy :  0.99333334 \tTest accuracy :  0.9859\n",
      "97 \tTrain acuuracy :  1.0 \tTest accuracy :  0.9864\n",
      "98 \tTrain acuuracy :  1.0 \tTest accuracy :  0.984\n",
      "99 \tTrain acuuracy :  0.99333334 \tTest accuracy :  0.9872\n"
     ]
    }
   ],
   "source": [
    "n_epochs = 100\n",
    "batch_size = 150\n",
    "with tf.Session() as sess:\n",
    "    init.run()\n",
    "    for epoch in range(n_epochs) :\n",
    "        for iteration in range(mnist.train.num_examples // batch_size) : # 60000/150\n",
    "            X_batch, y_batch = mnist.train.next_batch(batch_size)\n",
    "            X_batch = X_batch.reshape((-1, n_steps, n_inputs))\n",
    "            sess.run(training_op, feed_dict={X:X_batch, y:y_batch})\n",
    "        acc_train = accuracy.eval(feed_dict={X:X_batch, y:y_batch})\n",
    "        acc_test = accuracy.eval(feed_dict={X:X_test, y:y_test})\n",
    "        \n",
    "        print(epoch, \"\\tTrain acuuracy : \", acc_train, \"\\tTest accuracy : \", acc_test)\n",
    "        "
   ]
  },
  {
   "cell_type": "code",
   "execution_count": 55,
   "metadata": {
    "scrolled": true
   },
   "outputs": [
    {
     "name": "stdout",
     "output_type": "stream",
     "text": [
      "Extracting ./mnist/data/train-images-idx3-ubyte.gz\n",
      "Extracting ./mnist/data/train-labels-idx1-ubyte.gz\n",
      "Extracting ./mnist/data/t10k-images-idx3-ubyte.gz\n",
      "Extracting ./mnist/data/t10k-labels-idx1-ubyte.gz\n",
      "WARNING:tensorflow:Entity <bound method BasicRNNCell.call of <tensorflow.python.ops.rnn_cell_impl.BasicRNNCell object at 0x000001552585B108>> could not be transformed and will be executed as-is. Please report this to the AutgoGraph team. When filing the bug, set the verbosity to 10 (on Linux, `export AUTOGRAPH_VERBOSITY=10`) and attach the full output. Cause: converting <bound method BasicRNNCell.call of <tensorflow.python.ops.rnn_cell_impl.BasicRNNCell object at 0x000001552585B108>>: AssertionError: Bad argument number for Name: 3, expecting 4\n",
      "WARNING: Entity <bound method BasicRNNCell.call of <tensorflow.python.ops.rnn_cell_impl.BasicRNNCell object at 0x000001552585B108>> could not be transformed and will be executed as-is. Please report this to the AutgoGraph team. When filing the bug, set the verbosity to 10 (on Linux, `export AUTOGRAPH_VERBOSITY=10`) and attach the full output. Cause: converting <bound method BasicRNNCell.call of <tensorflow.python.ops.rnn_cell_impl.BasicRNNCell object at 0x000001552585B108>>: AssertionError: Bad argument number for Name: 3, expecting 4\n",
      "WARNING:tensorflow:From <ipython-input-55-6ce4b11a3d9e>:22: softmax_cross_entropy_with_logits (from tensorflow.python.ops.nn_ops) is deprecated and will be removed in a future version.\n",
      "Instructions for updating:\n",
      "\n",
      "Future major versions of TensorFlow will allow gradients to flow\n",
      "into the labels input on backprop by default.\n",
      "\n",
      "See `tf.nn.softmax_cross_entropy_with_logits_v2`.\n",
      "\n"
     ]
    }
   ],
   "source": [
    "import tensorflow as tf\n",
    "from tensorflow.python.framework import ops\n",
    "ops.reset_default_graph()\n",
    "from tensorflow.examples.tutorials.mnist import input_data\n",
    "mnist = input_data.read_data_sets(\"./mnist/data/\", one_hot = True)\n",
    "learning_rate = 0.001\n",
    "total_epoch = 10\n",
    "batch_size = 128\n",
    "n_input = 28\n",
    "n_step = 28\n",
    "n_hidden = 128\n",
    "n_class = 10\n",
    "X = tf.placeholder(tf.float32, [None, n_step, n_input]) # 128x28x28\n",
    "y = tf.placeholder(tf.float32, [None, n_class]) # 128x10\n",
    "W = tf.Variable(tf.random_normal([n_hidden, n_class])) # 128x10\n",
    "b = tf.Variable(tf.random_normal([n_class])) # 10\n",
    "\n",
    "cell = tf.nn.rnn_cell.BasicRNNCell(n_hidden) # 28x128 사이즈의 가중치 # neurons : 128특징\n",
    "# cell 수 : 28개\n",
    "outputs, states = tf.nn.dynamic_rnn(cell, X, dtype = tf.float32)\n",
    "# 128x28x128,   128x128\n",
    "# FFNN  \n",
    "outputs = tf.transpose(outputs, [1,0,2]) # 28x128x128\n",
    "# 셀로 판단\n",
    "outputs = outputs[-1] # 맨 마지막 셀 : 128x128\n",
    "model = tf.matmul(outputs, W) + b# 128x128 128x10 => 128x10\n",
    "cost = tf.reduce_mean(tf.nn.softmax_cross_entropy_with_logits(logits=model, labels = y))\n",
    "optimizer = tf.train.AdamOptimizer(learning_rate).minimize(cost)"
   ]
  },
  {
   "cell_type": "code",
   "execution_count": 62,
   "metadata": {},
   "outputs": [
    {
     "name": "stdout",
     "output_type": "stream",
     "text": [
      "Epoch 0001 Avg.cost =  0.544\n",
      "Epoch 0002 Avg.cost =  0.237\n",
      "Epoch 0003 Avg.cost =  0.176\n",
      "Epoch 0004 Avg.cost =  0.152\n",
      "Epoch 0005 Avg.cost =  0.135\n",
      "Epoch 0006 Avg.cost =  0.128\n",
      "Epoch 0007 Avg.cost =  0.118\n",
      "Epoch 0008 Avg.cost =  0.111\n",
      "Epoch 0009 Avg.cost =  0.101\n",
      "Epoch 0010 Avg.cost =  0.101\n",
      "최적화 완료\n"
     ]
    }
   ],
   "source": [
    "sess = tf.Session()\n",
    "sess.run(tf.global_variables_initializer())\n",
    "total_batch = int(mnist.train.num_examples/batch_size)\n",
    "for epoch in range(total_epoch) :\n",
    "    total_cost = 0\n",
    "    for i in range(total_batch) :\n",
    "        batch_xs, batch_ys = mnist.train.next_batch(batch_size)\n",
    "        # 이미지 사이즈로 리셋\n",
    "        batch_xs = batch_xs.reshape((batch_size, n_step, n_input))\n",
    "        # python이 계산한 마지막 결과가 저장되는 것이 _\n",
    "        _, cost_val = sess.run([optimizer, cost], feed_dict={X:batch_xs, y:batch_ys})\n",
    "        total_cost += cost_val\n",
    "    print('Epoch', '%04d' %(epoch+1),\n",
    "         'Avg.cost = ', '{:.3f}'.format(total_cost/total_batch))\n",
    "print(\"최적화 완료\")"
   ]
  },
  {
   "cell_type": "markdown",
   "metadata": {},
   "source": [
    "# 문제\n",
    "1. 테스트 데이터를 이용하여 테스트하는 회로를 구성하시요\n",
    "2. 3개의 셀을 갖늕 multi-layer cell로 수정하시요"
   ]
  },
  {
   "cell_type": "code",
   "execution_count": 64,
   "metadata": {
    "scrolled": true
   },
   "outputs": [
    {
     "name": "stdout",
     "output_type": "stream",
     "text": [
      "WARNING:tensorflow:Entity <bound method MultiRNNCell.call of <tensorflow.python.ops.rnn_cell_impl.MultiRNNCell object at 0x000001569013ABC8>> could not be transformed and will be executed as-is. Please report this to the AutgoGraph team. When filing the bug, set the verbosity to 10 (on Linux, `export AUTOGRAPH_VERBOSITY=10`) and attach the full output. Cause: converting <bound method MultiRNNCell.call of <tensorflow.python.ops.rnn_cell_impl.MultiRNNCell object at 0x000001569013ABC8>>: AttributeError: module 'gast' has no attribute 'Num'\n",
      "WARNING: Entity <bound method MultiRNNCell.call of <tensorflow.python.ops.rnn_cell_impl.MultiRNNCell object at 0x000001569013ABC8>> could not be transformed and will be executed as-is. Please report this to the AutgoGraph team. When filing the bug, set the verbosity to 10 (on Linux, `export AUTOGRAPH_VERBOSITY=10`) and attach the full output. Cause: converting <bound method MultiRNNCell.call of <tensorflow.python.ops.rnn_cell_impl.MultiRNNCell object at 0x000001569013ABC8>>: AttributeError: module 'gast' has no attribute 'Num'\n",
      "WARNING:tensorflow:Entity <bound method BasicRNNCell.call of <tensorflow.python.ops.rnn_cell_impl.BasicRNNCell object at 0x000001569013AE48>> could not be transformed and will be executed as-is. Please report this to the AutgoGraph team. When filing the bug, set the verbosity to 10 (on Linux, `export AUTOGRAPH_VERBOSITY=10`) and attach the full output. Cause: converting <bound method BasicRNNCell.call of <tensorflow.python.ops.rnn_cell_impl.BasicRNNCell object at 0x000001569013AE48>>: AssertionError: Bad argument number for Name: 3, expecting 4\n",
      "WARNING: Entity <bound method BasicRNNCell.call of <tensorflow.python.ops.rnn_cell_impl.BasicRNNCell object at 0x000001569013AE48>> could not be transformed and will be executed as-is. Please report this to the AutgoGraph team. When filing the bug, set the verbosity to 10 (on Linux, `export AUTOGRAPH_VERBOSITY=10`) and attach the full output. Cause: converting <bound method BasicRNNCell.call of <tensorflow.python.ops.rnn_cell_impl.BasicRNNCell object at 0x000001569013AE48>>: AssertionError: Bad argument number for Name: 3, expecting 4\n",
      "WARNING:tensorflow:Entity <bound method BasicRNNCell.call of <tensorflow.python.ops.rnn_cell_impl.BasicRNNCell object at 0x0000015685DD0B88>> could not be transformed and will be executed as-is. Please report this to the AutgoGraph team. When filing the bug, set the verbosity to 10 (on Linux, `export AUTOGRAPH_VERBOSITY=10`) and attach the full output. Cause: converting <bound method BasicRNNCell.call of <tensorflow.python.ops.rnn_cell_impl.BasicRNNCell object at 0x0000015685DD0B88>>: AssertionError: Bad argument number for Name: 3, expecting 4\n",
      "WARNING: Entity <bound method BasicRNNCell.call of <tensorflow.python.ops.rnn_cell_impl.BasicRNNCell object at 0x0000015685DD0B88>> could not be transformed and will be executed as-is. Please report this to the AutgoGraph team. When filing the bug, set the verbosity to 10 (on Linux, `export AUTOGRAPH_VERBOSITY=10`) and attach the full output. Cause: converting <bound method BasicRNNCell.call of <tensorflow.python.ops.rnn_cell_impl.BasicRNNCell object at 0x0000015685DD0B88>>: AssertionError: Bad argument number for Name: 3, expecting 4\n",
      "WARNING:tensorflow:Entity <bound method BasicRNNCell.call of <tensorflow.python.ops.rnn_cell_impl.BasicRNNCell object at 0x00000156443FC408>> could not be transformed and will be executed as-is. Please report this to the AutgoGraph team. When filing the bug, set the verbosity to 10 (on Linux, `export AUTOGRAPH_VERBOSITY=10`) and attach the full output. Cause: converting <bound method BasicRNNCell.call of <tensorflow.python.ops.rnn_cell_impl.BasicRNNCell object at 0x00000156443FC408>>: AssertionError: Bad argument number for Name: 3, expecting 4\n",
      "WARNING: Entity <bound method BasicRNNCell.call of <tensorflow.python.ops.rnn_cell_impl.BasicRNNCell object at 0x00000156443FC408>> could not be transformed and will be executed as-is. Please report this to the AutgoGraph team. When filing the bug, set the verbosity to 10 (on Linux, `export AUTOGRAPH_VERBOSITY=10`) and attach the full output. Cause: converting <bound method BasicRNNCell.call of <tensorflow.python.ops.rnn_cell_impl.BasicRNNCell object at 0x00000156443FC408>>: AssertionError: Bad argument number for Name: 3, expecting 4\n",
      "WARNING:tensorflow:Entity <bound method Dense.call of <tensorflow.python.layers.core.Dense object at 0x0000015672CEE5C8>> could not be transformed and will be executed as-is. Please report this to the AutgoGraph team. When filing the bug, set the verbosity to 10 (on Linux, `export AUTOGRAPH_VERBOSITY=10`) and attach the full output. Cause: converting <bound method Dense.call of <tensorflow.python.layers.core.Dense object at 0x0000015672CEE5C8>>: AssertionError: Bad argument number for Name: 3, expecting 4\n",
      "WARNING: Entity <bound method Dense.call of <tensorflow.python.layers.core.Dense object at 0x0000015672CEE5C8>> could not be transformed and will be executed as-is. Please report this to the AutgoGraph team. When filing the bug, set the verbosity to 10 (on Linux, `export AUTOGRAPH_VERBOSITY=10`) and attach the full output. Cause: converting <bound method Dense.call of <tensorflow.python.layers.core.Dense object at 0x0000015672CEE5C8>>: AssertionError: Bad argument number for Name: 3, expecting 4\n"
     ]
    },
    {
     "ename": "AttributeError",
     "evalue": "module 'tensorflow._api.v1.test' has no attribute 'AdamOptimizer'",
     "output_type": "error",
     "traceback": [
      "\u001b[1;31m---------------------------------------------------------------------------\u001b[0m",
      "\u001b[1;31mAttributeError\u001b[0m                            Traceback (most recent call last)",
      "\u001b[1;32m<ipython-input-64-971c2a05dacc>\u001b[0m in \u001b[0;36m<module>\u001b[1;34m\u001b[0m\n\u001b[0;32m     20\u001b[0m \u001b[0mxentropy\u001b[0m \u001b[1;33m=\u001b[0m \u001b[0mtf\u001b[0m\u001b[1;33m.\u001b[0m\u001b[0mnn\u001b[0m\u001b[1;33m.\u001b[0m\u001b[0msparse_softmax_cross_entropy_with_logits\u001b[0m\u001b[1;33m(\u001b[0m\u001b[0mlabels\u001b[0m\u001b[1;33m=\u001b[0m\u001b[0my\u001b[0m\u001b[1;33m,\u001b[0m \u001b[0mlogits\u001b[0m \u001b[1;33m=\u001b[0m \u001b[0mlogits\u001b[0m\u001b[1;33m)\u001b[0m\u001b[1;33m\u001b[0m\u001b[1;33m\u001b[0m\u001b[0m\n\u001b[0;32m     21\u001b[0m \u001b[0mloss\u001b[0m \u001b[1;33m=\u001b[0m \u001b[0mtf\u001b[0m\u001b[1;33m.\u001b[0m\u001b[0mreduce_mean\u001b[0m\u001b[1;33m(\u001b[0m\u001b[0mxentropy\u001b[0m\u001b[1;33m)\u001b[0m\u001b[1;33m\u001b[0m\u001b[1;33m\u001b[0m\u001b[0m\n\u001b[1;32m---> 22\u001b[1;33m \u001b[0moptimizer\u001b[0m \u001b[1;33m=\u001b[0m  \u001b[0mtf\u001b[0m\u001b[1;33m.\u001b[0m\u001b[0mtest\u001b[0m\u001b[1;33m.\u001b[0m\u001b[0mAdamOptimizer\u001b[0m\u001b[1;33m(\u001b[0m\u001b[0mlearning_rate\u001b[0m\u001b[1;33m=\u001b[0m\u001b[0mlearning_rate\u001b[0m\u001b[1;33m)\u001b[0m\u001b[1;33m\u001b[0m\u001b[1;33m\u001b[0m\u001b[0m\n\u001b[0m\u001b[0;32m     23\u001b[0m \u001b[0mtest_op\u001b[0m \u001b[1;33m=\u001b[0m \u001b[0moptimizer\u001b[0m\u001b[1;33m.\u001b[0m\u001b[0mminimize\u001b[0m\u001b[1;33m(\u001b[0m\u001b[0mloss\u001b[0m\u001b[1;33m)\u001b[0m\u001b[1;33m\u001b[0m\u001b[1;33m\u001b[0m\u001b[0m\n\u001b[0;32m     24\u001b[0m \u001b[0mcorrect\u001b[0m \u001b[1;33m=\u001b[0m \u001b[0mtf\u001b[0m\u001b[1;33m.\u001b[0m\u001b[0mnn\u001b[0m\u001b[1;33m.\u001b[0m\u001b[0min_top_k\u001b[0m\u001b[1;33m(\u001b[0m\u001b[0mlogits\u001b[0m\u001b[1;33m,\u001b[0m \u001b[0my\u001b[0m\u001b[1;33m,\u001b[0m \u001b[1;36m1\u001b[0m\u001b[1;33m)\u001b[0m\u001b[1;33m\u001b[0m\u001b[1;33m\u001b[0m\u001b[0m\n",
      "\u001b[1;32m~\\Anaconda3\\envs\\tf_test\\lib\\site-packages\\tensorflow\\python\\util\\deprecation_wrapper.py\u001b[0m in \u001b[0;36m__getattr__\u001b[1;34m(self, name)\u001b[0m\n\u001b[0;32m    104\u001b[0m     \u001b[1;32mif\u001b[0m \u001b[0mname\u001b[0m\u001b[1;33m.\u001b[0m\u001b[0mstartswith\u001b[0m\u001b[1;33m(\u001b[0m\u001b[1;34m'_dw_'\u001b[0m\u001b[1;33m)\u001b[0m\u001b[1;33m:\u001b[0m\u001b[1;33m\u001b[0m\u001b[1;33m\u001b[0m\u001b[0m\n\u001b[0;32m    105\u001b[0m       \u001b[1;32mraise\u001b[0m \u001b[0mAttributeError\u001b[0m\u001b[1;33m(\u001b[0m\u001b[1;34m'Accessing local variables before they are created.'\u001b[0m\u001b[1;33m)\u001b[0m\u001b[1;33m\u001b[0m\u001b[1;33m\u001b[0m\u001b[0m\n\u001b[1;32m--> 106\u001b[1;33m     \u001b[0mattr\u001b[0m \u001b[1;33m=\u001b[0m \u001b[0mgetattr\u001b[0m\u001b[1;33m(\u001b[0m\u001b[0mself\u001b[0m\u001b[1;33m.\u001b[0m\u001b[0m_dw_wrapped_module\u001b[0m\u001b[1;33m,\u001b[0m \u001b[0mname\u001b[0m\u001b[1;33m)\u001b[0m\u001b[1;33m\u001b[0m\u001b[1;33m\u001b[0m\u001b[0m\n\u001b[0m\u001b[0;32m    107\u001b[0m     if (self._dw_warning_count < _PER_MODULE_WARNING_LIMIT and\n\u001b[0;32m    108\u001b[0m         name not in self._dw_deprecated_printed):\n",
      "\u001b[1;31mAttributeError\u001b[0m: module 'tensorflow._api.v1.test' has no attribute 'AdamOptimizer'"
     ]
    }
   ],
   "source": [
    "tf.reset_default_graph()\n",
    "n_steps = 28\n",
    "n_inputs = 28\n",
    "n_outputs = 10\n",
    "learning_rate = 0.001\n",
    "X = tf.placeholder(tf.float32, [None, n_steps, n_inputs])\n",
    "y = tf.placeholder(tf.int32, [None])\n",
    "n_layers = 3\n",
    "layers = [tf.contrib.rnn.BasicRNNCell(num_units = n_neurons, activation=tf.nn.relu)\n",
    "         for layer in range(n_layers)]\n",
    "\n",
    "multi_layer_cell = tf.contrib.rnn.MultiRNNCell(layers)\n",
    "\n",
    "outputs, states = tf.nn.dynamic_rnn(multi_layer_cell, X, dtype = tf.float32)\n",
    "\n",
    "states_concat = tf.concat(axis = 1, values = states) \n",
    "logits = tf.layers.dense(states_concat, n_outputs)\n",
    "\n",
    "\n",
    "xentropy = tf.nn.sparse_softmax_cross_entropy_with_logits(labels=y, logits = logits) \n",
    "loss = tf.reduce_mean(xentropy)\n",
    "optimizer =  tf.test.AdamOptimizer(learning_rate=learning_rate)\n",
    "test_op = optimizer.minimize(loss)\n",
    "correct = tf.nn.in_top_k(logits, y, 1)\n",
    "accuracy = tf.reduce_mean(tf.cast(correct, tf.float32))\n",
    "init = tf.global_variables_initializer()\n",
    "\n",
    "n_epochs = 100\n",
    "batch_size = 150\n",
    "with tf.Session() as sess:\n",
    "    init.run()\n",
    "    for epoch in range(n_epochs) :\n",
    "        for iteration in range(mnist.test.num_examples // batch_size) : # 60000/150\n",
    "            X_batch, y_batch = mnist.test.next_batch(batch_size)\n",
    "            X_batch = X_batch.reshape((-1, n_steps, n_inputs))\n",
    "            sess.run(test_op, feed_dict={X:X_batch, y:y_batch})\n",
    "        acc_train = accuracy.eval(feed_dict={X:X_batch, y:y_batch})\n",
    "        acc_test = accuracy.eval(feed_dict={X:X_test, y:y_test})\n",
    "        \n",
    "        print(epoch, \"\\tTrain acuuracy : \", acc_train, \"\\tTest accuracy : \", acc_test)\n",
    "        "
   ]
  },
  {
   "cell_type": "code",
   "execution_count": 67,
   "metadata": {
    "scrolled": true
   },
   "outputs": [
    {
     "ename": "ValueError",
     "evalue": "Tensor(\"ArgMax:0\", shape=(), dtype=int64) must be from the same graph as Tensor(\"ArgMax_1:0\", shape=(?,), dtype=int64).",
     "output_type": "error",
     "traceback": [
      "\u001b[1;31m---------------------------------------------------------------------------\u001b[0m",
      "\u001b[1;31mValueError\u001b[0m                                Traceback (most recent call last)",
      "\u001b[1;32m<ipython-input-67-e4c149864cb4>\u001b[0m in \u001b[0;36m<module>\u001b[1;34m\u001b[0m\n\u001b[1;32m----> 1\u001b[1;33m \u001b[0mis_correct\u001b[0m \u001b[1;33m=\u001b[0m \u001b[0mtf\u001b[0m\u001b[1;33m.\u001b[0m\u001b[0mequal\u001b[0m\u001b[1;33m(\u001b[0m\u001b[0mtf\u001b[0m\u001b[1;33m.\u001b[0m\u001b[0margmax\u001b[0m\u001b[1;33m(\u001b[0m\u001b[0mmodel\u001b[0m\u001b[1;33m,\u001b[0m \u001b[1;36m1\u001b[0m\u001b[1;33m)\u001b[0m\u001b[1;33m,\u001b[0m \u001b[0mtf\u001b[0m\u001b[1;33m.\u001b[0m\u001b[0margmax\u001b[0m\u001b[1;33m(\u001b[0m\u001b[0my\u001b[0m\u001b[1;33m,\u001b[0m\u001b[1;36m1\u001b[0m\u001b[1;33m)\u001b[0m\u001b[1;33m)\u001b[0m\u001b[1;33m\u001b[0m\u001b[1;33m\u001b[0m\u001b[0m\n\u001b[0m\u001b[0;32m      2\u001b[0m \u001b[0maccuracy\u001b[0m \u001b[1;33m=\u001b[0m \u001b[0mtf\u001b[0m\u001b[1;33m.\u001b[0m\u001b[0mreduce_mean\u001b[0m\u001b[1;33m(\u001b[0m\u001b[0mtf\u001b[0m\u001b[1;33m.\u001b[0m\u001b[0mcast\u001b[0m\u001b[1;33m(\u001b[0m\u001b[0mis_correct\u001b[0m\u001b[1;33m,\u001b[0m \u001b[0mtf\u001b[0m\u001b[1;33m.\u001b[0m\u001b[0mfloat32\u001b[0m\u001b[1;33m)\u001b[0m\u001b[1;33m)\u001b[0m\u001b[1;33m\u001b[0m\u001b[1;33m\u001b[0m\u001b[0m\n\u001b[0;32m      3\u001b[0m \u001b[0mtest_batch_size\u001b[0m \u001b[1;33m=\u001b[0m \u001b[0mlen\u001b[0m\u001b[1;33m(\u001b[0m\u001b[0mmnist\u001b[0m\u001b[1;33m.\u001b[0m\u001b[0mtest\u001b[0m\u001b[1;33m.\u001b[0m\u001b[0mimages\u001b[0m\u001b[1;33m)\u001b[0m\u001b[1;33m\u001b[0m\u001b[1;33m\u001b[0m\u001b[0m\n\u001b[0;32m      4\u001b[0m \u001b[0mtest_xs\u001b[0m \u001b[1;33m=\u001b[0m  \u001b[0mmnist\u001b[0m\u001b[1;33m.\u001b[0m\u001b[0mtest\u001b[0m\u001b[1;33m.\u001b[0m\u001b[0mimages\u001b[0m\u001b[1;33m.\u001b[0m\u001b[0mreshape\u001b[0m\u001b[1;33m(\u001b[0m\u001b[0mtest_batch_size\u001b[0m\u001b[1;33m,\u001b[0m \u001b[0mn_step\u001b[0m\u001b[1;33m,\u001b[0m \u001b[0mn_input\u001b[0m\u001b[1;33m)\u001b[0m\u001b[1;33m\u001b[0m\u001b[1;33m\u001b[0m\u001b[0m\n\u001b[0;32m      5\u001b[0m \u001b[0mtest_ys\u001b[0m \u001b[1;33m=\u001b[0m \u001b[0mmnist\u001b[0m\u001b[1;33m.\u001b[0m\u001b[0mtest\u001b[0m\u001b[1;33m.\u001b[0m\u001b[0mlabels\u001b[0m\u001b[1;33m\u001b[0m\u001b[1;33m\u001b[0m\u001b[0m\n",
      "\u001b[1;32m~\\Anaconda3\\envs\\tf_test\\lib\\site-packages\\tensorflow\\python\\ops\\gen_math_ops.py\u001b[0m in \u001b[0;36mequal\u001b[1;34m(x, y, name)\u001b[0m\n\u001b[0;32m   3452\u001b[0m   \u001b[1;32mtry\u001b[0m\u001b[1;33m:\u001b[0m\u001b[1;33m\u001b[0m\u001b[1;33m\u001b[0m\u001b[0m\n\u001b[0;32m   3453\u001b[0m     _, _, _op = _op_def_lib._apply_op_helper(\n\u001b[1;32m-> 3454\u001b[1;33m         \"Equal\", x=x, y=y, name=name)\n\u001b[0m\u001b[0;32m   3455\u001b[0m   \u001b[1;32mexcept\u001b[0m \u001b[1;33m(\u001b[0m\u001b[0mTypeError\u001b[0m\u001b[1;33m,\u001b[0m \u001b[0mValueError\u001b[0m\u001b[1;33m)\u001b[0m\u001b[1;33m:\u001b[0m\u001b[1;33m\u001b[0m\u001b[1;33m\u001b[0m\u001b[0m\n\u001b[0;32m   3456\u001b[0m     result = _dispatch.dispatch(\n",
      "\u001b[1;32m~\\Anaconda3\\envs\\tf_test\\lib\\site-packages\\tensorflow\\python\\framework\\op_def_library.py\u001b[0m in \u001b[0;36m_apply_op_helper\u001b[1;34m(self, op_type_name, name, **keywords)\u001b[0m\n\u001b[0;32m    364\u001b[0m       \u001b[1;31m# Need to flatten all the arguments into a list.\u001b[0m\u001b[1;33m\u001b[0m\u001b[1;33m\u001b[0m\u001b[1;33m\u001b[0m\u001b[0m\n\u001b[0;32m    365\u001b[0m       \u001b[1;31m# pylint: disable=protected-access\u001b[0m\u001b[1;33m\u001b[0m\u001b[1;33m\u001b[0m\u001b[1;33m\u001b[0m\u001b[0m\n\u001b[1;32m--> 366\u001b[1;33m       \u001b[0mg\u001b[0m \u001b[1;33m=\u001b[0m \u001b[0mops\u001b[0m\u001b[1;33m.\u001b[0m\u001b[0m_get_graph_from_inputs\u001b[0m\u001b[1;33m(\u001b[0m\u001b[0m_Flatten\u001b[0m\u001b[1;33m(\u001b[0m\u001b[0mkeywords\u001b[0m\u001b[1;33m.\u001b[0m\u001b[0mvalues\u001b[0m\u001b[1;33m(\u001b[0m\u001b[1;33m)\u001b[0m\u001b[1;33m)\u001b[0m\u001b[1;33m)\u001b[0m\u001b[1;33m\u001b[0m\u001b[1;33m\u001b[0m\u001b[0m\n\u001b[0m\u001b[0;32m    367\u001b[0m       \u001b[1;31m# pylint: enable=protected-access\u001b[0m\u001b[1;33m\u001b[0m\u001b[1;33m\u001b[0m\u001b[1;33m\u001b[0m\u001b[0m\n\u001b[0;32m    368\u001b[0m     \u001b[1;32mexcept\u001b[0m \u001b[0mAssertionError\u001b[0m \u001b[1;32mas\u001b[0m \u001b[0me\u001b[0m\u001b[1;33m:\u001b[0m\u001b[1;33m\u001b[0m\u001b[1;33m\u001b[0m\u001b[0m\n",
      "\u001b[1;32m~\\Anaconda3\\envs\\tf_test\\lib\\site-packages\\tensorflow\\python\\framework\\ops.py\u001b[0m in \u001b[0;36m_get_graph_from_inputs\u001b[1;34m(op_input_list, graph)\u001b[0m\n\u001b[0;32m   6133\u001b[0m         \u001b[0mgraph\u001b[0m \u001b[1;33m=\u001b[0m \u001b[0mgraph_element\u001b[0m\u001b[1;33m.\u001b[0m\u001b[0mgraph\u001b[0m\u001b[1;33m\u001b[0m\u001b[1;33m\u001b[0m\u001b[0m\n\u001b[0;32m   6134\u001b[0m       \u001b[1;32melif\u001b[0m \u001b[0moriginal_graph_element\u001b[0m \u001b[1;32mis\u001b[0m \u001b[1;32mnot\u001b[0m \u001b[1;32mNone\u001b[0m\u001b[1;33m:\u001b[0m\u001b[1;33m\u001b[0m\u001b[1;33m\u001b[0m\u001b[0m\n\u001b[1;32m-> 6135\u001b[1;33m         \u001b[0m_assert_same_graph\u001b[0m\u001b[1;33m(\u001b[0m\u001b[0moriginal_graph_element\u001b[0m\u001b[1;33m,\u001b[0m \u001b[0mgraph_element\u001b[0m\u001b[1;33m)\u001b[0m\u001b[1;33m\u001b[0m\u001b[1;33m\u001b[0m\u001b[0m\n\u001b[0m\u001b[0;32m   6136\u001b[0m       \u001b[1;32melif\u001b[0m \u001b[0mgraph_element\u001b[0m\u001b[1;33m.\u001b[0m\u001b[0mgraph\u001b[0m \u001b[1;32mis\u001b[0m \u001b[1;32mnot\u001b[0m \u001b[0mgraph\u001b[0m\u001b[1;33m:\u001b[0m\u001b[1;33m\u001b[0m\u001b[1;33m\u001b[0m\u001b[0m\n\u001b[0;32m   6137\u001b[0m         \u001b[1;32mraise\u001b[0m \u001b[0mValueError\u001b[0m\u001b[1;33m(\u001b[0m\u001b[1;34m\"%s is not from the passed-in graph.\"\u001b[0m \u001b[1;33m%\u001b[0m \u001b[0mgraph_element\u001b[0m\u001b[1;33m)\u001b[0m\u001b[1;33m\u001b[0m\u001b[1;33m\u001b[0m\u001b[0m\n",
      "\u001b[1;32m~\\Anaconda3\\envs\\tf_test\\lib\\site-packages\\tensorflow\\python\\framework\\ops.py\u001b[0m in \u001b[0;36m_assert_same_graph\u001b[1;34m(original_item, item)\u001b[0m\n\u001b[0;32m   6069\u001b[0m   \u001b[1;32mif\u001b[0m \u001b[0moriginal_item\u001b[0m\u001b[1;33m.\u001b[0m\u001b[0mgraph\u001b[0m \u001b[1;32mis\u001b[0m \u001b[1;32mnot\u001b[0m \u001b[0mitem\u001b[0m\u001b[1;33m.\u001b[0m\u001b[0mgraph\u001b[0m\u001b[1;33m:\u001b[0m\u001b[1;33m\u001b[0m\u001b[1;33m\u001b[0m\u001b[0m\n\u001b[0;32m   6070\u001b[0m     raise ValueError(\"%s must be from the same graph as %s.\" %\n\u001b[1;32m-> 6071\u001b[1;33m                      (item, original_item))\n\u001b[0m\u001b[0;32m   6072\u001b[0m \u001b[1;33m\u001b[0m\u001b[0m\n\u001b[0;32m   6073\u001b[0m \u001b[1;33m\u001b[0m\u001b[0m\n",
      "\u001b[1;31mValueError\u001b[0m: Tensor(\"ArgMax:0\", shape=(), dtype=int64) must be from the same graph as Tensor(\"ArgMax_1:0\", shape=(?,), dtype=int64)."
     ]
    }
   ],
   "source": [
    "is_correct = tf.equal(tf.argmax(model, 1), tf.argmax(y,1))\n",
    "accuracy = tf.reduce_mean(tf.cast(is_correct, tf.float32))\n",
    "test_batch_size = len(mnist.test.images)\n",
    "test_xs =  mnist.test.images.reshape(test_batch_size, n_step, n_input)\n",
    "test_ys = mnist.test.labels\n",
    "print('정확도 : ', sess.run(accuracy, feed_dict={X: test_xs, y:test_ys}))"
   ]
  },
  {
   "cell_type": "code",
   "execution_count": 69,
   "metadata": {
    "scrolled": true
   },
   "outputs": [
    {
     "name": "stdout",
     "output_type": "stream",
     "text": [
      "Extracting ./mnist/data/train-images-idx3-ubyte.gz\n",
      "Extracting ./mnist/data/train-labels-idx1-ubyte.gz\n",
      "Extracting ./mnist/data/t10k-images-idx3-ubyte.gz\n",
      "Extracting ./mnist/data/t10k-labels-idx1-ubyte.gz\n",
      "WARNING:tensorflow:Entity <bound method MultiRNNCell.call of <tensorflow.python.ops.rnn_cell_impl.MultiRNNCell object at 0x0000015665A81148>> could not be transformed and will be executed as-is. Please report this to the AutgoGraph team. When filing the bug, set the verbosity to 10 (on Linux, `export AUTOGRAPH_VERBOSITY=10`) and attach the full output. Cause: converting <bound method MultiRNNCell.call of <tensorflow.python.ops.rnn_cell_impl.MultiRNNCell object at 0x0000015665A81148>>: AttributeError: module 'gast' has no attribute 'Num'\n",
      "WARNING: Entity <bound method MultiRNNCell.call of <tensorflow.python.ops.rnn_cell_impl.MultiRNNCell object at 0x0000015665A81148>> could not be transformed and will be executed as-is. Please report this to the AutgoGraph team. When filing the bug, set the verbosity to 10 (on Linux, `export AUTOGRAPH_VERBOSITY=10`) and attach the full output. Cause: converting <bound method MultiRNNCell.call of <tensorflow.python.ops.rnn_cell_impl.MultiRNNCell object at 0x0000015665A81148>>: AttributeError: module 'gast' has no attribute 'Num'\n",
      "WARNING:tensorflow:Entity <bound method BasicRNNCell.call of <tensorflow.python.ops.rnn_cell_impl.BasicRNNCell object at 0x0000015665A810C8>> could not be transformed and will be executed as-is. Please report this to the AutgoGraph team. When filing the bug, set the verbosity to 10 (on Linux, `export AUTOGRAPH_VERBOSITY=10`) and attach the full output. Cause: converting <bound method BasicRNNCell.call of <tensorflow.python.ops.rnn_cell_impl.BasicRNNCell object at 0x0000015665A810C8>>: AssertionError: Bad argument number for Name: 3, expecting 4\n",
      "WARNING: Entity <bound method BasicRNNCell.call of <tensorflow.python.ops.rnn_cell_impl.BasicRNNCell object at 0x0000015665A810C8>> could not be transformed and will be executed as-is. Please report this to the AutgoGraph team. When filing the bug, set the verbosity to 10 (on Linux, `export AUTOGRAPH_VERBOSITY=10`) and attach the full output. Cause: converting <bound method BasicRNNCell.call of <tensorflow.python.ops.rnn_cell_impl.BasicRNNCell object at 0x0000015665A810C8>>: AssertionError: Bad argument number for Name: 3, expecting 4\n",
      "WARNING:tensorflow:Entity <bound method BasicRNNCell.call of <tensorflow.python.ops.rnn_cell_impl.BasicRNNCell object at 0x000001568F3BE048>> could not be transformed and will be executed as-is. Please report this to the AutgoGraph team. When filing the bug, set the verbosity to 10 (on Linux, `export AUTOGRAPH_VERBOSITY=10`) and attach the full output. Cause: converting <bound method BasicRNNCell.call of <tensorflow.python.ops.rnn_cell_impl.BasicRNNCell object at 0x000001568F3BE048>>: AssertionError: Bad argument number for Name: 3, expecting 4\n",
      "WARNING: Entity <bound method BasicRNNCell.call of <tensorflow.python.ops.rnn_cell_impl.BasicRNNCell object at 0x000001568F3BE048>> could not be transformed and will be executed as-is. Please report this to the AutgoGraph team. When filing the bug, set the verbosity to 10 (on Linux, `export AUTOGRAPH_VERBOSITY=10`) and attach the full output. Cause: converting <bound method BasicRNNCell.call of <tensorflow.python.ops.rnn_cell_impl.BasicRNNCell object at 0x000001568F3BE048>>: AssertionError: Bad argument number for Name: 3, expecting 4\n",
      "WARNING:tensorflow:Entity <bound method BasicRNNCell.call of <tensorflow.python.ops.rnn_cell_impl.BasicRNNCell object at 0x0000015685B60DC8>> could not be transformed and will be executed as-is. Please report this to the AutgoGraph team. When filing the bug, set the verbosity to 10 (on Linux, `export AUTOGRAPH_VERBOSITY=10`) and attach the full output. Cause: converting <bound method BasicRNNCell.call of <tensorflow.python.ops.rnn_cell_impl.BasicRNNCell object at 0x0000015685B60DC8>>: AssertionError: Bad argument number for Name: 3, expecting 4\n",
      "WARNING: Entity <bound method BasicRNNCell.call of <tensorflow.python.ops.rnn_cell_impl.BasicRNNCell object at 0x0000015685B60DC8>> could not be transformed and will be executed as-is. Please report this to the AutgoGraph team. When filing the bug, set the verbosity to 10 (on Linux, `export AUTOGRAPH_VERBOSITY=10`) and attach the full output. Cause: converting <bound method BasicRNNCell.call of <tensorflow.python.ops.rnn_cell_impl.BasicRNNCell object at 0x0000015685B60DC8>>: AssertionError: Bad argument number for Name: 3, expecting 4\n"
     ]
    }
   ],
   "source": [
    "import tensorflow as tf\n",
    "from tensorflow.python.framework import ops\n",
    "ops.reset_default_graph()\n",
    "from tensorflow.examples.tutorials.mnist import input_data\n",
    "mnist = input_data.read_data_sets(\"./mnist/data/\", one_hot = True)\n",
    "learning_rate = 0.001\n",
    "total_epoch = 10\n",
    "batch_size = 128\n",
    "n_input = 28\n",
    "n_step = 28\n",
    "n_hidden = 128\n",
    "n_class = 10\n",
    "\n",
    "# None이 batch_size\n",
    "X = tf.placeholder(tf.float32, [None, n_step, n_input]) # 128x28x28\n",
    "Y = tf.placeholder(tf.float32, [None, n_class]) # 128x10\n",
    "W = tf.Variable(tf.random_normal([n_hidden, n_class])) # 128*10\n",
    "b = tf.Variable(tf.random_normal([n_class]))  # 10\n",
    "# 28x128 사이즈의 가중치\n",
    "\n",
    "n_layers = 3\n",
    "# 3개의 셀로 멀티레이어를 생성해도 output은 하나의 셀일 경우와 같다.\n",
    "# state에서는 3개의 레이어마다 생성되기 때문에\n",
    "layers = [tf.contrib.rnn.BasicRNNCell(num_units=n_hidden, activation =tf.nn.relu)\n",
    "         for layer in range(n_layers)]\n",
    "multi_layer_cell = tf.contrib.rnn.MultiRNNCell(layers)\n",
    "\n",
    "cell = tf.nn.rnn_cell.BasicRNNCell(n_hidden) # RNNCell => neurons : 128개의 특징\n",
    "# cell 수 : 28\n",
    "outputs, states = tf.nn.dynamic_rnn(multi_layer_cell, X, dtype = tf.float32)\n",
    "# 128x28x128, 128x128\n",
    "# FFNN\n",
    "outputs = tf.transpose(outputs, [1,0,2]) # 28x128x128\n",
    "# 셀로\n",
    "outputs = outputs[-1] # 맨마지막 셀 : 128x128\n",
    "model = tf.matmul(outputs, W) + b # 128x128 , 가중치 128x10 => 128x10\n",
    "cost = tf.reduce_mean(tf.nn.softmax_cross_entropy_with_logits(logits=model, labels = Y))\n",
    "optimizer = tf.train.AdamOptimizer(learning_rate).minimize(cost)"
   ]
  },
  {
   "cell_type": "code",
   "execution_count": 74,
   "metadata": {},
   "outputs": [
    {
     "name": "stdout",
     "output_type": "stream",
     "text": [
      "정확도: 0.1102\n"
     ]
    }
   ],
   "source": [
    "sess = tf.Session()\n",
    "sess.run(tf.global_variables_initializer())\n",
    "is_correct = tf.equal(tf.argmax(model,1), tf.argmax(Y,1))\n",
    "accuracy = tf.reduce_mean(tf.cast(is_correct, tf.float32))\n",
    "test_batch_size = len(mnist.test.images)\n",
    "test_xs = mnist.test.images.reshape(test_batch_size, n_step,n_input)\n",
    "test_ys = mnist.test.labels\n",
    "# print(\"정확도\", sess.run(accuracy), feed_dict={X:test_xs, Y:test_ys})\n",
    "print(\"정확도:\", sess.run(accuracy, feed_dict={X: test_xs, Y: test_ys}))"
   ]
  },
  {
   "cell_type": "code",
   "execution_count": 75,
   "metadata": {},
   "outputs": [
    {
     "name": "stdout",
     "output_type": "stream",
     "text": [
      "입력데이터의 shape (2, 3, 1)\n",
      "WARNING:tensorflow:Entity <bound method LSTMCell.call of <tensorflow.python.ops.rnn_cell_impl.LSTMCell object at 0x000001568F2F0608>> could not be transformed and will be executed as-is. Please report this to the AutgoGraph team. When filing the bug, set the verbosity to 10 (on Linux, `export AUTOGRAPH_VERBOSITY=10`) and attach the full output. Cause: converting <bound method LSTMCell.call of <tensorflow.python.ops.rnn_cell_impl.LSTMCell object at 0x000001568F2F0608>>: AttributeError: module 'gast' has no attribute 'Num'\n",
      "WARNING: Entity <bound method LSTMCell.call of <tensorflow.python.ops.rnn_cell_impl.LSTMCell object at 0x000001568F2F0608>> could not be transformed and will be executed as-is. Please report this to the AutgoGraph team. When filing the bug, set the verbosity to 10 (on Linux, `export AUTOGRAPH_VERBOSITY=10`) and attach the full output. Cause: converting <bound method LSTMCell.call of <tensorflow.python.ops.rnn_cell_impl.LSTMCell object at 0x000001568F2F0608>>: AttributeError: module 'gast' has no attribute 'Num'\n",
      "rnn이 출력하는 output의 의미 :  (2, 3, 100)\n"
     ]
    }
   ],
   "source": [
    "import numpy as np\n",
    "values231 = np.array([\n",
    "    [[1],[2],[3]],\n",
    "    [[2],[3],[4]]\n",
    "])\n",
    "print(\"입력데이터의 shape\", values231.shape) # 2 x 3x 1\n",
    "import tensorflow as tf\n",
    "tf.reset_default_graph()\n",
    "tf_values231 = tf.constant(values231, dtype = tf.float32)\n",
    "# 1x100\n",
    "lstm_cell = tf.contrib.rnn.LSTMCell(num_units=100) # 뉴런\n",
    "# rnn모델은 동일\n",
    "outputs, state = tf.nn.dynamic_rnn(cell=lstm_cell, dtype=tf.float32, inputs=tf_values231)\n",
    "print(\"rnn이 출력하는 output의 의미 : \", outputs.shape) # 2x3x100\n",
    "with tf.Session() as sess :\n",
    "    sess.run(tf.global_variables_initializer())\n",
    "    output_run, state_run = sess.run([outputs, state])"
   ]
  },
  {
   "cell_type": "code",
   "execution_count": 76,
   "metadata": {},
   "outputs": [
    {
     "name": "stdout",
     "output_type": "stream",
     "text": [
      "WARNING:tensorflow:From <ipython-input-76-9f150156591d>:14: bidirectional_dynamic_rnn (from tensorflow.python.ops.rnn) is deprecated and will be removed in a future version.\n",
      "Instructions for updating:\n",
      "Please use `keras.layers.Bidirectional(keras.layers.RNN(cell))`, which is equivalent to this API\n",
      "WARNING:tensorflow:Entity <bound method LSTMCell.call of <tensorflow.python.ops.rnn_cell_impl.LSTMCell object at 0x0000015657DBA908>> could not be transformed and will be executed as-is. Please report this to the AutgoGraph team. When filing the bug, set the verbosity to 10 (on Linux, `export AUTOGRAPH_VERBOSITY=10`) and attach the full output. Cause: converting <bound method LSTMCell.call of <tensorflow.python.ops.rnn_cell_impl.LSTMCell object at 0x0000015657DBA908>>: AttributeError: module 'gast' has no attribute 'Num'\n",
      "WARNING: Entity <bound method LSTMCell.call of <tensorflow.python.ops.rnn_cell_impl.LSTMCell object at 0x0000015657DBA908>> could not be transformed and will be executed as-is. Please report this to the AutgoGraph team. When filing the bug, set the verbosity to 10 (on Linux, `export AUTOGRAPH_VERBOSITY=10`) and attach the full output. Cause: converting <bound method LSTMCell.call of <tensorflow.python.ops.rnn_cell_impl.LSTMCell object at 0x0000015657DBA908>>: AttributeError: module 'gast' has no attribute 'Num'\n",
      "WARNING:tensorflow:Entity <bound method LSTMCell.call of <tensorflow.python.ops.rnn_cell_impl.LSTMCell object at 0x000001568FEA5588>> could not be transformed and will be executed as-is. Please report this to the AutgoGraph team. When filing the bug, set the verbosity to 10 (on Linux, `export AUTOGRAPH_VERBOSITY=10`) and attach the full output. Cause: converting <bound method LSTMCell.call of <tensorflow.python.ops.rnn_cell_impl.LSTMCell object at 0x000001568FEA5588>>: AttributeError: module 'gast' has no attribute 'Num'\n",
      "WARNING: Entity <bound method LSTMCell.call of <tensorflow.python.ops.rnn_cell_impl.LSTMCell object at 0x000001568FEA5588>> could not be transformed and will be executed as-is. Please report this to the AutgoGraph team. When filing the bug, set the verbosity to 10 (on Linux, `export AUTOGRAPH_VERBOSITY=10`) and attach the full output. Cause: converting <bound method LSTMCell.call of <tensorflow.python.ops.rnn_cell_impl.LSTMCell object at 0x000001568FEA5588>>: AttributeError: module 'gast' has no attribute 'Num'\n",
      "(2, 3, 100)\n",
      "(2, 3, 100)\n"
     ]
    }
   ],
   "source": [
    "tf.reset_default_graph()\n",
    "values = tf.constant(np.array([\n",
    "    [[1],[2],[3]],\n",
    "    [[2],[3],[4]]\n",
    "]), dtype = tf.float32)\n",
    "lstm_cell_fw = tf.contrib.rnn.LSTMCell(100)\n",
    "lstm_cell_bw = tf.contrib.rnn.LSTMCell(100)\n",
    "# Multi Cell : 셀에서\n",
    "# 양방향 LSTM\n",
    "(output_fw, output_bw), (output_state_fw, output_state_bw) = tf.nn.bidirectional_dynamic_rnn(\n",
    "    cell_fw=lstm_cell_fw,\n",
    "    cell_bw=lstm_cell_bw,\n",
    "    inputs=values,\n",
    "    dtype=tf.float32)\n",
    "print(output_fw.shape)\n",
    "print(output_bw.shape)"
   ]
  },
  {
   "cell_type": "code",
   "execution_count": 79,
   "metadata": {
    "scrolled": true
   },
   "outputs": [
    {
     "name": "stdout",
     "output_type": "stream",
     "text": [
      "(1, 5, 4)\n",
      "array([[[1., 0., 0., 0.],\n",
      "        [0., 1., 0., 0.],\n",
      "        [0., 0., 1., 0.],\n",
      "        [0., 0., 1., 0.],\n",
      "        [0., 0., 0., 1.]]], dtype=float32)\n",
      "WARNING:tensorflow:Entity <bound method BasicRNNCell.call of <tensorflow.python.ops.rnn_cell_impl.BasicRNNCell object at 0x0000015672C2CD08>> could not be transformed and will be executed as-is. Please report this to the AutgoGraph team. When filing the bug, set the verbosity to 10 (on Linux, `export AUTOGRAPH_VERBOSITY=10`) and attach the full output. Cause: converting <bound method BasicRNNCell.call of <tensorflow.python.ops.rnn_cell_impl.BasicRNNCell object at 0x0000015672C2CD08>>: AssertionError: Bad argument number for Name: 3, expecting 4\n",
      "WARNING: Entity <bound method BasicRNNCell.call of <tensorflow.python.ops.rnn_cell_impl.BasicRNNCell object at 0x0000015672C2CD08>> could not be transformed and will be executed as-is. Please report this to the AutgoGraph team. When filing the bug, set the verbosity to 10 (on Linux, `export AUTOGRAPH_VERBOSITY=10`) and attach the full output. Cause: converting <bound method BasicRNNCell.call of <tensorflow.python.ops.rnn_cell_impl.BasicRNNCell object at 0x0000015672C2CD08>>: AssertionError: Bad argument number for Name: 3, expecting 4\n",
      "array([[[ 0.69816405, -0.23959392],\n",
      "        [ 0.56656075, -0.4680605 ],\n",
      "        [ 0.34961826,  0.66894406],\n",
      "        [ 0.16789563,  0.49183697],\n",
      "        [ 0.61552846, -0.7606419 ]]], dtype=float32)\n",
      "(1, 5, 2)\n",
      "(1, 2)\n",
      "array([[ 0.61552846, -0.7606419 ]], dtype=float32)\n"
     ]
    }
   ],
   "source": [
    "# embedding\n",
    "from tensorflow.contrib import rnn\n",
    "import pprint\n",
    "from tensorflow.python.framework import ops\n",
    "ops.reset_default_graph()\n",
    "pp = pprint.PrettyPrinter(indent=4)\n",
    "sess = tf.InteractiveSession()\n",
    "h = [1, 0, 0, 0]   # 단어를 원핫인코딩 : 수치화\n",
    "e = [0, 1, 0, 0]\n",
    "l = [0, 0, 1, 0]\n",
    "o = [0, 0, 0, 1]\n",
    "# 변수공유를 위해 지정\n",
    "with tf.variable_scope('five_sequences') as scope :\n",
    "    hidden_size = 2\n",
    "    # 4->2개 특징으로 vector화\n",
    "    cell = tf.contrib.rnn.BasicRNNCell(num_units=hidden_size)\n",
    "    # [h,e,l,l,o]\n",
    "    # [1, 0, 0, 0]\n",
    "    # [0, 1, 0, 0]\n",
    "    # [0, 0, 1, 0]\n",
    "    # [0, 0, 1, 0]\n",
    "    # [0, 0, 0, 1]\n",
    "    \n",
    "    x_data = np.array([[h,e,l,l,o]], dtype = np.float32)\n",
    "    print(x_data.shape) # (1, 5, 4) : 데이터 한개 \n",
    "    pp.pprint(x_data)\n",
    "    # cell의 개수 : 5개\n",
    "    # 셀당 입력데이터 4개\n",
    "    # 셀당 가중치 : 4x2\n",
    "    outputs, states = tf.nn.dynamic_rnn(cell, x_data, dtype = tf.float32)\n",
    "    sess.run(tf.global_variables_initializer())\n",
    "    pp.pprint(outputs.eval())\n",
    "    print(outputs.shape) # 1x5x2\n",
    "    print(states.shape)  # 1x2\n",
    "    pp.pprint(states.eval())"
   ]
  },
  {
   "cell_type": "code",
   "execution_count": 80,
   "metadata": {},
   "outputs": [],
   "source": [
    "char_arr = ['a','b','c','d','e','f','g','h','i','j','k','l','m','n','o','p','q','r','s','t','u','v','w','x','y','z']\n",
    "num_dic = {n: i for i, n in enumerate(char_arr)}\n",
    "# a:0, b:1\n",
    "dic_len = len(num_dic)\n",
    "# rule base => 자동 툴 => 가중치만 이용\n",
    "seq_data = ['word', 'wood', 'deep', 'dive', 'cold', 'cool', 'load', 'love', 'kiss', 'kind']\n",
    "# 10x3\n",
    "# 10x2 target"
   ]
  },
  {
   "cell_type": "code",
   "execution_count": 81,
   "metadata": {},
   "outputs": [],
   "source": [
    "# 26x26행렬\n",
    "\n",
    "# 100000000000000000000000\n",
    "# 010000000000000000000000\n",
    "# 001000000000000000000000\n",
    "\n",
    "def make_batch(seq_data) :\n",
    "    input_batch = []\n",
    "    target_batch = []\n",
    "    for seq in seq_data : # 'word'\n",
    "        input = [num_dic[n] for n in seq[:-1]] # w=22, o = 14, r=17\n",
    "        target = num_dic[seq[-1]] # d = 3\n",
    "        input_batch.append(np.eye(dic_len)[input]) # 원핫인코딩\n",
    "        target_batch.append(target)\n",
    "    return input_batch, target_batch"
   ]
  },
  {
   "cell_type": "code",
   "execution_count": 82,
   "metadata": {},
   "outputs": [],
   "source": [
    "learning_rate = 0.01\n",
    "n_hidden = 128\n",
    "total_epoch = 30\n",
    "n_step = 3\n",
    "n_input = n_class = dic_len\n",
    " \n",
    "X = tf.placeholder(tf.float32, [None, n_step, n_input])\n",
    "Y = tf.placeholder(tf.float32, [None])\n",
    "W = tf.Variable(tf.random_normal([n_hidden, n_class]))\n",
    "b = tf.Variable(tf.random_normal([n_class]))"
   ]
  },
  {
   "cell_type": "code",
   "execution_count": null,
   "metadata": {},
   "outputs": [],
   "source": []
  }
 ],
 "metadata": {
  "kernelspec": {
   "display_name": "Python 3",
   "language": "python",
   "name": "python3"
  },
  "language_info": {
   "codemirror_mode": {
    "name": "ipython",
    "version": 3
   },
   "file_extension": ".py",
   "mimetype": "text/x-python",
   "name": "python",
   "nbconvert_exporter": "python",
   "pygments_lexer": "ipython3",
   "version": "3.7.6"
  }
 },
 "nbformat": 4,
 "nbformat_minor": 4
}
