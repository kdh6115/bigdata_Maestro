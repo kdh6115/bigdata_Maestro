{
 "cells": [
  {
   "cell_type": "code",
   "execution_count": null,
   "metadata": {},
   "outputs": [],
   "source": [
    "객체 지향 프로그래밍 (class(꼴) => (instance : 메모리확보) Object(객체))\n",
    "\n",
    "- class : 멤버변수(속성) + 멤버함수\n",
    "\n",
    "- 인스턴스할 때 멤버변수(속성)를 저장하는 공간만 확보"
   ]
  },
  {
   "cell_type": "code",
   "execution_count": 3,
   "metadata": {},
   "outputs": [
    {
     "name": "stdout",
     "output_type": "stream",
     "text": [
      "삼각형의 넓이는 100.0\n"
     ]
    }
   ],
   "source": [
    "width = 10\n",
    "height = 20\n",
    "area = 10 * 20/2\n",
    "print(\"삼각형의 넓이는\", area)"
   ]
  },
  {
   "cell_type": "code",
   "execution_count": 7,
   "metadata": {},
   "outputs": [
    {
     "name": "stdout",
     "output_type": "stream",
     "text": [
      "10 20 100.0\n"
     ]
    }
   ],
   "source": [
    "class Triangle : \n",
    "    def setData(self, width, height) : # 함수를 이용한 초기화, self는 어떤 변수에도 다 붙인다. \n",
    "        self.width = width\n",
    "        self.height = height\n",
    "    \n",
    "    def area(self) :                   # 매개변수 취급은 안함\n",
    "        return self.width*self.height/2\n",
    "\n",
    "tri1 = Triangle()                      # 인스턴스한다. 함수처럼 () 붙인다.\n",
    "tri1.setData(10,20)                    # 실시간으로 변수공간 확보\n",
    "print(tri1.width, tri1.height, tri1.area())"
   ]
  },
  {
   "cell_type": "code",
   "execution_count": 9,
   "metadata": {},
   "outputs": [
    {
     "name": "stdout",
     "output_type": "stream",
     "text": [
      "10 20 100.0\n"
     ]
    }
   ],
   "source": [
    "class Triangle : \n",
    "    def __init__(self, width, height) : # 초기화함수, 생산자, 강제로 호출불가한 함수, <__init__ Object에 있는 함수(상속)>\n",
    "        self.width = width\n",
    "        self.height = height\n",
    "    \n",
    "    def area(self) :\n",
    "        return self.width * self.height/2\n",
    "\n",
    "tri1 = Triangle(10,20)\n",
    "# tri1.__init__(10,20) 호출불가, 인스턴스할 때 자동으로 호출, 재정의한 함수다.\n",
    "print(tri1.width, tri1.height, tri1.area())"
   ]
  },
  {
   "cell_type": "code",
   "execution_count": 22,
   "metadata": {},
   "outputs": [
    {
     "data": {
      "text/plain": [
       "'클래스의 예'"
      ]
     },
     "execution_count": 22,
     "metadata": {},
     "output_type": "execute_result"
    }
   ],
   "source": [
    "# class변수, 멤버변수, 지역변수\n",
    "class MyClass(object) : # 선언하는 순간에 메모리에 자리를 잡음, object 생략 가능\n",
    "    \"\"\"클래스의 예\"\"\"\n",
    "    i = 12345           # 클래스 변수, 공용변수, 메모리 잡음\n",
    "    \n",
    "    def __init__(self) :\n",
    "        self.i = 54321  # 멤버변수 : 함수안에서 사용되어지는 변수, 함수가 종료되더라도 메모리에 남는다. 출력하기 위해선 인스턴스 필요\n",
    "        num = 100       # 지역변수\n",
    "    \n",
    "    def f(self) :\n",
    "        return self.i\n",
    "\n",
    "MyClass.__doc__         # Object의 속성, __doc__ class의 문자열을 출력해줌"
   ]
  },
  {
   "cell_type": "code",
   "execution_count": 24,
   "metadata": {},
   "outputs": [
    {
     "name": "stdout",
     "output_type": "stream",
     "text": [
      "12345\n"
     ]
    }
   ],
   "source": [
    "print(MyClass.i) # class 변수 : 인스턴스 하지 않고도 호출 가능. 함수 외부에서 사용되어지는 변수"
   ]
  },
  {
   "cell_type": "code",
   "execution_count": 25,
   "metadata": {},
   "outputs": [
    {
     "name": "stdout",
     "output_type": "stream",
     "text": [
      "54321\n"
     ]
    },
    {
     "data": {
      "text/plain": [
       "54321"
      ]
     },
     "execution_count": 25,
     "metadata": {},
     "output_type": "execute_result"
    }
   ],
   "source": [
    "myclass = MyClass() # self.i에 대한 메모리 확보\n",
    "print(myclass.i)   # 멤버변수 호출\n",
    "myclass.f()"
   ]
  },
  {
   "cell_type": "code",
   "execution_count": 26,
   "metadata": {},
   "outputs": [
    {
     "name": "stdout",
     "output_type": "stream",
     "text": [
      "12345\n",
      "54321\n"
     ]
    }
   ],
   "source": [
    "print(MyClass.i)\n",
    "print(MyClass().i) # 참조(myclass = MyClass())가 없기 때문에 사용과 동시에 메모리에서 사라짐"
   ]
  },
  {
   "cell_type": "code",
   "execution_count": 29,
   "metadata": {},
   "outputs": [
    {
     "name": "stdout",
     "output_type": "stream",
     "text": [
      "생성 Mon Dec 30 11:08:55 2019\n",
      "사망 Mon Dec 30 11:08:55 2019\n",
      "Sleeping for 3 sec\n",
      "사망 Mon Dec 30 11:08:58 2019\n"
     ]
    }
   ],
   "source": [
    "from time import time, ctime, sleep  # 시간은 초로 관리 ctime(문자열로 convert)\n",
    "class Life :\n",
    "    def __init__(self) :             # 생성자\n",
    "        self.birth = ctime()         # 현재의 시간을 문자열로 변환\n",
    "        print('생성', self.birth)\n",
    "    \n",
    "    def __del__(self) :              # 소멸자(메모리에서 사라질 때 자동으로 호출)\n",
    "        print('사망', ctime())\n",
    "    \n",
    "    def test(self) :\n",
    "        # mylife = Life()\n",
    "        print('Sleeping for 3 sec')\n",
    "        sleep(3)                     # 3초동안 쉬었다가\n",
    "\n",
    "li = Life()                          # 오른쪽은 heap에 저장, 왼쪽은 그 주소를 가리키는 stack에 생성\n",
    "li.test()\n",
    "del li                               # 참조하고 있는 li를 삭제, 자동으로 가비지 컬렉션됨"
   ]
  },
  {
   "cell_type": "code",
   "execution_count": 61,
   "metadata": {},
   "outputs": [
    {
     "name": "stdout",
     "output_type": "stream",
     "text": [
      "직원 수 = 1\n",
      "직원 수 = 2\n",
      "직원 수 = 2\n",
      "이름 :  김종호 , 급여 :  500\n",
      "이름 :  빅데타 , 급여 :  500\n",
      "Called :  ('빅데타', 500, 100) {'c': 100}\n"
     ]
    }
   ],
   "source": [
    "# 사원관리\n",
    "class Employee : \n",
    "    empcount = 0  # 사원수를 저장 : 클래스 변수 생성\n",
    "    def __init__(self, name, salary) :\n",
    "        self.name = name\n",
    "        self.salary = salary\n",
    "        Employee.empcount += 1\n",
    "        \n",
    "    def displaycount(self) :\n",
    "        print(\"직원 수 = %d\" % Employee.empcount)\n",
    "        \n",
    "    def displayEmployee(self) :\n",
    "        print(\"이름 : \", self.name, \", 급여 : \", self.salary)\n",
    "        \n",
    "    def __call__(self, *pargs, **kargs)  :\n",
    "        print('Called : ', pargs, kargs)\n",
    "    \n",
    "emp = Employee(\"김종호\", 500)\n",
    "emp.displaycount() # 1\n",
    "emp1 = Employee(\"빅데타\", 500)\n",
    "emp1.displaycount() # 2\n",
    "emp.displaycount()  # 2 공유변수이기 때문\n",
    "emp.displayEmployee() # 데이터를 담는 위치가 다르기 때문\n",
    "emp1.displayEmployee()\n",
    "emp(\"빅데타\", 500, 100, c=100) #클래스를 함수처럼 사용하고 싶을 때 __call__을 오버라이딩"
   ]
  },
  {
   "cell_type": "code",
   "execution_count": 60,
   "metadata": {},
   "outputs": [
    {
     "name": "stdout",
     "output_type": "stream",
     "text": [
      "Called :  ('빅데타', 500, 100) {'c': 100}\n",
      "None\n"
     ]
    }
   ],
   "source": []
  },
  {
   "cell_type": "code",
   "execution_count": 48,
   "metadata": {},
   "outputs": [
    {
     "name": "stdout",
     "output_type": "stream",
     "text": [
      "8\n"
     ]
    }
   ],
   "source": [
    "# 실시간으로 변수를 추가\n",
    "emp.age = 8\n",
    "emp1.age = 7\n",
    "print(emp.age)"
   ]
  },
  {
   "cell_type": "code",
   "execution_count": 49,
   "metadata": {},
   "outputs": [
    {
     "name": "stdout",
     "output_type": "stream",
     "text": [
      "{'name': '김종호', 'salary': 500, 'age': 8}\n"
     ]
    }
   ],
   "source": [
    "print(emp.__dict__) # object를 상속"
   ]
  },
  {
   "cell_type": "code",
   "execution_count": 50,
   "metadata": {},
   "outputs": [
    {
     "name": "stdout",
     "output_type": "stream",
     "text": [
      "2\n"
     ]
    }
   ],
   "source": [
    "print(Employee.empcount)"
   ]
  },
  {
   "cell_type": "code",
   "execution_count": 51,
   "metadata": {},
   "outputs": [
    {
     "name": "stdout",
     "output_type": "stream",
     "text": [
      "['__call__', '__class__', '__delattr__', '__dict__', '__dir__', '__doc__', '__eq__', '__format__', '__ge__', '__getattribute__', '__gt__', '__hash__', '__init__', '__init_subclass__', '__le__', '__lt__', '__module__', '__ne__', '__new__', '__reduce__', '__reduce_ex__', '__repr__', '__setattr__', '__sizeof__', '__str__', '__subclasshook__', '__weakref__', 'age', 'displayEmployee', 'displaycount', 'empcount', 'name', 'salary']\n"
     ]
    }
   ],
   "source": [
    "print(dir(emp))"
   ]
  },
  {
   "cell_type": "code",
   "execution_count": null,
   "metadata": {},
   "outputs": [],
   "source": [
    "문제\n",
    "- 이름과 나이를 저장하는 Student class를 생성하시요\n",
    "- 이름과 나이를 출력하는 print 함수를 클래스 내에 정의하시요"
   ]
  },
  {
   "cell_type": "code",
   "execution_count": 66,
   "metadata": {},
   "outputs": [
    {
     "name": "stdout",
     "output_type": "stream",
     "text": [
      "이름 :  김대현 , 나이 :  25\n"
     ]
    }
   ],
   "source": [
    "class Student :\n",
    "    def __init__(self, name, age) :\n",
    "        self.name = name\n",
    "        self.age = age\n",
    "        \n",
    "    def displayStudent(self) :\n",
    "        print(\"이름 : \", self.name, \", 나이 : \", self.age)\n",
    "           \n",
    "student = Student(\"김대현\", 25)\n",
    "student.displayStudent()"
   ]
  },
  {
   "cell_type": "code",
   "execution_count": 70,
   "metadata": {},
   "outputs": [
    {
     "name": "stdout",
     "output_type": "stream",
     "text": [
      "이름 :  김대현 , 나이 :  25\n",
      "나의 이름은 김대현\n"
     ]
    }
   ],
   "source": [
    "class Student :\n",
    "    def __init__(self, name, age) :\n",
    "        self.full_name = name\n",
    "        self.age = age\n",
    "        \n",
    "    def print(self) :\n",
    "        print(\"이름 : \", self.full_name, \", 나이 : \", self.age)\n",
    "    \n",
    "    def __repr__(self) : # __str__, 오버라이딩 해 놓은 경우\n",
    "        return \"나의 이름은 \" + self.full_name\n",
    "           \n",
    "f = Student(\"김대현\", 25)\n",
    "f.print()\n",
    "print(f) # __repr__덕분"
   ]
  },
  {
   "cell_type": "code",
   "execution_count": 71,
   "metadata": {},
   "outputs": [
    {
     "name": "stdout",
     "output_type": "stream",
     "text": [
      "<class '__main__.Student'>\n"
     ]
    }
   ],
   "source": [
    "# object로부터 상속\n",
    "print(f.__class__)"
   ]
  },
  {
   "cell_type": "code",
   "execution_count": 72,
   "metadata": {},
   "outputs": [
    {
     "name": "stdout",
     "output_type": "stream",
     "text": [
      "나의 이름은 김대현\n"
     ]
    }
   ],
   "source": [
    "g  = f.__class__(\"김대현\", 25) # 인스턴스된 변수로부터 클래스 생성\n",
    "print(g)"
   ]
  },
  {
   "cell_type": "code",
   "execution_count": 43,
   "metadata": {},
   "outputs": [
    {
     "name": "stdout",
     "output_type": "stream",
     "text": [
      "좌표는 (7, 3)\n",
      "좌표는 (4, 7)\n",
      "두 점 사이의 거리는  5.0\n",
      "충돌하지 않았습니다.\n"
     ]
    }
   ],
   "source": [
    "import math\n",
    "# 1개를 다루는 클래스를 작성하고 있지만 거리값은 두 개를 이용\n",
    "class Point :\n",
    "    def __init__(self, x,y) :  # 생성자\n",
    "        self.x = x\n",
    "        self.y = y\n",
    "    \n",
    "    def __str__(self) :        # __repr__   문자열을 요구하는 함수에 들어가면\n",
    "        return \"좌표는 (%d, %d)\" %(self.x, self.y)\n",
    "    \n",
    "    def dist(self, other) :\n",
    "        distance = math.sqrt((self.x-other.x)**2+(self.y-other.y)**2)\n",
    "        return distance\n",
    "    \n",
    "    def collision(self, other) :\n",
    "        return self.dist(other) <3\n",
    "\n",
    "p = Point(7,3)\n",
    "o = Point(4,7)\n",
    "print(p)\n",
    "print(o)\n",
    "\n",
    "print(\"두 점 사이의 거리는 \", p.dist(o))\n",
    "if p.collision(o) :\n",
    "    print(\"충돌했습니다.\")\n",
    "else : \n",
    "    print(\"충돌하지 않았습니다.\")"
   ]
  },
  {
   "cell_type": "code",
   "execution_count": null,
   "metadata": {},
   "outputs": [],
   "source": [
    " 문제 : Point 클래스를 이용하여 Circle 클래스를 정의하시요\n",
    "- 원 : 중심점하고 반지름\n",
    "- 원과 원이 충돌하는 여부를 확인하는 함수를 작성하시요."
   ]
  },
  {
   "cell_type": "code",
   "execution_count": 103,
   "metadata": {},
   "outputs": [
    {
     "name": "stdout",
     "output_type": "stream",
     "text": [
      "첫 번째 원의 반지름 길이는  5.0\n",
      "두 번째 원의 반지름 길이는  5.39\n",
      "9.433981132056603\n",
      "충돌했습니다.\n"
     ]
    }
   ],
   "source": [
    "import math\n",
    "class Point :\n",
    "    def __init__(self, x,y) :\n",
    "        self.x = x\n",
    "        self.y = y\n",
    "        \n",
    "    def radi(self, other) :\n",
    "        radius = round(math.sqrt((self.x-other.x)**2 + (self.y-other.y)**2),2)\n",
    "        return radius\n",
    "        \n",
    "    def collision(self, other) :\n",
    "        return self.radi(other)\n",
    "\n",
    "    \n",
    "one = Point(7, 3)\n",
    "two = Point(4, 7)\n",
    "three = Point(15,8)\n",
    "four = Point(20,6)\n",
    "print(\"첫 번째 원의 반지름 길이는 \", one.radi(two))\n",
    "print(\"두 번째 원의 반지름 길이는 \", three.radi(four)) \n",
    "dist = math.sqrt((one.x-three.x)**2 + (one.y-three.y)**2)\n",
    "print(dist)\n",
    "if one.collision(two)+three.collision(four) > dist :\n",
    "    print(\"충돌했습니다.\")\n",
    "else :\n",
    "    print(\"충돌하지 않았습니다.\")"
   ]
  },
  {
   "cell_type": "code",
   "execution_count": 109,
   "metadata": {},
   "outputs": [
    {
     "name": "stdout",
     "output_type": "stream",
     "text": [
      "원의 중심은 좌표는 (7, 3)반지름은 1\n",
      "원의 중심은 좌표는 (4, 7)반지름은 5\n",
      "충돌한다.\n"
     ]
    },
    {
     "data": {
      "text/plain": [
       "'충돌한다.'"
      ]
     },
     "execution_count": 109,
     "metadata": {},
     "output_type": "execute_result"
    }
   ],
   "source": [
    "class circle :\n",
    "    def __init__(self, center, radius) :\n",
    "        self.center = center\n",
    "        self.radius = radius\n",
    "        \n",
    "    def __repr__(self) :\n",
    "        return \"원의 중심은 \" + str(self.center) + \"반지름은 \" + str(self.radius)\n",
    "    \n",
    "    def collision(self, other) :\n",
    "        if self.center.dist(other.center) < self.radius + other.radius :\n",
    "            result = \"충돌한다.\"\n",
    "        else : \n",
    "            return \"충돌하지 않는다.\"\n",
    "        return result\n",
    "\n",
    "cir = circle(p, 1)\n",
    "cir2 = circle(o, 5)\n",
    "print(cir)\n",
    "print(cir2)\n",
    "print(cir.collision(cir2))\n",
    "circle.collision(cir,cir2)"
   ]
  },
  {
   "cell_type": "code",
   "execution_count": null,
   "metadata": {},
   "outputs": [],
   "source": [
    "Point를 이용해서 사각형 Rectangle 클래스를 작성하시요\n",
    "- 사각형의 면적을 구하는 함수를 작성하시요\n",
    "- 사각형의 둘레를 구하는 함수를 작성하시요\n",
    "- 대각선의 길이를 구하는 함수를 작성하시요"
   ]
  },
  {
   "cell_type": "code",
   "execution_count": 117,
   "metadata": {},
   "outputs": [
    {
     "name": "stdout",
     "output_type": "stream",
     "text": [
      "사각형의 면적은  12\n",
      "사각형의 둘레는  14\n",
      "사각형의 대각선의 길이는 5.0\n"
     ]
    }
   ],
   "source": [
    "import math\n",
    "class Rectangle :\n",
    "    def area() :\n",
    "        area = abs(p.x-o.x)*abs(p.y-o.y)\n",
    "        return area\n",
    "    \n",
    "    def peri() :\n",
    "        perimeter = abs(p.x-o.x)*2+abs(p.y-o.y)*2\n",
    "        return perimeter\n",
    "    \n",
    "    def dist() :\n",
    "        distance = math.sqrt((p.x-o.x)**2 + (p.y-o.y)**2)\n",
    "        return distance\n",
    "    \n",
    "rect = Rectangle\n",
    "print(\"사각형의 면적은 \", rect.area())\n",
    "print(\"사각형의 둘레는 \", rect.peri())\n",
    "print(\"사각형의 대각선의 길이는\", rect.dist())\n",
    "   \n"
   ]
  },
  {
   "cell_type": "code",
   "execution_count": 126,
   "metadata": {},
   "outputs": [
    {
     "name": "stdout",
     "output_type": "stream",
     "text": [
      "사각형의 면적은  12\n",
      "사각형의 둘레는  14\n",
      "사각형의 대각선의 길이는 5.0\n"
     ]
    }
   ],
   "source": [
    "import math\n",
    "class Rectangle :\n",
    "    def __init__(self, x, y) :\n",
    "        self.x = x\n",
    "        self.y = y\n",
    "        \n",
    "    def area(self, other) :\n",
    "        area = abs(self.x-other.x)*abs(self.y - other.y)\n",
    "        return(area)\n",
    "    \n",
    "    def peri(self, other) : \n",
    "        perimeter = abs(self.x-other.x)*2+abs(self.y-other.y)*2\n",
    "        return perimeter\n",
    "    \n",
    "    def dist(self, other) :\n",
    "        distance = math.sqrt((self.x-other.x)**2 + (self.y-other.y)**2)\n",
    "        return distance\n",
    "    \n",
    "\n",
    "rect = Rectangle(p.x,p.y)\n",
    "print(\"사각형의 면적은 \", rect.area(o))\n",
    "print(\"사각형의 둘레는 \", rect.peri(o))\n",
    "print(\"사각형의 대각선의 길이는\", rect.dist(o))\n",
    "   \n"
   ]
  },
  {
   "cell_type": "code",
   "execution_count": 72,
   "metadata": {},
   "outputs": [
    {
     "name": "stdout",
     "output_type": "stream",
     "text": [
      "12\n",
      "14\n",
      "5.0\n"
     ]
    }
   ],
   "source": [
    "import math\n",
    "class Rectangle :\n",
    "    def  __init__(self, po1, po2) :\n",
    "        self.po1 = po1\n",
    "        self.po2 = po2\n",
    "    \n",
    "    def area(self) :\n",
    "        result = abs((self.po1.x-self.po2.x) *(self.po1.y-self.po2.y))\n",
    "        return result\n",
    "    \n",
    "    def perimeter(self) :\n",
    "        result = abs(self.po1.x-self.po2.x)*2+abs(self.po1.y-self.po2.y)*2\n",
    "        return result\n",
    "    \n",
    "    def diagonal_dist(self) :\n",
    "        result = math.sqrt((self.po1.x-self.po2.x)**2 + (self.po1.y-self.po2.y)**2)\n",
    "        return result\n",
    "\n",
    "rec = Rectangle\n",
    "emp = Rectangle(p,o)\n",
    "print(rec.area(emp))\n",
    "print(rec.perimeter(emp))\n",
    "print(rec.diagonal_dist(emp))"
   ]
  },
  {
   "cell_type": "code",
   "execution_count": null,
   "metadata": {},
   "outputs": [],
   "source": [
    "문제 : vector class를 작성하시요\n",
    "- x,y의 2차원 벡터 구현\n",
    "- 벡터의 연산 (+, -, *, /) : 요소별로 계산하면됨\n",
    "- dot 함수를 구현하시요 : 벡터의 요소별로 곱하고 모두 더해주면 내적 유사도\n",
    "- cos 값으로 변환하는 함수를 구현하시요\n",
    "    cos theta = acos(A내적B / |A||B|)\n",
    "    |A| = math.sqrt(x^2 + y^2)"
   ]
  },
  {
   "cell_type": "code",
   "execution_count": 59,
   "metadata": {},
   "outputs": [
    {
     "name": "stdout",
     "output_type": "stream",
     "text": [
      "(좌표는 10, 23)\n",
      "(좌표는 20, 27)\n",
      "더하기  (좌표는 30, 50)\n",
      "곱하기 (좌표는 200, 621)\n",
      "빼기 (좌표는 -10, -4)\n",
      "나누기 (좌표는 0, 0)\n"
     ]
    }
   ],
   "source": [
    "# a = 10\n",
    "# b = 20\n",
    "# c = a+b\n",
    "import math\n",
    "class vector :\n",
    "    def __init__(self, x, y) :\n",
    "        self.x = x\n",
    "        self.y = y\n",
    "    \n",
    "    def __repr__(self) :\n",
    "        return \"(좌표는 %d, %d)\" %(self.x, self.y)\n",
    "    \n",
    "    def __add__(self, other) : # 연산자 오버로딩을 오버라이딩으로 구현한 것\n",
    "        return vector(self.x + other.x, self.y + other.y)\n",
    "    \n",
    "    def __mul__(self, other) : \n",
    "        return vector(self.x * other.x, self.y * other.y)\n",
    "    \n",
    "    def __sub__(self, other) : \n",
    "        return vector(self.x - other.x, self.y - other.y)\n",
    "    \n",
    "    def __truediv__(self, other) : \n",
    "        return vector(self.x/other.x, self.y / other.y)\n",
    "    \n",
    "f = vector(10,23)\n",
    "g = vector(20,27)\n",
    "print(f)\n",
    "print(g)\n",
    "print(\"더하기 \",f+g)\n",
    "print(\"곱하기\", f*g)\n",
    "print(\"빼기\",f-g)\n",
    "print(\"나누기\", f/g)\n",
    "\n",
    "\n"
   ]
  },
  {
   "cell_type": "code",
   "execution_count": null,
   "metadata": {},
   "outputs": [],
   "source": [
    "# 3차원 벡터를 클래스로 구현하시요(연산자 +, -, *, /)"
   ]
  },
  {
   "cell_type": "code",
   "execution_count": 75,
   "metadata": {},
   "outputs": [
    {
     "name": "stdout",
     "output_type": "stream",
     "text": [
      "(좌표는 10, 23, 30)\n",
      "(좌표는 20, 27, 40)\n",
      "더하기  (좌표는 30, 50, 70)\n",
      "곱하기 (좌표는 200, 621, 1200)\n",
      "빼기 (좌표는 -10, -4, -10)\n",
      "나누기 (좌표는 0, 0, 0)\n",
      "39.102429592034305\n",
      "(0.25573858464378224, 0.5881987446806991, 0.7672157539313467)\n",
      "2021\n",
      "8.359752309018285\n"
     ]
    }
   ],
   "source": [
    "import math\n",
    "class vector :\n",
    "    def __init__(self, x, y, z) :\n",
    "        self.x = x\n",
    "        self.y = y\n",
    "        self.z = z\n",
    "    \n",
    "    def __repr__(self) :\n",
    "        return \"(좌표는 %d, %d, %d)\" %(self.x, self.y, self.z)\n",
    "    \n",
    "    def __add__(self, other) : # 연산자 오버로딩을 오버라이딩으로 구현한 것\n",
    "        return vector(self.x + other.x, self.y + other.y, self.z + other.z)\n",
    "    \n",
    "    def __mul__(self, other) : \n",
    "        return vector(self.x * other.x, self.y * other.y, self.z * other.z)\n",
    "    \n",
    "    def __sub__(self, other) : \n",
    "        return vector(self.x - other.x, self.y - other.y, self.z - other.z)\n",
    "    \n",
    "    def __truediv__(self, other) : \n",
    "        return vector(self.x/other.x, self.y / other.y, self.z / other.z)\n",
    "    \n",
    "    def dist(self) :\n",
    "        return math.sqrt(self.x*self.x + self.y*self.y+self.z*self.z)\n",
    "# 방향만 바뀌어야지 크기까지 바뀌면 안됨\n",
    "    def norm(self) : # 정규화 크기값이 1인 사이즈로 변경(반지름이 1인 사이즈)\n",
    "        dist = self.dist()\n",
    "        return self.x/dist, self.y/dist, self.z/dist\n",
    "    \n",
    "    def dot(self, other) :\n",
    "        return (self.x*other.x + self.y*other.y + self.z*other.z)\n",
    "    \n",
    "    def theta(self, other) :\n",
    "        dot = self.dot(other)\n",
    "        dist1 = self.dist()\n",
    "        dist2 = other.dist() # radian => degree로 (컴퓨터는 라디안만 사용)\n",
    "        return math.acos(dot/(dist1*dist2)) * (180/math.pi) # 라디안 => 디그리로 변경\n",
    "    # 변환과정이 필요 -> 사람이 사용하는 각도 입력 (90) => 라디안 변환(math.pi/180) => 계산후 사람이 사용하는  degree로 변환해서 출력\n",
    "f = vector(10,23,30)\n",
    "g = vector(20,27,40)\n",
    "print(f)\n",
    "print(g)\n",
    "print(\"더하기 \",f+g)\n",
    "print(\"곱하기\", f*g)\n",
    "print(\"빼기\",f-g)\n",
    "print(\"나누기\", f/g)\n",
    "\n",
    "print(vector.dist(f))\n",
    "print(vector.norm(f))\n",
    "print(vector.dot(f,g))\n",
    "print(vector.theta(f,g))"
   ]
  },
  {
   "cell_type": "code",
   "execution_count": 77,
   "metadata": {},
   "outputs": [
    {
     "name": "stdout",
     "output_type": "stream",
     "text": [
      "(좌표는 10, 0, 0)\n",
      "(좌표는 20, 0, 0)\n",
      "(좌표는 10, -27, 0)\n",
      "(좌표는 0, 0, 0)\n",
      "f벡터의 크기 =  10.0\n",
      "g벡터의 크기 =  27.0\n",
      "f의 normal vector =  (1.0, 0.0, 0.0)\n",
      "g의 normal vector =  (0.0, 1.0, 0.0)\n",
      "두 벡터의 내적 =  0\n",
      "f와 g의 사이각은 =  90.0\n"
     ]
    }
   ],
   "source": [
    "f = vector(10, 0, 0)\n",
    "g = vector(0, 27, 0)\n",
    "\n",
    "print(f)\n",
    "print(f+f)\n",
    "print(f-g)\n",
    "print(f*g)\n",
    "print(\"f벡터의 크기 = \", f.dist())\n",
    "print(\"g벡터의 크기 = \", g.dist())\n",
    "print(\"f의 normal vector = \", f.norm())\n",
    "print(\"g의 normal vector = \", g.norm())\n",
    "print(\"두 벡터의 내적 = \", g.dot(f))\n",
    "print(\"f와 g의 사이각은 = \", f.theta(g))"
   ]
  },
  {
   "cell_type": "code",
   "execution_count": 79,
   "metadata": {},
   "outputs": [
    {
     "name": "stdout",
     "output_type": "stream",
     "text": [
      "a= [1, 2, 3]\n",
      "[[1, 2, 3], [4, 5, [1, 2, 3]], 100]\n",
      "[[1, 2, 3], [4, 5, [1, 2, 3]], 100]\n",
      "[[1, 2, 3], [4, 5, [1, 2, 3]], 100]\n",
      "[[1, 2, 3], [4, 5, [1, 2, 3]], 100]\n",
      "[[1, 2, 3, 100], [4, 5, [1, 2, 3, 100]], 100]\n",
      "[[1, 2, 3, 100], [4, 5, [1, 2, 3, 100]], 100]\n",
      "[[1, 2, 3], [4, 5, [1, 2, 3]], 100]\n",
      "[[1, 2, 3], [4, 5, [1, 2, 3]], 100]\n"
     ]
    }
   ],
   "source": [
    "# deep copy와 copy의 차이\n",
    "import copy\n",
    "a = [1,2,3]\n",
    "b = [4,5,a]          # 주소\n",
    "x = [a,b,100]\n",
    "y = copy.copy(x)     # 주소복사\n",
    "t = copy.deepcopy(x) # 원래의 요소를 별도의 공간에 복사한 다음 주소전달, x와 주소는 같지 않다.\n",
    "e = copy.deepcopy(y) \n",
    "print(\"a=\",a)\n",
    "print(x)\n",
    "print(y)\n",
    "print(t)\n",
    "print(e)\n",
    "a.append(100)\n",
    "print(x)\n",
    "print(y)\n",
    "print(t)\n",
    "print(e)"
   ]
  },
  {
   "cell_type": "code",
   "execution_count": null,
   "metadata": {},
   "outputs": [],
   "source": [
    "이름, 국어, 수학, 영어를 관리하는 Student class를 작성하시요\n",
    "- 총점과 평균도 계산해서 멤버변수에 저장"
   ]
  },
  {
   "cell_type": "code",
   "execution_count": 88,
   "metadata": {
    "scrolled": true
   },
   "outputs": [
    {
     "ename": "TypeError",
     "evalue": "__init__() missing 2 required positional arguments: 'tot' and 'mean'",
     "output_type": "error",
     "traceback": [
      "\u001b[1;31m---------------------------------------------------------------------------\u001b[0m",
      "\u001b[1;31mTypeError\u001b[0m                                 Traceback (most recent call last)",
      "\u001b[1;32m<ipython-input-88-d0a1a998fbec>\u001b[0m in \u001b[0;36m<module>\u001b[1;34m\u001b[0m\n\u001b[0;32m     13\u001b[0m               \"총점 : \", self.tot, \"평균 : \", self.mean)\n\u001b[0;32m     14\u001b[0m \u001b[1;33m\u001b[0m\u001b[0m\n\u001b[1;32m---> 15\u001b[1;33m \u001b[0mstudent\u001b[0m \u001b[1;33m=\u001b[0m \u001b[0mStudent\u001b[0m\u001b[1;33m(\u001b[0m\u001b[1;34m\"김대현\"\u001b[0m\u001b[1;33m,\u001b[0m \u001b[1;36m90\u001b[0m\u001b[1;33m,\u001b[0m \u001b[1;36m90\u001b[0m\u001b[1;33m,\u001b[0m \u001b[1;36m90\u001b[0m\u001b[1;33m)\u001b[0m\u001b[1;33m\u001b[0m\u001b[1;33m\u001b[0m\u001b[0m\n\u001b[0m\u001b[0;32m     16\u001b[0m \u001b[0mprint\u001b[0m\u001b[1;33m(\u001b[0m\u001b[0mtot\u001b[0m\u001b[1;33m,\u001b[0m\u001b[0mmean\u001b[0m\u001b[1;33m)\u001b[0m\u001b[1;33m\u001b[0m\u001b[1;33m\u001b[0m\u001b[0m\n\u001b[0;32m     17\u001b[0m \u001b[0mstudent\u001b[0m\u001b[1;33m.\u001b[0m\u001b[0mdisplay\u001b[0m\u001b[1;33m(\u001b[0m\u001b[1;33m)\u001b[0m\u001b[1;33m\u001b[0m\u001b[1;33m\u001b[0m\u001b[0m\n",
      "\u001b[1;31mTypeError\u001b[0m: __init__() missing 2 required positional arguments: 'tot' and 'mean'"
     ]
    }
   ],
   "source": [
    "class Student :\n",
    "\n",
    "    def __init__(self, name, kor, math, eng, tot, mean) :\n",
    "        self.name = name\n",
    "        self.kor = int(kor)\n",
    "        self.math = int(math)\n",
    "        self.eng = int(eng)\n",
    "        self.tot = self.kor+self.math+self.eng\n",
    "        self.mean = self.tot/4\n",
    "        \n",
    "    def display(self) :\n",
    "        print(\"이름 : \", self.name, \", 국어 : \", self.kor,\"점\",  \"수학 : \", self.math, \"점\", \"영어 : \", self.eng, \"점\", \n",
    "              \"총점 : \", self.tot, \"평균 : \", self.mean)\n",
    "           \n",
    "student = Student(\"김대현\", 90, 90, 90)\n",
    "print(tot,mean)\n",
    "student.display()"
   ]
  },
  {
   "cell_type": "code",
   "execution_count": 2,
   "metadata": {},
   "outputs": [],
   "source": [
    "class Student :\n",
    "    studentCount = 0\n",
    "    def __init__(self,name, kor, math, eng) :\n",
    "        self.name = name\n",
    "        self.kor = int(kor)\n",
    "        self.math = int(math)\n",
    "        self.eng = int(eng)\n",
    "        self.tot = self.kor + self.math + self.eng\n",
    "        self.avg = self.tot/3\n",
    "        Student.studentCount+=1"
   ]
  },
  {
   "cell_type": "code",
   "execution_count": 3,
   "metadata": {},
   "outputs": [
    {
     "name": "stdout",
     "output_type": "stream",
     "text": [
      "1.입력 2.출력 3.계산 4.종료 =>1\n",
      "이름 : ㄱ\n",
      "국어점수 : 90\n",
      "영어점수 : 90\n",
      "수어점수 : 90\n",
      "1.입력 2.출력 3.계산 4.종료 =>1\n",
      "이름 : ㄴ\n",
      "국어점수 : 80\n",
      "영어점수 : 80\n",
      "수어점수 : 80\n",
      "1.입력 2.출력 3.계산 4.종료 =>1\n",
      "이름 : ㄷ\n",
      "국어점수 : 70\n",
      "영어점수 : 70\n",
      "수어점수 : 70\n",
      "1.입력 2.출력 3.계산 4.종료 =>3\n",
      "총 학생수 : 3명 \n",
      "국어 평균 : 80.0\t\t 영어 평균 : 80.0\t\t 수학평균 : 80.0\t\t\n",
      "1.입력 2.출력 3.계산 4.종료 =>2\n",
      "이름 : ㄱ 국어 : 90 영어 : 90 수학 : 90 총점 : 270 평균 : 90.0\n",
      "이름 : ㄴ 국어 : 80 영어 : 80 수학 : 80 총점 : 240 평균 : 80.0\n",
      "이름 : ㄷ 국어 : 70 영어 : 70 수학 : 70 총점 : 210 평균 : 70.0\n",
      "1.입력 2.출력 3.계산 4.종료 =>4\n",
      "3\n"
     ]
    }
   ],
   "source": [
    "# 메뉴화\n",
    "def start() :\n",
    "    students = []\n",
    "    while True :\n",
    "        choice = input(\"1.입력 2.출력 3.계산 4.종료 =>\")\n",
    "        if choice == '1' :\n",
    "            name = input(\"이름 : \")\n",
    "            kor = input(\"국어점수 : \")\n",
    "            eng = input(\"영어점수 : \")\n",
    "            math = input(\"수어점수 : \")\n",
    "            stud = Student(name, kor, eng, math)\n",
    "            students.append(stud)\n",
    "        elif choice == '2' :\n",
    "            for s in students :\n",
    "                print(\"이름 : %s 국어 : %s 영어 : %s 수학 : %s 총점 : %s 평균 : %s\" %(s.name, s.kor, s.eng, s.math, s.tot, s.avg))\n",
    "        elif choice == '3' :\n",
    "            kor_tot = 0; eng_tot = 0; math_tot=0\n",
    "            for s in students :\n",
    "                kor_tot += s.kor\n",
    "                eng_tot += s.eng\n",
    "                math_tot += s.math\n",
    "            \n",
    "            kor_avg = round(kor_tot/len(students),2)\n",
    "            eng_avg = round(eng_tot/len(students),2)\n",
    "            math_avg = round(math_tot/len(students),2)\n",
    "            \n",
    "            print(\"총 학생수 : %s명 \" %len(students))\n",
    "            print(\"국어 평균 : %s\\t\\t 영어 평균 : %s\\t\\t 수학평균 : %s\\t\\t\" %(kor_avg, eng_avg, math_avg))\n",
    "            \n",
    "        elif choice == '4' :\n",
    "            print(Student.studentCount)\n",
    "            break\n",
    "\n",
    "start()"
   ]
  },
  {
   "cell_type": "code",
   "execution_count": null,
   "metadata": {},
   "outputs": [],
   "source": [
    "2개로 분리된 class\n",
    "- 기본적인 데이터를 저장하는 클래스\n",
    "- management(입력, 출력, 검색, 수정 등)\n",
    "- 메뉴함수"
   ]
  },
  {
   "cell_type": "code",
   "execution_count": 1,
   "metadata": {},
   "outputs": [],
   "source": [
    "import sys\n",
    "class Student :\n",
    "    def __init__(self) :\n",
    "        self.bunho =0;\n",
    "        self.eng = 0; self.name = '';\n",
    "        self.kor = 0; self.math = 0\n",
    "        self.tot = 0; self.avg = 0; self.grade = ''\n",
    "        \n",
    "    def inputdata(self) :\n",
    "        self.name = input(\"이름을 입력하세요\")\n",
    "        self.kor = eval(input(\"국어 점수 : \"))\n",
    "        self.math = eval(input(\"수학 점수 : \"))\n",
    "        self.eng = eval(input(\"영어 점수 : \"))\n",
    "        \n",
    "    def calc_total_avg(self) : # 수정도 염두에 두어서 별도의 함수화\n",
    "        self.tot = self.kor + self.math + self.eng\n",
    "        self.avg = round(self.tot/3, 2)\n",
    "        self.grade = self.calcSemGrade()\n",
    "        \n",
    "    def calcSemGrade(self) :\n",
    "        if self.avg >= 90 :\n",
    "            return 'A'\n",
    "        elif self.avg >= 80 :\n",
    "            return 'B'\n",
    "        elif self.avg >= 70 :\n",
    "            return 'C'\n",
    "        elif self.avg >= 60 :\n",
    "            return 'D'\n",
    "        else :\n",
    "            return 'F'\n",
    "    def __str__(self) :\n",
    "        return '%5s\\t  %5s\\t    %6.2f\\t%6.2f  %7.2f  %7.2f  %7.2f %5s ' %(self.bunho, self.name, self.kor, self.math, self.eng, self.tot, self.avg, self.grade)\n",
    "    \n",
    "    def __camp__(self, other) : # compare, true/false로 결과 리턴\n",
    "        return self.name == other.name\n",
    "    "
   ]
  },
  {
   "cell_type": "code",
   "execution_count": 5,
   "metadata": {},
   "outputs": [],
   "source": [
    "class Management :\n",
    "    schoolname = \"제주 아카데미\"\n",
    "    bunho = 0\n",
    "    def __init__(self, count) :\n",
    "        print(\"메뉴를 선택하시요\")\n",
    "        self.sungjuk = []\n",
    "        self.count = count\n",
    "        \n",
    "    def input(self) :\n",
    "        for co_in in range(self.count) :\n",
    "            stu = Student()\n",
    "            stu.inputdata()\n",
    "            Management.bunho += 1 # 번호를 자동으로 입력하기 위해\n",
    "            stu.bunho = Management.bunho\n",
    "            self.sungjuk.append(stu)\n",
    "            \n",
    "    def print_sungjuk(self) :\n",
    "        for per in self.sungjuk :\n",
    "            print(per)\n",
    "            print()\n",
    "            \n",
    "    def calc_sungjuk(self) :\n",
    "        for per in self.sungjuk :\n",
    "            per.calc_total_avg()\n",
    "            \n",
    "    def search_name(self) :\n",
    "        name = input(\"검색할 학생 이름을 추가하시요\")\n",
    "        for per in self.sungjuk :\n",
    "            if (per.name == name) :\n",
    "                print(per)\n",
    "                return\n",
    "        print(\"검색하고자 하는 학생이 없습니다.\")\n",
    "        return\n",
    "    \n",
    "    def revise_name(self) :\n",
    "        name = input(\"수정할 학생 이름을 입력하세요\")\n",
    "        for per in self.sungjuk :\n",
    "            if(per.name == name) :\n",
    "                per.name = input(\"이름을 입력하세요\")\n",
    "                return\n",
    "            \n",
    "      \n",
    "    def del_name(self) :\n",
    "        name = input(\"삭제할 학생 이름을 입력하세요\")\n",
    "        for per in self.sungjuk : \n",
    "            if(per.name == name) :\n",
    "                self.sungkuk.remove(per)\n",
    "                return\n",
    "\n",
    "            \n",
    "    def sort_name(self) :\n",
    "        for per in self.sungjuk :\n",
    "            sort(per.name)\n",
    "            return"
   ]
  },
  {
   "cell_type": "raw",
   "metadata": {},
   "source": [
    "sj = [\"번호\", \"이름\", \"국어\", \"수학\", \"영어\", \"총점\", \"평균\", \"학점\"]\n",
    "\n",
    "menu = [\"입력(1), 출력(2), 계산(3), 검색(4), 이름수정(5), 이름삭제(6), 정렬(7), 종료(8)\"]\n",
    "man_sung = Management(2)\n",
    "while 1 :\n",
    "    sel = input(menu)\n",
    "    if sel == \"1\":\n",
    "        man_sung.input()\n",
    "        continue\n",
    "        \n",
    "    elif sel == \"2\" :\n",
    "        print(Management.schoolname + \"성적 계산표\")\n",
    "        print(\"%5s  %5s  %6s  %6s  %6s %7s  %7s  %7s\" % (\"번호\", \"이름\", \"국어\", \"수학\", \"영어\", \"총점\", \"평균\", \"학점\"))\n",
    "        man_sung.print_sungjuk()\n",
    "        continue\n",
    "        \n",
    "    elif sel == '3' :\n",
    "        man_sung.calc_sungjuk()\n",
    "        print(\"계산이 완료 되었습니다. - 확인하시려면 출력해보세요\")\n",
    "        continue\n",
    "        \n",
    "    elif sel == '4' :\n",
    "        man_sung.search_name()\n",
    "        continue\n",
    "        \n",
    "    elif sel == '5' :\n",
    "        man_sung.revise_name()\n",
    "        continue\n",
    "        \n",
    "    elif sel == '6' :\n",
    "        man_sung.del_name()\n",
    "        continue\n",
    "        \n",
    "    elif sel == '7' :\n",
    "        man_sung.sort_name()\n",
    "        continue\n",
    "    \n",
    "    elif sel == '8' :\n",
    "        break\n",
    "        \n",
    "    else : \n",
    "        print(\"잘못된 입력입니다. 다시입력하시요\")\n",
    "        continue"
   ]
  },
  {
   "cell_type": "code",
   "execution_count": null,
   "metadata": {},
   "outputs": [],
   "source": []
  }
 ],
 "metadata": {
  "kernelspec": {
   "display_name": "Python 3",
   "language": "python",
   "name": "python3"
  },
  "language_info": {
   "codemirror_mode": {
    "name": "ipython",
    "version": 3
   },
   "file_extension": ".py",
   "mimetype": "text/x-python",
   "name": "python",
   "nbconvert_exporter": "python",
   "pygments_lexer": "ipython3",
   "version": "3.7.4"
  }
 },
 "nbformat": 4,
 "nbformat_minor": 2
}
