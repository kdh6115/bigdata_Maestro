{
 "cells": [
  {
   "cell_type": "code",
   "execution_count": null,
   "metadata": {},
   "outputs": [],
   "source": [
    "# 숙제\n",
    "# iris.csv 데이터를 로딩한 다음\n",
    "# 분류망을 구성하세요\n",
    "# parameter tuning을 구현하세요( pipeline도 함께 )"
   ]
  },
  {
   "cell_type": "markdown",
   "metadata": {},
   "source": [
    "### 데이터 loading"
   ]
  },
  {
   "cell_type": "code",
   "execution_count": 5,
   "metadata": {},
   "outputs": [],
   "source": [
    "from keras.models import Sequential\n",
    "from keras.wrappers.scikit_learn import KerasClassifier\n",
    "from keras.layers import Dense\n",
    "from sklearn.model_selection import GridSearchCV\n",
    "import numpy as np\n",
    "import pandas as pd"
   ]
  },
  {
   "cell_type": "code",
   "execution_count": 6,
   "metadata": {},
   "outputs": [
    {
     "name": "stdout",
     "output_type": "stream",
     "text": [
      "(150, 5)\n"
     ]
    },
    {
     "data": {
      "text/html": [
       "<div>\n",
       "<style scoped>\n",
       "    .dataframe tbody tr th:only-of-type {\n",
       "        vertical-align: middle;\n",
       "    }\n",
       "\n",
       "    .dataframe tbody tr th {\n",
       "        vertical-align: top;\n",
       "    }\n",
       "\n",
       "    .dataframe thead th {\n",
       "        text-align: right;\n",
       "    }\n",
       "</style>\n",
       "<table border=\"1\" class=\"dataframe\">\n",
       "  <thead>\n",
       "    <tr style=\"text-align: right;\">\n",
       "      <th></th>\n",
       "      <th>0</th>\n",
       "      <th>1</th>\n",
       "      <th>2</th>\n",
       "      <th>3</th>\n",
       "      <th>4</th>\n",
       "    </tr>\n",
       "  </thead>\n",
       "  <tbody>\n",
       "    <tr>\n",
       "      <th>1</th>\n",
       "      <td>6.4</td>\n",
       "      <td>2.8</td>\n",
       "      <td>5.6</td>\n",
       "      <td>2.2</td>\n",
       "      <td>2</td>\n",
       "    </tr>\n",
       "    <tr>\n",
       "      <th>2</th>\n",
       "      <td>5.0</td>\n",
       "      <td>2.3</td>\n",
       "      <td>3.3</td>\n",
       "      <td>1</td>\n",
       "      <td>1</td>\n",
       "    </tr>\n",
       "    <tr>\n",
       "      <th>3</th>\n",
       "      <td>4.9</td>\n",
       "      <td>2.5</td>\n",
       "      <td>4.5</td>\n",
       "      <td>1.7</td>\n",
       "      <td>2</td>\n",
       "    </tr>\n",
       "    <tr>\n",
       "      <th>4</th>\n",
       "      <td>4.9</td>\n",
       "      <td>3.1</td>\n",
       "      <td>1.5</td>\n",
       "      <td>0.1</td>\n",
       "      <td>0</td>\n",
       "    </tr>\n",
       "    <tr>\n",
       "      <th>5</th>\n",
       "      <td>5.7</td>\n",
       "      <td>3.8</td>\n",
       "      <td>1.7</td>\n",
       "      <td>0.3</td>\n",
       "      <td>0</td>\n",
       "    </tr>\n",
       "  </tbody>\n",
       "</table>\n",
       "</div>"
      ],
      "text/plain": [
       "     0    1    2    3  4\n",
       "1  6.4  2.8  5.6  2.2  2\n",
       "2  5.0  2.3  3.3    1  1\n",
       "3  4.9  2.5  4.5  1.7  2\n",
       "4  4.9  3.1  1.5  0.1  0\n",
       "5  5.7  3.8  1.7  0.3  0"
      ]
     },
     "execution_count": 6,
     "metadata": {},
     "output_type": "execute_result"
    }
   ],
   "source": [
    "dataset = pd.read_csv('iris.csv', header=None)\n",
    "dataset.head()\n",
    "dataset = dataset.iloc[1:,:]\n",
    "print(dataset.shape)\n",
    "dataset.head()\n"
   ]
  },
  {
   "cell_type": "code",
   "execution_count": 7,
   "metadata": {},
   "outputs": [
    {
     "name": "stdout",
     "output_type": "stream",
     "text": [
      "(150, 4)\n",
      "(150,)\n"
     ]
    }
   ],
   "source": [
    "X  = dataset.iloc[:,:4]\n",
    "Y = dataset.iloc[:,4]\n",
    "Y = np.asarray(Y)\n",
    "print(X.shape)\n",
    "print(Y.shape)"
   ]
  },
  {
   "cell_type": "markdown",
   "metadata": {},
   "source": [
    "### 기본 실행문\n",
    "- gridsearchcv 사용"
   ]
  },
  {
   "cell_type": "code",
   "execution_count": 10,
   "metadata": {},
   "outputs": [],
   "source": [
    "def baseline_model() :\n",
    "    model = Sequential()\n",
    "    model.add(Dense(8, input_dim=4, kernel_initializer='normal', activation = 'relu'))\n",
    "    model.add(Dense(3, activation = 'relu'))\n",
    "    model.compile(loss = 'categorical_crossentropy', optimizer = 'adam', metrics=['accuracy'])\n",
    "    return model\n"
   ]
  },
  {
   "cell_type": "code",
   "execution_count": 11,
   "metadata": {},
   "outputs": [
    {
     "name": "stdout",
     "output_type": "stream",
     "text": [
      "Epoch 1/10\n",
      "150/150 [==============================] - 0s 2ms/step - loss: 10.7454 - accuracy: 0.3333\n",
      "Epoch 2/10\n",
      "150/150 [==============================] - 0s 53us/step - loss: 10.7454 - accuracy: 0.3333\n",
      "Epoch 3/10\n",
      "150/150 [==============================] - 0s 60us/step - loss: 10.7454 - accuracy: 0.3333\n",
      "Epoch 4/10\n",
      "150/150 [==============================] - 0s 53us/step - loss: 10.7454 - accuracy: 0.3333\n",
      "Epoch 5/10\n",
      "150/150 [==============================] - 0s 100us/step - loss: 10.7454 - accuracy: 0.3333\n",
      "Epoch 6/10\n",
      "150/150 [==============================] - 0s 53us/step - loss: 10.7454 - accuracy: 0.3333\n",
      "Epoch 7/10\n",
      "150/150 [==============================] - 0s 60us/step - loss: 10.7454 - accuracy: 0.3333\n",
      "Epoch 8/10\n",
      "150/150 [==============================] - 0s 53us/step - loss: 10.7454 - accuracy: 0.3333\n",
      "Epoch 9/10\n",
      "150/150 [==============================] - 0s 53us/step - loss: 10.7454 - accuracy: 0.3333\n",
      "Epoch 10/10\n",
      "150/150 [==============================] - 0s 60us/step - loss: 10.7454 - accuracy: 0.3333\n",
      "최적스코어 : 0.5133  사용한 파라미터 조합 : {'batch_size': 30, 'epochs': 10}\n",
      "0.39 (0.12)    with {'batch_size': 10, 'epochs': 10}\n",
      "0.41 (0.10)    with {'batch_size': 10, 'epochs': 50}\n",
      "0.38 (0.11)    with {'batch_size': 10, 'epochs': 100}\n",
      "0.41 (0.16)    with {'batch_size': 20, 'epochs': 10}\n",
      "0.37 (0.10)    with {'batch_size': 20, 'epochs': 50}\n",
      "0.45 (0.15)    with {'batch_size': 20, 'epochs': 100}\n",
      "0.51 (0.21)    with {'batch_size': 30, 'epochs': 10}\n",
      "0.40 (0.23)    with {'batch_size': 30, 'epochs': 50}\n",
      "0.38 (0.11)    with {'batch_size': 30, 'epochs': 100}\n"
     ]
    }
   ],
   "source": [
    "model = KerasClassifier(build_fn=baseline_model, verbose=1 )\n",
    "batch_size = [10,20,30]\n",
    "epochs = [10,50,100]\n",
    "param_grid = dict(batch_size=batch_size, epochs=epochs)\n",
    "grid = GridSearchCV(model, param_grid=param_grid, n_jobs=-1)\n",
    "grid_result = grid.fit(X,Y)\n",
    "print(\"최적스코어 : {:.4f}  사용한 파라미터 조합 : {}\".format(grid_result.best_score_,grid_result.best_params_))\n",
    "means = grid_result.cv_results_['mean_test_score']\n",
    "stds = grid_result.cv_results_['std_test_score']\n",
    "params = grid_result.cv_results_['params']\n",
    "for mean, std, param in zip(means, stds, params):\n",
    "    print(\"{:.2f} ({:.2f})    with {}\".format(mean,std,param))"
   ]
  },
  {
   "cell_type": "markdown",
   "metadata": {},
   "source": [
    "- ++ 파이프라인"
   ]
  },
  {
   "cell_type": "code",
   "execution_count": 61,
   "metadata": {},
   "outputs": [
    {
     "name": "stdout",
     "output_type": "stream",
     "text": [
      "Epoch 1/10\n",
      "150/150 [==============================] - 2s 13ms/step - loss: 6.0096 - acc: 0.3333\n",
      "Epoch 2/10\n",
      "150/150 [==============================] - 0s 193us/step - loss: 5.8687 - acc: 0.3400\n",
      "Epoch 3/10\n",
      "150/150 [==============================] - 0s 145us/step - loss: 5.7554 - acc: 0.3600\n",
      "Epoch 4/10\n",
      "150/150 [==============================] - 0s 133us/step - loss: 5.6217 - acc: 0.5600\n",
      "Epoch 5/10\n",
      "150/150 [==============================] - 0s 193us/step - loss: 5.4878 - acc: 0.6533\n",
      "Epoch 6/10\n",
      "150/150 [==============================] - 0s 153us/step - loss: 5.4168 - acc: 0.6667\n",
      "Epoch 7/10\n",
      "150/150 [==============================] - 0s 140us/step - loss: 5.3786 - acc: 0.6667\n",
      "Epoch 8/10\n",
      "150/150 [==============================] - 0s 133us/step - loss: 5.3727 - acc: 0.6667\n",
      "Epoch 9/10\n",
      "150/150 [==============================] - 0s 133us/step - loss: 5.3727 - acc: 0.6667\n",
      "Epoch 10/10\n",
      "150/150 [==============================] - 0s 100us/step - loss: nan - acc: 0.6267\n",
      "최적스코어 : 0.4467  사용한 파라미터 조합 : {'classifier__batch_size': 30, 'classifier__epochs': 10}\n",
      "0.32 (0.11)    with {'classifier__batch_size': 10, 'classifier__epochs': 10}\n",
      "0.35 (0.10)    with {'classifier__batch_size': 10, 'classifier__epochs': 50}\n",
      "0.33 (0.10)    with {'classifier__batch_size': 10, 'classifier__epochs': 100}\n",
      "0.42 (0.23)    with {'classifier__batch_size': 20, 'classifier__epochs': 10}\n",
      "0.43 (0.21)    with {'classifier__batch_size': 20, 'classifier__epochs': 50}\n",
      "0.38 (0.11)    with {'classifier__batch_size': 20, 'classifier__epochs': 100}\n",
      "0.45 (0.13)    with {'classifier__batch_size': 30, 'classifier__epochs': 10}\n",
      "0.41 (0.19)    with {'classifier__batch_size': 30, 'classifier__epochs': 50}\n",
      "0.42 (0.19)    with {'classifier__batch_size': 30, 'classifier__epochs': 100}\n"
     ]
    }
   ],
   "source": [
    "from sklearn.preprocessing import MinMaxScaler\n",
    "from sklearn.pipeline import Pipeline\n",
    "estimators = []\n",
    "estimators.append(('MinMax', MinMaxScaler()))\n",
    "estimators.append(('classifier', KerasClassifier(build_fn=baseline_model, verbose=1 )))\n",
    "pipeline = Pipeline(estimators)\n",
    "param_grid = {'classifier__batch_size':batch_size, 'classifier__epochs':epochs}\n",
    "\n",
    "grid = GridSearchCV(pipeline, param_grid=param_grid, n_jobs=-1)\n",
    "grid_result = grid.fit(X,Y)\n",
    "print(\"최적스코어 : {:.4f}  사용한 파라미터 조합 : {}\".format(grid_result.best_score_,grid_result.best_params_))\n",
    "means = grid_result.cv_results_['mean_test_score']\n",
    "stds = grid_result.cv_results_['std_test_score']\n",
    "params = grid_result.cv_results_['params']\n",
    "for mean, std, param in zip(means, stds, params):\n",
    "    print(\"{:.2f} ({:.2f})    with {}\".format(mean,std,param))\n"
   ]
  },
  {
   "cell_type": "markdown",
   "metadata": {},
   "source": [
    "## 다양한 모델 적용"
   ]
  },
  {
   "cell_type": "code",
   "execution_count": null,
   "metadata": {},
   "outputs": [],
   "source": []
  },
  {
   "cell_type": "markdown",
   "metadata": {},
   "source": [
    "- 모델 설정"
   ]
  },
  {
   "cell_type": "code",
   "execution_count": 62,
   "metadata": {},
   "outputs": [],
   "source": [
    "def baseline_model(init_mode = 'normal', optimizer = 'relu') :\n",
    "    model = Sequential()\n",
    "    model.add(Dense(8, input_dim=4, kernel_initializer=init_mode, activation=optimizer))\n",
    "    model.add(Dense(3, activation = optimizer))\n",
    "    model.compile(loss = 'categorical_crossentropy', optimizer = 'adam', metrics=['accuracy'])\n",
    "    return model\n",
    "\n",
    "def larger_model(init_mode = 'normal', optimizer = 'relu'):\n",
    "    model = Sequential()\n",
    "    model.add(Dense(13, input_dim=4, kernel_initializer=init_mode, activation=optimizer))\n",
    "    model.add(Dense(6, kernel_initializer=init_mode, activation=optimizer))\n",
    "    model.add(Dense(3, kernel_initializer=init_mode, activation=optimizer))\n",
    "    model.compile(loss='categorical_crossentropy', optimizer='adam' , metrics=['accuracy'])\n",
    "    return model\n",
    "\n",
    "def wider_model(init_mode = 'normal', optimizer = 'relu'):\n",
    "    model = Sequential()\n",
    "    model.add(Dense(20, input_dim=4, kernel_initializer=init_mode, activation=optimizer))\n",
    "    model.add(Dense(3, kernel_initializer=init_mode, activation=optimizer))\n",
    "    model.compile(loss='categorical_crossentropy', optimizer='adam' , metrics=['accuracy'])\n",
    "    return model\n",
    "\n"
   ]
  },
  {
   "cell_type": "markdown",
   "metadata": {},
   "source": [
    "- 파라미터 설정"
   ]
  },
  {
   "cell_type": "code",
   "execution_count": 66,
   "metadata": {},
   "outputs": [],
   "source": [
    "init_mode = ['uniform', 'lecun_uniform','normal','glorot_normal','glorot_uniform','he_normal','he_uniform'] \n",
    "optimizer = ['softmax','relu', 'softplus', 'softsign','tanh','sigmoid']\n",
    "batch_size = [10,20,30]\n",
    "epochs = [10,50,100]\n"
   ]
  },
  {
   "cell_type": "markdown",
   "metadata": {},
   "source": [
    "- baseline_model()"
   ]
  },
  {
   "cell_type": "code",
   "execution_count": 67,
   "metadata": {},
   "outputs": [],
   "source": [
    "model_list = [baseline_model(), larger_model(),wider_model()]"
   ]
  },
  {
   "cell_type": "code",
   "execution_count": null,
   "metadata": {},
   "outputs": [],
   "source": [
    "estimators = []\n",
    "estimators.append(('MinMax', MinMaxScaler()))\n",
    "estimators.append(('classifier', KerasClassifier(build_fn=baseline_model, verbose=1 )))\n",
    "pipeline = Pipeline(estimators)\n",
    "param_grid = {'classifier__batch_size':batch_size,'classifier__epochs':epochs,\n",
    "         \"classifier__init_mode\":init_mode,'classifier__optimizer':optimizer}\n",
    "\n",
    "grid = GridSearchCV(pipeline, param_grid=param_grid, n_jobs=-1)\n",
    "grid_result = grid.fit(X,Y)\n",
    "print(\"최적스코어 : {:.4f}  사용한 파라미터 조합 : {}\".format(grid_result.best_score_,grid_result.best_params_))\n",
    "means = grid_result.cv_results_['mean_test_score']\n",
    "stds = grid_result.cv_results_['std_test_score']\n",
    "params = grid_result.cv_results_['params']\n",
    "for mean, std, param in zip(means, stds, params):\n",
    "    print(\"{:.2f} ({:.2f})    with {}\".format(mean,std,param))"
   ]
  },
  {
   "cell_type": "markdown",
   "metadata": {},
   "source": [
    "- larger_model()"
   ]
  },
  {
   "cell_type": "code",
   "execution_count": null,
   "metadata": {},
   "outputs": [],
   "source": [
    "estimators = []\n",
    "estimators.append(('MinMax', MinMaxScaler()))\n",
    "estimators.append(('classifier', KerasClassifier(build_fn=larger_model, verbose=1 )))\n",
    "pipeline = Pipeline(estimators)\n",
    "param_grid = {'classifier__batch_size':batch_size,'classifier__epochs':epochs,\n",
    "         \"classifier__init_mode\":init_mode,'classifier__optimizer':optimizer}\n",
    "\n",
    "grid = GridSearchCV(pipeline, param_grid=param_grid, n_jobs=-1)\n",
    "grid_result = grid.fit(X,Y)\n",
    "print(\"최적스코어 : {:.4f}  사용한 파라미터 조합 : {}\".format(grid_result.best_score_,grid_result.best_params_))\n",
    "means = grid_result.cv_results_['mean_test_score']\n",
    "stds = grid_result.cv_results_['std_test_score']\n",
    "params = grid_result.cv_results_['params']\n",
    "for mean, std, param in zip(means, stds, params):\n",
    "    print(\"{:.2f} ({:.2f})    with {}\".format(mean,std,param))"
   ]
  },
  {
   "cell_type": "markdown",
   "metadata": {},
   "source": [
    "- wider_model()"
   ]
  },
  {
   "cell_type": "code",
   "execution_count": null,
   "metadata": {},
   "outputs": [],
   "source": [
    "estimators = []\n",
    "estimators.append(('MinMax', MinMaxScaler()))\n",
    "estimators.append(('classifier', KerasClassifier(build_fn=wider_model, verbose=1 )))\n",
    "pipeline = Pipeline(estimators)\n",
    "param_grid = {'classifier__batch_size':batch_size,'classifier__epochs':epochs,\n",
    "         \"classifier__init_mode\":init_mode,'classifier__optimizer':optimizer}\n",
    "\n",
    "grid = GridSearchCV(pipeline, param_grid=param_grid, n_jobs=-1)\n",
    "grid_result = grid.fit(X,Y)\n",
    "print(\"최적스코어 : {:.4f}  사용한 파라미터 조합 : {}\".format(grid_result.best_score_,grid_result.best_params_))\n",
    "means = grid_result.cv_results_['mean_test_score']\n",
    "stds = grid_result.cv_results_['std_test_score']\n",
    "params = grid_result.cv_results_['params']\n",
    "for mean, std, param in zip(means, stds, params):\n",
    "    print(\"{:.2f} ({:.2f})    with {}\".format(mean,std,param))"
   ]
  },
  {
   "cell_type": "code",
   "execution_count": null,
   "metadata": {},
   "outputs": [],
   "source": []
  }
 ],
 "metadata": {
  "kernelspec": {
   "display_name": "Python 3",
   "language": "python",
   "name": "python3"
  },
  "language_info": {
   "codemirror_mode": {
    "name": "ipython",
    "version": 3
   },
   "file_extension": ".py",
   "mimetype": "text/x-python",
   "name": "python",
   "nbconvert_exporter": "python",
   "pygments_lexer": "ipython3",
   "version": "3.7.6"
  }
 },
 "nbformat": 4,
 "nbformat_minor": 4
}
