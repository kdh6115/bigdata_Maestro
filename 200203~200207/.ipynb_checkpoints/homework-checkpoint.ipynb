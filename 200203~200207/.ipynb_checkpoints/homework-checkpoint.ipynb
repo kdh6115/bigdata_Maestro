{
 "cells": [
  {
   "cell_type": "markdown",
   "metadata": {},
   "source": [
    "# 숙제 \n",
    "- iris.csv 데이터를 로딩한 다음\n",
    "- 분류망을 구성하시요\n",
    "- parameter tuning을 구현하시요(pipeline 사용)"
   ]
  },
  {
   "cell_type": "code",
   "execution_count": 86,
   "metadata": {},
   "outputs": [],
   "source": [
    "import numpy as np\n",
    "import pandas as pd\n",
    "from sklearn.model_selection import GridSearchCV\n",
    "from keras.models import Sequential\n",
    "from keras.layers import Dense\n",
    "from keras.wrappers.scikit_learn import KerasClassifier\n",
    "from sklearn.pipeline import Pipeline\n",
    "from sklearn.model_selection import KFold\n",
    "from sklearn.preprocessing import StandardScaler\n",
    "from sklearn.model_selection import cross_val_score\n",
    "df = pd.read_csv(\"iris.csv\", header=None)\n",
    "df = df.iloc[1:]\n",
    "X=df.iloc[:,:4]\n",
    "Y=df.iloc[:,4]"
   ]
  },
  {
   "cell_type": "code",
   "execution_count": 81,
   "metadata": {},
   "outputs": [],
   "source": [
    "def create_model() :\n",
    "    model = Sequential()\n",
    "    model.add(Dense(13, input_dim=4, kernel_initializer='normal', activation='relu'))\n",
    "    model.add(Dense(1, kernel_initializer='normal'))\n",
    "    model.compile(loss='mean_absolute_error', optimizer='adam', metrics=['accuracy'])\n",
    "    return model"
   ]
  },
  {
   "cell_type": "code",
   "execution_count": 82,
   "metadata": {},
   "outputs": [],
   "source": [
    "seed=7\n",
    "np.random.seed(seed)\n",
    "model = KerasClassifier(build_fn=create_model, verbose=0)"
   ]
  },
  {
   "cell_type": "code",
   "execution_count": 83,
   "metadata": {},
   "outputs": [],
   "source": [
    "batch_size = [10, 20, 40, 60, 80, 100]\n",
    "epochs = [10, 50, 100]"
   ]
  },
  {
   "cell_type": "code",
   "execution_count": 87,
   "metadata": {},
   "outputs": [
    {
     "name": "stderr",
     "output_type": "stream",
     "text": [
      "C:\\Users\\ICT01_21\\Anaconda3\\envs\\tf_test\\lib\\site-packages\\joblib\\externals\\loky\\process_executor.py:706: UserWarning: A worker stopped while some jobs were given to the executor. This can be caused by a too short worker timeout or by a memory leak.\n",
      "  \"timeout or by a memory leak.\", UserWarning\n"
     ]
    },
    {
     "name": "stdout",
     "output_type": "stream",
     "text": [
      "Standardized : -0.13 (0.03) MSE\n",
      "=============================================================\n",
      "최적스코어 : 0.973333       사용한 파라미터조합 : {'batch_size': 20, 'epochs': 100}\n",
      "0.406667 (0.138884) with {'batch_size': 10, 'epochs': 10}\n",
      "0.953333 (0.016330) with {'batch_size': 10, 'epochs': 50}\n",
      "0.953333 (0.016330) with {'batch_size': 10, 'epochs': 100}\n",
      "0.520000 (0.088443) with {'batch_size': 20, 'epochs': 10}\n",
      "0.946667 (0.016330) with {'batch_size': 20, 'epochs': 50}\n",
      "0.973333 (0.024944) with {'batch_size': 20, 'epochs': 100}\n",
      "0.333333 (0.103280) with {'batch_size': 40, 'epochs': 10}\n",
      "0.733333 (0.131656) with {'batch_size': 40, 'epochs': 50}\n",
      "0.940000 (0.024944) with {'batch_size': 40, 'epochs': 100}\n",
      "0.333333 (0.103280) with {'batch_size': 60, 'epochs': 10}\n",
      "0.386667 (0.077746) with {'batch_size': 60, 'epochs': 50}\n",
      "0.680000 (0.235325) with {'batch_size': 60, 'epochs': 100}\n",
      "0.333333 (0.103280) with {'batch_size': 80, 'epochs': 10}\n",
      "0.413333 (0.127541) with {'batch_size': 80, 'epochs': 50}\n",
      "0.866667 (0.103280) with {'batch_size': 80, 'epochs': 100}\n",
      "0.333333 (0.103280) with {'batch_size': 100, 'epochs': 10}\n",
      "0.300000 (0.069921) with {'batch_size': 100, 'epochs': 50}\n",
      "0.800000 (0.124722) with {'batch_size': 100, 'epochs': 100}\n"
     ]
    }
   ],
   "source": [
    "param_grid = dict(batch_size=batch_size, epochs=epochs)\n",
    "estimators = []\n",
    "estimators.append(('standardize', StandardScaler()))\n",
    "estimators.append(('mlp', KerasRegressor(build_fn = create_model, epochs=50, batch_size=5, verbose=0)))\n",
    "\n",
    "grid = GridSearchCV(estimator = model, param_grid=param_grid, n_jobs = -1)\n",
    "grid_result = grid.fit(X,Y)\n",
    "pipeline=Pipeline(estimators)\n",
    "kfold = KFold(n_splits=10, random_state=seed)\n",
    "results = cross_val_score(pipeline, X, Y, cv=kfold)\n",
    "print(\"Standardized : %.2f (%.2f) MSE\" %(results.mean(), results.std()))\n",
    "print(\"=============================================================\")\n",
    "print(\"최적스코어 : %f       사용한 파라미터조합 : %s\" %(grid_result.best_score_, grid_result.best_params_))\n",
    "means = grid_result.cv_results_['mean_test_score']\n",
    "stds = grid_result.cv_results_['std_test_score']\n",
    "params = grid_result.cv_results_['params']\n",
    "for mean, stdev, param in zip(means, stds, params) :\n",
    "    print(\"%f (%f) with %r\" %(mean, stdev, param))"
   ]
  },
  {
   "cell_type": "code",
   "execution_count": null,
   "metadata": {},
   "outputs": [],
   "source": []
  },
  {
   "cell_type": "code",
   "execution_count": null,
   "metadata": {},
   "outputs": [],
   "source": []
  }
 ],
 "metadata": {
  "kernelspec": {
   "display_name": "Python 3",
   "language": "python",
   "name": "python3"
  },
  "language_info": {
   "codemirror_mode": {
    "name": "ipython",
    "version": 3
   },
   "file_extension": ".py",
   "mimetype": "text/x-python",
   "name": "python",
   "nbconvert_exporter": "python",
   "pygments_lexer": "ipython3",
   "version": "3.7.6"
  }
 },
 "nbformat": 4,
 "nbformat_minor": 4
}
