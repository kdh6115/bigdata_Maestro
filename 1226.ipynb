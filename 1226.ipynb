{
 "cells": [
  {
   "cell_type": "code",
   "execution_count": 2,
   "metadata": {},
   "outputs": [],
   "source": [
    "# 반복문"
   ]
  },
  {
   "cell_type": "code",
   "execution_count": 3,
   "metadata": {},
   "outputs": [
    {
     "name": "stdout",
     "output_type": "stream",
     "text": [
      "7 2 4\n",
      "3 8\n"
     ]
    }
   ],
   "source": [
    "num1 = 6\n",
    "num1 += 1\n",
    "num2 = 7\n",
    "num2 -= 5\n",
    "num3 = 8\n",
    "num3 /= 2\n",
    "print(num1, num2, round(num3))\n",
    "num1 = 1\n",
    "num1 *=3\n",
    "num2 = 2\n",
    "num2 **= 3\n",
    "print(num1, num2)"
   ]
  },
  {
   "cell_type": "code",
   "execution_count": 4,
   "metadata": {},
   "outputs": [
    {
     "name": "stdout",
     "output_type": "stream",
     "text": [
      "Non-negative\n"
     ]
    }
   ],
   "source": [
    "# 3항 연산자\n",
    "x = 5\n",
    "ans = 'Non-negative' if x>= 0 else 'Negative'\n",
    "print(ans) # 문자열 str"
   ]
  },
  {
   "cell_type": "code",
   "execution_count": 5,
   "metadata": {},
   "outputs": [],
   "source": [
    "city = '' # '' 아무것도 없으므로 문자열 거짓, <숫자 : 0, list : [], dict : {}, tuple : () -> 거짓>\n",
    "if city :  # 조건이 참인 경우만 실행\n",
    "    print('empty city')"
   ]
  },
  {
   "cell_type": "code",
   "execution_count": 6,
   "metadata": {},
   "outputs": [
    {
     "name": "stdout",
     "output_type": "stream",
     "text": [
      "empty city\n"
     ]
    }
   ],
   "source": [
    "city = ' ' # '' 아무것도 없으므로 문자열 거짓, 하지만 한 칸 띄어서 공백을 주면 공백도 문자열이기 때문에 출력\n",
    "if city :  # 조건이 참인 경우만 실행\n",
    "    print('empty city')"
   ]
  },
  {
   "cell_type": "code",
   "execution_count": 7,
   "metadata": {},
   "outputs": [
    {
     "name": "stdout",
     "output_type": "stream",
     "text": [
      "2019-12-26 15:09:38.262635\n",
      "\n",
      "생년월일(19951115)을 입력하시오19951115\n",
      "당신의 나이는  25\n",
      "당신은 미성년자가 아닙니다.\n"
     ]
    }
   ],
   "source": [
    "# 날짜의 입력은 문자열\n",
    "# 특수하게 해석해서 년월일로 해석\n",
    "import datetime\n",
    "dt = datetime.datetime.now() # 함수는 ()를 사용해야 함\n",
    "print(dt)\n",
    "print()\n",
    "# 데이터 입력\n",
    "age = input(\"생년월일(19951115)을 입력하시오\")\n",
    "# 데이터 처리\n",
    "year = int(age[0:4])\n",
    "month = int(age[4:6])\n",
    "day = int(age[6:])\n",
    "# 빼기연산\n",
    "# 분산 : 상계방지(제곱)\n",
    "year_diff = dt.year - year\n",
    "month_diff = dt.month - month\n",
    "day_diff = dt.day - day\n",
    "if day_diff < 0 : # 일 내림 처리\n",
    "    month_diff -= 1\n",
    "if month_diff < 0 : # 월 내림 처리\n",
    "    year_diff -= 1\n",
    "print(\"당신의 나이는 \", year_diff +1)\n",
    "if year_diff <18 :\n",
    "    print(\"당신은 미성년자입니다.\")\n",
    "else : \n",
    "    print(\"당신은 미성년자가 아닙니다.\")"
   ]
  },
  {
   "cell_type": "code",
   "execution_count": 8,
   "metadata": {},
   "outputs": [],
   "source": [
    "# 데이터입력 -> 처리(연산자), 제어문(판단문, 한가지 규칙을 여러데이터에 적용 : 반복문)"
   ]
  },
  {
   "cell_type": "code",
   "execution_count": 9,
   "metadata": {},
   "outputs": [],
   "source": [
    "# for\n",
    "# for(i:0; i<100; i++) : 인덱스 오버플로우\n",
    "# for in 문"
   ]
  },
  {
   "cell_type": "code",
   "execution_count": 10,
   "metadata": {},
   "outputs": [
    {
     "name": "stdout",
     "output_type": "stream",
     "text": [
      "earth air fire water "
     ]
    }
   ],
   "source": [
    "elements = ['earth', 'air', 'fire', 'water']\n",
    "for i in elements :     # i = 'earth'   # in문 뒤에 올 수 있는거 Collections, iterator, generator, enumerate\n",
    "    print(i, end = ' ') # \\n"
   ]
  },
  {
   "cell_type": "code",
   "execution_count": 11,
   "metadata": {},
   "outputs": [],
   "source": [
    "# Collections : list, tuple, dict, set\n",
    "# iterator : range : (i=0; i<100; i++)와 같은 방법으로 사용 (start, end, step)\n",
    "# generator : 데이터 생성, 메모리를 차지하지 않음\n",
    "# enumerate : 매핑을 해줌, 0 : earth, 1: air, 2 : fire"
   ]
  },
  {
   "cell_type": "code",
   "execution_count": 12,
   "metadata": {},
   "outputs": [
    {
     "name": "stdout",
     "output_type": "stream",
     "text": [
      "0\n",
      "1\n",
      "2\n",
      "3\n",
      "4\n"
     ]
    }
   ],
   "source": [
    "for i in range(5) : # 최종값\n",
    "    print(i)"
   ]
  },
  {
   "cell_type": "code",
   "execution_count": 13,
   "metadata": {},
   "outputs": [
    {
     "name": "stdout",
     "output_type": "stream",
     "text": [
      "2\n",
      "3\n",
      "4\n"
     ]
    }
   ],
   "source": [
    "# 파이썬은 오버로딩이 없음\n",
    "for i in range(2,5) :\n",
    "    print(i)"
   ]
  },
  {
   "cell_type": "code",
   "execution_count": 14,
   "metadata": {},
   "outputs": [
    {
     "name": "stdout",
     "output_type": "stream",
     "text": [
      "0\n",
      "2\n",
      "4\n",
      "6\n",
      "8\n"
     ]
    }
   ],
   "source": [
    "for i in range(0, 10, 2) :\n",
    "    print(i)"
   ]
  },
  {
   "cell_type": "code",
   "execution_count": 15,
   "metadata": {},
   "outputs": [
    {
     "name": "stdout",
     "output_type": "stream",
     "text": [
      "0 earth\n",
      "1 air\n",
      "2 fire\n",
      "3 water\n"
     ]
    }
   ],
   "source": [
    "# 인덱스를 이용하는 방법\n",
    "for i in range(4) :\n",
    "    print(i, elements[i])\n",
    "    # print(elements[i])"
   ]
  },
  {
   "cell_type": "code",
   "execution_count": 16,
   "metadata": {},
   "outputs": [
    {
     "name": "stdout",
     "output_type": "stream",
     "text": [
      "<range_iterator object at 0x0000014EF0083790>\n",
      "[3, 2, 1, 0]\n"
     ]
    }
   ],
   "source": [
    "# range는 객체이다.\n",
    "ra = reversed(range(4))\n",
    "print(ra) \n",
    "print(list(ra)) # 리스트로 캐스팅"
   ]
  },
  {
   "cell_type": "code",
   "execution_count": 17,
   "metadata": {},
   "outputs": [
    {
     "name": "stdout",
     "output_type": "stream",
     "text": [
      "[5, 4, 3, 2, 1, 0]\n"
     ]
    }
   ],
   "source": [
    "print(list(range(5, -1, -1)))"
   ]
  },
  {
   "cell_type": "code",
   "execution_count": 18,
   "metadata": {},
   "outputs": [
    {
     "name": "stdout",
     "output_type": "stream",
     "text": [
      "55\n"
     ]
    }
   ],
   "source": [
    "# 증가변수, 누적변수\n",
    "sum = 0\n",
    "for x in range(1,11) :\n",
    "    sum +=x\n",
    "print(sum)"
   ]
  },
  {
   "cell_type": "code",
   "execution_count": 19,
   "metadata": {},
   "outputs": [
    {
     "name": "stdout",
     "output_type": "stream",
     "text": [
      "\n",
      "2 X 1 = 2  2 X 2 = 4  2 X 3 = 6  2 X 4 = 8  2 X 5 = 10  2 X 6 = 12  2 X 7 = 14  2 X 8 = 16  2 X 9 = 18  \n",
      "3 X 1 = 3  3 X 2 = 6  3 X 3 = 9  3 X 4 = 12  3 X 5 = 15  3 X 6 = 18  3 X 7 = 21  3 X 8 = 24  3 X 9 = 27  \n",
      "4 X 1 = 4  4 X 2 = 8  4 X 3 = 12  4 X 4 = 16  4 X 5 = 20  4 X 6 = 24  4 X 7 = 28  4 X 8 = 32  4 X 9 = 36  \n",
      "5 X 1 = 5  5 X 2 = 10  5 X 3 = 15  5 X 4 = 20  5 X 5 = 25  5 X 6 = 30  5 X 7 = 35  5 X 8 = 40  5 X 9 = 45  \n",
      "6 X 1 = 6  6 X 2 = 12  6 X 3 = 18  6 X 4 = 24  6 X 5 = 30  6 X 6 = 36  6 X 7 = 42  6 X 8 = 48  6 X 9 = 54  \n",
      "7 X 1 = 7  7 X 2 = 14  7 X 3 = 21  7 X 4 = 28  7 X 5 = 35  7 X 6 = 42  7 X 7 = 49  7 X 8 = 56  7 X 9 = 63  \n",
      "8 X 1 = 8  8 X 2 = 16  8 X 3 = 24  8 X 4 = 32  8 X 5 = 40  8 X 6 = 48  8 X 7 = 56  8 X 8 = 64  8 X 9 = 72  \n",
      "9 X 1 = 9  9 X 2 = 18  9 X 3 = 27  9 X 4 = 36  9 X 5 = 45  9 X 6 = 54  9 X 7 = 63  9 X 8 = 72  9 X 9 = 81  "
     ]
    }
   ],
   "source": [
    "# 중첩된 for문\n",
    "for x in range(2,10) :\n",
    "    print()\n",
    "    for y in range(1,10) :\n",
    "        print(x, 'X', y, '=', x*y, end = '  ')"
   ]
  },
  {
   "cell_type": "code",
   "execution_count": 20,
   "metadata": {},
   "outputs": [
    {
     "name": "stdout",
     "output_type": "stream",
     "text": [
      "\n",
      "2 X 1 = 2\t3 X 1 = 3\t4 X 1 = 4\t5 X 1 = 5\t6 X 1 = 6\t7 X 1 = 7\t8 X 1 = 8\t9 X 1 = 9\t\n",
      "2 X 2 = 4\t3 X 2 = 6\t4 X 2 = 8\t5 X 2 = 10\t6 X 2 = 12\t7 X 2 = 14\t8 X 2 = 16\t9 X 2 = 18\t\n",
      "2 X 3 = 6\t3 X 3 = 9\t4 X 3 = 12\t5 X 3 = 15\t6 X 3 = 18\t7 X 3 = 21\t8 X 3 = 24\t9 X 3 = 27\t\n",
      "2 X 4 = 8\t3 X 4 = 12\t4 X 4 = 16\t5 X 4 = 20\t6 X 4 = 24\t7 X 4 = 28\t8 X 4 = 32\t9 X 4 = 36\t\n",
      "2 X 5 = 10\t3 X 5 = 15\t4 X 5 = 20\t5 X 5 = 25\t6 X 5 = 30\t7 X 5 = 35\t8 X 5 = 40\t9 X 5 = 45\t\n",
      "2 X 6 = 12\t3 X 6 = 18\t4 X 6 = 24\t5 X 6 = 30\t6 X 6 = 36\t7 X 6 = 42\t8 X 6 = 48\t9 X 6 = 54\t\n",
      "2 X 7 = 14\t3 X 7 = 21\t4 X 7 = 28\t5 X 7 = 35\t6 X 7 = 42\t7 X 7 = 49\t8 X 7 = 56\t9 X 7 = 63\t\n",
      "2 X 8 = 16\t3 X 8 = 24\t4 X 8 = 32\t5 X 8 = 40\t6 X 8 = 48\t7 X 8 = 56\t8 X 8 = 64\t9 X 8 = 72\t\n",
      "2 X 9 = 18\t3 X 9 = 27\t4 X 9 = 36\t5 X 9 = 45\t6 X 9 = 54\t7 X 9 = 63\t8 X 9 = 72\t9 X 9 = 81\t"
     ]
    }
   ],
   "source": [
    "for x in range(1,10) :\n",
    "    print()\n",
    "    for y in range(2,10) :\n",
    "        print(y, 'X', x, '=', x*y, end = '\\t')\n"
   ]
  },
  {
   "cell_type": "code",
   "execution_count": 21,
   "metadata": {},
   "outputs": [
    {
     "data": {
      "text/plain": [
       "[0, 1, 2, 3, 4, 5, 6, 7, 8, 9]"
      ]
     },
     "execution_count": 21,
     "metadata": {},
     "output_type": "execute_result"
    }
   ],
   "source": [
    "# 내장리스트\n",
    "[i for i in range(10)] # [실행문 for 문]"
   ]
  },
  {
   "cell_type": "code",
   "execution_count": 22,
   "metadata": {},
   "outputs": [
    {
     "data": {
      "text/plain": [
       "[0, 1, 4, 9, 16, 25, 36, 49, 64, 81]"
      ]
     },
     "execution_count": 22,
     "metadata": {},
     "output_type": "execute_result"
    }
   ],
   "source": [
    "[i**2 for i in range(10)]"
   ]
  },
  {
   "cell_type": "code",
   "execution_count": 23,
   "metadata": {},
   "outputs": [
    {
     "data": {
      "text/plain": [
       "{0: 0, 1: 1, 2: 8, 3: 27, 4: 64, 5: 125, 6: 216, 7: 343, 8: 512, 9: 729}"
      ]
     },
     "execution_count": 23,
     "metadata": {},
     "output_type": "execute_result"
    }
   ],
   "source": [
    "{i : i**3 for i in range(10)}"
   ]
  },
  {
   "cell_type": "code",
   "execution_count": 24,
   "metadata": {},
   "outputs": [
    {
     "data": {
      "text/plain": [
       "[0, 4, 16, 36, 64]"
      ]
     },
     "execution_count": 24,
     "metadata": {},
     "output_type": "execute_result"
    }
   ],
   "source": [
    "[i**2 for i in range(10) if i%2 ==0]"
   ]
  },
  {
   "cell_type": "code",
   "execution_count": 25,
   "metadata": {},
   "outputs": [
    {
     "data": {
      "text/plain": [
       "[(1, 10),\n",
       " (1, 11),\n",
       " (1, 12),\n",
       " (1, 13),\n",
       " (1, 14),\n",
       " (2, 10),\n",
       " (2, 11),\n",
       " (2, 12),\n",
       " (2, 13),\n",
       " (2, 14),\n",
       " (3, 10),\n",
       " (3, 11),\n",
       " (3, 12),\n",
       " (3, 13),\n",
       " (3, 14),\n",
       " (4, 10),\n",
       " (4, 11),\n",
       " (4, 12),\n",
       " (4, 13),\n",
       " (4, 14)]"
      ]
     },
     "execution_count": 25,
     "metadata": {},
     "output_type": "execute_result"
    }
   ],
   "source": [
    "# for i in rows :\n",
    "#     for c in cols :\n",
    "#             (r,c)\n",
    "rows = range(1,5)\n",
    "cols = range(10,15)\n",
    "vectors = [(r,c) for r in rows for c in cols]\n",
    "vectors"
   ]
  },
  {
   "cell_type": "code",
   "execution_count": 26,
   "metadata": {},
   "outputs": [
    {
     "data": {
      "text/plain": [
       "[1,\n",
       " 2,\n",
       " '3의 배수',\n",
       " 4,\n",
       " '5의 배수',\n",
       " '3의 배수',\n",
       " 7,\n",
       " 8,\n",
       " '3의 배수',\n",
       " '5의 배수',\n",
       " 11,\n",
       " '3의 배수',\n",
       " 13,\n",
       " 14,\n",
       " '3의 배수5의 배수',\n",
       " 16,\n",
       " 17,\n",
       " '3의 배수',\n",
       " 19,\n",
       " '5의 배수']"
      ]
     },
     "execution_count": 26,
     "metadata": {},
     "output_type": "execute_result"
    }
   ],
   "source": [
    "# 문자열 연산자 +, *(반복)\n",
    "# 앞이 참이면 뒤의 것은 계산하지 않음\n",
    "# True == 1, False == 0\n",
    "[\"3의 배수\" * (i%3==0) + '5의 배수' * (i%5==0) or i for i in range(1,21)]"
   ]
  },
  {
   "cell_type": "code",
   "execution_count": 27,
   "metadata": {},
   "outputs": [
    {
     "name": "stdout",
     "output_type": "stream",
     "text": [
      "점수를 입력하시요 : 60\n",
      "D\n",
      "점수를 입력하시요 : 0\n"
     ]
    }
   ],
   "source": [
    "# 점수를 입력받아 A,B,C,D,F학점을 출력하시오(점수를 학점으로 mapping)\n",
    "while True : # 무한루프\n",
    "    score = int(input('점수를 입력하시요 : '))\n",
    "    if score == 0 : # 무한루프인 경우 종료조건 지정\n",
    "        break\n",
    "    if score >= 90 :\n",
    "        print('A')\n",
    "    elif score >= 80 :\n",
    "        print('B')\n",
    "    elif score >= 70 :\n",
    "        print('C')\n",
    "    elif score >= 60 :\n",
    "        print('D')\n",
    "    else :\n",
    "        print('F')"
   ]
  },
  {
   "cell_type": "code",
   "execution_count": 28,
   "metadata": {},
   "outputs": [],
   "source": [
    "# 번호 이름 국어 영어 수학 점수를 입력하는 프로그램 작성(3명분)\n",
    "# 2차원 리스트"
   ]
  },
  {
   "cell_type": "code",
   "execution_count": 29,
   "metadata": {},
   "outputs": [
    {
     "name": "stdout",
     "output_type": "stream",
     "text": [
      "번호를 입력하시오 : 90\n",
      "이름을 입력하시오 : 90\n",
      "국어점수 : 90\n",
      "영어 점수 : 909\n",
      "수학점수 : \n"
     ]
    },
    {
     "ename": "ValueError",
     "evalue": "invalid literal for int() with base 10: ''",
     "output_type": "error",
     "traceback": [
      "\u001b[1;31m---------------------------------------------------------------------------\u001b[0m",
      "\u001b[1;31mValueError\u001b[0m                                Traceback (most recent call last)",
      "\u001b[1;32m<ipython-input-29-c44c791b01fd>\u001b[0m in \u001b[0;36m<module>\u001b[1;34m\u001b[0m\n\u001b[0;32m      7\u001b[0m     \u001b[0mkor\u001b[0m \u001b[1;33m=\u001b[0m \u001b[0mint\u001b[0m\u001b[1;33m(\u001b[0m\u001b[0minput\u001b[0m\u001b[1;33m(\u001b[0m\u001b[1;34m\"국어점수 : \"\u001b[0m\u001b[1;33m)\u001b[0m\u001b[1;33m)\u001b[0m\u001b[1;33m\u001b[0m\u001b[1;33m\u001b[0m\u001b[0m\n\u001b[0;32m      8\u001b[0m     \u001b[0meng\u001b[0m \u001b[1;33m=\u001b[0m \u001b[0mint\u001b[0m\u001b[1;33m(\u001b[0m\u001b[0minput\u001b[0m\u001b[1;33m(\u001b[0m\u001b[1;34m\"영어 점수 : \"\u001b[0m\u001b[1;33m)\u001b[0m\u001b[1;33m)\u001b[0m\u001b[1;33m\u001b[0m\u001b[1;33m\u001b[0m\u001b[0m\n\u001b[1;32m----> 9\u001b[1;33m     \u001b[0mmath\u001b[0m \u001b[1;33m=\u001b[0m \u001b[0mint\u001b[0m\u001b[1;33m(\u001b[0m\u001b[0minput\u001b[0m\u001b[1;33m(\u001b[0m\u001b[1;34m\"수학점수 : \"\u001b[0m\u001b[1;33m)\u001b[0m\u001b[1;33m)\u001b[0m\u001b[1;33m\u001b[0m\u001b[1;33m\u001b[0m\u001b[0m\n\u001b[0m\u001b[0;32m     10\u001b[0m     \u001b[0msungjuk\u001b[0m\u001b[1;33m.\u001b[0m\u001b[0mappend\u001b[0m\u001b[1;33m(\u001b[0m\u001b[0mnum\u001b[0m\u001b[1;33m)\u001b[0m\u001b[1;33m\u001b[0m\u001b[1;33m\u001b[0m\u001b[0m\n\u001b[0;32m     11\u001b[0m     \u001b[0msungjuk\u001b[0m\u001b[1;33m.\u001b[0m\u001b[0mappend\u001b[0m\u001b[1;33m(\u001b[0m\u001b[0mname\u001b[0m\u001b[1;33m)\u001b[0m\u001b[1;33m\u001b[0m\u001b[1;33m\u001b[0m\u001b[0m\n",
      "\u001b[1;31mValueError\u001b[0m: invalid literal for int() with base 10: ''"
     ]
    }
   ],
   "source": [
    "# 2차원 리스트\n",
    "final = []\n",
    "for i in range(3):\n",
    "    sungjuk = []\n",
    "    num = input('번호를 입력하시오 : ')\n",
    "    name = input('이름을 입력하시오 : ')\n",
    "    kor = int(input(\"국어점수 : \"))\n",
    "    eng = int(input(\"영어 점수 : \"))\n",
    "    math = int(input(\"수학점수 : \"))\n",
    "    sungjuk.append(num)\n",
    "    sungjuk.append(name)\n",
    "    sungjuk.append(kor)\n",
    "    sungjuk.append(eng)\n",
    "    sungjuk.append(math)\n",
    "    final.append(sungjuk)\n",
    "print(final)"
   ]
  },
  {
   "cell_type": "code",
   "execution_count": 9,
   "metadata": {},
   "outputs": [
    {
     "name": "stdout",
     "output_type": "stream",
     "text": [
      "번호를 입력하시오 : 1\n",
      "이름을 입력하시오 : 1\n",
      "국어점수 : 90\n",
      "영어 점수 : 80\n",
      "수학점수 : 70\n",
      "합계 :  240\n",
      "평균 :  80.0\n",
      "번호를 입력하시오 : 100\n",
      "이름을 입력하시오 : 100\n",
      "국어점수 : 100\n",
      "영어 점수 : 100\n",
      "수학점수 : 100\n",
      "합계 :  300\n",
      "평균 :  100.0\n",
      "번호를 입력하시오 : 3\n",
      "이름을 입력하시오 : 3\n",
      "국어점수 : 60\n",
      "영어 점수 : 80\n",
      "수학점수 : 40\n",
      "합계 :  180\n",
      "평균 :  60.0\n",
      "[['1', '1', 90, 80, 70, 240, 80.0, 'B'], ['100', '100', 100, 100, 100, 300, 100.0, 'A'], ['3', '3', 60, 80, 40, 180, 60.0, 'D']]\n"
     ]
    }
   ],
   "source": [
    "# 문제 합계와 평균을 구해서 추가시켜 보시요. 평균은 소수점 3째자리에서 반올림하고 2째자리까지 표현하시오\n",
    "final = []\n",
    "for i in range(3) : \n",
    "    sungjuk = []\n",
    "    num = input('번호를 입력하시오 : ')\n",
    "    name = input('이름을 입력하시오 : ')\n",
    "    kor = int(input(\"국어점수 : \"))\n",
    "    eng = int(input(\"영어 점수 : \"))\n",
    "    math = int(input(\"수학점수 : \"))   \n",
    "       \n",
    "    hap = kor + eng + math\n",
    "    print(\"합계 : \", hap)\n",
    "    mean = round((kor+eng+math)/3,2)\n",
    "    print(\"평균 : \", mean)\n",
    "    \n",
    "    if mean >= 90 :\n",
    "        grade = 'A'\n",
    "    elif mean >= 80 :\n",
    "        grade = 'B'\n",
    "    elif mean >= 70 :\n",
    "        grade = 'C'\n",
    "    elif mean >= 60 :\n",
    "        grade = 'D'\n",
    "    else :\n",
    "        grade = 'F'\n",
    "    # 프로그램은 순ㅅ허적으로 실행됨 : 순서를 변경하는 것 - 제어문과 함수\n",
    "    # 순서가 있는 자료구조\n",
    "    sungjuk.append(num)\n",
    "    sungjuk.append(name)\n",
    "    sungjuk.append(kor)\n",
    "    sungjuk.append(eng)\n",
    "    sungjuk.append(math)\n",
    "    sungjuk.append(hap)\n",
    "    sungjuk.append(mean)\n",
    "    sungjuk.append(grade)\n",
    "    \n",
    "    final.append(sungjuk)\n",
    "print(final)"
   ]
  },
  {
   "cell_type": "code",
   "execution_count": null,
   "metadata": {},
   "outputs": [],
   "source": [
    "# 정렬하고 싶은 경우\n",
    "# 기본데이터타입 : str, int, float\n",
    "# 파이썬은 모든 것이 객체(변수+함수) : 사용자 정의 데이터 타입\n",
    "final.sort()"
   ]
  },
  {
   "cell_type": "code",
   "execution_count": null,
   "metadata": {},
   "outputs": [],
   "source": [
    "# 함수를 키로한다.\n",
    "def getKey(a1) :\n",
    "    return a1[1]\n",
    "final.sort(key = getKey, revers = True) # 내림차순\n",
    "print(final)"
   ]
  },
  {
   "cell_type": "code",
   "execution_count": null,
   "metadata": {},
   "outputs": [],
   "source": [
    "# lambda 함수 : 무명함수, 간단한 함수를 작성할 때 사용\n",
    "final.sort(key = lambda row: row[1], reverse = True)\n",
    "print(final)"
   ]
  },
  {
   "cell_type": "code",
   "execution_count": 10,
   "metadata": {},
   "outputs": [
    {
     "name": "stdout",
     "output_type": "stream",
     "text": [
      "[['100', '100', 100, 100, 100, 300, 100.0, 'A'], ['1', '1', 90, 80, 70, 240, 80.0, 'B'], ['3', '3', 60, 80, 40, 180, 60.0, 'D']]\n"
     ]
    }
   ],
   "source": [
    "final.sort(key = lambda row: row[5], reverse = True)\n",
    "print(final)"
   ]
  },
  {
   "cell_type": "code",
   "execution_count": 11,
   "metadata": {},
   "outputs": [
    {
     "name": "stdout",
     "output_type": "stream",
     "text": [
      "번호 이름 국어 수학 영어 합계 평균 학점 순위 \n",
      "3 3 60 80 40 180 60.0 D 3 \n",
      "100 100 100 100 100 300 100.0 A 1 \n",
      "1 1 90 80 70 240 80.0 B 2 "
     ]
    }
   ],
   "source": [
    "# 등수를 입력\n",
    "rank = 0\n",
    "\n",
    "for i in range(len(final)) :\n",
    "    rank = rank + 1\n",
    "    final[i].append(rank)\n",
    "final.sort(key = lambda row: row[0], reverse = True)\n",
    "tot_list = ['번호', '이름', '국어', '수학', '영어','합계', '평균', '학점', '순위']\n",
    "for j in range(len(final[0])) :\n",
    "    print(tot_list[j], end = ' ')\n",
    "for i in range(len(final)) : \n",
    "    print(end = '\\n')\n",
    "    for j in range(9) :\n",
    "        print(final[i][j], end = ' ')"
   ]
  },
  {
   "cell_type": "code",
   "execution_count": null,
   "metadata": {},
   "outputs": [],
   "source": [
    "# 문제 number guess(숫자 맞추기 게임 1:1)\n",
    "1) computer는 숫자를 랜덤으로 발생시킵니다. (1~100)\n",
    "2) 사용자는 숫자를 입력합니다.\n",
    "3) 컴퓨터가 낸 숫자와 사용자가 입력한 숫자가 일치하는지 확인하고 일치하면 확인하고 다시 다음 게임으로 진행합니다.\n",
    "4) 만약 맞추지 못하였으면 사용자가 입력한 숫자가 컴퓨터가 가지고 있는 수보다 큰지 작은지를 알려줍니다.\n",
    "5) 무한루프로 진행하던 게임은 q가 눌리면 종료합니다.\n",
    "6) 몇 회만에 맞추었는지를 확인하여 출력해 줍니다.\n",
    "7) 총 진횅횟수하고 guess횟수를 누적시킨다음 평균 시도횟수를 출력하시요."
   ]
  },
  {
   "cell_type": "code",
   "execution_count": 4,
   "metadata": {},
   "outputs": [
    {
     "name": "stdout",
     "output_type": "stream",
     "text": [
      "숫자를 입력하세요(1~100) :   90\n",
      "숫자가 큽니다.\n",
      "숫자를 입력하세요(1~100) :   80\n",
      "숫자가 큽니다.\n",
      "숫자를 입력하세요(1~100) :   70\n",
      "숫자가 큽니다.\n",
      "숫자를 입력하세요(1~100) :   60\n",
      "숫자가 큽니다.\n",
      "숫자를 입력하세요(1~100) :   50\n",
      "숫자가 큽니다.\n",
      "숫자를 입력하세요(1~100) :   40\n",
      "숫자가 큽니다.\n",
      "숫자를 입력하세요(1~100) :   30\n",
      "숫자가 큽니다.\n",
      "숫자를 입력하세요(1~100) :   20\n",
      "숫자가 큽니다.\n",
      "숫자를 입력하세요(1~100) :   10\n",
      "일치합니다\n",
      "맞춘횟수 :  1 총 진행횟수 :  9\n",
      "평균 시도 횟수 :  9.0\n",
      "숫자를 입력하세요(1~100) :   90\n",
      "숫자가 큽니다.\n",
      "숫자를 입력하세요(1~100) :   80\n",
      "숫자가 큽니다.\n",
      "숫자를 입력하세요(1~100) :   70\n",
      "숫자가 큽니다.\n",
      "숫자를 입력하세요(1~100) :   60\n",
      "숫자가 큽니다.\n",
      "숫자를 입력하세요(1~100) :   50\n",
      "숫자가 작습니다\n",
      "숫자를 입력하세요(1~100) :   40\n",
      "숫자가 작습니다\n",
      "숫자를 입력하세요(1~100) :   55\n",
      "숫자가 작습니다\n",
      "숫자를 입력하세요(1~100) :   58\n",
      "일치합니다\n",
      "맞춘횟수 :  2 총 진행횟수 :  17\n",
      "평균 시도 횟수 :  8.5\n",
      "숫자를 입력하세요(1~100) :   q\n"
     ]
    }
   ],
   "source": [
    "from random import randint\n",
    "n = randint(1,101) # 1)\n",
    "cnt = 0\n",
    "ans = 0\n",
    "while True :\n",
    "    print(\"숫자를 입력하세요(1~100) : \", end = '  ')\n",
    "    usen = input()\n",
    "    if usen == 'q' :\n",
    "        break\n",
    "    usen = int(usen)\n",
    "    cnt +=1\n",
    "    if n != usen :\n",
    "        if n>usen :\n",
    "            print (\"숫자가 작습니다\")         \n",
    "        elif n <usen : \n",
    "            print(\"숫자가 큽니다.\")\n",
    "            \n",
    "    elif n == usen : \n",
    "        print(\"일치합니다\")\n",
    "        ans +=1\n",
    "        print(\"guess횟수 : \", ans, \"총 진행횟수 : \", cnt)\n",
    "        print(\"평균 시도 횟수 : \", round(cnt/ans,2))\n",
    "        n = randint(1,101)\n"
   ]
  },
  {
   "cell_type": "code",
   "execution_count": 21,
   "metadata": {},
   "outputs": [
    {
     "name": "stdout",
     "output_type": "stream",
     "text": [
      "상상의 수를 입력 (Q to exit) : 90\n",
      "낮은 수를 선택하시요\n",
      "상상의 수를 입력 (Q to exit) : 80\n",
      "낮은 수를 선택하시요\n",
      "상상의 수를 입력 (Q to exit) : 60\n",
      "높은 수를 선택하시요\n",
      "상상의 수를 입력 (Q to exit) : 65\n",
      "높은 수를 선택하시요\n",
      "상상의 수를 입력 (Q to exit) : 68\n",
      "높은 수를 선택하시요\n",
      "상상의 수를 입력 (Q to exit) : 70\n",
      "높은 수를 선택하시요\n",
      "상상의 수를 입력 (Q to exit) : 75\n",
      "높은 수를 선택하시요\n",
      "상상의 수를 입력 (Q to exit) : 77\n",
      "높은 수를 선택하시요\n",
      "상상의 수를 입력 (Q to exit) : 78\n",
      "정답!\n",
      "상상의 수를 입력 (Q to exit) : q\n",
      "총게임수 1 이긴게임수 1\n",
      "평균시도횟수 9.0\n"
     ]
    },
    {
     "ename": "SystemExit",
     "evalue": "0",
     "output_type": "error",
     "traceback": [
      "An exception has occurred, use %tb to see the full traceback.\n",
      "\u001b[1;31mSystemExit\u001b[0m\u001b[1;31m:\u001b[0m 0\n"
     ]
    }
   ],
   "source": [
    "from random import randint\n",
    "import sys\n",
    "tot_game = 0\n",
    "win = 0\n",
    "tot_attempt=[]\n",
    "while True :\n",
    "    n = randint(1,101) \n",
    "    tot_game += 1\n",
    "    game = 0\n",
    "    while True :\n",
    "        ans = input(\"상상의 수를 입력 (Q to exit) : \")\n",
    "        game +=1\n",
    "        if ans.upper() == \"Q\" :\n",
    "            print(\"총게임수\", tot_game-1, \"이긴게임수\", win)\n",
    "            game_tot = sum(tot_attempt)\n",
    "            print(\"평균시도횟수\", game_tot/(tot_game-1))\n",
    "            sys.exit(0) # 프로그램 종료\n",
    "        ans = int(ans)\n",
    "        if (n == ans) :\n",
    "            print(\"정답!\")\n",
    "            win += 1\n",
    "            tot_attempt.append(game)\n",
    "            break\n",
    "        elif (n >ans) :\n",
    "            print(\"높은 수를 선택하시요\")\n",
    "        else : \n",
    "            print(\"낮은 수를 선택하시요\")\n"
   ]
  },
  {
   "cell_type": "code",
   "execution_count": null,
   "metadata": {},
   "outputs": [],
   "source": [
    "문제1 제곱미터로 입력되는 아파트 면적을 평형으로 계산하여 종류 판정(30평을 기준으로 판정)하는 프로그램 작성\n",
    "소형(17) 중소형(25) 중형(30)\n",
    "평형수 = 제곱미터/3.305"
   ]
  },
  {
   "cell_type": "code",
   "execution_count": 43,
   "metadata": {},
   "outputs": [
    {
     "name": "stdout",
     "output_type": "stream",
     "text": [
      "제곱미터를 입력하세요 : \n",
      "88\n",
      "아파트 면적은 27 중소형입니다.\n"
     ]
    }
   ],
   "source": [
    "print(\"제곱미터를 입력하세요 : \")\n",
    "boarder = int(input())\n",
    "apart = round(boarder/3.305)\n",
    "if apart>=30 :\n",
    "    print(\"아파트 면적은 \", apart, \"중형입니다.\" )\n",
    "elif apart >=25 :\n",
    "    print(\"아파트 면적은\", apart, \"중소형입니다.\")\n",
    "else : \n",
    "    print(\"아파트 면적은\", apart,\"소형입니다.\")"
   ]
  },
  {
   "cell_type": "code",
   "execution_count": null,
   "metadata": {},
   "outputs": [],
   "source": [
    "문제2 날 수를 입력하면 이를 초로 변경하는 프로그램작성"
   ]
  },
  {
   "cell_type": "code",
   "execution_count": 27,
   "metadata": {},
   "outputs": [
    {
     "name": "stdout",
     "output_type": "stream",
     "text": [
      "날 수를 입력하세요\n",
      "60\n",
      "5184000 초\n"
     ]
    }
   ],
   "source": [
    "print(\"날 수를 입력하세요\")\n",
    "day = int(input())\n",
    "sec = day*24*60*60\n",
    "print(sec,\"초\")"
   ]
  },
  {
   "cell_type": "code",
   "execution_count": null,
   "metadata": {},
   "outputs": [],
   "source": [
    "문제 3 소득세 계산 : 소득 세율표를 구해보고 이를 이용하여 소득이 들어오면 세금이 얼마인지 계산해 보시오(연봉, 단순히 세율만 적용)\n",
    "    1천만원 미만시 연봉 9.5% / 1~4천 19%/ 4~8천 28%/ 8천이상 37%"
   ]
  },
  {
   "cell_type": "code",
   "execution_count": 54,
   "metadata": {},
   "outputs": [
    {
     "name": "stdout",
     "output_type": "stream",
     "text": [
      "연봉을 입력하세요\n",
      "45000000\n",
      "세금은 8050000 만원입니다\n"
     ]
    }
   ],
   "source": [
    "print(\"연봉을 입력하세요\")\n",
    "income = int(input())\n",
    "if income <10000000 :\n",
    "    tax = round(income * 0.095)\n",
    "elif 10000000<=income<40000000 :\n",
    "    tax = round(10000000*0.095+(income-10000000) * 0.19)\n",
    "elif 40000000<=income<80000000 :\n",
    "    tax = round(10000000*0.095 + 30000000*0.19 + (income-40000000) * 0.28)\n",
    "else :\n",
    "    tax = round(10000000*0.095 + 30000000*0.19 + 40000000*0.28 + (income-80000000) * 0.37)\n",
    "print(\"세금은\", tax, \"만원입니다\")\n",
    "    "
   ]
  },
  {
   "cell_type": "code",
   "execution_count": null,
   "metadata": {},
   "outputs": [],
   "source": [
    "문제4 놀이공원 매표소 단체입장료 계산하기\n",
    "조건 : 팀별 인원 구성을 입력(초등학생, 일반인, 경로대상)하면 입장료 소견표에 정산요금\n",
    "    초등-5000원 청소년 - 10000원 일반인 - 15000원 경로대상 - 3000원\n",
    "팀별 할인카드 확인\n",
    "카드없음 : 할인 무, 일반카드 : 10%, VIP : 20%"
   ]
  },
  {
   "cell_type": "code",
   "execution_count": 52,
   "metadata": {},
   "outputs": [
    {
     "name": "stdout",
     "output_type": "stream",
     "text": [
      "초등학생 : 1\n",
      "청소년 : 1\n",
      "일반인 : 1\n",
      "경로대상 : 1\n",
      "카드가 있나요(네/아니요/VIP)네\n",
      "총 4 명 29700 원입니다.\n"
     ]
    }
   ],
   "source": [
    "st = int(input(\"초등학생 : \"))\n",
    "st2 = int(input(\"청소년 : \"))\n",
    "nor = int(input(\"일반인 : \"))\n",
    "old = int(input(\"경로대상 : \"))\n",
    "card = input(\"카드가 있나요(네/아니요/VIP)\")\n",
    "\n",
    "price = st*5000+st2*10000+nor*15000+old*3000\n",
    "\n",
    "if card.upper() == '네' :\n",
    "    price = price-price*0.1\n",
    "elif card.upper()  == \"아니요\" :\n",
    "    price\n",
    "elif card.upper()  == \"VIP\" :\n",
    "    price = price - price*0.2\n",
    "print(\"총\",st+st2+nor+old,\"명\", round(price), \"원입니다.\")"
   ]
  },
  {
   "cell_type": "code",
   "execution_count": 61,
   "metadata": {},
   "outputs": [
    {
     "name": "stdout",
     "output_type": "stream",
     "text": [
      "숫자를 입력하세요:12\n",
      "*\n",
      "**\n",
      "***\n",
      "****\n",
      "*****\n",
      "******\n",
      "*******\n",
      "********\n",
      "*********\n",
      "**********\n",
      "***********\n",
      "************\n"
     ]
    }
   ],
   "source": [
    "numberOfRows = int(input(\"숫자를 입력하세요:\"))\n",
    "for i in range(numberOfRows) :\n",
    "    for j in range(i+1) :\n",
    "        print(\"*\", end = '')\n",
    "    print()"
   ]
  },
  {
   "cell_type": "code",
   "execution_count": 63,
   "metadata": {},
   "outputs": [
    {
     "name": "stdout",
     "output_type": "stream",
     "text": [
      "숫자를 입력하세요:12\n",
      "            *\n",
      "           **\n",
      "          ***\n",
      "         ****\n",
      "        *****\n",
      "       ******\n",
      "      *******\n",
      "     ********\n",
      "    *********\n",
      "   **********\n",
      "  ***********\n",
      " ************\n"
     ]
    }
   ],
   "source": [
    "numberOfRows = int(input(\"숫자를 입력하세요:\"))\n",
    "for i in range(numberOfRows) :\n",
    "    for k in range(numberOfRows-i):\n",
    "        print(\" \", end = \"\")\n",
    "    for j in range(i+1) :\n",
    "        print(\"*\", end = '')\n",
    "    print()"
   ]
  },
  {
   "cell_type": "code",
   "execution_count": 80,
   "metadata": {},
   "outputs": [
    {
     "name": "stdout",
     "output_type": "stream",
     "text": [
      "숫자를 입력하세요:12\n",
      "            \n",
      "           *\n",
      "          ***\n",
      "         *****\n",
      "        *******\n",
      "       *********\n",
      "      ***********\n",
      "     *************\n",
      "    ***************\n",
      "   *****************\n",
      "  *******************\n",
      " *********************\n"
     ]
    }
   ],
   "source": [
    "numberOfRows = int(input(\"숫자를 입력하세요:\"))\n",
    "for i in range(numberOfRows) :\n",
    "    for k in range(numberOfRows-i):\n",
    "        print(\" \", end = \"\")\n",
    "    for j in range(2*i-1) :\n",
    "        print(\"*\", end = '')\n",
    "    print()"
   ]
  },
  {
   "cell_type": "code",
   "execution_count": 139,
   "metadata": {
    "scrolled": true
   },
   "outputs": [
    {
     "name": "stdout",
     "output_type": "stream",
     "text": [
      "숫자를 입력하세요:12\n",
      "\n",
      "*\n",
      "**\n",
      "***\n",
      "****\n",
      "*****\n",
      "******\n",
      "*****\n",
      "****\n",
      "***\n",
      "**\n",
      "*\n"
     ]
    }
   ],
   "source": [
    "numberOfRows = int(input(\"숫자를 입력하세요:\"))\n",
    "num = int(numberOfRows/2)\n",
    "for i in range(numberOfRows) :\n",
    "    if i <= num :\n",
    "        for j in range(i) :\n",
    "            print(\"*\", end = '')\n",
    "    else :\n",
    "        for j in range(numberOfRows-i) :\n",
    "            print(\"*\", end = '')\n",
    "    print()\n"
   ]
  },
  {
   "cell_type": "code",
   "execution_count": 154,
   "metadata": {},
   "outputs": [
    {
     "name": "stdout",
     "output_type": "stream",
     "text": [
      "숫자를 입력하시오 : 12\n",
      "*\n",
      "**\n",
      "***\n",
      "****\n",
      "*****\n",
      "******\n",
      "******\n",
      "*****\n",
      "****\n",
      "***\n",
      "**\n",
      "*\n"
     ]
    }
   ],
   "source": [
    "numberOfRows = int(input(\"숫자를 입력하시오 : \"))\n",
    "for i in range(numberOfRows) :\n",
    "    if i < numberOfRows /2 :\n",
    "        for j in range(i+1):\n",
    "            print(\"*\", end = \"\")\n",
    "    else :\n",
    "        for j in range(numberOfRows//2-1, -1, -1) :\n",
    "            if j>=i-numberOfRows//2 :\n",
    "                print(\"*\", end = '')\n",
    "    print()"
   ]
  },
  {
   "cell_type": "code",
   "execution_count": 164,
   "metadata": {},
   "outputs": [
    {
     "name": "stdout",
     "output_type": "stream",
     "text": [
      "숫자를 입력하세요:14\n",
      "*                          *\n",
      "**                        **\n",
      "***                      ***\n",
      "****                    ****\n",
      "*****                  *****\n",
      "******                ******\n",
      "*******              *******\n",
      "********            ********\n",
      "*********          *********\n",
      "**********        **********\n",
      "***********      ***********\n",
      "************    ************\n",
      "*************  *************\n",
      "****************************\n"
     ]
    }
   ],
   "source": [
    "numberOfRows = int(input(\"숫자를 입력하세요:\"))\n",
    "for i in range(numberOfRows) :\n",
    "    for j in range(i+1) :\n",
    "        print(\"*\", end = '')\n",
    "    for k in range(numberOfRows-i-1):\n",
    "        print(2*' ', end = '')\n",
    "    for h in range(i+1): \n",
    "        print(\"*\", end = '') \n",
    "    print()"
   ]
  }
 ],
 "metadata": {
  "kernelspec": {
   "display_name": "Python 3",
   "language": "python",
   "name": "python3"
  }
 },
 "nbformat": 4,
 "nbformat_minor": 2
}
