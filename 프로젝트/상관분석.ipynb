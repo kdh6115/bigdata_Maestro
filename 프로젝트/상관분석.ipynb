{
 "cells": [
  {
   "cell_type": "code",
   "execution_count": 6,
   "metadata": {},
   "outputs": [],
   "source": [
    " \n",
    "tot = pd.read_csv(\"tot.csv\")\n",
    "tot_1 = tot.iloc[:,1:]"
   ]
  },
  {
   "cell_type": "code",
   "execution_count": 7,
   "metadata": {},
   "outputs": [
    {
     "data": {
      "text/html": [
       "<div>\n",
       "<style scoped>\n",
       "    .dataframe tbody tr th:only-of-type {\n",
       "        vertical-align: middle;\n",
       "    }\n",
       "\n",
       "    .dataframe tbody tr th {\n",
       "        vertical-align: top;\n",
       "    }\n",
       "\n",
       "    .dataframe thead th {\n",
       "        text-align: right;\n",
       "    }\n",
       "</style>\n",
       "<table border=\"1\" class=\"dataframe\">\n",
       "  <thead>\n",
       "    <tr style=\"text-align: right;\">\n",
       "      <th></th>\n",
       "      <th>배출량</th>\n",
       "      <th>인구수</th>\n",
       "      <th>GRDP(단위 : 백만원)</th>\n",
       "      <th>1인당 GRDP(단위 : 천원)</th>\n",
       "      <th>관광객수</th>\n",
       "    </tr>\n",
       "  </thead>\n",
       "  <tbody>\n",
       "    <tr>\n",
       "      <td>배출량</td>\n",
       "      <td>1.000000</td>\n",
       "      <td>0.911172</td>\n",
       "      <td>0.964806</td>\n",
       "      <td>0.978952</td>\n",
       "      <td>0.898285</td>\n",
       "    </tr>\n",
       "    <tr>\n",
       "      <td>인구수</td>\n",
       "      <td>0.911172</td>\n",
       "      <td>1.000000</td>\n",
       "      <td>0.976099</td>\n",
       "      <td>0.916648</td>\n",
       "      <td>0.665335</td>\n",
       "    </tr>\n",
       "    <tr>\n",
       "      <td>GRDP(단위 : 백만원)</td>\n",
       "      <td>0.964806</td>\n",
       "      <td>0.976099</td>\n",
       "      <td>1.000000</td>\n",
       "      <td>0.981353</td>\n",
       "      <td>0.778669</td>\n",
       "    </tr>\n",
       "    <tr>\n",
       "      <td>1인당 GRDP(단위 : 천원)</td>\n",
       "      <td>0.978952</td>\n",
       "      <td>0.916648</td>\n",
       "      <td>0.981353</td>\n",
       "      <td>1.000000</td>\n",
       "      <td>0.852108</td>\n",
       "    </tr>\n",
       "    <tr>\n",
       "      <td>관광객수</td>\n",
       "      <td>0.898285</td>\n",
       "      <td>0.665335</td>\n",
       "      <td>0.778669</td>\n",
       "      <td>0.852108</td>\n",
       "      <td>1.000000</td>\n",
       "    </tr>\n",
       "  </tbody>\n",
       "</table>\n",
       "</div>"
      ],
      "text/plain": [
       "                        배출량       인구수  GRDP(단위 : 백만원)  1인당 GRDP(단위 : 천원)  \\\n",
       "배출량                1.000000  0.911172        0.964806           0.978952   \n",
       "인구수                0.911172  1.000000        0.976099           0.916648   \n",
       "GRDP(단위 : 백만원)     0.964806  0.976099        1.000000           0.981353   \n",
       "1인당 GRDP(단위 : 천원)  0.978952  0.916648        0.981353           1.000000   \n",
       "관광객수               0.898285  0.665335        0.778669           0.852108   \n",
       "\n",
       "                       관광객수  \n",
       "배출량                0.898285  \n",
       "인구수                0.665335  \n",
       "GRDP(단위 : 백만원)     0.778669  \n",
       "1인당 GRDP(단위 : 천원)  0.852108  \n",
       "관광객수               1.000000  "
      ]
     },
     "execution_count": 7,
     "metadata": {},
     "output_type": "execute_result"
    }
   ],
   "source": [
    "tot_1.corr()"
   ]
  }
 ],
 "metadata": {
  "kernelspec": {
   "display_name": "Python 3",
   "language": "python",
   "name": "python3"
  },
  "language_info": {
   "codemirror_mode": {
    "name": "ipython",
    "version": 3
   },
   "file_extension": ".py",
   "mimetype": "text/x-python",
   "name": "python",
   "nbconvert_exporter": "python",
   "pygments_lexer": "ipython3",
   "version": "3.7.4"
  }
 },
 "nbformat": 4,
 "nbformat_minor": 2
}
